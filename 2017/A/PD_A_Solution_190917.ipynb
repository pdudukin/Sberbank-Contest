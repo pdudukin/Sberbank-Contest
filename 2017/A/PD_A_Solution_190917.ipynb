{
 "cells": [
  {
   "cell_type": "code",
   "execution_count": 6,
   "metadata": {},
   "outputs": [
    {
     "name": "stdout",
     "output_type": "stream",
     "text": [
      "Populating the interactive namespace from numpy and matplotlib\n"
     ]
    },
    {
     "name": "stderr",
     "output_type": "stream",
     "text": [
      "WARNING: pylab import has clobbered these variables: ['test']\n",
      "`%matplotlib` prevents importing * from pylab and numpy\n"
     ]
    }
   ],
   "source": [
    "import pandas as pd\n",
    "import numpy as np\n",
    "import tqdm\n",
    "from tqdm import tqdm_notebook\n",
    "import difflib\n",
    "import sys\n",
    "import re\n",
    "from matplotlib import pyplot as plt\n",
    "import matplotlib\n",
    "\n",
    "import pymorphy2 as pm\n",
    "from rutermextract import TermExtractor\n",
    "import ast\n",
    "import string\n",
    "import nltk\n",
    "from sklearn.feature_extraction.text import CountVectorizer\n",
    "from sklearn.feature_extraction.text import TfidfTransformer\n",
    "from nltk.stem import SnowballStemmer \n",
    "from nltk.corpus import stopwords\n",
    "\n",
    "%pylab inline\n",
    "\n",
    "from sklearn.ensemble import GradientBoostingClassifier\n",
    "\n",
    "import scipy\n",
    "from scipy import spatial"
   ]
  },
  {
   "cell_type": "markdown",
   "metadata": {},
   "source": [
    "## Test rutermextract"
   ]
  },
  {
   "cell_type": "code",
   "execution_count": 7,
   "metadata": {},
   "outputs": [],
   "source": [
    "train, test = pd.read_csv(\"train_task1_latest.csv\"), pd.read_csv(\"test_task1_latest.csv\")"
   ]
  },
  {
   "cell_type": "code",
   "execution_count": 20,
   "metadata": {},
   "outputs": [
    {
     "name": "stdout",
     "output_type": "stream",
     "text": [
      "Каким мелодиям Прокофьева особенно не укладывается в таблицы именно этих языков, алфавит которых укладывается в места, недоступные для мощности в существенной мере способствовал систематизации его чувства, опыт?\n"
     ]
    },
    {
     "name": "stderr",
     "output_type": "stream",
     "text": [
      "C:\\Users\\pavel.dudukin\\AppData\\Local\\Continuum\\Anaconda3\\lib\\re.py:203: FutureWarning: split() requires a non-empty pattern match.\n",
      "  return _compile(pattern, flags).split(string, maxsplit)\n"
     ]
    },
    {
     "ename": "NameError",
     "evalue": "name 'idf' is not defined",
     "output_type": "error",
     "traceback": [
      "\u001b[1;31m---------------------------------------------------------------------------\u001b[0m",
      "\u001b[1;31mNameError\u001b[0m                                 Traceback (most recent call last)",
      "\u001b[1;32m<ipython-input-20-4a5f8b56b6fd>\u001b[0m in \u001b[0;36m<module>\u001b[1;34m()\u001b[0m\n\u001b[0;32m      3\u001b[0m \u001b[0mprint\u001b[0m\u001b[1;33m(\u001b[0m\u001b[0mtext\u001b[0m\u001b[1;33m)\u001b[0m\u001b[1;33m\u001b[0m\u001b[0m\n\u001b[0;32m      4\u001b[0m \u001b[1;31m#idf =\u001b[0m\u001b[1;33m\u001b[0m\u001b[1;33m\u001b[0m\u001b[0m\n\u001b[1;32m----> 5\u001b[1;33m \u001b[0mterms\u001b[0m \u001b[1;33m=\u001b[0m \u001b[0mterm_extractor\u001b[0m\u001b[1;33m(\u001b[0m\u001b[0mtext\u001b[0m\u001b[1;33m,\u001b[0m \u001b[0mweight\u001b[0m\u001b[1;33m=\u001b[0m\u001b[1;32mlambda\u001b[0m \u001b[0mterm\u001b[0m\u001b[1;33m:\u001b[0m \u001b[0midf\u001b[0m\u001b[1;33m.\u001b[0m\u001b[0mget\u001b[0m\u001b[1;33m(\u001b[0m\u001b[0mterm\u001b[0m\u001b[1;33m.\u001b[0m\u001b[0mnormalized\u001b[0m\u001b[1;33m,\u001b[0m \u001b[1;36m1.0\u001b[0m\u001b[1;33m)\u001b[0m \u001b[1;33m*\u001b[0m \u001b[0mterm\u001b[0m\u001b[1;33m.\u001b[0m\u001b[0mcount\u001b[0m\u001b[1;33m)\u001b[0m\u001b[1;33m\u001b[0m\u001b[0m\n\u001b[0m",
      "\u001b[1;32mC:\\Users\\pavel.dudukin\\AppData\\Local\\Continuum\\Anaconda3\\lib\\site-packages\\rutermextract-0.2-py3.5.egg\\rutermextract\\term_extractor.py\u001b[0m in \u001b[0;36m__call__\u001b[1;34m(self, text, limit, weight, strings, nested)\u001b[0m\n\u001b[0;32m     54\u001b[0m             \u001b[0mterm\u001b[0m\u001b[1;33m.\u001b[0m\u001b[0mcount\u001b[0m \u001b[1;33m=\u001b[0m \u001b[0mcounter\u001b[0m\u001b[1;33m[\u001b[0m\u001b[0mterm\u001b[0m\u001b[1;33m]\u001b[0m\u001b[1;33m\u001b[0m\u001b[0m\n\u001b[0;32m     55\u001b[0m \u001b[1;33m\u001b[0m\u001b[0m\n\u001b[1;32m---> 56\u001b[1;33m         \u001b[0msorted_terms\u001b[0m \u001b[1;33m=\u001b[0m \u001b[0mself\u001b[0m\u001b[1;33m.\u001b[0m\u001b[0mranker\u001b[0m\u001b[1;33m(\u001b[0m\u001b[0mcounted_terms\u001b[0m\u001b[1;33m,\u001b[0m \u001b[0mweight\u001b[0m\u001b[1;33m=\u001b[0m\u001b[0mweight\u001b[0m\u001b[1;33m)\u001b[0m\u001b[1;33m\u001b[0m\u001b[0m\n\u001b[0m\u001b[0;32m     57\u001b[0m         \u001b[0mresult\u001b[0m \u001b[1;33m=\u001b[0m \u001b[0msorted_terms\u001b[0m\u001b[1;33m[\u001b[0m\u001b[1;33m:\u001b[0m\u001b[0mlimit\u001b[0m\u001b[1;33m]\u001b[0m\u001b[1;33m\u001b[0m\u001b[0m\n\u001b[0;32m     58\u001b[0m         \u001b[1;32mif\u001b[0m \u001b[0mstrings\u001b[0m\u001b[1;33m:\u001b[0m\u001b[1;33m\u001b[0m\u001b[0m\n",
      "\u001b[1;32mC:\\Users\\pavel.dudukin\\AppData\\Local\\Continuum\\Anaconda3\\lib\\site-packages\\rutermextract-0.2-py3.5.egg\\rutermextract\\ranker.py\u001b[0m in \u001b[0;36m__call__\u001b[1;34m(self, terms, weight)\u001b[0m\n\u001b[0;32m      9\u001b[0m             \u001b[1;31m# По умолчанию ключевые слова упорядочиваются по количеству употреблений, затем - по количеству слов.\u001b[0m\u001b[1;33m\u001b[0m\u001b[1;33m\u001b[0m\u001b[0m\n\u001b[0;32m     10\u001b[0m             \u001b[0mweight\u001b[0m \u001b[1;33m=\u001b[0m \u001b[1;32mlambda\u001b[0m \u001b[0mterm\u001b[0m\u001b[1;33m:\u001b[0m \u001b[1;33m(\u001b[0m\u001b[0mterm\u001b[0m\u001b[1;33m.\u001b[0m\u001b[0mcount\u001b[0m\u001b[1;33m,\u001b[0m \u001b[0mterm\u001b[0m\u001b[1;33m.\u001b[0m\u001b[0mword_count\u001b[0m\u001b[1;33m,\u001b[0m \u001b[0mterm\u001b[0m\u001b[1;33m.\u001b[0m\u001b[0mnormalized\u001b[0m\u001b[1;33m)\u001b[0m\u001b[1;33m\u001b[0m\u001b[0m\n\u001b[1;32m---> 11\u001b[1;33m         \u001b[1;32mreturn\u001b[0m \u001b[0msorted\u001b[0m\u001b[1;33m(\u001b[0m\u001b[0mterms\u001b[0m\u001b[1;33m,\u001b[0m \u001b[0mkey\u001b[0m\u001b[1;33m=\u001b[0m\u001b[0mweight\u001b[0m\u001b[1;33m,\u001b[0m \u001b[0mreverse\u001b[0m\u001b[1;33m=\u001b[0m\u001b[1;32mTrue\u001b[0m\u001b[1;33m)\u001b[0m\u001b[1;33m\u001b[0m\u001b[0m\n\u001b[0m",
      "\u001b[1;32m<ipython-input-20-4a5f8b56b6fd>\u001b[0m in \u001b[0;36m<lambda>\u001b[1;34m(term)\u001b[0m\n\u001b[0;32m      3\u001b[0m \u001b[0mprint\u001b[0m\u001b[1;33m(\u001b[0m\u001b[0mtext\u001b[0m\u001b[1;33m)\u001b[0m\u001b[1;33m\u001b[0m\u001b[0m\n\u001b[0;32m      4\u001b[0m \u001b[1;31m#idf =\u001b[0m\u001b[1;33m\u001b[0m\u001b[1;33m\u001b[0m\u001b[0m\n\u001b[1;32m----> 5\u001b[1;33m \u001b[0mterms\u001b[0m \u001b[1;33m=\u001b[0m \u001b[0mterm_extractor\u001b[0m\u001b[1;33m(\u001b[0m\u001b[0mtext\u001b[0m\u001b[1;33m,\u001b[0m \u001b[0mweight\u001b[0m\u001b[1;33m=\u001b[0m\u001b[1;32mlambda\u001b[0m \u001b[0mterm\u001b[0m\u001b[1;33m:\u001b[0m \u001b[0midf\u001b[0m\u001b[1;33m.\u001b[0m\u001b[0mget\u001b[0m\u001b[1;33m(\u001b[0m\u001b[0mterm\u001b[0m\u001b[1;33m.\u001b[0m\u001b[0mnormalized\u001b[0m\u001b[1;33m,\u001b[0m \u001b[1;36m1.0\u001b[0m\u001b[1;33m)\u001b[0m \u001b[1;33m*\u001b[0m \u001b[0mterm\u001b[0m\u001b[1;33m.\u001b[0m\u001b[0mcount\u001b[0m\u001b[1;33m)\u001b[0m\u001b[1;33m\u001b[0m\u001b[0m\n\u001b[0m",
      "\u001b[1;31mNameError\u001b[0m: name 'idf' is not defined"
     ]
    }
   ],
   "source": [
    "term_extractor = TermExtractor()\n",
    "text = \n",
    "print(text)\n",
    "idf = \n",
    "terms = term_extractor(text, weight=lambda term: idf.get(term.normalized, 1.0) * term.count)"
   ]
  },
  {
   "cell_type": "code",
   "execution_count": 40,
   "metadata": {},
   "outputs": [
    {
     "name": "stdout",
     "output_type": "stream",
     "text": [
      "В зависимости от уровня развития страны плавает нижний возрастной порог, по которому собираются и публикуются данные. Так, в странах Африки из-за высокого распространения детского труда в экономически активное население включают начиная с 10 лет. Условно считается, что в развитых странах в возрасте человека от 10 лет до нижней границы возрастного порога нет занятости, например, в России — нижняя граница возраста, с которого человек включается в экономически активное население- 15 лет, в США — с 16 лет.\n"
     ]
    },
    {
     "name": "stderr",
     "output_type": "stream",
     "text": [
      "C:\\Users\\pavel.dudukin\\AppData\\Local\\Continuum\\Anaconda3\\lib\\re.py:203: FutureWarning: split() requires a non-empty pattern match.\n",
      "  return _compile(pattern, flags).split(string, maxsplit)\n"
     ]
    },
    {
     "name": "stdout",
     "output_type": "stream",
     "text": [
      "активное население\n",
      "10 лет\n",
      "уровень развития страны\n",
      "нижняя граница возраста\n",
      "нижний возрастной порог\n",
      "страны африки\n",
      "развитые страны\n",
      "нижняя граница\n",
      "детское труд\n",
      "высокое распространение\n",
      "возрастной порог\n",
      "возраст человека\n",
      "16 лет\n",
      "15 лет\n",
      "человек\n",
      "сша\n",
      "россия\n",
      "занятость\n",
      "зависимость\n",
      "----------------------------------------\n",
      "где из-за высокого распространения детского труда в экономически активное население включают начиная с 10 лет?\n",
      "детское труд\n",
      "высокое распространение\n",
      "активное население\n",
      "10 лет\n"
     ]
    }
   ],
   "source": [
    "id = 70000\n",
    "par = test.paragraph[id] \n",
    "que = test.question[id] \n",
    "print(par)\n",
    "for term in term_extractor(par):\n",
    "    print(term.normalized)\n",
    "print('-'*40)\n",
    "print(que)\n",
    "for term in term_extractor(que):\n",
    "    print(term.normalized)\n",
    "#мягкие французские булки 1\n",
    "#чай 1"
   ]
  },
  {
   "cell_type": "code",
   "execution_count": 42,
   "metadata": {},
   "outputs": [
    {
     "ename": "ImportError",
     "evalue": "No module named 'gensim'",
     "output_type": "error",
     "traceback": [
      "\u001b[1;31m---------------------------------------------------------------------------\u001b[0m",
      "\u001b[1;31mImportError\u001b[0m                               Traceback (most recent call last)",
      "\u001b[1;32m<ipython-input-42-dd1f6d00d6fc>\u001b[0m in \u001b[0;36m<module>\u001b[1;34m()\u001b[0m\n\u001b[1;32m----> 1\u001b[1;33m \u001b[1;32mfrom\u001b[0m \u001b[0mgensim\u001b[0m\u001b[1;33m.\u001b[0m\u001b[0mmodels\u001b[0m \u001b[1;32mimport\u001b[0m \u001b[0mword2vec\u001b[0m\u001b[1;33m\u001b[0m\u001b[0m\n\u001b[0m",
      "\u001b[1;31mImportError\u001b[0m: No module named 'gensim'"
     ]
    }
   ],
   "source": [
    "from gensim.models import word2vec"
   ]
  },
  {
   "cell_type": "code",
   "execution_count": 17,
   "metadata": {},
   "outputs": [
    {
     "ename": "TypeError",
     "evalue": "__call__() got an unexpected keyword argument 'string'",
     "output_type": "error",
     "traceback": [
      "\u001b[1;31m---------------------------------------------------------------------------\u001b[0m",
      "\u001b[1;31mTypeError\u001b[0m                                 Traceback (most recent call last)",
      "\u001b[1;32m<ipython-input-17-536cd9efc7fd>\u001b[0m in \u001b[0;36m<module>\u001b[1;34m()\u001b[0m\n\u001b[1;32m----> 1\u001b[1;33m \u001b[0mprint\u001b[0m\u001b[1;33m(\u001b[0m\u001b[0mterm_extractor\u001b[0m\u001b[1;33m(\u001b[0m\u001b[0mtest\u001b[0m\u001b[1;33m.\u001b[0m\u001b[0mquestion\u001b[0m\u001b[1;33m[\u001b[0m\u001b[1;36m4\u001b[0m\u001b[1;33m]\u001b[0m\u001b[1;33m,\u001b[0m \u001b[0mnested\u001b[0m\u001b[1;33m=\u001b[0m\u001b[1;32mTrue\u001b[0m\u001b[1;33m,\u001b[0m \u001b[0mstring\u001b[0m\u001b[1;33m=\u001b[0m\u001b[1;32mTrue\u001b[0m\u001b[1;33m)\u001b[0m\u001b[1;33m)\u001b[0m\u001b[1;33m\u001b[0m\u001b[0m\n\u001b[0m",
      "\u001b[1;31mTypeError\u001b[0m: __call__() got an unexpected keyword argument 'string'"
     ]
    }
   ],
   "source": [
    "print(term_extractor(test.question[4], nested=True, string=True))"
   ]
  },
  {
   "cell_type": "markdown",
   "metadata": {
    "collapsed": true
   },
   "source": [
    "## Step 1"
   ]
  },
  {
   "cell_type": "code",
   "execution_count": 133,
   "metadata": {
    "collapsed": true
   },
   "outputs": [],
   "source": [
    "train, test = pd.read_csv(\"train_task1_latest.csv\"), pd.read_csv(\"test_task1_latest.csv\")"
   ]
  },
  {
   "cell_type": "code",
   "execution_count": 134,
   "metadata": {
    "collapsed": true
   },
   "outputs": [],
   "source": [
    "common_questions = list(set(train.question)&set(test.question))"
   ]
  },
  {
   "cell_type": "code",
   "execution_count": 135,
   "metadata": {},
   "outputs": [
    {
     "data": {
      "text/plain": [
       "['Где находится копулятивный орган самцов змей?',\n",
       " 'Чем контролируется яркая окраска крыльев некоторых бабочек?',\n",
       " 'Когда возникли взаимовыгодные взаимоотношения пчёл и орхидей?',\n",
       " 'Что прилипает к голове или груди самца во время посещения цветка?',\n",
       " 'Кому подражает парусник Papilio agestor?',\n",
       " 'Что такое АТФ?',\n",
       " 'Кто опыляет инжир?']"
      ]
     },
     "execution_count": 135,
     "metadata": {},
     "output_type": "execute_result"
    }
   ],
   "source": [
    "common_questions"
   ]
  },
  {
   "cell_type": "code",
   "execution_count": 136,
   "metadata": {
    "collapsed": true
   },
   "outputs": [],
   "source": [
    "def FormCommonPQList():    \n",
    "    p_train_list = []\n",
    "    q_train_list = []\n",
    "    p_test_list = []\n",
    "    q_test_list = []\n",
    "    \n",
    "    for i in common_questions:    \n",
    "        if i in list(train.question.values):\n",
    "            #print(i)\n",
    "            #p_train_list.append(train[train.question == i].paragraph_id.values)\n",
    "            #q_train_list.append(train[train.question == i].question_id.values)\n",
    "\n",
    "            p_test_list.append(test[test.question == i].paragraph_id.values)\n",
    "            q_test_list.append(test[test.question == i].question_id.values)\n",
    "\n",
    "    #pq_train_flat_list = list(map(lambda x: [x[0],x[1]], list(zip([item for sublist in p_train_list for item in sublist],[item for sublist in q_train_list for item in sublist]))))\n",
    "    pq_test_flat_list = list(map(lambda x: [x[0],x[1]], list(zip([item for sublist in p_test_list for item in sublist],[item for sublist in q_test_list for item in sublist]))))\n",
    "    return pq_test_flat_list"
   ]
  },
  {
   "cell_type": "code",
   "execution_count": 137,
   "metadata": {
    "collapsed": true
   },
   "outputs": [],
   "source": [
    "pq_test_flat_list = FormCommonPQList()"
   ]
  },
  {
   "cell_type": "code",
   "execution_count": 138,
   "metadata": {},
   "outputs": [
    {
     "data": {
      "text/plain": [
       "[[606, 30228],\n",
       " [609, 17357],\n",
       " [241, 18678],\n",
       " [241, 4958],\n",
       " [906, 4958],\n",
       " [1164, 4958],\n",
       " [1353, 4958],\n",
       " [793, 4958],\n",
       " [657, 4958],\n",
       " [633, 4958],\n",
       " [671, 12468],\n",
       " [720, 11863],\n",
       " [241, 19513]]"
      ]
     },
     "execution_count": 138,
     "metadata": {},
     "output_type": "execute_result"
    }
   ],
   "source": [
    "#[array([39412], dtype=int64),\n",
    "# array([29322], dtype=int64),\n",
    "# array([82264], dtype=int64),\n",
    "# array([33869], dtype=int64),\n",
    "# array([12243, 12243], dtype=int64),\n",
    "# array([17947, 17947], dtype=int64),\n",
    "# array([92834], dtype=int64)]\n",
    "pq_test_flat_list"
   ]
  },
  {
   "cell_type": "code",
   "execution_count": 139,
   "metadata": {
    "collapsed": true
   },
   "outputs": [],
   "source": [
    "def PrintCommonPQ():\n",
    "    for index, row in tqdm.tqdm_notebook(test.iterrows(), total=test.shape[0], desc=\"Searching:\"):\n",
    "        for pq in pq_test_flat_list:\n",
    "            if (pq[0] == row.paragraph_id) and (pq[1] == row.question_id):\n",
    "                print(row.paragraph_id,':', row.paragraph)\n",
    "                print(row.question_id,':', row.question)\n",
    "                print('-'*100)\n",
    "\n",
    "CommonPQTargets = [1.0, 1.0, 1.0, 1.0, 0.0, 1.0, 0.0, 0.0, 0.0, 0.0, 0.0, 0.0, 0.0]\n",
    "\n",
    "# (241, 19513): 1.0\n",
    "# (671, 12468): 1.0\n",
    "# (241, 4958): 1.0 \n",
    "# (906, 4958): 0.0 \n",
    "# (1164, 4958): 0.0\n",
    "# (1353, 4958): 0.0\n",
    "# (606, 30228): 0.0\n",
    "# (793, 4958): 0.0 \n",
    "# (241, 18678): 1.0\n",
    "# (657, 4958): 0.0 \n",
    "# (720, 11863): 1.0\n",
    "# (633, 4958): 0.0 \n",
    "# (609, 17357): 0.0"
   ]
  },
  {
   "cell_type": "code",
   "execution_count": 140,
   "metadata": {
    "collapsed": true
   },
   "outputs": [],
   "source": [
    "#PrintCommonPQ()"
   ]
  },
  {
   "cell_type": "code",
   "execution_count": 141,
   "metadata": {
    "collapsed": true
   },
   "outputs": [],
   "source": [
    "def SetTargetToCommonPQ(test):\n",
    "    pq_test_flat_list = FormCommonPQList()\n",
    "    for index, row in tqdm.tqdm_notebook(test.iterrows(), total=test.shape[0], desc=\"Setting Answers to test.prediction\"):\n",
    "        for i in range(len(pq_test_flat_list)):\n",
    "            if (pq_test_flat_list[i][0] == row.paragraph_id) and (pq_test_flat_list[i][1] == row.question_id):\n",
    "                test.loc[index, 'prediction'] = CommonPQTargets[i]"
   ]
  },
  {
   "cell_type": "code",
   "execution_count": 142,
   "metadata": {
    "collapsed": true
   },
   "outputs": [],
   "source": [
    "#print(FormCommonPQList())"
   ]
  },
  {
   "cell_type": "code",
   "execution_count": 143,
   "metadata": {},
   "outputs": [
    {
     "data": {
      "text/plain": [
       "'В отличие от рыб, земноводные (амфибии) и пресмыкающиеся (рептилии или гады) уже имеют два круга кровообращения и сердце у них трёхкамерное (появляется межпредсердная перегородка). Единственные современные рептилии, имеющие хотя и неполноценное (межпредсердиевая перегородка не полностью разделяет предсердия, что скорей всего связано с переходом предков к полуводному образу жизни и снижению активности), но уже четырёхкамерное сердце — крокодилы. Считается, что впервые четырёхкамерное сердце появилось у примитивных архозавров и развитых синапсидов. В дальнейшем такое строение сердца унаследовали прямые потомки динозавров — птицы и потомки примитивных млекопитающих — современные млекопитающие.'"
      ]
     },
     "execution_count": 143,
     "metadata": {},
     "output_type": "execute_result"
    }
   ],
   "source": [
    "train.paragraph[0]"
   ]
  },
  {
   "cell_type": "code",
   "execution_count": 144,
   "metadata": {},
   "outputs": [
    {
     "data": {
      "text/plain": [
       "'С какого года Русское Царство перешло на летоисчисление от Рождества Христова и празднование Нового года 1 января, а не 1 сентября?'"
      ]
     },
     "execution_count": 144,
     "metadata": {},
     "output_type": "execute_result"
    }
   ],
   "source": [
    "train.question[0]"
   ]
  },
  {
   "cell_type": "code",
   "execution_count": 145,
   "metadata": {
    "collapsed": true
   },
   "outputs": [],
   "source": [
    "def is_uppercase(word):\n",
    "    if word[0] in list('АБВГДЕЁЖЗИЙКЛМНОПРСТУФХЦЧШЩЪЫБЭЮЯ'):\n",
    "        return True\n",
    "    else:\n",
    "        return False"
   ]
  },
  {
   "cell_type": "code",
   "execution_count": 146,
   "metadata": {},
   "outputs": [
    {
     "data": {
      "text/plain": [
       "True"
      ]
     },
     "execution_count": 146,
     "metadata": {},
     "output_type": "execute_result"
    }
   ],
   "source": [
    "is_uppercase('Просто текст')"
   ]
  },
  {
   "cell_type": "code",
   "execution_count": 147,
   "metadata": {},
   "outputs": [
    {
     "ename": "ImportError",
     "evalue": "No module named 'pymorphy2'",
     "output_type": "error",
     "traceback": [
      "\u001b[1;31m---------------------------------------------------------------------------\u001b[0m",
      "\u001b[1;31mImportError\u001b[0m                               Traceback (most recent call last)",
      "\u001b[1;32m<ipython-input-147-b7c13fa43c9d>\u001b[0m in \u001b[0;36m<module>\u001b[1;34m()\u001b[0m\n\u001b[1;32m----> 1\u001b[1;33m \u001b[1;32mimport\u001b[0m \u001b[0mpymorphy2\u001b[0m \u001b[1;32mas\u001b[0m \u001b[0mpm\u001b[0m\u001b[1;33m\u001b[0m\u001b[0m\n\u001b[0m\u001b[0;32m      2\u001b[0m \u001b[0mmorph\u001b[0m \u001b[1;33m=\u001b[0m \u001b[0mpm\u001b[0m\u001b[1;33m.\u001b[0m\u001b[0mMorphAnalyzer\u001b[0m\u001b[1;33m(\u001b[0m\u001b[1;33m)\u001b[0m\u001b[1;33m\u001b[0m\u001b[0m\n\u001b[0;32m      3\u001b[0m \u001b[0mmorph\u001b[0m\u001b[1;33m.\u001b[0m\u001b[0mparse\u001b[0m\u001b[1;33m(\u001b[0m\u001b[1;34m'Фредерик Шопена'\u001b[0m\u001b[1;33m)\u001b[0m\u001b[1;33m[\u001b[0m\u001b[1;36m0\u001b[0m\u001b[1;33m]\u001b[0m\u001b[1;33m.\u001b[0m\u001b[0mnormal_form\u001b[0m\u001b[1;33m\u001b[0m\u001b[0m\n",
      "\u001b[1;31mImportError\u001b[0m: No module named 'pymorphy2'"
     ]
    }
   ],
   "source": [
    "import pymorphy2 as pm\n",
    "morph = pm.MorphAnalyzer()\n",
    "morph.parse('Фредерик Шопена')[0].normal_form"
   ]
  },
  {
   "cell_type": "code",
   "execution_count": 120,
   "metadata": {
    "collapsed": true
   },
   "outputs": [],
   "source": [
    "# df - train dataset;\n",
    "# variable = переменная\n",
    "# variable_title - название переменной на графике\n",
    "def PlotHistByTarget(variable, variable_title, min_x, max_x, df, df_title): \n",
    "    print('Histogram for '+variable_title)\n",
    "    \n",
    "    print(DescStatsByTarget(variable, variable_title, df, df_title))\n",
    "    \n",
    "    plt.style.use('seaborn-deep')\n",
    "    \n",
    "    if df_title == 'train':\n",
    "        hist_df = pd.DataFrame({'target':df['target'],variable_title:variable})\n",
    "        pyplot.hist([hist_df[hist_df['target']==0][variable_title].values,hist_df[hist_df['target']==1][variable_title].values], \n",
    "                bins = 100, \n",
    "                alpha = 0.5, \n",
    "                label=['target: 0','target: 1'], \n",
    "                color = ['r','b'])\n",
    "        plt.xlim(xmin=min_x, xmax = max_x)\n",
    "        plt.legend()\n",
    "        plt.show()\n",
    "    else:\n",
    "        hist_df = pd.DataFrame({variable_title:variable})\n",
    "        pyplot.hist(hist_df[variable_title].values, \n",
    "                bins = 100, \n",
    "                alpha = 0.5, \n",
    "                label = 'test dataset',\n",
    "                color = 'g')\n",
    "        plt.xlim(xmin=min_x, xmax = max_x)\n",
    "        plt.legend()\n",
    "        plt.show()\n",
    "        \n",
    "    \n",
    "def DescStatsByTarget(variable, variable_title, df, df_title):\n",
    "    \n",
    "    if df_title == 'train':\n",
    "        dft = pd.DataFrame({'target':df['target'],variable_title:variable})\n",
    "\n",
    "        x = dft[dft['target']==0][variable_title].values\n",
    "        dfx = pd.DataFrame({'target: 0':x})\n",
    "\n",
    "        count0 = len(x)\n",
    "        mean0 = round(np.mean(x),6)\n",
    "        std0 = round(np.std(x),6)\n",
    "        min0 = round(np.min(x),6)\n",
    "        median0 = round(np.median(x),6)\n",
    "        max0 = round(np.max(x),6)\n",
    "\n",
    "        y = dft[dft['target']==1][variable_title].values\n",
    "        dfy = pd.DataFrame({'target: 1':y})\n",
    "\n",
    "        count1 = len(y)\n",
    "        mean1 = round(np.mean(y),6)\n",
    "        std1 = round(np.std(y),6)\n",
    "        min1 = round(np.min(y),6)\n",
    "        median1 = round(np.median(y),6)\n",
    "        max1 = round(np.max(y),6)\n",
    "\n",
    "        df_desc = pd.DataFrame([[count0, mean0, std0, min0, median0, max0],\n",
    "                            [count1, mean1, std1, min1, median1, max1]],\n",
    "                            columns = ['count','mean','std','min','median','max'], \n",
    "                            index=[variable_title+' (target: 0)',variable_title+' (target: 1)'])\n",
    "    else:\n",
    "        \n",
    "        dft = pd.DataFrame({variable_title:variable})\n",
    "\n",
    "        x = dft[variable_title].values\n",
    "        \n",
    "        count = len(x)\n",
    "        mean = round(np.mean(x),6)\n",
    "        std = round(np.std(x),6)\n",
    "        min = round(np.min(x),6)\n",
    "        median = round(np.median(x),6)\n",
    "        max = round(np.max(x),6)\n",
    "\n",
    "        df_desc = pd.DataFrame([[count, mean, std, min, median, max]],\n",
    "                            columns = ['count','mean','std','min','median','max'], \n",
    "                            index=[variable_title+' (test)'])\n",
    "    \n",
    "    return df_desc"
   ]
  },
  {
   "cell_type": "code",
   "execution_count": 149,
   "metadata": {
    "collapsed": true
   },
   "outputs": [],
   "source": [
    "def uniq_words(text):\n",
    "    return set(re.findall(\"\\w+\", text))"
   ]
  },
  {
   "cell_type": "code",
   "execution_count": 150,
   "metadata": {},
   "outputs": [
    {
     "data": {
      "application/vnd.jupyter.widget-view+json": {
       "model_id": "ab8c749ab62042dca784ec85529d4596"
      }
     },
     "metadata": {},
     "output_type": "display_data"
    },
    {
     "name": "stdout",
     "output_type": "stream",
     "text": [
      "\n"
     ]
    },
    {
     "data": {
      "application/vnd.jupyter.widget-view+json": {
       "model_id": "83e08a62cf4945b081ae5fbfd3d0927b"
      }
     },
     "metadata": {},
     "output_type": "display_data"
    },
    {
     "name": "stdout",
     "output_type": "stream",
     "text": [
      "\n"
     ]
    }
   ],
   "source": [
    "for name, df in [('train', train), ('test', test)]:\n",
    "    df.set_value(0,'list_ratio',0)\n",
    "    df.set_value(0,'list_intersections',0)\n",
    "    df['list_ratio'] = df['list_ratio'].astype(object)\n",
    "    df['list_intersections'] = df['list_intersections'].astype(object)\n",
    "    for index, row in tqdm.tqdm_notebook(df.iterrows(), total=df.shape[0], desc=\"build features for \" + name):\n",
    "        sentences = row.paragraph.split('. ')\n",
    "        question = row.question\n",
    "        \n",
    "        unq_question = uniq_words(row.question)\n",
    "        \n",
    "        list_ratio = []\n",
    "        list_intersections = []\n",
    "        \n",
    "        for sentence in sentences:\n",
    "            list_ratio.append(round(difflib.SequenceMatcher(None, sentence, question).ratio(),5))\n",
    "            list_intersections.append(len(uniq_words(sentence) & unq_question))\n",
    "        \n",
    "        df.set_value(index, 'list_ratio', list_ratio)\n",
    "        df.set_value(index, 'list_intersections', list_intersections)\n",
    "        df.loc[index, 'len_paragraph'] = len(uniq_words(row.paragraph))\n",
    "        df.loc[index, 'len_question'] = len(unq_question)\n",
    "        df.loc[index, 'len_intersection'] = len(uniq_words(row.paragraph) & unq_question)"
   ]
  },
  {
   "cell_type": "code",
   "execution_count": 151,
   "metadata": {
    "collapsed": true
   },
   "outputs": [],
   "source": [
    "train.to_csv(\"train_step1.csv\", index=False, encoding = 'utf-8')\n",
    "test.to_csv(\"test_step1.csv\", index=False, encoding = 'utf-8')\n",
    "\n",
    "train, test = pd.read_csv(\"train_step1.csv\", encoding ='utf-8'), pd.read_csv(\"test_step1.csv\", encoding ='utf-8')"
   ]
  },
  {
   "cell_type": "markdown",
   "metadata": {},
   "source": [
    "## Step 2"
   ]
  },
  {
   "cell_type": "code",
   "execution_count": 153,
   "metadata": {
    "collapsed": true
   },
   "outputs": [],
   "source": [
    "texts = list(train['paragraph'])+list(train['question'])+list(test['paragraph'])+list(test['question'])\n",
    "\n",
    "wd = {}\n",
    "\n",
    "def tokenize(text):\n",
    "    tokens = nltk.word_tokenize(text)\n",
    "    tokens = [i.lower() for i in tokens if ( i not in string.punctuation+'—' )]\n",
    "    stop_words = stopwords.words('russian')\n",
    "    stop_words.extend(['что', 'это', 'так', 'вот', 'быть', 'как', 'в', '—', 'к', 'на'])\n",
    "    tokens = [i for i in tokens if ( i not in stop_words )]\n",
    "    stems = []\n",
    "    for item in tokens:\n",
    "        if item in wd.keys():\n",
    "            stems.append(wd[item])\n",
    "        else:\n",
    "            w = SnowballStemmer(language='russian').stem(item)\n",
    "            wd[item] = w\n",
    "            stems.append(w)\n",
    "    return stems"
   ]
  },
  {
   "cell_type": "code",
   "execution_count": 154,
   "metadata": {},
   "outputs": [
    {
     "name": "stdout",
     "output_type": "stream",
     "text": [
      "Wall time: 9min 33s\n",
      "Wall time: 4min 20s\n",
      "Wall time: 1min 12s\n",
      "Wall time: 2min 58s\n",
      "Wall time: 50 s\n"
     ]
    }
   ],
   "source": [
    "Vectorizer = CountVectorizer(tokenizer=tokenize)\n",
    "%time Vectorizer.fit(texts)\n",
    "%time train_p = Vectorizer.transform(train['paragraph'])\n",
    "%time train_q = Vectorizer.transform(train['question'])\n",
    "%time test_p =  Vectorizer.transform(test['paragraph'])\n",
    "%time test_q =  Vectorizer.transform(test['question'])"
   ]
  },
  {
   "cell_type": "code",
   "execution_count": 155,
   "metadata": {},
   "outputs": [
    {
     "data": {
      "text/plain": [
       "TfidfTransformer(norm='l2', smooth_idf=False, sublinear_tf=False,\n",
       "         use_idf=True)"
      ]
     },
     "execution_count": 155,
     "metadata": {},
     "output_type": "execute_result"
    }
   ],
   "source": [
    "from scipy import sparse\n",
    "tfidf = TfidfTransformer(smooth_idf=False,sublinear_tf=False)\n",
    "stk = sparse.vstack([train_p,train_q,test_p,test_q])\n",
    "tfidf.fit(stk)"
   ]
  },
  {
   "cell_type": "code",
   "execution_count": 156,
   "metadata": {
    "collapsed": true
   },
   "outputs": [],
   "source": [
    "from sklearn.metrics.pairwise import paired_cosine_distances\n",
    "dist_train = paired_cosine_distances(tfidf.transform(train_p),tfidf.transform(train_q))\n",
    "dist_test = paired_cosine_distances(tfidf.transform(test_p),tfidf.transform(test_q))"
   ]
  },
  {
   "cell_type": "code",
   "execution_count": 157,
   "metadata": {
    "collapsed": true
   },
   "outputs": [],
   "source": [
    "train['cos_dist'] = dist_train\n",
    "test['cos_dist'] = dist_test"
   ]
  },
  {
   "cell_type": "code",
   "execution_count": 158,
   "metadata": {
    "collapsed": true
   },
   "outputs": [],
   "source": [
    "train.to_csv(\"train_step2.csv\", index=False, encoding = 'utf-8')\n",
    "test.to_csv(\"test_step2.csv\", index=False, encoding = 'utf-8')\n",
    "\n",
    "trainf, testf = pd.read_csv(\"train_step2.csv\", encoding ='utf-8'), pd.read_csv(\"test_step2.csv\", encoding ='utf-8')"
   ]
  },
  {
   "cell_type": "markdown",
   "metadata": {},
   "source": [
    "## Step 3"
   ]
  },
  {
   "cell_type": "code",
   "execution_count": 162,
   "metadata": {},
   "outputs": [
    {
     "data": {
      "application/vnd.jupyter.widget-view+json": {
       "model_id": "19599f46dbc14f1f9679ea28744d49aa"
      }
     },
     "metadata": {},
     "output_type": "display_data"
    },
    {
     "name": "stdout",
     "output_type": "stream",
     "text": [
      "\n"
     ]
    },
    {
     "data": {
      "application/vnd.jupyter.widget-view+json": {
       "model_id": "b8888a178bb94cec813e18a1f1b93d0d"
      }
     },
     "metadata": {},
     "output_type": "display_data"
    },
    {
     "name": "stdout",
     "output_type": "stream",
     "text": [
      "\n"
     ]
    }
   ],
   "source": [
    "for name, df in [('train', trainf), ('test', testf)]:\n",
    "    for index, row in tqdm.tqdm_notebook(df.iterrows(), total=df.shape[0], desc=\"build features for \" + name):\n",
    "        df.loc[index, 'min_ratio'] = np.min(ast.literal_eval(row.list_ratio))\n",
    "        df.loc[index, 'max_ratio'] = np.max(ast.literal_eval(row.list_ratio))\n",
    "        df.loc[index, 'std_ratio'] = np.std(ast.literal_eval(row.list_ratio))\n",
    "        df.loc[index, 'mean_ratio'] = np.mean(ast.literal_eval(row.list_ratio))\n",
    "        df.loc[index, 'num_sentences'] = len(ast.literal_eval(row.list_ratio))\n",
    "        df.loc[index, 'min_inter'] = np.min(ast.literal_eval(row.list_intersections))\n",
    "        df.loc[index, 'max_inter'] = np.max(ast.literal_eval(row.list_intersections))"
   ]
  },
  {
   "cell_type": "code",
   "execution_count": 164,
   "metadata": {
    "collapsed": true
   },
   "outputs": [],
   "source": [
    "trainf.to_csv(\"train_step3.csv\", index=False, encoding ='utf-8')\n",
    "testf.to_csv(\"test_step3.csv\", index=False, encoding ='utf-8')"
   ]
  },
  {
   "cell_type": "code",
   "execution_count": 5,
   "metadata": {},
   "outputs": [],
   "source": [
    "trainf, testf = pd.read_csv(\"train_step3.csv\", encoding ='utf-8'), pd.read_csv(\"test_step3.csv\", encoding ='utf-8')"
   ]
  },
  {
   "cell_type": "markdown",
   "metadata": {
    "collapsed": true
   },
   "source": [
    "# Graphs"
   ]
  },
  {
   "cell_type": "code",
   "execution_count": 6,
   "metadata": {},
   "outputs": [
    {
     "name": "stdout",
     "output_type": "stream",
     "text": [
      "Histogram for len_question\n",
      "                          count       mean       std  min  median   max\n",
      "len_question (target: 0)  85361  15.052214  6.360197  4.0    14.0  64.0\n",
      "len_question (target: 1)  34037   8.577842  3.949244  2.0     8.0  60.0\n"
     ]
    },
    {
     "data": {
      "image/png": "[encoded data removed]",
      "text/plain": [
       "<matplotlib.figure.Figure at 0xc40ce48>"
      ]
     },
     "metadata": {},
     "output_type": "display_data"
    },
    {
     "name": "stdout",
     "output_type": "stream",
     "text": [
      "Histogram for len_question\n",
      "                     count       mean       std  min  median   max\n",
      "len_question (test)  74294  13.364834  6.123174  1.0    12.0  64.0\n"
     ]
    },
    {
     "data": {
      "image/png": "[encoded data removed]",
      "text/plain": [
       "<matplotlib.figure.Figure at 0xc7cef28>"
      ]
     },
     "metadata": {},
     "output_type": "display_data"
    }
   ],
   "source": [
    "PlotHistByTarget(trainf.len_question, 'len_question', 0, 40, trainf, 'train')\n",
    "PlotHistByTarget(testf.len_question, 'len_question', 0, 40, testf, 'test')"
   ]
  },
  {
   "cell_type": "code",
   "execution_count": 7,
   "metadata": {},
   "outputs": [
    {
     "name": "stdout",
     "output_type": "stream",
     "text": [
      "Histogram for len_paragraph\n",
      "                           count       mean        std   min  median    max\n",
      "len_paragraph (target: 0)  85361  90.372336  26.608021  35.0    82.0  358.0\n",
      "len_paragraph (target: 1)  34037  83.477950  26.130164  28.0    77.0  675.0\n"
     ]
    },
    {
     "data": {
      "image/png": "[encoded data removed]",
      "text/plain": [
       "<matplotlib.figure.Figure at 0xc75ce80>"
      ]
     },
     "metadata": {},
     "output_type": "display_data"
    },
    {
     "name": "stdout",
     "output_type": "stream",
     "text": [
      "Histogram for len_paragraph\n",
      "                      count       mean        std   min  median    max\n",
      "len_paragraph (test)  74294  96.454667  40.660423  32.0    85.0  371.0\n"
     ]
    },
    {
     "data": {
      "image/png": "[encoded data removed]",
      "text/plain": [
       "<matplotlib.figure.Figure at 0xc5b3b00>"
      ]
     },
     "metadata": {},
     "output_type": "display_data"
    }
   ],
   "source": [
    "PlotHistByTarget(trainf.len_paragraph, 'len_paragraph', 40, 200, trainf, 'train')\n",
    "PlotHistByTarget(testf.len_paragraph, 'len_paragraph', 40, 200, testf, 'test')"
   ]
  },
  {
   "cell_type": "code",
   "execution_count": 8,
   "metadata": {},
   "outputs": [
    {
     "name": "stdout",
     "output_type": "stream",
     "text": [
      "Histogram for len_intersection\n",
      "                              count      mean       std  min  median   max\n",
      "len_intersection (target: 0)  85361  3.339078  0.705591  3.0     3.0  17.0\n",
      "len_intersection (target: 1)  34037  5.697006  4.117441  0.0     5.0  58.0\n"
     ]
    },
    {
     "data": {
      "image/png": "[encoded data removed]",
      "text/plain": [
       "<matplotlib.figure.Figure at 0xc68e278>"
      ]
     },
     "metadata": {},
     "output_type": "display_data"
    },
    {
     "name": "stdout",
     "output_type": "stream",
     "text": [
      "Histogram for len_intersection\n",
      "                         count      mean       std  min  median   max\n",
      "len_intersection (test)  74294  5.780171  3.354889  0.0     5.0  62.0\n"
     ]
    },
    {
     "data": {
      "image/png": "[encoded data removed]",
      "text/plain": [
       "<matplotlib.figure.Figure at 0x12386cf8>"
      ]
     },
     "metadata": {},
     "output_type": "display_data"
    }
   ],
   "source": [
    "PlotHistByTarget(trainf.len_intersection, 'len_intersection', 0, 15, trainf, 'train')\n",
    "PlotHistByTarget(testf.len_intersection, 'len_intersection', 0, 15, testf, 'test')"
   ]
  },
  {
   "cell_type": "code",
   "execution_count": 9,
   "metadata": {},
   "outputs": [
    {
     "name": "stdout",
     "output_type": "stream",
     "text": [
      "Histogram for min_ratio\n",
      "                       count      mean       std  min   median      max\n",
      "min_ratio (target: 0)  85361  0.110002  0.063889  0.0  0.12017  0.35345\n",
      "min_ratio (target: 1)  34037  0.131520  0.068175  0.0  0.13506  0.97398\n"
     ]
    },
    {
     "data": {
      "image/png": "[encoded data removed]",
      "text/plain": [
       "<matplotlib.figure.Figure at 0xcb422e8>"
      ]
     },
     "metadata": {},
     "output_type": "display_data"
    },
    {
     "name": "stdout",
     "output_type": "stream",
     "text": [
      "Histogram for min_ratio\n",
      "                  count      mean       std  min  median      max\n",
      "min_ratio (test)  74294  0.124086  0.073768  0.0  0.1327  0.98094\n"
     ]
    },
    {
     "data": {
      "image/png": "[encoded data removed]",
      "text/plain": [
       "<matplotlib.figure.Figure at 0xca82c50>"
      ]
     },
     "metadata": {},
     "output_type": "display_data"
    }
   ],
   "source": [
    "var_title = 'min_ratio' \n",
    "PlotHistByTarget(trainf.min_ratio, var_title, 0, 0.4, trainf, 'train')\n",
    "PlotHistByTarget(testf.min_ratio, var_title, 0, 0.4, testf, 'test')"
   ]
  },
  {
   "cell_type": "code",
   "execution_count": 10,
   "metadata": {},
   "outputs": [
    {
     "name": "stdout",
     "output_type": "stream",
     "text": [
      "Histogram for max_ratio\n",
      "                       count      mean       std      min  median      max\n",
      "max_ratio (target: 0)  85361  0.269191  0.076324  0.00510  0.2766  0.83333\n",
      "max_ratio (target: 1)  34037  0.429532  0.180929  0.02071  0.3871  0.99145\n"
     ]
    },
    {
     "data": {
      "image/png": "[encoded data removed]",
      "text/plain": [
       "<matplotlib.figure.Figure at 0xc8354a8>"
      ]
     },
     "metadata": {},
     "output_type": "display_data"
    },
    {
     "name": "stdout",
     "output_type": "stream",
     "text": [
      "Histogram for max_ratio\n",
      "                  count      mean      std  min   median      max\n",
      "max_ratio (test)  74294  0.344035  0.13786  0.0  0.32787  0.99174\n"
     ]
    },
    {
     "data": {
      "image/png": "[encoded data removed]",
      "text/plain": [
       "<matplotlib.figure.Figure at 0xc5b3cf8>"
      ]
     },
     "metadata": {},
     "output_type": "display_data"
    }
   ],
   "source": [
    "var_title = 'max_ratio' \n",
    "PlotHistByTarget(trainf.max_ratio, var_title, 0, 1, trainf, 'train')\n",
    "PlotHistByTarget(testf.max_ratio, var_title, 0, 1, testf, 'test')"
   ]
  },
  {
   "cell_type": "code",
   "execution_count": 11,
   "metadata": {},
   "outputs": [
    {
     "name": "stdout",
     "output_type": "stream",
     "text": [
      "Histogram for std_ratio\n",
      "                       count      mean       std  min    median       max\n",
      "std_ratio (target: 0)  85361  0.055267  0.026044  0.0  0.053419  0.252462\n",
      "std_ratio (target: 1)  34037  0.103941  0.063265  0.0  0.090241  0.450137\n"
     ]
    },
    {
     "data": {
      "image/png": "[encoded data removed]",
      "text/plain": [
       "<matplotlib.figure.Figure at 0x123819e8>"
      ]
     },
     "metadata": {},
     "output_type": "display_data"
    },
    {
     "name": "stdout",
     "output_type": "stream",
     "text": [
      "Histogram for std_ratio\n",
      "                  count      mean       std  min    median       max\n",
      "std_ratio (test)  74294  0.075219  0.044464  0.0  0.067267  0.434156\n"
     ]
    },
    {
     "data": {
      "image/png": "[encoded data removed]",
      "text/plain": [
       "<matplotlib.figure.Figure at 0x1246fcc0>"
      ]
     },
     "metadata": {},
     "output_type": "display_data"
    }
   ],
   "source": [
    "var_title = 'std_ratio' \n",
    "PlotHistByTarget(trainf.std_ratio, var_title, 0, 0.4, trainf, 'train')\n",
    "PlotHistByTarget(testf.std_ratio, var_title, 0, 0.4, testf, 'test')"
   ]
  },
  {
   "cell_type": "code",
   "execution_count": 12,
   "metadata": {},
   "outputs": [
    {
     "name": "stdout",
     "output_type": "stream",
     "text": [
      "Histogram for mean_ratio\n",
      "                        count      mean       std      min    median       max\n",
      "mean_ratio (target: 0)  85361  0.191673  0.054721  0.00255  0.199163  0.429312\n",
      "mean_ratio (target: 1)  34037  0.249552  0.069220  0.02071  0.245534  0.973980\n"
     ]
    },
    {
     "data": {
      "image/png": "[encoded data removed]",
      "text/plain": [
       "<matplotlib.figure.Figure at 0xc685ac8>"
      ]
     },
     "metadata": {},
     "output_type": "display_data"
    },
    {
     "name": "stdout",
     "output_type": "stream",
     "text": [
      "Histogram for mean_ratio\n",
      "                   count     mean       std  min    median      max\n",
      "mean_ratio (test)  74294  0.22189  0.075063  0.0  0.227771  0.98094\n"
     ]
    },
    {
     "data": {
      "image/png": "[encoded data removed]",
      "text/plain": [
       "<matplotlib.figure.Figure at 0xcb8b588>"
      ]
     },
     "metadata": {},
     "output_type": "display_data"
    }
   ],
   "source": [
    "var_title = 'mean_ratio' \n",
    "PlotHistByTarget(trainf.mean_ratio, var_title, 0, 0.5, trainf, 'train')\n",
    "PlotHistByTarget(testf.mean_ratio, var_title, 0, 0.5, testf, 'test')"
   ]
  },
  {
   "cell_type": "code",
   "execution_count": 13,
   "metadata": {},
   "outputs": [
    {
     "name": "stdout",
     "output_type": "stream",
     "text": [
      "Histogram for num_sentences\n",
      "                           count      mean       std  min  median   max\n",
      "num_sentences (target: 0)  85361  5.978608  2.415787  1.0     5.0  40.0\n",
      "num_sentences (target: 1)  34037  5.745101  2.993409  1.0     5.0  73.0\n"
     ]
    },
    {
     "data": {
      "image/png": "[encoded data removed]",
      "text/plain": [
       "<matplotlib.figure.Figure at 0xcb35358>"
      ]
     },
     "metadata": {},
     "output_type": "display_data"
    },
    {
     "name": "stdout",
     "output_type": "stream",
     "text": [
      "Histogram for num_sentences\n",
      "                      count      mean       std  min  median   max\n",
      "num_sentences (test)  74294  6.469728  3.482152  1.0     6.0  32.0\n"
     ]
    },
    {
     "data": {
      "image/png": "[encoded data removed]",
      "text/plain": [
       "<matplotlib.figure.Figure at 0xcb4d780>"
      ]
     },
     "metadata": {},
     "output_type": "display_data"
    }
   ],
   "source": [
    "var_title = 'num_sentences' \n",
    "PlotHistByTarget(trainf.num_sentences, var_title, 0, 20, trainf, 'train')\n",
    "PlotHistByTarget(testf.num_sentences, var_title, 0, 20, testf, 'test')"
   ]
  },
  {
   "cell_type": "code",
   "execution_count": 14,
   "metadata": {},
   "outputs": [
    {
     "name": "stdout",
     "output_type": "stream",
     "text": [
      "Histogram for min_inter\n",
      "                       count      mean       std  min  median   max\n",
      "min_inter (target: 0)  85361  0.226977  0.499684  0.0     0.0   7.0\n",
      "min_inter (target: 1)  34037  0.253959  0.934635  0.0     0.0  53.0\n"
     ]
    },
    {
     "data": {
      "image/png": "[encoded data removed]",
      "text/plain": [
       "<matplotlib.figure.Figure at 0xc79fef0>"
      ]
     },
     "metadata": {},
     "output_type": "display_data"
    },
    {
     "name": "stdout",
     "output_type": "stream",
     "text": [
      "Histogram for min_inter\n",
      "                  count      mean       std  min  median   max\n",
      "min_inter (test)  74294  0.303403  0.877877  0.0     0.0  62.0\n"
     ]
    },
    {
     "data": {
      "image/png": "[encoded data removed]",
      "text/plain": [
       "<matplotlib.figure.Figure at 0xc7aaf28>"
      ]
     },
     "metadata": {},
     "output_type": "display_data"
    }
   ],
   "source": [
    "var_title = 'min_inter' \n",
    "PlotHistByTarget(trainf.min_inter, var_title, 0, 5, trainf, 'train')\n",
    "PlotHistByTarget(testf.min_inter, var_title, 0, 5, testf, 'test')"
   ]
  },
  {
   "cell_type": "code",
   "execution_count": 15,
   "metadata": {},
   "outputs": [
    {
     "name": "stdout",
     "output_type": "stream",
     "text": [
      "Histogram for max_inter\n",
      "                       count      mean       std  min  median   max\n",
      "max_inter (target: 0)  85361  2.449163  0.767937  1.0     2.0  12.0\n",
      "max_inter (target: 1)  34037  5.170256  3.970357  0.0     4.0  58.0\n"
     ]
    },
    {
     "data": {
      "image/png": "[encoded data removed]",
      "text/plain": [
       "<matplotlib.figure.Figure at 0xcab7e10>"
      ]
     },
     "metadata": {},
     "output_type": "display_data"
    },
    {
     "name": "stdout",
     "output_type": "stream",
     "text": [
      "Histogram for max_inter\n",
      "                  count      mean       std  min  median   max\n",
      "max_inter (test)  74294  4.181697  2.648538  0.0     3.0  62.0\n"
     ]
    },
    {
     "data": {
      "image/png": "[encoded data removed]",
      "text/plain": [
       "<matplotlib.figure.Figure at 0xc3edf60>"
      ]
     },
     "metadata": {},
     "output_type": "display_data"
    }
   ],
   "source": [
    "var_title = 'max_inter' \n",
    "PlotHistByTarget(trainf.max_inter, var_title, 0, 20, trainf, 'train')\n",
    "PlotHistByTarget(testf.max_inter, var_title, 0, 20, testf, 'test')"
   ]
  },
  {
   "cell_type": "code",
   "execution_count": 17,
   "metadata": {},
   "outputs": [
    {
     "name": "stdout",
     "output_type": "stream",
     "text": [
      "Histogram for cos_dist\n",
      "                      count      mean       std       min    median  max\n",
      "cos_dist (target: 0)  85361  0.959705  0.070927  0.311293  0.987498  1.0\n",
      "cos_dist (target: 1)  34037  0.653140  0.143093  0.008142  0.658757  1.0\n"
     ]
    },
    {
     "data": {
      "image/png": "[encoded data removed]",
      "text/plain": [
       "<matplotlib.figure.Figure at 0xc6b16a0>"
      ]
     },
     "metadata": {},
     "output_type": "display_data"
    },
    {
     "name": "stdout",
     "output_type": "stream",
     "text": [
      "Histogram for cos_dist\n",
      "                 count      mean       std      min    median  max\n",
      "cos_dist (test)  74294  0.801063  0.145037  0.00975  0.830698  1.0\n"
     ]
    },
    {
     "data": {
      "image/png": "[encoded data removed]",
      "text/plain": [
       "<matplotlib.figure.Figure at 0x12486a20>"
      ]
     },
     "metadata": {},
     "output_type": "display_data"
    }
   ],
   "source": [
    "var_title = 'cos_dist' \n",
    "PlotHistByTarget(trainf.cos_dist, var_title, 0, 1, trainf, 'train')\n",
    "PlotHistByTarget(testf.cos_dist, var_title, 0, 1, testf, 'test')"
   ]
  },
  {
   "cell_type": "markdown",
   "metadata": {},
   "source": [
    "# Models"
   ]
  },
  {
   "cell_type": "code",
   "execution_count": 27,
   "metadata": {},
   "outputs": [
    {
     "data": {
      "text/plain": [
       "Index(['paragraph_id', 'question_id', 'paragraph', 'question', 'target',\n",
       "       'list_ratio', 'list_intersections', 'len_paragraph', 'len_question',\n",
       "       'len_intersection', 'cos_dist', 'min_ratio', 'max_ratio', 'std_ratio',\n",
       "       'mean_ratio', 'num_sentences', 'min_inter', 'max_inter'],\n",
       "      dtype='object')"
      ]
     },
     "execution_count": 27,
     "metadata": {},
     "output_type": "execute_result"
    }
   ],
   "source": [
    "trainf.columns"
   ]
  },
  {
   "cell_type": "code",
   "execution_count": 7,
   "metadata": {
    "collapsed": true
   },
   "outputs": [],
   "source": [
    "columns = ['len_paragraph',\n",
    "           'len_question',\n",
    "           'len_intersection',\n",
    "           'min_ratio',\n",
    "           'max_ratio',\n",
    "           'std_ratio',\n",
    "           'mean_ratio',\n",
    "           'num_sentences',\n",
    "           'min_inter',\n",
    "           'max_inter',\n",
    "           'cos_dist'\n",
    "          ]"
   ]
  },
  {
   "cell_type": "markdown",
   "metadata": {},
   "source": [
    "## Gradient Boosting"
   ]
  },
  {
   "cell_type": "code",
   "execution_count": 277,
   "metadata": {
    "collapsed": true
   },
   "outputs": [],
   "source": [
    "model = GradientBoostingClassifier().fit(trainf[columns], trainf['target'])"
   ]
  },
  {
   "cell_type": "code",
   "execution_count": 278,
   "metadata": {},
   "outputs": [
    {
     "data": {
      "image/png": "[encoded data removed]",
      "text/plain": [
       "<matplotlib.figure.Figure at 0x22d219bfda0>"
      ]
     },
     "metadata": {},
     "output_type": "display_data"
    }
   ],
   "source": [
    "feat_importance(model, columns)"
   ]
  },
  {
   "cell_type": "code",
   "execution_count": 211,
   "metadata": {
    "collapsed": true
   },
   "outputs": [],
   "source": [
    "testf['prediction'] = model.predict(testf[columns])"
   ]
  },
  {
   "cell_type": "code",
   "execution_count": 212,
   "metadata": {},
   "outputs": [
    {
     "data": {
      "text/html": [
       "<div>\n",
       "<style>\n",
       "    .dataframe thead tr:only-child th {\n",
       "        text-align: right;\n",
       "    }\n",
       "\n",
       "    .dataframe thead th {\n",
       "        text-align: left;\n",
       "    }\n",
       "\n",
       "    .dataframe tbody tr th {\n",
       "        vertical-align: top;\n",
       "    }\n",
       "</style>\n",
       "<table border=\"1\" class=\"dataframe\">\n",
       "  <thead>\n",
       "    <tr style=\"text-align: right;\">\n",
       "      <th></th>\n",
       "      <th>paragraph_id</th>\n",
       "      <th>question_id</th>\n",
       "      <th>paragraph</th>\n",
       "      <th>question</th>\n",
       "      <th>list_ratio</th>\n",
       "      <th>list_intersections</th>\n",
       "      <th>len_paragraph</th>\n",
       "      <th>len_question</th>\n",
       "      <th>len_intersection</th>\n",
       "      <th>min_ratio</th>\n",
       "      <th>max_ratio</th>\n",
       "      <th>std_ratio</th>\n",
       "      <th>mean_ratio</th>\n",
       "      <th>num_sentences</th>\n",
       "      <th>min_inter</th>\n",
       "      <th>max_inter</th>\n",
       "      <th>prediction</th>\n",
       "    </tr>\n",
       "  </thead>\n",
       "  <tbody>\n",
       "    <tr>\n",
       "      <th>0</th>\n",
       "      <td>1361</td>\n",
       "      <td>6463</td>\n",
       "      <td>Ïåðåäíèé ìîçã ñèëüíî ðàçâèò, ýòî ñàìàÿ áîëüøàÿ...</td>\n",
       "      <td>Â êàêîé ìèôîëîãèè äâà âîðîíà Õóãèí è Ìóíèí øåï...</td>\n",
       "      <td>[0.25, 0.17964, 0.16162, 0.02597, 0.1641, 0.13...</td>\n",
       "      <td>[0, 0, 2, 0, 1, 0, 1, 3, 0, 0, 0, 0, 0, 0]</td>\n",
       "      <td>113.0</td>\n",
       "      <td>14.0</td>\n",
       "      <td>3.0</td>\n",
       "      <td>0.00000</td>\n",
       "      <td>0.29834</td>\n",
       "      <td>0.090838</td>\n",
       "      <td>0.153921</td>\n",
       "      <td>14.0</td>\n",
       "      <td>0.0</td>\n",
       "      <td>3.0</td>\n",
       "      <td>0.0</td>\n",
       "    </tr>\n",
       "    <tr>\n",
       "      <th>1</th>\n",
       "      <td>1403</td>\n",
       "      <td>34696</td>\n",
       "      <td>Ìèðìåêîëîãè èññëåäóþò ìóðàâü¸â êàê â ëàáîðàòîð...</td>\n",
       "      <td>Êîãäà èíñàéäåð ïîêóïàåò èëè ãèïîòåçû ÷åãî ýâîë...</td>\n",
       "      <td>[0.18265, 0.24409, 0.33696, 0.23077, 0.21017, ...</td>\n",
       "      <td>[0, 0, 5, 0, 0, 0]</td>\n",
       "      <td>79.0</td>\n",
       "      <td>11.0</td>\n",
       "      <td>5.0</td>\n",
       "      <td>0.18265</td>\n",
       "      <td>0.33696</td>\n",
       "      <td>0.048354</td>\n",
       "      <td>0.237508</td>\n",
       "      <td>6.0</td>\n",
       "      <td>0.0</td>\n",
       "      <td>5.0</td>\n",
       "      <td>1.0</td>\n",
       "    </tr>\n",
       "    <tr>\n",
       "      <th>2</th>\n",
       "      <td>1435</td>\n",
       "      <td>13751</td>\n",
       "      <td>Âîëíîâàÿ: ñâåò ïðåäñòàâëÿåò ñîáîé âîëíó â íåâè...</td>\n",
       "      <td>Êàêèå ïðåäïîëîæåíèÿ, ïî ìíåíèþ Íüþòîíà, äîïóñò...</td>\n",
       "      <td>[0.23077, 0.17634, 0.33113]</td>\n",
       "      <td>[1, 3, 1]</td>\n",
       "      <td>63.0</td>\n",
       "      <td>12.0</td>\n",
       "      <td>3.0</td>\n",
       "      <td>0.17634</td>\n",
       "      <td>0.33113</td>\n",
       "      <td>0.064113</td>\n",
       "      <td>0.246080</td>\n",
       "      <td>3.0</td>\n",
       "      <td>1.0</td>\n",
       "      <td>3.0</td>\n",
       "      <td>0.0</td>\n",
       "    </tr>\n",
       "    <tr>\n",
       "      <th>3</th>\n",
       "      <td>341</td>\n",
       "      <td>38544</td>\n",
       "      <td>Æèâûå îðãàíèçìû ïîä÷èíÿþòñÿ íà÷àëàì òåðìîäèíàì...</td>\n",
       "      <td>Â êàêèõ óñëîâèÿõ ìåòàáîëèçì ïîääåðæèâàåò ïîðÿä...</td>\n",
       "      <td>[0.32558, 0.29412, 0.17391, 0.27673, 0.33333, ...</td>\n",
       "      <td>[0, 0, 0, 1, 1, 9]</td>\n",
       "      <td>89.0</td>\n",
       "      <td>10.0</td>\n",
       "      <td>9.0</td>\n",
       "      <td>0.17391</td>\n",
       "      <td>0.89820</td>\n",
       "      <td>0.235975</td>\n",
       "      <td>0.383645</td>\n",
       "      <td>6.0</td>\n",
       "      <td>0.0</td>\n",
       "      <td>9.0</td>\n",
       "      <td>1.0</td>\n",
       "    </tr>\n",
       "    <tr>\n",
       "      <th>4</th>\n",
       "      <td>1317</td>\n",
       "      <td>14589</td>\n",
       "      <td>Ôàéëû íåëàòèíñêîãî òåêñòà â Þíèêîäå âñåãäà çàí...</td>\n",
       "      <td>Êàêèì ìåëîäèÿì Ïðîêîôüåâà îñîáåííî íå óêëàäûâà...</td>\n",
       "      <td>[0.02812, 0.02824, 0.00893]</td>\n",
       "      <td>[8, 4, 4]</td>\n",
       "      <td>86.0</td>\n",
       "      <td>24.0</td>\n",
       "      <td>11.0</td>\n",
       "      <td>0.00893</td>\n",
       "      <td>0.02824</td>\n",
       "      <td>0.009075</td>\n",
       "      <td>0.021763</td>\n",
       "      <td>3.0</td>\n",
       "      <td>4.0</td>\n",
       "      <td>8.0</td>\n",
       "      <td>0.0</td>\n",
       "    </tr>\n",
       "  </tbody>\n",
       "</table>\n",
       "</div>"
      ],
      "text/plain": [
       "   paragraph_id  question_id  \\\n",
       "0          1361         6463   \n",
       "1          1403        34696   \n",
       "2          1435        13751   \n",
       "3           341        38544   \n",
       "4          1317        14589   \n",
       "\n",
       "                                           paragraph  \\\n",
       "0  Ïåðåäíèé ìîçã ñèëüíî ðàçâèò, ýòî ñàìàÿ áîëüøàÿ...   \n",
       "1  Ìèðìåêîëîãè èññëåäóþò ìóðàâü¸â êàê â ëàáîðàòîð...   \n",
       "2  Âîëíîâàÿ: ñâåò ïðåäñòàâëÿåò ñîáîé âîëíó â íåâè...   \n",
       "3  Æèâûå îðãàíèçìû ïîä÷èíÿþòñÿ íà÷àëàì òåðìîäèíàì...   \n",
       "4  Ôàéëû íåëàòèíñêîãî òåêñòà â Þíèêîäå âñåãäà çàí...   \n",
       "\n",
       "                                            question  \\\n",
       "0  Â êàêîé ìèôîëîãèè äâà âîðîíà Õóãèí è Ìóíèí øåï...   \n",
       "1  Êîãäà èíñàéäåð ïîêóïàåò èëè ãèïîòåçû ÷åãî ýâîë...   \n",
       "2  Êàêèå ïðåäïîëîæåíèÿ, ïî ìíåíèþ Íüþòîíà, äîïóñò...   \n",
       "3  Â êàêèõ óñëîâèÿõ ìåòàáîëèçì ïîääåðæèâàåò ïîðÿä...   \n",
       "4  Êàêèì ìåëîäèÿì Ïðîêîôüåâà îñîáåííî íå óêëàäûâà...   \n",
       "\n",
       "                                          list_ratio  \\\n",
       "0  [0.25, 0.17964, 0.16162, 0.02597, 0.1641, 0.13...   \n",
       "1  [0.18265, 0.24409, 0.33696, 0.23077, 0.21017, ...   \n",
       "2                        [0.23077, 0.17634, 0.33113]   \n",
       "3  [0.32558, 0.29412, 0.17391, 0.27673, 0.33333, ...   \n",
       "4                        [0.02812, 0.02824, 0.00893]   \n",
       "\n",
       "                           list_intersections  len_paragraph  len_question  \\\n",
       "0  [0, 0, 2, 0, 1, 0, 1, 3, 0, 0, 0, 0, 0, 0]          113.0          14.0   \n",
       "1                          [0, 0, 5, 0, 0, 0]           79.0          11.0   \n",
       "2                                   [1, 3, 1]           63.0          12.0   \n",
       "3                          [0, 0, 0, 1, 1, 9]           89.0          10.0   \n",
       "4                                   [8, 4, 4]           86.0          24.0   \n",
       "\n",
       "   len_intersection  min_ratio  max_ratio  std_ratio  mean_ratio  \\\n",
       "0               3.0    0.00000    0.29834   0.090838    0.153921   \n",
       "1               5.0    0.18265    0.33696   0.048354    0.237508   \n",
       "2               3.0    0.17634    0.33113   0.064113    0.246080   \n",
       "3               9.0    0.17391    0.89820   0.235975    0.383645   \n",
       "4              11.0    0.00893    0.02824   0.009075    0.021763   \n",
       "\n",
       "   num_sentences  min_inter  max_inter  prediction  \n",
       "0           14.0        0.0        3.0         0.0  \n",
       "1            6.0        0.0        5.0         1.0  \n",
       "2            3.0        1.0        3.0         0.0  \n",
       "3            6.0        0.0        9.0         1.0  \n",
       "4            3.0        4.0        8.0         0.0  "
      ]
     },
     "execution_count": 212,
     "metadata": {},
     "output_type": "execute_result"
    }
   ],
   "source": [
    "testf.head()"
   ]
  },
  {
   "cell_type": "markdown",
   "metadata": {},
   "source": [
    "## Logistic Regression (unbalanced classes)"
   ]
  },
  {
   "cell_type": "code",
   "execution_count": 168,
   "metadata": {
    "collapsed": true
   },
   "outputs": [],
   "source": [
    "model_name = 'LogReg'"
   ]
  },
  {
   "cell_type": "code",
   "execution_count": 171,
   "metadata": {
    "collapsed": true
   },
   "outputs": [],
   "source": [
    "from sklearn.linear_model import LogisticRegression\n",
    "\n",
    "balance_weight = 1.9029031375766812\n",
    "lr = LogisticRegression(class_weight={0: 1, 1: balance_weight})\n",
    "#\n",
    "lr.fit(trainf[columns],trainf['target'])\n",
    "testf['prediction'] = lr.predict(testf[columns])"
   ]
  },
  {
   "cell_type": "code",
   "execution_count": null,
   "metadata": {
    "collapsed": true
   },
   "outputs": [],
   "source": [
    "feat_importance(lr, columns)"
   ]
  },
  {
   "cell_type": "code",
   "execution_count": 172,
   "metadata": {},
   "outputs": [
    {
     "name": "stdout",
     "output_type": "stream",
     "text": [
      "1.5704598138601529\n"
     ]
    }
   ],
   "source": [
    "print(testf[testf['prediction'] == 0].shape[0]/testf[testf['prediction'] == 1].shape[0])\n",
    "balance_weight = testf[testf['prediction'] == 0].shape[0]/testf[testf['prediction'] == 1].shape[0]"
   ]
  },
  {
   "cell_type": "code",
   "execution_count": 49,
   "metadata": {},
   "outputs": [
    {
     "name": "stdout",
     "output_type": "stream",
     "text": [
      "---------- max_inter > 15.0 ----------\n"
     ]
    },
    {
     "data": {
      "text/plain": [
       "1.0    303\n",
       "0.0     34\n",
       "Name: prediction, dtype: int64"
      ]
     },
     "execution_count": 49,
     "metadata": {},
     "output_type": "execute_result"
    }
   ],
   "source": [
    "print('-'*10,'max_inter > 15.0', '-'*10)\n",
    "testf[testf.max_inter > 15.0]['prediction'].value_counts()"
   ]
  },
  {
   "cell_type": "code",
   "execution_count": 43,
   "metadata": {},
   "outputs": [
    {
     "data": {
      "text/plain": [
       "1.0    303\n",
       "0.0     34\n",
       "Name: prediction, dtype: int64"
      ]
     },
     "execution_count": 43,
     "metadata": {},
     "output_type": "execute_result"
    }
   ],
   "source": []
  },
  {
   "cell_type": "code",
   "execution_count": 44,
   "metadata": {},
   "outputs": [
    {
     "data": {
      "text/plain": [
       "1.0    33\n",
       "0.0    13\n",
       "Name: prediction, dtype: int64"
      ]
     },
     "execution_count": 44,
     "metadata": {},
     "output_type": "execute_result"
    }
   ],
   "source": [
    "testf[testf.min_inter > 10.0]['prediction'].value_counts()"
   ]
  },
  {
   "cell_type": "code",
   "execution_count": 45,
   "metadata": {},
   "outputs": [
    {
     "data": {
      "text/plain": [
       "0.0    396\n",
       "1.0    195\n",
       "Name: prediction, dtype: int64"
      ]
     },
     "execution_count": 45,
     "metadata": {},
     "output_type": "execute_result"
    }
   ],
   "source": [
    "testf[testf.mean_ratio < 0.02]['prediction'].value_counts()"
   ]
  },
  {
   "cell_type": "code",
   "execution_count": 272,
   "metadata": {
    "collapsed": true
   },
   "outputs": [],
   "source": [
    "submit(testf['prediction'],model_name)"
   ]
  },
  {
   "cell_type": "markdown",
   "metadata": {},
   "source": [
    "# XGBoost"
   ]
  },
  {
   "cell_type": "code",
   "execution_count": 48,
   "metadata": {
    "collapsed": true
   },
   "outputs": [],
   "source": [
    "columns = ['len_paragraph', \n",
    "           'len_question',\n",
    "           'len_intersection',\n",
    "           'min_ratio',\n",
    "           'max_ratio',\n",
    "           'std_ratio',\n",
    "           'mean_ratio',\n",
    "           'num_sentences',\n",
    "           'min_inter',\n",
    "           'max_inter',\n",
    "           'cos_dist'\n",
    "           ]"
   ]
  },
  {
   "cell_type": "code",
   "execution_count": 49,
   "metadata": {},
   "outputs": [
    {
     "name": "stdout",
     "output_type": "stream",
     "text": [
      "(119398, 11) (74294, 11)\n"
     ]
    }
   ],
   "source": [
    "print(trainf[columns].shape, testf[columns].shape)"
   ]
  },
  {
   "cell_type": "code",
   "execution_count": 110,
   "metadata": {},
   "outputs": [
    {
     "name": "stdout",
     "output_type": "stream",
     "text": [
      "[0]\ttrain-auc:0.98961\ttrain(test)-auc:0.989126\n",
      "Multiple eval metrics have been passed: 'train(test)-auc' will be used for early stopping.\n",
      "\n",
      "Will train until train(test)-auc hasn't improved in 100 rounds.\n",
      "[100]\ttrain-auc:0.995621\ttrain(test)-auc:0.995256\n",
      "[200]\ttrain-auc:0.996399\ttrain(test)-auc:0.995955\n",
      "[300]\ttrain-auc:0.996779\ttrain(test)-auc:0.996224\n",
      "[400]\ttrain-auc:0.997041\ttrain(test)-auc:0.996429\n",
      "[500]\ttrain-auc:0.997231\ttrain(test)-auc:0.99652\n",
      "[600]\ttrain-auc:0.997388\ttrain(test)-auc:0.996576\n",
      "[700]\ttrain-auc:0.997525\ttrain(test)-auc:0.996613\n",
      "[800]\ttrain-auc:0.99764\ttrain(test)-auc:0.996643\n",
      "[900]\ttrain-auc:0.997759\ttrain(test)-auc:0.996669\n",
      "[1000]\ttrain-auc:0.997859\ttrain(test)-auc:0.996681\n",
      "[1100]\ttrain-auc:0.997961\ttrain(test)-auc:0.996697\n",
      "[1200]\ttrain-auc:0.998048\ttrain(test)-auc:0.996707\n",
      "[1300]\ttrain-auc:0.998137\ttrain(test)-auc:0.996716\n",
      "[1400]\ttrain-auc:0.99821\ttrain(test)-auc:0.996726\n",
      "[1500]\ttrain-auc:0.998303\ttrain(test)-auc:0.99674\n",
      "[1600]\ttrain-auc:0.998387\ttrain(test)-auc:0.996761\n",
      "[1700]\ttrain-auc:0.998456\ttrain(test)-auc:0.996766\n",
      "Stopping. Best iteration:\n",
      "[1674]\ttrain-auc:0.998442\ttrain(test)-auc:0.996767\n",
      "\n",
      "Wall time: 12min 20s\n"
     ]
    }
   ],
   "source": [
    "import xgboost as xgb\n",
    "\n",
    "params ={\n",
    "        'eta':0.02,\n",
    "        'n_estimators': 2000,\n",
    "        'max_depth': 5,\n",
    "        'objective': 'binary:logistic',\n",
    "        'eval_metric': 'auc'\n",
    "        }\n",
    "\n",
    "from sklearn.model_selection import train_test_split\n",
    "X_train, X_valid, y_train, y_valid = train_test_split(trainf[columns], trainf['target'], test_size=0.2)\n",
    "\n",
    "do_validation = True\n",
    "\n",
    "if do_validation:\n",
    "    dtrain = xgb.DMatrix(X_train[columns], label = y_train)\n",
    "    dvalid = xgb.DMatrix(X_valid[columns], label = y_valid)\n",
    "    watchlist = [(dtrain, 'train'), (dvalid, 'train(test)')]\n",
    "else:\n",
    "    dtrain = xgb.DMatrix(X_train[columns], label = y_train)\n",
    "    watchlist = [(dtrain, 'train')]\n",
    "\n",
    "%time xgb_model = xgb.train(params = params, dtrain = dtrain, evals=watchlist, num_boost_round = params['n_estimators'], verbose_eval=100, early_stopping_rounds=100)\n",
    "\n",
    "dtest = xgb.DMatrix(testf[columns])\n",
    "#preds = xgb_model.predict(dtest)\n",
    "\n",
    "testf['prediction'] = xgb_model.predict(dtest,ntree_limit=xgb_model.best_iteration)"
   ]
  },
  {
   "cell_type": "code",
   "execution_count": 129,
   "metadata": {},
   "outputs": [],
   "source": [
    "#testf.head()"
   ]
  },
  {
   "cell_type": "code",
   "execution_count": 123,
   "metadata": {},
   "outputs": [
    {
     "data": {
      "text/html": [
       "<div>\n",
       "<table border=\"1\" class=\"dataframe\">\n",
       "  <thead>\n",
       "    <tr style=\"text-align: right;\">\n",
       "      <th></th>\n",
       "      <th>split_counts</th>\n",
       "      <th>variable</th>\n",
       "      <th>importance</th>\n",
       "    </tr>\n",
       "  </thead>\n",
       "  <tbody>\n",
       "    <tr>\n",
       "      <th>7</th>\n",
       "      <td>5554</td>\n",
       "      <td>cos_dist</td>\n",
       "      <td>0.161458</td>\n",
       "    </tr>\n",
       "    <tr>\n",
       "      <th>0</th>\n",
       "      <td>4825</td>\n",
       "      <td>len_paragraph</td>\n",
       "      <td>0.140266</td>\n",
       "    </tr>\n",
       "    <tr>\n",
       "      <th>4</th>\n",
       "      <td>3792</td>\n",
       "      <td>mean_ratio</td>\n",
       "      <td>0.110236</td>\n",
       "    </tr>\n",
       "    <tr>\n",
       "      <th>2</th>\n",
       "      <td>3502</td>\n",
       "      <td>min_ratio</td>\n",
       "      <td>0.101805</td>\n",
       "    </tr>\n",
       "    <tr>\n",
       "      <th>8</th>\n",
       "      <td>3479</td>\n",
       "      <td>len_question</td>\n",
       "      <td>0.101137</td>\n",
       "    </tr>\n",
       "    <tr>\n",
       "      <th>5</th>\n",
       "      <td>3336</td>\n",
       "      <td>std_ratio</td>\n",
       "      <td>0.096980</td>\n",
       "    </tr>\n",
       "    <tr>\n",
       "      <th>10</th>\n",
       "      <td>2954</td>\n",
       "      <td>max_ratio</td>\n",
       "      <td>0.085875</td>\n",
       "    </tr>\n",
       "    <tr>\n",
       "      <th>9</th>\n",
       "      <td>2410</td>\n",
       "      <td>len_intersection</td>\n",
       "      <td>0.070060</td>\n",
       "    </tr>\n",
       "    <tr>\n",
       "      <th>3</th>\n",
       "      <td>2227</td>\n",
       "      <td>num_sentences</td>\n",
       "      <td>0.064740</td>\n",
       "    </tr>\n",
       "    <tr>\n",
       "      <th>6</th>\n",
       "      <td>1690</td>\n",
       "      <td>max_inter</td>\n",
       "      <td>0.049129</td>\n",
       "    </tr>\n",
       "    <tr>\n",
       "      <th>1</th>\n",
       "      <td>630</td>\n",
       "      <td>min_inter</td>\n",
       "      <td>0.018314</td>\n",
       "    </tr>\n",
       "  </tbody>\n",
       "</table>\n",
       "</div>"
      ],
      "text/plain": [
       "    split_counts          variable  importance\n",
       "7           5554          cos_dist    0.161458\n",
       "0           4825     len_paragraph    0.140266\n",
       "4           3792        mean_ratio    0.110236\n",
       "2           3502         min_ratio    0.101805\n",
       "8           3479      len_question    0.101137\n",
       "5           3336         std_ratio    0.096980\n",
       "10          2954         max_ratio    0.085875\n",
       "9           2410  len_intersection    0.070060\n",
       "3           2227     num_sentences    0.064740\n",
       "6           1690         max_inter    0.049129\n",
       "1            630         min_inter    0.018314"
      ]
     },
     "execution_count": 123,
     "metadata": {},
     "output_type": "execute_result"
    }
   ],
   "source": [
    "par = []\n",
    "score = []\n",
    "for k in xgb_model.get_fscore():\n",
    "    par.append(k)\n",
    "    score.append(xgb_model.get_fscore()[k])\n",
    "res = pd.DataFrame({'variable':par,'split_counts':score})\n",
    "res['importance'] = res['split_counts']/res['split_counts'].sum()\n",
    "res.sort_values(by='importance',ascending=False)"
   ]
  },
  {
   "cell_type": "code",
   "execution_count": 118,
   "metadata": {},
   "outputs": [
    {
     "name": "stdout",
     "output_type": "stream",
     "text": [
      "1.4464567966280295\n"
     ]
    }
   ],
   "source": [
    "print(testf[testf['prediction'] < 0.5].shape[0]/testf[testf['prediction'] > 0.5].shape[0])"
   ]
  },
  {
   "cell_type": "code",
   "execution_count": 116,
   "metadata": {},
   "outputs": [],
   "source": [
    "submit(testf['prediction'],'XGB2000')"
   ]
  },
  {
   "cell_type": "markdown",
   "metadata": {
    "collapsed": true
   },
   "source": [
    "# Check"
   ]
  },
  {
   "cell_type": "code",
   "execution_count": 80,
   "metadata": {},
   "outputs": [
    {
     "name": "stdout",
     "output_type": "stream",
     "text": [
      "---------- min_ratio > 0.4 ----------\n"
     ]
    },
    {
     "data": {
      "text/plain": [
       "0.0    16\n",
       "Name: prediction, dtype: int64"
      ]
     },
     "execution_count": 80,
     "metadata": {},
     "output_type": "execute_result"
    }
   ],
   "source": [
    "print('-'*10,'min_ratio > 0.4', '-'*10)\n",
    "testf[testf.min_ratio>0.4]['prediction'].value_counts()"
   ]
  },
  {
   "cell_type": "code",
   "execution_count": 79,
   "metadata": {},
   "outputs": [
    {
     "name": "stdout",
     "output_type": "stream",
     "text": [
      "---------- max_ratio > 0.9 ----------\n"
     ]
    },
    {
     "data": {
      "text/plain": [
       "0.0    231\n",
       "Name: prediction, dtype: int64"
      ]
     },
     "execution_count": 79,
     "metadata": {},
     "output_type": "execute_result"
    }
   ],
   "source": [
    "print('-'*10,'max_ratio > 0.9', '-'*10)\n",
    "testf[testf.max_ratio > 0.9]['prediction'].value_counts()"
   ]
  },
  {
   "cell_type": "code",
   "execution_count": 43,
   "metadata": {},
   "outputs": [
    {
     "name": "stdout",
     "output_type": "stream",
     "text": [
      "---------- max_ratio < 0.15 ----------\n"
     ]
    },
    {
     "ename": "NameError",
     "evalue": "name 'testf' is not defined",
     "output_type": "error",
     "traceback": [
      "\u001b[1;31m---------------------------------------------------------------------------\u001b[0m",
      "\u001b[1;31mNameError\u001b[0m                                 Traceback (most recent call last)",
      "\u001b[1;32m<ipython-input-43-194a1c6f3d90>\u001b[0m in \u001b[0;36m<module>\u001b[1;34m()\u001b[0m\n\u001b[0;32m      1\u001b[0m \u001b[0mprint\u001b[0m\u001b[1;33m(\u001b[0m\u001b[1;34m'-'\u001b[0m\u001b[1;33m*\u001b[0m\u001b[1;36m10\u001b[0m\u001b[1;33m,\u001b[0m\u001b[1;34m'max_ratio < 0.15'\u001b[0m\u001b[1;33m,\u001b[0m \u001b[1;34m'-'\u001b[0m\u001b[1;33m*\u001b[0m\u001b[1;36m10\u001b[0m\u001b[1;33m)\u001b[0m\u001b[1;33m\u001b[0m\u001b[0m\n\u001b[1;32m----> 2\u001b[1;33m \u001b[0mtestf\u001b[0m\u001b[1;33m[\u001b[0m\u001b[0mtestf\u001b[0m\u001b[1;33m.\u001b[0m\u001b[0mmax_ratio\u001b[0m \u001b[1;33m<\u001b[0m \u001b[1;36m0.15\u001b[0m\u001b[1;33m]\u001b[0m\u001b[1;33m[\u001b[0m\u001b[1;34m'prediction'\u001b[0m\u001b[1;33m]\u001b[0m\u001b[1;33m.\u001b[0m\u001b[0mvalue_counts\u001b[0m\u001b[1;33m(\u001b[0m\u001b[1;33m)\u001b[0m\u001b[1;33m\u001b[0m\u001b[0m\n\u001b[0m",
      "\u001b[1;31mNameError\u001b[0m: name 'testf' is not defined"
     ]
    }
   ],
   "source": [
    "print('-'*10,'max_ratio < 0.15', '-'*10)\n",
    "testf[testf.max_ratio < 0.15]['prediction'].value_counts()"
   ]
  },
  {
   "cell_type": "code",
   "execution_count": 83,
   "metadata": {},
   "outputs": [
    {
     "name": "stdout",
     "output_type": "stream",
     "text": [
      "---------- std_ratio > 0.3 ----------\n"
     ]
    },
    {
     "data": {
      "text/plain": [
       "0.0    102\n",
       "Name: prediction, dtype: int64"
      ]
     },
     "execution_count": 83,
     "metadata": {},
     "output_type": "execute_result"
    }
   ],
   "source": [
    "print('-'*10,'std_ratio > 0.3', '-'*10)\n",
    "testf[testf.std_ratio > 0.3]['prediction'].value_counts()"
   ]
  },
  {
   "cell_type": "code",
   "execution_count": 62,
   "metadata": {},
   "outputs": [
    {
     "name": "stdout",
     "output_type": "stream",
     "text": [
      "---------- mean_ratio > 0.5 ----------\n"
     ]
    },
    {
     "data": {
      "text/plain": [
       "1.0    18\n",
       "Name: prediction, dtype: int64"
      ]
     },
     "execution_count": 62,
     "metadata": {},
     "output_type": "execute_result"
    }
   ],
   "source": [
    "print('-'*10,'mean_ratio > 0.5', '-'*10)\n",
    "testf[testf.mean_ratio > 0.5]['prediction'].value_counts()"
   ]
  },
  {
   "cell_type": "code",
   "execution_count": 78,
   "metadata": {},
   "outputs": [
    {
     "name": "stdout",
     "output_type": "stream",
     "text": [
      "---------- mean_ratio < 0.15 ----------\n"
     ]
    },
    {
     "data": {
      "text/plain": [
       "1.0    8814\n",
       "0.0      86\n",
       "Name: prediction, dtype: int64"
      ]
     },
     "execution_count": 78,
     "metadata": {},
     "output_type": "execute_result"
    }
   ],
   "source": [
    "print('-'*10,'mean_ratio < 0.15', '-'*10)\n",
    "testf[testf.mean_ratio < 0.15]['prediction'].value_counts()"
   ]
  },
  {
   "cell_type": "code",
   "execution_count": 77,
   "metadata": {},
   "outputs": [
    {
     "name": "stdout",
     "output_type": "stream",
     "text": [
      "---------- min_inter > 10.0 ----------\n"
     ]
    },
    {
     "data": {
      "text/plain": [
       "0.0    46\n",
       "Name: prediction, dtype: int64"
      ]
     },
     "execution_count": 77,
     "metadata": {},
     "output_type": "execute_result"
    }
   ],
   "source": [
    "print('-'*10,'min_inter > 10.0', '-'*10)\n",
    "testf[testf.min_inter > 10.0]['prediction'].value_counts()"
   ]
  },
  {
   "cell_type": "code",
   "execution_count": 76,
   "metadata": {},
   "outputs": [
    {
     "name": "stdout",
     "output_type": "stream",
     "text": [
      "---------- max_inter > 15.0 ----------\n"
     ]
    },
    {
     "data": {
      "text/plain": [
       "0.0    337\n",
       "Name: prediction, dtype: int64"
      ]
     },
     "execution_count": 76,
     "metadata": {},
     "output_type": "execute_result"
    }
   ],
   "source": [
    "print('-'*10,'max_inter > 15.0', '-'*10)\n",
    "testf[testf.max_inter > 15.0]['prediction'].value_counts()"
   ]
  },
  {
   "cell_type": "code",
   "execution_count": 69,
   "metadata": {
    "collapsed": true
   },
   "outputs": [],
   "source": [
    "#testf.loc[testf.min_ratio>0.4, 'prediction'] # = 1.0 # ok"
   ]
  },
  {
   "cell_type": "code",
   "execution_count": 70,
   "metadata": {
    "collapsed": true
   },
   "outputs": [],
   "source": [
    "#testf.loc[testf.max_ratio>0.9, 'prediction'] # = 1.0 # >0.85? ok"
   ]
  },
  {
   "cell_type": "code",
   "execution_count": 71,
   "metadata": {
    "collapsed": true
   },
   "outputs": [],
   "source": [
    "#testf.loc[testf.max_ratio<0.15, 'prediction'] # = 0.0 # ok"
   ]
  },
  {
   "cell_type": "code",
   "execution_count": null,
   "metadata": {
    "collapsed": true
   },
   "outputs": [],
   "source": [
    "#testf.loc[testf.std_ratio>0.3, 'prediction'] # = 1.0 # ok"
   ]
  },
  {
   "cell_type": "code",
   "execution_count": null,
   "metadata": {
    "collapsed": true
   },
   "outputs": [],
   "source": [
    "#testf.loc[testf.mean_ratio>0.5, 'prediction'] # = 1.0 # ok"
   ]
  },
  {
   "cell_type": "code",
   "execution_count": null,
   "metadata": {
    "collapsed": true
   },
   "outputs": [],
   "source": [
    "#testf.loc[testf.mean_ratio<0.15, 'prediction'] # = 0.0 # ok"
   ]
  },
  {
   "cell_type": "code",
   "execution_count": null,
   "metadata": {
    "collapsed": true
   },
   "outputs": [],
   "source": [
    "#test.loc[test.num_sentences>50, 'prediction'] = 1.0 # not available for test dataset"
   ]
  },
  {
   "cell_type": "code",
   "execution_count": null,
   "metadata": {
    "collapsed": true
   },
   "outputs": [],
   "source": [
    "#testf.loc[testf.min_inter>10, 'prediction'] # = 1.0 # ok"
   ]
  },
  {
   "cell_type": "code",
   "execution_count": null,
   "metadata": {
    "collapsed": true
   },
   "outputs": [],
   "source": [
    "#testf.loc[testf.max_inter>15, 'prediction'] # = 1.0 # ok"
   ]
  },
  {
   "cell_type": "code",
   "execution_count": 74,
   "metadata": {
    "collapsed": true
   },
   "outputs": [],
   "source": [
    "def SetTargetToTest(test):\n",
    "    test.loc[test.min_ratio>0.4, 'prediction'] = float(int(1.0)^1) # ok\n",
    "    test.loc[test.max_ratio>0.9, 'prediction'] = float(int(1.0)^1) # >0.85? ok\n",
    "    test.loc[test.max_ratio<0.15, 'prediction'] = float(int(0.0)^1) # ok\n",
    "    test.loc[test.std_ratio>0.3, 'prediction'] = float(int(1.0)^1) # ok\n",
    "    test.loc[test.mean_ratio>0.5, 'prediction'] = float(int(1.0)^1) # ok\n",
    "    test.loc[test.mean_ratio<0.15, 'prediction'] = float(int(0.0)^1) # ok\n",
    "    #test.loc[test.num_sentences>50, 'prediction'] = 1.0)^1) # not available for test dataset\n",
    "    test.loc[test.min_inter>10, 'prediction'] = float(int(1.0)^1) # ok\n",
    "    test.loc[test.max_inter>15, 'prediction'] = float(int(1.0)^1) # ok"
   ]
  },
  {
   "cell_type": "code",
   "execution_count": 75,
   "metadata": {
    "collapsed": true
   },
   "outputs": [],
   "source": [
    "SetTargetToTest(testf)"
   ]
  },
  {
   "cell_type": "code",
   "execution_count": 173,
   "metadata": {
    "collapsed": true
   },
   "outputs": [],
   "source": [
    "submit(testf['prediction'],'LR_featset_cosdist')"
   ]
  },
  {
   "cell_type": "markdown",
   "metadata": {},
   "source": [
    "# Feature Importance"
   ]
  },
  {
   "cell_type": "code",
   "execution_count": 98,
   "metadata": {
    "collapsed": true
   },
   "outputs": [],
   "source": [
    "def feat_importance(model, columns):\n",
    "    features = pd.DataFrame()\n",
    "    features['feature'] = columns\n",
    "    features['importance'] = model.feature_importances_\n",
    "    features.sort_values(by=['importance'], ascending=True, inplace=True)\n",
    "    features.set_index('feature', inplace=True)\n",
    "    \n",
    "    features.plot(kind='barh', figsize=(20, 5))\n",
    "    plt.show()"
   ]
  },
  {
   "cell_type": "markdown",
   "metadata": {},
   "source": [
    "# Submit"
   ]
  },
  {
   "cell_type": "code",
   "execution_count": 97,
   "metadata": {
    "collapsed": true
   },
   "outputs": [],
   "source": [
    "def submit_inv(preds,model_name):\n",
    "    res_frame = pd.DataFrame({\"paragraph_id\": testf.paragraph_id,\n",
    "              \"question_id\": testf.question_id,\n",
    "              \"prediction\": list(map(lambda x: 1.0 if x==0.0 else 0.0, list(preds.values)))})\n",
    "    res_frame[['paragraph_id','question_id','prediction']].to_csv(\"PD_\"+model_name+\".csv\", index=False)"
   ]
  },
  {
   "cell_type": "code",
   "execution_count": 115,
   "metadata": {
    "collapsed": true
   },
   "outputs": [],
   "source": [
    "def submit(preds,model_name):\n",
    "    res_frame = pd.DataFrame({\"paragraph_id\": testf.paragraph_id,\n",
    "              \"question_id\": testf.question_id,\n",
    "              \"prediction\": preds.values})\n",
    "    res_frame[['paragraph_id','question_id','prediction']].to_csv(\"PD_\"+model_name+\".csv\", index=False)"
   ]
  },
  {
   "cell_type": "code",
   "execution_count": null,
   "metadata": {
    "collapsed": true
   },
   "outputs": [],
   "source": []
  }
 ],
 "metadata": {
  "anaconda-cloud": {},
  "kernelspec": {
   "display_name": "Python 3",
   "language": "python",
   "name": "python3"
  },
  "language_info": {
   "codemirror_mode": {
    "name": "ipython",
    "version": 3
   },
   "file_extension": ".py",
   "mimetype": "text/x-python",
   "name": "python",
   "nbconvert_exporter": "python",
   "pygments_lexer": "ipython3",
   "version": "3.5.2"
  }
 },
 "nbformat": 4,
 "nbformat_minor": 2
}
