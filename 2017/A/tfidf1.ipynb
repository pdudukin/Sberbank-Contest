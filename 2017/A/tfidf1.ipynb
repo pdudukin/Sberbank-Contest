{
 "cells": [
  {
   "cell_type": "code",
   "execution_count": 2,
   "metadata": {
    "collapsed": true
   },
   "outputs": [],
   "source": [
    "import pandas as pd\n",
    "import pymorphy2 as pm\n",
    "morph = pm.MorphAnalyzer()\n",
    "import ast\n",
    "from tqdm import tqdm_notebook\n",
    "\n",
    "import random\n",
    "from random import shuffle\n",
    "\n",
    "import matplotlib.pyplot as plt\n",
    "plt.style.use('bmh')\n",
    "import seaborn as sns\n",
    "\n",
    "import warnings\n",
    "warnings.filterwarnings(\"ignore\")\n",
    "\n",
    "import numpy as np\n",
    "import xgboost as xgb"
   ]
  },
  {
   "cell_type": "code",
   "execution_count": 3,
   "metadata": {
    "collapsed": true
   },
   "outputs": [],
   "source": [
    "matplotlib inline"
   ]
  },
  {
   "cell_type": "code",
   "execution_count": 4,
   "metadata": {
    "collapsed": true
   },
   "outputs": [],
   "source": [
    "dftrain, dftest = pd.read_csv(\"./trainTFIDF.csv\"), pd.read_csv(\"./testTFIDF.csv\")"
   ]
  },
  {
   "cell_type": "code",
   "execution_count": 6,
   "metadata": {
    "collapsed": true
   },
   "outputs": [],
   "source": [
    "from sklearn.metrics.pairwise import paired_cosine_distances"
   ]
  },
  {
   "cell_type": "code",
   "execution_count": 7,
   "metadata": {
    "collapsed": true
   },
   "outputs": [],
   "source": [
    "import nltk\n",
    "from sklearn.feature_extraction.text import CountVectorizer\n",
    "from sklearn.feature_extraction.text import TfidfTransformer\n",
    "from sklearn.feature_extraction.text import TfidfVectorizer\n",
    "from nltk.stem import SnowballStemmer \n",
    "from nltk.corpus import stopwords\n",
    "\n",
    "import string"
   ]
  },
  {
   "cell_type": "raw",
   "metadata": {},
   "source": [
    "dftest = dftest[['paragraph', 'paragraph_id', 'question',\n",
    "       'question_id', 'target', 'sent_paragraph', 'num_sent_paragraph',\n",
    "       'tokens_sent_paragraph', 'name_sent_paragraph', 'verb_sent_paragraph',\n",
    "       'latn_sent_paragraph', 'adj_sent_paragraph', 'noun_sent_paragraph',\n",
    "       'tokens_question_up', 'qw_nf_question_up', 'qw_question_up',\n",
    "       'qw_long_question_up', 'name_question_up', 'verb_question_up',\n",
    "       'latn_question_up', 'num_question_up', 'adj_question_up',\n",
    "       'noun_question_up', 'best_sent', 'len_inr', 'len_name', 'len_verb',\n",
    "       'len_latn', 'len_num', 'len_adj', 'len_noun',\n",
    "       'tokens_paragraph_up']]"
   ]
  },
  {
   "cell_type": "raw",
   "metadata": {
    "collapsed": true
   },
   "source": [
    "dftrain = dftrain[['paragraph', 'paragraph_id', 'question',\n",
    "       'question_id', 'target', 'sent_paragraph', 'num_sent_paragraph',\n",
    "       'tokens_sent_paragraph', 'name_sent_paragraph', 'verb_sent_paragraph',\n",
    "       'latn_sent_paragraph', 'adj_sent_paragraph', 'noun_sent_paragraph',\n",
    "       'tokens_question_up', 'qw_nf_question_up', 'qw_question_up',\n",
    "       'qw_long_question_up', 'name_question_up', 'verb_question_up',\n",
    "       'latn_question_up', 'num_question_up', 'adj_question_up',\n",
    "       'noun_question_up', 'best_sent', 'len_inr', 'len_name', 'len_verb',\n",
    "       'len_latn', 'len_num', 'len_adj', 'len_noun', \n",
    "       'tokens_paragraph_up']]"
   ]
  },
  {
   "cell_type": "code",
   "execution_count": 6,
   "metadata": {
    "collapsed": true
   },
   "outputs": [],
   "source": [
    "dftest = dftest.drop_duplicates()\n",
    "dftrain = dftrain.drop_duplicates()"
   ]
  },
  {
   "cell_type": "code",
   "execution_count": 7,
   "metadata": {},
   "outputs": [
    {
     "data": {
      "text/plain": [
       "(74290, 53)"
      ]
     },
     "execution_count": 7,
     "metadata": {},
     "output_type": "execute_result"
    }
   ],
   "source": [
    "dftest.shape"
   ]
  },
  {
   "cell_type": "code",
   "execution_count": 8,
   "metadata": {},
   "outputs": [
    {
     "data": {
      "text/plain": [
       "(119398, 52)"
      ]
     },
     "execution_count": 8,
     "metadata": {},
     "output_type": "execute_result"
    }
   ],
   "source": [
    "dftrain.shape"
   ]
  },
  {
   "cell_type": "code",
   "execution_count": 9,
   "metadata": {
    "collapsed": true
   },
   "outputs": [],
   "source": [
    "pdf=dftest.groupby(['question_id', 'paragraph_id']).agg({'paragraph_id': 'count'})"
   ]
  },
  {
   "cell_type": "code",
   "execution_count": 10,
   "metadata": {},
   "outputs": [
    {
     "data": {
      "text/html": [
       "<div>\n",
       "<style>\n",
       "    .dataframe thead tr:only-child th {\n",
       "        text-align: right;\n",
       "    }\n",
       "\n",
       "    .dataframe thead th {\n",
       "        text-align: left;\n",
       "    }\n",
       "\n",
       "    .dataframe tbody tr th {\n",
       "        vertical-align: top;\n",
       "    }\n",
       "</style>\n",
       "<table border=\"1\" class=\"dataframe\">\n",
       "  <thead>\n",
       "    <tr style=\"text-align: right;\">\n",
       "      <th></th>\n",
       "      <th></th>\n",
       "      <th>paragraph_id</th>\n",
       "    </tr>\n",
       "    <tr>\n",
       "      <th>question_id</th>\n",
       "      <th>paragraph_id</th>\n",
       "      <th></th>\n",
       "    </tr>\n",
       "  </thead>\n",
       "  <tbody>\n",
       "  </tbody>\n",
       "</table>\n",
       "</div>"
      ],
      "text/plain": [
       "Empty DataFrame\n",
       "Columns: [paragraph_id]\n",
       "Index: []"
      ]
     },
     "execution_count": 10,
     "metadata": {},
     "output_type": "execute_result"
    }
   ],
   "source": [
    "pdf[pdf['paragraph_id']>1]"
   ]
  },
  {
   "cell_type": "markdown",
   "metadata": {},
   "source": [
    "## Анализ вопросов в тесте "
   ]
  },
  {
   "cell_type": "code",
   "execution_count": 65,
   "metadata": {},
   "outputs": [
    {
     "data": {
      "application/vnd.jupyter.widget-view+json": {
       "model_id": "5ae37ac3480e46dda87869fe66d6141f"
      }
     },
     "metadata": {},
     "output_type": "display_data"
    },
    {
     "name": "stdout",
     "output_type": "stream",
     "text": [
      "\n"
     ]
    }
   ],
   "source": [
    "questions = dftest.question_id.unique()\n",
    "nums_list=[]\n",
    "for i in tqdm_notebook(questions, total=len(questions), desc= ' questions'):\n",
    "    length = dftest[dftest.question_id==i]['len_question'].values[0]\n",
    "    qw = dftest[dftest.question_id==i]['qw_question_up'].values[0]\n",
    "    verb = dftest[dftest.question_id==i]['verb_question_up'].values[0]\n",
    "    adj = dftest[dftest.question_id==i]['adj_question_up'].values[0]\n",
    "    noun = dftest[dftest.question_id==i]['noun_question_up'].values[0]\n",
    "    \n",
    "    nums_list.append([i, len(ast.literal_eval(qw))/length, \n",
    "            len(ast.literal_eval(verb))/length,\n",
    "            len(ast.literal_eval(adj))/length,\n",
    "            len(ast.literal_eval(noun))/length])"
   ]
  },
  {
   "cell_type": "code",
   "execution_count": 66,
   "metadata": {
    "collapsed": true
   },
   "outputs": [],
   "source": [
    "labels_q = ['question_id', 'qw_num', 'verb_num','adj_num','noun_num']\n",
    "dfnums = pd.DataFrame.from_records(nums_list, columns=labels_q)\n",
    "dftest = dftest.merge(dfnums, how = 'left', on=['question_id'])"
   ]
  },
  {
   "cell_type": "code",
   "execution_count": 23,
   "metadata": {},
   "outputs": [
    {
     "data": {
      "image/png": "[encoded data removed]",
      "text/plain": [
       "<matplotlib.figure.Figure at 0x11f02be80>"
      ]
     },
     "metadata": {},
     "output_type": "display_data"
    }
   ],
   "source": [
    "kwargs = dict(alpha=0.5, normed=True, bins=100)\n",
    "plt.hist(dftest[dftest['count_q']==1]['adj_num'], label = 'test', **kwargs)\n",
    "plt.hist(dftest[dftest['count_q']>1]['adj_num'], label = 'test>1', **kwargs)\n",
    "plt.legend(loc='upper left')\n",
    "plt.show()"
   ]
  },
  {
   "cell_type": "markdown",
   "metadata": {},
   "source": [
    "#### Частота по вопросам, параграфам "
   ]
  },
  {
   "cell_type": "code",
   "execution_count": null,
   "metadata": {
    "collapsed": true
   },
   "outputs": [],
   "source": [
    "test_question = dftest.groupby(['question']).agg({'paragraph_id': 'count'})\n",
    "test_question = pd.DataFrame({'question': test_question.index, 'count_q': test_question.paragraph_id})\n",
    "test_question['count_q'] = test_question['count_q'].astype(int)\n",
    "dftest = dftest.merge(test_question, how = 'left', on='question')"
   ]
  },
  {
   "cell_type": "code",
   "execution_count": null,
   "metadata": {
    "collapsed": true
   },
   "outputs": [],
   "source": [
    "test_par = dftest.groupby(['paragraph_id']).agg({'question_id': 'count'})\n",
    "test_par = pd.DataFrame({'paragraph_id': test_par.index, 'count_p': test_par.question_id})\n",
    "test_par['count_p'] = test_par['count_p'].astype(int)\n",
    "dftest = dftest.merge(test_par, how = 'left', on='paragraph_id')"
   ]
  },
  {
   "cell_type": "code",
   "execution_count": null,
   "metadata": {
    "collapsed": true
   },
   "outputs": [],
   "source": [
    "train_question = dftrain.groupby(['question']).agg({'paragraph_id': 'count'})\n",
    "train_question = pd.DataFrame({'question': train_question.index, 'count_q': train_question.paragraph_id})\n",
    "train_question['count_q'] = train_question['count_q'].astype(int)\n",
    "dftrain = dftrain.merge(train_question, how = 'left', on='question')"
   ]
  },
  {
   "cell_type": "code",
   "execution_count": null,
   "metadata": {
    "collapsed": true
   },
   "outputs": [],
   "source": [
    "train_par = dftrain.groupby(['paragraph_id']).agg({'question_id': 'count'})\n",
    "train_par = pd.DataFrame({'paragraph_id': train_par.index, 'count_p': train_par.question_id})\n",
    "train_par['count_p'] = train_par['count_p'].astype(int)\n",
    "dftrain = dftrain.merge(train_par, how = 'left', on='paragraph_id')"
   ]
  },
  {
   "cell_type": "markdown",
   "metadata": {},
   "source": [
    "#### TDIDF (по всем параграфам вопроса) "
   ]
  },
  {
   "cell_type": "code",
   "execution_count": null,
   "metadata": {
    "collapsed": true
   },
   "outputs": [],
   "source": [
    "questions_test = dftest.question_id.unique()"
   ]
  },
  {
   "cell_type": "code",
   "execution_count": null,
   "metadata": {
    "collapsed": true
   },
   "outputs": [],
   "source": [
    "questions_train = dftrain.question_id.unique()"
   ]
  },
  {
   "cell_type": "code",
   "execution_count": null,
   "metadata": {
    "collapsed": true
   },
   "outputs": [],
   "source": [
    "for name, qlist, df in [('train', questions_train, dftrain), ('test', questions_test, dftest)]: \n",
    "    pair_list=[]\n",
    "    best_list=[]\n",
    "    \n",
    "    for i in tqdm_notebook(qlist, total=len(qlist), desc= name + ' questions'):\n",
    "        scores=[]\n",
    "        par_ids=list(df[df['question_id']==i]['paragraph_id'].unique())\n",
    "        texts = list(df[df['question_id']==i]['tokens_paragraph_up'].unique())+\\\n",
    "        list(df[df['question_id']==i]['tokens_question_up'].unique())\n",
    "        #print(texts)\n",
    "        tfidf = TfidfVectorizer()\n",
    "        tfidf_matrix=tfidf.fit_transform(texts)\n",
    "        qvec = tfidf_matrix[len(texts)-1]\n",
    "        for n, t in enumerate(texts):\n",
    "            if n!=len(texts)-1:\n",
    "                par=par_ids[n]\n",
    "                svec = tfidf_matrix[n]\n",
    "                score=float(paired_cosine_distances(svec,qvec))\n",
    "                scores.append(score)\n",
    "                pair_list.append([i, par, score])\n",
    "            else:\n",
    "                pass\n",
    "        imin=np.argmin(scores)\n",
    "        best_list.append([i, par_ids[imin], scores[imin]])\n",
    "               \n",
    "        \n",
    "    labels = ['question_id', 'paragraph_id', 'score']\n",
    "    labels_best = ['question_id', 'best_paragraph', 'best_score']\n",
    "    dfscores = pd.DataFrame.from_records(pair_list, columns=labels)\n",
    "    dfbest = pd.DataFrame.from_records(best_list, columns=labels_best)\n",
    "    if name=='train':\n",
    "        dftrain = dftrain.merge(dfscores, how = 'left', on=['question_id','paragraph_id'])\n",
    "        dftrain = dftrain.merge(dfbest, how = 'left', on=['question_id'])\n",
    "    else:\n",
    "        dftest = dftest.merge(dfscores, how = 'left', on=['question_id','paragraph_id'])\n",
    "        dftest = dftest.merge(dfbest, how = 'left', on=['question_id'])"
   ]
  },
  {
   "cell_type": "code",
   "execution_count": null,
   "metadata": {
    "collapsed": true
   },
   "outputs": [],
   "source": [
    "dftest.shape"
   ]
  },
  {
   "cell_type": "code",
   "execution_count": null,
   "metadata": {
    "collapsed": true
   },
   "outputs": [],
   "source": [
    "dftrain.shape"
   ]
  },
  {
   "cell_type": "markdown",
   "metadata": {},
   "source": [
    "# "
   ]
  },
  {
   "cell_type": "code",
   "execution_count": null,
   "metadata": {
    "collapsed": true
   },
   "outputs": [],
   "source": [
    "questions_test = dftest.question_id.unique()"
   ]
  },
  {
   "cell_type": "code",
   "execution_count": null,
   "metadata": {
    "collapsed": true
   },
   "outputs": [],
   "source": [
    "questions_train = dftrain.question_id.unique()"
   ]
  },
  {
   "cell_type": "code",
   "execution_count": null,
   "metadata": {
    "collapsed": true
   },
   "outputs": [],
   "source": [
    "for name, qlist, df in [('train', questions_train, dftrain), ('test', questions_test, dftest)]: \n",
    "    pair_list=[]\n",
    "    best_list=[]\n",
    "    \n",
    "    for i in tqdm_notebook(qlist, total=len(qlist), desc= name + ' questions'):\n",
    "        scores=[]\n",
    "        par_ids=list(df[df['question_id']==i]['paragraph_id'].unique())\n",
    "        texts = list(df[df['question_id']==i]['tokens_paragraph_up'].unique())+\\\n",
    "        list(df[df['question_id']==i]['tokens_question_up'].unique())\n",
    "        #print(texts)\n",
    "        tfidf = TfidfVectorizer()\n",
    "        tfidf_matrix=tfidf.fit_transform(texts)\n",
    "        qvec = tfidf_matrix[len(texts)-1]\n",
    "        for n, t in enumerate(texts):\n",
    "            if n!=len(texts)-1:\n",
    "                par=par_ids[n]\n",
    "                svec = tfidf_matrix[n]\n",
    "                score=float(paired_cosine_distances(svec,qvec))\n",
    "                scores.append(score)\n",
    "                pair_list.append([i, par, score])\n",
    "            else:\n",
    "                pass\n",
    "        imin=np.argmin(scores)\n",
    "        best_list.append([i, par_ids[imin], scores[imin]])\n",
    "               \n",
    "        \n",
    "    labels = ['question_id', 'paragraph_id', 'score']\n",
    "    labels_best = ['question_id', 'best_paragraph', 'best_score']\n",
    "    dfscores = pd.DataFrame.from_records(pair_list, columns=labels)\n",
    "    dfbest = pd.DataFrame.from_records(best_list, columns=labels_best)\n",
    "    if name=='train':\n",
    "        dftrain = dftrain.merge(dfscores, how = 'left', on=['question_id','paragraph_id'])\n",
    "        dftrain = dftrain.merge(dfbest, how = 'left', on=['question_id'])\n",
    "    else:\n",
    "        dftest = dftest.merge(dfscores, how = 'left', on=['question_id','paragraph_id'])\n",
    "        dftest = dftest.merge(dfbest, how = 'left', on=['question_id'])"
   ]
  },
  {
   "cell_type": "code",
   "execution_count": null,
   "metadata": {
    "collapsed": true
   },
   "outputs": [],
   "source": [
    "dftest.shape"
   ]
  },
  {
   "cell_type": "code",
   "execution_count": null,
   "metadata": {
    "collapsed": true
   },
   "outputs": [],
   "source": [
    "dftrain.shape"
   ]
  },
  {
   "cell_type": "markdown",
   "metadata": {},
   "source": [
    "#### TDIDF (по всем вопросам параграфа) "
   ]
  },
  {
   "cell_type": "code",
   "execution_count": null,
   "metadata": {
    "collapsed": true
   },
   "outputs": [],
   "source": [
    "par_test = dftest.paragraph_id.unique()\n",
    "par_train = dftrain.paragraph_id.unique()"
   ]
  },
  {
   "cell_type": "code",
   "execution_count": null,
   "metadata": {
    "collapsed": true
   },
   "outputs": [],
   "source": [
    "for name, plist, df in [('train', par_train, dftrain), ('test', par_test, dftest)]: \n",
    "    pair_list=[]\n",
    "    best_list=[]\n",
    "    \n",
    "    for i in tqdm_notebook(plist, total=len(plist), desc= name + ' paragraphs'):\n",
    "        scores=[]\n",
    "        q_ids=list(df[df['paragraph_id']==i]['question_id'].unique())\n",
    "        texts = list(df[df['paragraph_id']==i]['tokens_question_up'].unique())+\\\n",
    "        list(df[df['paragraph_id']==i]['tokens_paragraph_up'].unique())\n",
    "        tfidf = TfidfVectorizer()\n",
    "        tfidf_matrix=tfidf.fit_transform(texts)\n",
    "        pvec = tfidf_matrix[len(texts)-1]\n",
    "        for n, t in enumerate(texts):\n",
    "            if n!=len(texts)-1:\n",
    "                quest=q_ids[n]\n",
    "                svec = tfidf_matrix[n]\n",
    "                score=float(paired_cosine_distances(svec,pvec))\n",
    "                scores.append(score)\n",
    "                pair_list.append([i, quest, score])\n",
    "            else:\n",
    "                pass\n",
    "        imin=np.argmin(scores)\n",
    "        best_list.append([i, q_ids[imin], scores[imin]])\n",
    "               \n",
    "        \n",
    "    labels = ['paragraph_id', 'question_id', 'score1']\n",
    "    labels_best = ['paragraph_id', 'best_question', 'best_score1']\n",
    "    dfscores = pd.DataFrame.from_records(pair_list, columns=labels)\n",
    "    dfbest = pd.DataFrame.from_records(best_list, columns=labels_best)\n",
    "    if name=='train':\n",
    "        dftrain = dftrain.merge(dfscores, how = 'left', on=['question_id','paragraph_id'])\n",
    "        dftrain = dftrain.merge(dfbest, how = 'left', on=['paragraph_id'])\n",
    "    else:\n",
    "        dftest = dftest.merge(dfscores, how = 'left', on=['question_id','paragraph_id'])\n",
    "        dftest = dftest.merge(dfbest, how = 'left', on=['paragraph_id'])"
   ]
  },
  {
   "cell_type": "code",
   "execution_count": null,
   "metadata": {
    "collapsed": true
   },
   "outputs": [],
   "source": [
    "dftrain = dftrain.fillna(-1)\n",
    "dftest = dftest.fillna(-1)"
   ]
  },
  {
   "cell_type": "code",
   "execution_count": null,
   "metadata": {
    "collapsed": true
   },
   "outputs": [],
   "source": [
    "dftrain['dist'] = dftrain['score']-dftrain['best_score']\n",
    "dftest['dist'] = dftest['score']-dftest['best_score']"
   ]
  },
  {
   "cell_type": "code",
   "execution_count": null,
   "metadata": {
    "collapsed": true
   },
   "outputs": [],
   "source": [
    "dftrain['dist1'] = dftrain['score1']-dftrain['best_score1']\n",
    "dftest['dist1'] = dftest['score1']-dftest['best_score1']"
   ]
  },
  {
   "cell_type": "code",
   "execution_count": null,
   "metadata": {
    "collapsed": true
   },
   "outputs": [],
   "source": [
    "dftest.shape"
   ]
  },
  {
   "cell_type": "code",
   "execution_count": null,
   "metadata": {
    "collapsed": true
   },
   "outputs": [],
   "source": [
    "dftrain.shape"
   ]
  },
  {
   "cell_type": "code",
   "execution_count": null,
   "metadata": {
    "collapsed": true
   },
   "outputs": [],
   "source": [
    "#del dftrain['score_x']\n",
    "#del dftrain['score_y']\n",
    "#del dftest['score_x']\n",
    "#del dftest['score_y']"
   ]
  },
  {
   "cell_type": "markdown",
   "metadata": {},
   "source": [
    "#### Похожесть слов внутри вопроса (word2vec)"
   ]
  },
  {
   "cell_type": "code",
   "execution_count": 52,
   "metadata": {
    "scrolled": true
   },
   "outputs": [
    {
     "name": "stderr",
     "output_type": "stream",
     "text": [
      "/Users/annavozmishcheva/anaconda/lib/python3.6/site-packages/scipy/sparse/sparsetools.py:20: DeprecationWarning: `scipy.sparse.sparsetools` is deprecated!\n",
      "scipy.sparse.sparsetools is a private module for scipy.sparse, and should not be used.\n",
      "  _deprecated()\n"
     ]
    }
   ],
   "source": [
    "from gensim.models import KeyedVectors\n",
    "from gensim.models import Word2Vec"
   ]
  },
  {
   "cell_type": "code",
   "execution_count": 53,
   "metadata": {
    "collapsed": true
   },
   "outputs": [],
   "source": [
    "model = KeyedVectors.load_word2vec_format('./ruwikiruscorpora_0_300_20.bin', binary=True)"
   ]
  },
  {
   "cell_type": "code",
   "execution_count": 54,
   "metadata": {},
   "outputs": [
    {
     "data": {
      "application/vnd.jupyter.widget-view+json": {
       "model_id": "37a5e34b49fb41f28a6ee33b63f1275a"
      }
     },
     "metadata": {},
     "output_type": "display_data"
    },
    {
     "name": "stdout",
     "output_type": "stream",
     "text": [
      "\n"
     ]
    }
   ],
   "source": [
    "pos = list(['_NOUN', '_ADJ', '_VERB', '_ADV', '_INTJ', '_ADP', '_PART', '_NUM', '_DET', '_PRON'])\n",
    "for key in tqdm_notebook(model.vocab.keys(), total=len(model.vocab.keys()), desc= ''):\n",
    "    for p in pos:\n",
    "        if key.endswith(p):\n",
    "            repl = key.replace(p,'')\n",
    "            #print(repl)\n",
    "    if repl not in model.vocab.keys():\n",
    "        model.vocab[repl] = model.vocab.pop(key)\n",
    "    else:\n",
    "        pass"
   ]
  },
  {
   "cell_type": "code",
   "execution_count": null,
   "metadata": {
    "collapsed": true
   },
   "outputs": [],
   "source": [
    "for name, df in [('train', dftrain), ('test', dftest)]: \n",
    "    for index, row in tqdm_notebook(df.iterrows(), total=df.shape[0], desc= name + ' questions'):\n",
    "        scores_q=[]\n",
    "        for i, w in enumerate(ast.literal_eval(df.tokens_question_up.values[index])):\n",
    "            scores=[]\n",
    "            if w in model.vocab.keys():\n",
    "                for j, w2 in enumerate(ast.literal_eval(df.tokens_question_up.values[index])):\n",
    "                    if (w2 in model.vocab.keys())&(w2!=w):\n",
    "                        scores.append(model.similarity(w, w2))\n",
    "            avg_score = np.average(scores)\n",
    "            scores_q.append(avg_score)\n",
    "        avg_scores_q = np.average(scores_q)\n",
    "        df.loc[index, 'w2v_question']=avg_scores_q"
   ]
  },
  {
   "cell_type": "code",
   "execution_count": null,
   "metadata": {
    "collapsed": true
   },
   "outputs": [],
   "source": [
    "dftrain['w2v_question'].isnull().sum()"
   ]
  },
  {
   "cell_type": "code",
   "execution_count": null,
   "metadata": {
    "collapsed": true
   },
   "outputs": [],
   "source": [
    "dftest['w2v_question'].isnull().sum()"
   ]
  },
  {
   "cell_type": "code",
   "execution_count": null,
   "metadata": {
    "collapsed": true
   },
   "outputs": [],
   "source": [
    "dftrain['w2v_question']=dftrain['w2v_question'].fillna(-1)"
   ]
  },
  {
   "cell_type": "code",
   "execution_count": null,
   "metadata": {
    "collapsed": true
   },
   "outputs": [],
   "source": [
    "dftest['w2v_question']=dftest['w2v_question'].fillna(-1)"
   ]
  },
  {
   "cell_type": "code",
   "execution_count": null,
   "metadata": {
    "collapsed": true
   },
   "outputs": [],
   "source": [
    "dftest.shape"
   ]
  },
  {
   "cell_type": "markdown",
   "metadata": {},
   "source": [
    "#### Анализ токенов вопроса, которых нет в параграфе "
   ]
  },
  {
   "cell_type": "code",
   "execution_count": 76,
   "metadata": {},
   "outputs": [
    {
     "data": {
      "application/vnd.jupyter.widget-view+json": {
       "model_id": "632162f854c44488b41b98320a1daf22"
      }
     },
     "metadata": {},
     "output_type": "display_data"
    },
    {
     "name": "stdout",
     "output_type": "stream",
     "text": [
      "\n",
      "\n"
     ]
    },
    {
     "data": {
      "application/vnd.jupyter.widget-view+json": {
       "model_id": "5bf45880b91a4ae09b14eb877aabfefb"
      }
     },
     "metadata": {},
     "output_type": "display_data"
    },
    {
     "name": "stdout",
     "output_type": "stream",
     "text": [
      "\n"
     ]
    }
   ],
   "source": [
    "for dfname, quest, df in [('train','tokens_question_up', dftrain), \n",
    "                         ('test','tokens_question_up', dftest)]:\n",
    "    for index, row in tqdm_notebook(df.iterrows(), total=df.shape[0], desc= dfname):\n",
    "        len_q=float(row['len_question'])\n",
    "        red= [w for w in ast.literal_eval(row[quest]) if w not in ast.literal_eval(row['tokens_paragraph_up'])]\n",
    "        norm=[w for w in ast.literal_eval(row[quest]) if w in ast.literal_eval(row['tokens_paragraph_up'])]\n",
    "        ratio=len(red)/len_q\n",
    "        df.loc[index,'red_ratio']=ratio\n",
    "        if ratio<1:\n",
    "            scores_q=[]\n",
    "            for i, w in enumerate(res):\n",
    "                scores=[]\n",
    "                if w in model.vocab.keys():\n",
    "                    for j, w2 in enumerate(norm):\n",
    "                        if w2 in model.vocab.keys():\n",
    "                            scores.append(model.similarity(w, w2))\n",
    "                    avg_score = np.average(scores)\n",
    "                    scores_q.append(avg_score)\n",
    "            avg_scores_q = np.average(scores_q)\n",
    "            df.loc[index, 'w2v_red']=avg_scores_q"
   ]
  },
  {
   "cell_type": "code",
   "execution_count": 66,
   "metadata": {},
   "outputs": [
    {
     "data": {
      "text/plain": [
       "0.92307692307692313"
      ]
     },
     "execution_count": 66,
     "metadata": {},
     "output_type": "execute_result"
    }
   ],
   "source": [
    "dftrain.red_ratio.values[5]"
   ]
  },
  {
   "cell_type": "code",
   "execution_count": 77,
   "metadata": {},
   "outputs": [
    {
     "data": {
      "text/plain": [
       "31942"
      ]
     },
     "execution_count": 77,
     "metadata": {},
     "output_type": "execute_result"
    }
   ],
   "source": [
    "dftrain['w2v_red'].isnull().sum()"
   ]
  },
  {
   "cell_type": "code",
   "execution_count": 78,
   "metadata": {},
   "outputs": [
    {
     "data": {
      "text/plain": [
       "2926"
      ]
     },
     "execution_count": 78,
     "metadata": {},
     "output_type": "execute_result"
    }
   ],
   "source": [
    "dftest['w2v_red'].isnull().sum()"
   ]
  },
  {
   "cell_type": "code",
   "execution_count": 79,
   "metadata": {},
   "outputs": [
    {
     "data": {
      "text/plain": [
       "0"
      ]
     },
     "execution_count": 79,
     "metadata": {},
     "output_type": "execute_result"
    }
   ],
   "source": [
    "dftrain['red_ratio'].isnull().sum()"
   ]
  },
  {
   "cell_type": "code",
   "execution_count": 80,
   "metadata": {},
   "outputs": [
    {
     "data": {
      "text/plain": [
       "0"
      ]
     },
     "execution_count": 80,
     "metadata": {},
     "output_type": "execute_result"
    }
   ],
   "source": [
    "dftest['red_ratio'].isnull().sum()"
   ]
  },
  {
   "cell_type": "code",
   "execution_count": 81,
   "metadata": {
    "collapsed": true
   },
   "outputs": [],
   "source": [
    "dftrain = dftrain.fillna(0)\n",
    "dftest = dftest.fillna(0)"
   ]
  },
  {
   "cell_type": "markdown",
   "metadata": {},
   "source": [
    "#### Частота слов в вопросе  "
   ]
  },
  {
   "cell_type": "code",
   "execution_count": null,
   "metadata": {
    "collapsed": true
   },
   "outputs": [],
   "source": [
    "dftest['frequency']=0.0\n",
    "dftrain['frequency']=0.0\n",
    "for dfname, quest, df in [('train','tokens_question_up', dftrain), \n",
    "                         ('test','tokens_question_up', dftest)]:\n",
    "    for index, row in tqdm_notebook(df.iterrows(), total=df.shape[0], desc= dfname):\n",
    "        len_uniq = len(set(ast.literal_eval(row[quest])))\n",
    "        len_total = len(ast.literal_eval(row[quest]))\n",
    "        df.loc[index, 'frequency'] = len_uniq/len_total "
   ]
  },
  {
   "cell_type": "markdown",
   "metadata": {},
   "source": [
    "#### Бейзлайн фичи "
   ]
  },
  {
   "cell_type": "code",
   "execution_count": null,
   "metadata": {
    "collapsed": true
   },
   "outputs": [],
   "source": [
    "for name, df in [('train', dftrain), ('test', dftest)]:\n",
    "    for index, row in tqdm_notebook(df.iterrows(), total=df.shape[0], desc=\"build features for \" + name):\n",
    "        question = ast.literal_eval(df.tokens_question_up.values[index])\n",
    "        paragraph = ast.literal_eval(df.tokens_paragraph_up[index])\n",
    "        df.loc[index, 'len_paragraph'] = len(paragraph)\n",
    "        df.loc[index, 'len_question'] = len(question)\n",
    "        df.loc[index, 'len_intersection'] = len(set(question) & set(paragraph))"
   ]
  },
  {
   "cell_type": "markdown",
   "metadata": {},
   "source": [
    "### Описание "
   ]
  },
  {
   "cell_type": "code",
   "execution_count": null,
   "metadata": {
    "collapsed": true
   },
   "outputs": [],
   "source": [
    "dftrain.info()"
   ]
  },
  {
   "cell_type": "code",
   "execution_count": null,
   "metadata": {
    "collapsed": true
   },
   "outputs": [],
   "source": [
    "dftest.info()"
   ]
  },
  {
   "cell_type": "markdown",
   "metadata": {},
   "source": [
    "## Частота вопросов, ответов"
   ]
  },
  {
   "cell_type": "code",
   "execution_count": null,
   "metadata": {
    "collapsed": true
   },
   "outputs": [],
   "source": [
    "print('Train:')\n",
    "print('Повторяющихся вопросов (вопросов, которые задаются нескольким параграфам): ' + str(len(dftrain[dftrain['count_q']>1].question.unique())))\n",
    "print('Уникальных вопросов (вопросов, которые задаются только одному параграфу): ' + str(dftrain[dftrain['count_q']==1].question.count()))\n",
    "print('Всего уникальных параграфов: ' + str(len(dftrain.paragraph.unique())))\n",
    "print('Параграфов, к которым задаются повторяющиеся вопросы: ' + str(len(dftrain[dftrain['count_q']>1].paragraph.unique())))\n",
    "print('Параграфов, к которым задаются уникальные вопросы: ' + str(len(dftrain[dftrain['count_q']==1].paragraph.unique())))\n",
    "print()\n",
    "print('Test:')\n",
    "print('Повторяющихся вопросов (вопросов, которые задаются нескольким параграфам): ' + str(len(dftest[dftest['count_q']>1].question.unique())))\n",
    "print('Уникальных вопросов (вопросов, которые задаются только одному параграфу): ' + str(dftest[dftest['count_q']==1].question.count()))\n",
    "print('Всего уникальных параграфов: ' + str(len(dftest.paragraph.unique())))\n",
    "print('Параграфов, к которым задаются повторяющиеся вопросы: ' + str(len(dftest[dftest['count_q']>1].paragraph.unique())))\n",
    "print('Параграфов, к которым задаются уникальные вопросы: ' + str(len(dftest[dftest['count_q']==1].paragraph.unique())))"
   ]
  },
  {
   "cell_type": "code",
   "execution_count": null,
   "metadata": {
    "collapsed": true,
    "scrolled": true
   },
   "outputs": [],
   "source": [
    "print('Train:')\n",
    "print('Повторяющихся параграфов (параграфов, к которым задаются несколько вопросов): ' + str(len(dftrain[dftrain['count_p']>1].paragraph.unique())))\n",
    "print('Уникальных параграфов (параграфов, к которым задается один вопрос): ' + str(dftrain[dftrain['count_p']==1].paragraph.count()))\n",
    "print('Всего уникальных вопросов: ' + str(len(dftrain.question.unique())))\n",
    "print('Вопросов, которые задаются повторяющимся параграфам: ' + str(len(dftrain[dftrain['count_p']>1].question.unique())))\n",
    "print('Вопросов, которые задаются уникальным параграфам: ' + str(len(dftrain[dftrain['count_p']==1].question.unique())))\n",
    "print()\n",
    "print('Test:')\n",
    "print('Повторяющихся параграфов (параграфов, к которым задаются несколько вопросов): ' + str(len(dftest[dftest['count_p']>1].paragraph.unique())))\n",
    "print('Уникальных параграфов (параграфов, к которым задается один вопрос): ' + str(dftest[dftest['count_p']==1].paragraph.count()))\n",
    "print('Всего уникальных вопросов: ' + str(len(dftest.question.unique())))\n",
    "print('Вопросов, которые задаются повторяющимся параграфам: ' + str(len(dftest[dftest['count_p']>1].question.unique())))\n",
    "print('Вопросов, которые задаются уникальным параграфам: ' + str(len(dftest[dftest['count_p']==1].question.unique())))"
   ]
  },
  {
   "cell_type": "code",
   "execution_count": null,
   "metadata": {
    "collapsed": true
   },
   "outputs": [],
   "source": [
    "kwargs = dict(alpha=0.5, normed=True, bins=50)\n",
    "plt.hist(dftest[dftest['count_q']==1]['count_p'], label = 'test', **kwargs)\n",
    "plt.hist(dftest[dftest['count_q']>1]['count_p'], label = 'test>1', **kwargs)\n",
    "plt.legend(loc='upper left')\n",
    "plt.show()"
   ]
  },
  {
   "cell_type": "code",
   "execution_count": null,
   "metadata": {
    "collapsed": true
   },
   "outputs": [],
   "source": [
    "kwargs = dict(alpha=0.5, normed=True, bins=50)\n",
    "#n, bins, patches=plt.hist(h[h['distance']>-99]['distance'], **kwargs)\n",
    "plt.hist(dftrain[(dftrain['target']==0)]['score'], label='traget0', **kwargs)\n",
    "plt.hist(dftrain[(dftrain['target']==1)]['score'], label='traget1', **kwargs)\n",
    "plt.legend(loc='upper left')\n",
    "plt.show()\n",
    "\n",
    "plt.hist(dftrain[(dftrain['target']==0)&(dftrain['count_q']>1)]['score'], label='traget0', **kwargs)\n",
    "plt.hist(dftrain[(dftrain['target']==1)&(dftrain['count_q']>1)]['score'], label='traget1', **kwargs)\n",
    "plt.legend(loc='upper left')\n",
    "plt.show()\n",
    "\n",
    "plt.hist(dftrain[(dftrain['target']==0)&(dftrain['count_q']==1)]['score'], label='traget0', **kwargs)\n",
    "plt.hist(dftrain[(dftrain['target']==1)&(dftrain['count_q']==1)]['score'], label='traget1', **kwargs)\n",
    "plt.legend(loc='upper left')\n",
    "plt.show()"
   ]
  },
  {
   "cell_type": "code",
   "execution_count": null,
   "metadata": {
    "collapsed": true
   },
   "outputs": [],
   "source": [
    "plt.hist(dftest['score'], label = 'test', **kwargs)\n",
    "plt.hist(dftrain['score'], label = 'train', **kwargs)\n",
    "plt.legend(loc='upper left')\n",
    "plt.show()\n",
    "\n",
    "plt.hist(dftest[dftest['count_q']>1]['score'], label = 'test', **kwargs)\n",
    "plt.hist(dftrain[dftrain['count_q']>1]['score'], label = 'train', **kwargs)\n",
    "plt.legend(loc='upper left')\n",
    "plt.show()\n",
    "\n",
    "plt.hist(dftest[dftest['count_q']==1]['score'], label = 'test', **kwargs)\n",
    "plt.hist(dftrain[dftrain['count_q']==1]['score'], label = 'train', **kwargs)\n",
    "plt.legend(loc='upper left')\n",
    "plt.show()"
   ]
  },
  {
   "cell_type": "code",
   "execution_count": null,
   "metadata": {
    "collapsed": true
   },
   "outputs": [],
   "source": [
    "kwargs = dict(alpha=0.5, normed=True, bins=50)\n",
    "#n, bins, patches=plt.hist(h[h['distance']>-99]['distance'], **kwargs)\n",
    "plt.hist(dftrain[(dftrain['target']==0)]['dist'], label='traget0', **kwargs)\n",
    "plt.hist(dftrain[(dftrain['target']==1)]['dist'], label='traget1', **kwargs)\n",
    "plt.legend(loc='upper left')\n",
    "plt.show()\n",
    "\n",
    "plt.hist(dftrain[(dftrain['target']==0)&(dftrain['count_q']>1)]['dist'], label='traget0', **kwargs)\n",
    "plt.hist(dftrain[(dftrain['target']==1)&(dftrain['count_q']>1)]['dist'], label='traget1', **kwargs)\n",
    "plt.legend(loc='upper left')\n",
    "plt.show()"
   ]
  },
  {
   "cell_type": "code",
   "execution_count": null,
   "metadata": {
    "collapsed": true
   },
   "outputs": [],
   "source": [
    "kwargs = dict(alpha=0.5, normed=True, bins=50)\n",
    "#n, bins, patches=plt.hist(h[h['distance']>-99]['distance'], **kwargs)\n",
    "plt.hist(dftrain[(dftrain['target']==0)]['dist1'], label='traget0', **kwargs)\n",
    "plt.hist(dftrain[(dftrain['target']==1)]['dist1'], label='traget1', **kwargs)\n",
    "plt.legend(loc='upper left')\n",
    "plt.show()"
   ]
  },
  {
   "cell_type": "code",
   "execution_count": null,
   "metadata": {
    "collapsed": true
   },
   "outputs": [],
   "source": [
    "plt.hist(dftest['dist'], label = 'test', **kwargs)\n",
    "plt.hist(dftrain['dist'], label = 'train', **kwargs)\n",
    "plt.legend(loc='upper left')\n",
    "plt.show()\n",
    "\n",
    "plt.hist(dftest[dftest['count_q']>1]['dist'], label = 'test', **kwargs)\n",
    "plt.hist(dftrain[dftrain['count_q']>1]['dist'], label = 'train', **kwargs)\n",
    "plt.legend(loc='upper left')\n",
    "plt.show()"
   ]
  },
  {
   "cell_type": "code",
   "execution_count": null,
   "metadata": {
    "collapsed": true
   },
   "outputs": [],
   "source": [
    "dftest[(dftest['count_q']==1)&(dftest['score']>0.9)].question.values[0]"
   ]
  },
  {
   "cell_type": "code",
   "execution_count": null,
   "metadata": {
    "collapsed": true
   },
   "outputs": [],
   "source": [
    "dftest[(dftest['count_q']==1)&(dftest['score']>0.9)].paragraph.values[0]"
   ]
  },
  {
   "cell_type": "code",
   "execution_count": null,
   "metadata": {
    "collapsed": true
   },
   "outputs": [],
   "source": [
    "plt.hist(dftest['w2v_question'], label = 'test', **kwargs)\n",
    "plt.hist(dftrain['w2v_question'], label = 'train', **kwargs)\n",
    "plt.legend(loc='upper left')\n",
    "plt.show()\n",
    "\n",
    "plt.hist(dftest[dftest['count_q']==1]['w2v_question'], label = 'test', **kwargs)\n",
    "plt.hist(dftrain[dftrain['count_q']==1]['w2v_question'], label = 'train', **kwargs)\n",
    "plt.legend(loc='upper left')\n",
    "plt.show()"
   ]
  },
  {
   "cell_type": "code",
   "execution_count": null,
   "metadata": {
    "collapsed": true
   },
   "outputs": [],
   "source": [
    "plt.hist(dftrain[dftrain['target']==0]['w2v_question'], label = 'target0', **kwargs)\n",
    "plt.hist(dftrain[dftrain['target']==1]['w2v_question'], label = 'target1', **kwargs)\n",
    "plt.legend(loc='upper left')\n",
    "plt.show()"
   ]
  },
  {
   "cell_type": "code",
   "execution_count": null,
   "metadata": {
    "collapsed": true
   },
   "outputs": [],
   "source": [
    "dftest_a, dftrain_a = pd.read_csv('./test_tokens_facts_number.csv'),pd.read_csv('./train_tokens_facts_number.csv'),"
   ]
  },
  {
   "cell_type": "code",
   "execution_count": null,
   "metadata": {
    "collapsed": true
   },
   "outputs": [],
   "source": [
    "dftrain_a.columns"
   ]
  },
  {
   "cell_type": "code",
   "execution_count": null,
   "metadata": {
    "collapsed": true
   },
   "outputs": [],
   "source": [
    "dftrain_a=dftrain_a[['paragraph_id', 'question_id','terms_intersection','cosine_distance']]\n",
    "dftest_a=dftest_a[['paragraph_id', 'question_id','terms_intersection','cosine_distance']]"
   ]
  },
  {
   "cell_type": "code",
   "execution_count": null,
   "metadata": {
    "collapsed": true
   },
   "outputs": [],
   "source": [
    "dftrain = dftrain.merge(dftrain_a, how = 'left', on=['paragraph_id' ,'question_id'])\n",
    "dftest = dftest.merge(dftest_a, how = 'left', on=['paragraph_id' ,'question_id'])"
   ]
  },
  {
   "cell_type": "markdown",
   "metadata": {},
   "source": [
    "# Модель "
   ]
  },
  {
   "cell_type": "code",
   "execution_count": null,
   "metadata": {
    "collapsed": true
   },
   "outputs": [],
   "source": [
    "dftrain.shape"
   ]
  },
  {
   "cell_type": "code",
   "execution_count": null,
   "metadata": {
    "collapsed": true
   },
   "outputs": [],
   "source": [
    "dftrain.columns"
   ]
  },
  {
   "cell_type": "code",
   "execution_count": null,
   "metadata": {
    "collapsed": true
   },
   "outputs": [],
   "source": [
    "#del dftrain['max_pred_x']\n",
    "#del dftrain['max_pred_y']\n",
    "#del dftrain['max_pred']"
   ]
  },
  {
   "cell_type": "code",
   "execution_count": null,
   "metadata": {
    "collapsed": true
   },
   "outputs": [],
   "source": [
    "dftest=dftest.drop_duplicates()"
   ]
  },
  {
   "cell_type": "code",
   "execution_count": null,
   "metadata": {
    "collapsed": true
   },
   "outputs": [],
   "source": [
    "dftest.shape"
   ]
  },
  {
   "cell_type": "code",
   "execution_count": null,
   "metadata": {
    "collapsed": true
   },
   "outputs": [],
   "source": [
    "dftest.columns"
   ]
  },
  {
   "cell_type": "code",
   "execution_count": null,
   "metadata": {
    "collapsed": true
   },
   "outputs": [],
   "source": [
    "#del dftest['max_pred_x']\n",
    "#del dftest['max_pred_y']\n",
    "#del dftest['max_pred']\n",
    "#del dftest['prediction']"
   ]
  },
  {
   "cell_type": "code",
   "execution_count": 10,
   "metadata": {
    "collapsed": true
   },
   "outputs": [],
   "source": [
    "from sklearn.model_selection import train_test_split\n",
    "import xgboost as xgb"
   ]
  },
  {
   "cell_type": "code",
   "execution_count": null,
   "metadata": {
    "collapsed": true
   },
   "outputs": [],
   "source": [
    "#del dftest['prediction']"
   ]
  },
  {
   "cell_type": "markdown",
   "metadata": {},
   "source": [
    "### Часть 1 "
   ]
  },
  {
   "cell_type": "code",
   "execution_count": null,
   "metadata": {
    "collapsed": true
   },
   "outputs": [],
   "source": [
    "dftrain.columns"
   ]
  },
  {
   "cell_type": "code",
   "execution_count": 212,
   "metadata": {
    "collapsed": true
   },
   "outputs": [],
   "source": [
    "cols = ['len_inr',\n",
    "        'len_name', \n",
    "        'len_verb', \n",
    "        'len_latn', \n",
    "        'len_num', \n",
    "        'len_adj', \n",
    "        'len_noun',\n",
    "        'score',\n",
    "        'best_score',\n",
    "        'dist',\n",
    "        'frequency', \n",
    "        'w2v_question', \n",
    "        'len_paragraph', \n",
    "        'len_question',\n",
    "        'cosine_distance',\n",
    "        'len_intersection', \n",
    "        'score1', \n",
    "        'best_score1', \n",
    "        'dist1',\n",
    "        'len_intersection_rate',\n",
    "        #'count_p',\n",
    "        'count_q',\n",
    "        'red_ratio',\n",
    "        'w2v_red'\n",
    "       ]\n",
    "\n",
    "y = dftrain[dftrain['count_q']>1]['target']\n",
    "#train=train[features]"
   ]
  },
  {
   "cell_type": "code",
   "execution_count": 213,
   "metadata": {
    "collapsed": true
   },
   "outputs": [],
   "source": [
    "Xtr, Xv, ytr, yv = train_test_split(dftrain[dftrain['count_q']>1][cols].values, y, test_size=0.2)"
   ]
  },
  {
   "cell_type": "code",
   "execution_count": 214,
   "metadata": {
    "collapsed": true
   },
   "outputs": [],
   "source": [
    "dtrain = xgb.DMatrix(Xtr, label=ytr)\n",
    "dvalid = xgb.DMatrix(Xv, label=yv)\n",
    "dtotal = xgb.DMatrix(dftrain[dftrain['count_q']>1][cols].values)\n",
    "dtest = xgb.DMatrix(dftest[dftest['count_q']>1][cols].values)\n",
    "watchlist = [(dtrain, 'train'), (dvalid, 'valid')]\n",
    "\n",
    "params ={\n",
    "        'eta':0.03,\n",
    "        'n_estimators': 3000,\n",
    "        'max_depth': 5,\n",
    "        'objective': 'binary:logistic',\n",
    "        'eval_metric': 'auc'\n",
    "        }"
   ]
  },
  {
   "cell_type": "code",
   "execution_count": 215,
   "metadata": {},
   "outputs": [
    {
     "name": "stdout",
     "output_type": "stream",
     "text": [
      "[0]\ttrain-auc:0.995046\tvalid-auc:0.994973\n",
      "Multiple eval metrics have been passed: 'valid-auc' will be used for early stopping.\n",
      "\n",
      "Will train until valid-auc hasn't improved in 100 rounds.\n",
      "[100]\ttrain-auc:0.998999\tvalid-auc:0.998094\n",
      "[200]\ttrain-auc:0.99948\tvalid-auc:0.998862\n",
      "[300]\ttrain-auc:0.999594\tvalid-auc:0.99891\n",
      "[400]\ttrain-auc:0.9997\tvalid-auc:0.998941\n",
      "[500]\ttrain-auc:0.999767\tvalid-auc:0.998951\n",
      "[600]\ttrain-auc:0.999822\tvalid-auc:0.998956\n",
      "[700]\ttrain-auc:0.999859\tvalid-auc:0.99897\n",
      "[800]\ttrain-auc:0.999897\tvalid-auc:0.998979\n",
      "[900]\ttrain-auc:0.999928\tvalid-auc:0.998977\n",
      "Stopping. Best iteration:\n",
      "[816]\ttrain-auc:0.999903\tvalid-auc:0.998981\n",
      "\n"
     ]
    }
   ],
   "source": [
    "xgb_model = xgb.train(params = params, dtrain = dtrain, evals=watchlist, num_boost_round = params['n_estimators'], verbose_eval=100, early_stopping_rounds=100)"
   ]
  },
  {
   "cell_type": "code",
   "execution_count": 216,
   "metadata": {},
   "outputs": [
    {
     "data": {
      "text/plain": [
       "<matplotlib.axes._subplots.AxesSubplot at 0x10c616f60>"
      ]
     },
     "execution_count": 216,
     "metadata": {},
     "output_type": "execute_result"
    },
    {
     "data": {
      "image/png": "[encoded data removed]",
      "text/plain": [
       "<matplotlib.figure.Figure at 0x11dfb9f98>"
      ]
     },
     "metadata": {},
     "output_type": "display_data"
    }
   ],
   "source": [
    "xgb.plot_importance(xgb_model)"
   ]
  },
  {
   "cell_type": "code",
   "execution_count": 194,
   "metadata": {},
   "outputs": [
    {
     "data": {
      "text/plain": [
       "'dist'"
      ]
     },
     "execution_count": 194,
     "metadata": {},
     "output_type": "execute_result"
    }
   ],
   "source": [
    "cols[9]"
   ]
  },
  {
   "cell_type": "code",
   "execution_count": 217,
   "metadata": {
    "collapsed": true
   },
   "outputs": [],
   "source": [
    "dftest_part1 = dftest[dftest['count_q']>1]"
   ]
  },
  {
   "cell_type": "code",
   "execution_count": 218,
   "metadata": {
    "collapsed": true
   },
   "outputs": [],
   "source": [
    "dftest_part1['prediction'] = xgb_model.predict(dtest)"
   ]
  },
  {
   "cell_type": "markdown",
   "metadata": {},
   "source": [
    "#### Примеры "
   ]
  },
  {
   "cell_type": "code",
   "execution_count": null,
   "metadata": {
    "collapsed": true
   },
   "outputs": [],
   "source": [
    "dftest_part1[(dftest_part1.prediction>0.5)].paragraph.values[56]"
   ]
  },
  {
   "cell_type": "code",
   "execution_count": null,
   "metadata": {
    "collapsed": true
   },
   "outputs": [],
   "source": [
    "dftest_part1[(dftest_part1.prediction>0.5)].question.values[56]"
   ]
  },
  {
   "cell_type": "code",
   "execution_count": null,
   "metadata": {
    "collapsed": true
   },
   "outputs": [],
   "source": [
    "dftest_part1[(dftest_part1.prediction<=0.5)].paragraph.values[40]"
   ]
  },
  {
   "cell_type": "code",
   "execution_count": null,
   "metadata": {
    "collapsed": true
   },
   "outputs": [],
   "source": [
    "dftest_part1[(dftest_part1.prediction<=0.5)].question.values[40]"
   ]
  },
  {
   "cell_type": "markdown",
   "metadata": {},
   "source": [
    "#### Статистика "
   ]
  },
  {
   "cell_type": "code",
   "execution_count": 149,
   "metadata": {},
   "outputs": [
    {
     "data": {
      "text/plain": [
       "(74290, 62)"
      ]
     },
     "execution_count": 149,
     "metadata": {},
     "output_type": "execute_result"
    }
   ],
   "source": [
    "dftest.shape"
   ]
  },
  {
   "cell_type": "code",
   "execution_count": 150,
   "metadata": {},
   "outputs": [
    {
     "data": {
      "text/plain": [
       "(3718, 62)"
      ]
     },
     "execution_count": 150,
     "metadata": {},
     "output_type": "execute_result"
    }
   ],
   "source": [
    "dftest_part1[(dftest_part1.prediction>=0.5)].shape"
   ]
  },
  {
   "cell_type": "code",
   "execution_count": 151,
   "metadata": {},
   "outputs": [
    {
     "data": {
      "text/plain": [
       "(31469, 62)"
      ]
     },
     "execution_count": 151,
     "metadata": {},
     "output_type": "execute_result"
    }
   ],
   "source": [
    "dftest_part1[(dftest_part1.prediction<0.5)].shape"
   ]
  },
  {
   "cell_type": "code",
   "execution_count": 135,
   "metadata": {
    "collapsed": true
   },
   "outputs": [],
   "source": [
    "ids=dftest_part1[(dftest_part1.prediction>0.5)].question_id.unique()"
   ]
  },
  {
   "cell_type": "code",
   "execution_count": 138,
   "metadata": {
    "collapsed": true
   },
   "outputs": [],
   "source": [
    "ids2=[i for i in dftest_part1.question_id.unique() if (i not in ids)]"
   ]
  },
  {
   "cell_type": "code",
   "execution_count": 139,
   "metadata": {},
   "outputs": [
    {
     "data": {
      "text/plain": [
       "687"
      ]
     },
     "execution_count": 139,
     "metadata": {},
     "output_type": "execute_result"
    }
   ],
   "source": [
    "len(ids2)"
   ]
  },
  {
   "cell_type": "code",
   "execution_count": null,
   "metadata": {
    "collapsed": true
   },
   "outputs": [],
   "source": [
    "dftest_part1[dftest_part1.question_id==ids2[0]].question.values[0]"
   ]
  },
  {
   "cell_type": "markdown",
   "metadata": {},
   "source": [
    "### Часть 2"
   ]
  },
  {
   "cell_type": "code",
   "execution_count": 245,
   "metadata": {
    "collapsed": true
   },
   "outputs": [],
   "source": [
    "cols = ['len_inr',\n",
    "        'len_name', \n",
    "        'len_verb', \n",
    "        'len_latn', \n",
    "        'len_num', \n",
    "        'len_adj', \n",
    "        'len_noun',\n",
    "        'score',\n",
    "        #'best_score',\n",
    "        'frequency', \n",
    "        'w2v_question', \n",
    "        'len_paragraph', \n",
    "        'len_question',\n",
    "        'len_intersection',\n",
    "        'len_intersection_rate',\n",
    "        #'max_pred',\n",
    "        'score1', \n",
    "        #'count_p',\n",
    "        'cosine_distance',\n",
    "        #'best_score1'\n",
    "        'red_ratio',\n",
    "        'w2v_red'\n",
    "        ]\n",
    "y = dftrain['target']\n",
    "#train=train[features]"
   ]
  },
  {
   "cell_type": "code",
   "execution_count": 246,
   "metadata": {
    "collapsed": true
   },
   "outputs": [],
   "source": [
    "Xtr, Xv, ytr, yv = train_test_split(dftrain[cols].values, y, test_size=0.2)"
   ]
  },
  {
   "cell_type": "code",
   "execution_count": 247,
   "metadata": {
    "collapsed": true
   },
   "outputs": [],
   "source": [
    "dtrain = xgb.DMatrix(Xtr, label=ytr)\n",
    "dvalid = xgb.DMatrix(Xv, label=yv)\n",
    "dtest = xgb.DMatrix(dftest[dftest['count_q']==1][cols].values)\n",
    "watchlist = [(dtrain, 'train'), (dvalid, 'valid')]\n",
    "\n",
    "params ={\n",
    "        'eta':0.03,\n",
    "        'n_estimators': 3000,\n",
    "        'max_depth': 3,\n",
    "        'objective': 'binary:logistic',\n",
    "        'eval_metric': 'auc'\n",
    "        }"
   ]
  },
  {
   "cell_type": "code",
   "execution_count": 248,
   "metadata": {},
   "outputs": [
    {
     "name": "stdout",
     "output_type": "stream",
     "text": [
      "[0]\ttrain-auc:0.981753\tvalid-auc:0.980465\n",
      "Multiple eval metrics have been passed: 'valid-auc' will be used for early stopping.\n",
      "\n",
      "Will train until valid-auc hasn't improved in 500 rounds.\n",
      "[100]\ttrain-auc:0.994265\tvalid-auc:0.99389\n",
      "[200]\ttrain-auc:0.995173\tvalid-auc:0.99482\n",
      "[300]\ttrain-auc:0.995583\tvalid-auc:0.995234\n",
      "[400]\ttrain-auc:0.995805\tvalid-auc:0.995384\n",
      "[500]\ttrain-auc:0.995961\tvalid-auc:0.995473\n",
      "[600]\ttrain-auc:0.996072\tvalid-auc:0.995527\n",
      "[700]\ttrain-auc:0.996176\tvalid-auc:0.995573\n",
      "[800]\ttrain-auc:0.996272\tvalid-auc:0.995608\n",
      "[900]\ttrain-auc:0.996357\tvalid-auc:0.995652\n",
      "[1000]\ttrain-auc:0.99644\tvalid-auc:0.995689\n",
      "[1100]\ttrain-auc:0.996512\tvalid-auc:0.995715\n",
      "[1200]\ttrain-auc:0.996601\tvalid-auc:0.995745\n",
      "[1300]\ttrain-auc:0.996692\tvalid-auc:0.995773\n",
      "[1400]\ttrain-auc:0.996771\tvalid-auc:0.995789\n",
      "[1500]\ttrain-auc:0.996842\tvalid-auc:0.995809\n",
      "[1600]\ttrain-auc:0.996919\tvalid-auc:0.995833\n",
      "[1700]\ttrain-auc:0.996992\tvalid-auc:0.995855\n",
      "[1800]\ttrain-auc:0.99706\tvalid-auc:0.995862\n",
      "[1900]\ttrain-auc:0.997119\tvalid-auc:0.995881\n",
      "[2000]\ttrain-auc:0.997184\tvalid-auc:0.99589\n",
      "[2100]\ttrain-auc:0.997246\tvalid-auc:0.995906\n",
      "[2200]\ttrain-auc:0.997311\tvalid-auc:0.995926\n",
      "[2300]\ttrain-auc:0.997364\tvalid-auc:0.99594\n",
      "[2400]\ttrain-auc:0.997423\tvalid-auc:0.995952\n",
      "[2500]\ttrain-auc:0.997478\tvalid-auc:0.995971\n",
      "[2600]\ttrain-auc:0.997525\tvalid-auc:0.995983\n",
      "[2700]\ttrain-auc:0.997569\tvalid-auc:0.995994\n",
      "[2800]\ttrain-auc:0.997615\tvalid-auc:0.995997\n",
      "[2900]\ttrain-auc:0.997664\tvalid-auc:0.996005\n",
      "[2999]\ttrain-auc:0.997713\tvalid-auc:0.996013\n"
     ]
    }
   ],
   "source": [
    "xgb_model = xgb.train(params = params, dtrain = dtrain, evals=watchlist, num_boost_round = params['n_estimators'], verbose_eval=100, early_stopping_rounds=500)"
   ]
  },
  {
   "cell_type": "code",
   "execution_count": 249,
   "metadata": {},
   "outputs": [
    {
     "data": {
      "text/plain": [
       "<matplotlib.axes._subplots.AxesSubplot at 0x115c9a0f0>"
      ]
     },
     "execution_count": 249,
     "metadata": {},
     "output_type": "execute_result"
    },
    {
     "data": {
      "image/png": "[encoded data removed]",
      "text/plain": [
       "<matplotlib.figure.Figure at 0x116433c50>"
      ]
     },
     "metadata": {},
     "output_type": "display_data"
    }
   ],
   "source": [
    "xgb.plot_importance(xgb_model)"
   ]
  },
  {
   "cell_type": "code",
   "execution_count": 250,
   "metadata": {},
   "outputs": [
    {
     "data": {
      "text/plain": [
       "'cosine_distance'"
      ]
     },
     "execution_count": 250,
     "metadata": {},
     "output_type": "execute_result"
    }
   ],
   "source": [
    "cols[15]"
   ]
  },
  {
   "cell_type": "code",
   "execution_count": 251,
   "metadata": {
    "collapsed": true
   },
   "outputs": [],
   "source": [
    "dftest_part2 = dftest[dftest['count_q']==1]"
   ]
  },
  {
   "cell_type": "code",
   "execution_count": 252,
   "metadata": {
    "collapsed": true
   },
   "outputs": [],
   "source": [
    "dftest_part2['prediction'] = xgb_model.predict(dtest)"
   ]
  },
  {
   "cell_type": "markdown",
   "metadata": {},
   "source": [
    "####  Примеры"
   ]
  },
  {
   "cell_type": "code",
   "execution_count": 256,
   "metadata": {},
   "outputs": [
    {
     "data": {
      "text/plain": [
       "'Как термин, используемый июпак для идентификации широкого спектра?'"
      ]
     },
     "execution_count": 256,
     "metadata": {},
     "output_type": "execute_result"
    }
   ],
   "source": [
    "dftest_part2[(dftest_part2.prediction>0.5)].question.values[6]"
   ]
  },
  {
   "cell_type": "code",
   "execution_count": 254,
   "metadata": {},
   "outputs": [
    {
     "data": {
      "text/plain": [
       "'Против социального эмпиризма (позитивизма) первым выступил ещё Гегель, который противостоял как эмпиризму, так и детерминизму, который считал слишком механистическим:169. Ранние представители герменевтики, такие, как Вильгельм Дильтей, впервые ввели различие между естественными и социальными науками. Различные неокантианцы, феноменологи и учёные гуманитарных направлений развивали теоретические обоснования отличия мира природы от социальной реальности, увязывая это различие с такими сложными аспектами человеческого общества, как культура и бытие. Методология Карла Маркса была прежде всего основана на гегелевской диалектике, но также противостояла позитивизму, выводя на первый план критический анализ явлений:202-203.'"
      ]
     },
     "execution_count": 254,
     "metadata": {},
     "output_type": "execute_result"
    }
   ],
   "source": [
    "dftest_part2[(dftest_part2.prediction>0.5)].paragraph.values[1]"
   ]
  },
  {
   "cell_type": "markdown",
   "metadata": {},
   "source": [
    "#### Статистика "
   ]
  },
  {
   "cell_type": "code",
   "execution_count": 255,
   "metadata": {},
   "outputs": [
    {
     "data": {
      "text/plain": [
       "(20220, 62)"
      ]
     },
     "execution_count": 255,
     "metadata": {},
     "output_type": "execute_result"
    }
   ],
   "source": [
    "dftest_part2[(dftest_part2.prediction<=0.5)].shape"
   ]
  },
  {
   "cell_type": "code",
   "execution_count": 244,
   "metadata": {},
   "outputs": [
    {
     "data": {
      "text/plain": [
       "(13992, 62)"
      ]
     },
     "execution_count": 244,
     "metadata": {},
     "output_type": "execute_result"
    }
   ],
   "source": [
    "dftest_part2[(dftest_part2.prediction>0.5)].shape"
   ]
  },
  {
   "cell_type": "code",
   "execution_count": 162,
   "metadata": {
    "collapsed": true
   },
   "outputs": [],
   "source": [
    "dftest_part1.rename({'prediction1':'prediction'}, inplace=True)\n",
    "#dftest_part2.rename({'prediction1':'prediction'})"
   ]
  },
  {
   "cell_type": "code",
   "execution_count": 179,
   "metadata": {},
   "outputs": [
    {
     "data": {
      "text/html": [
       "<div>\n",
       "<style>\n",
       "    .dataframe thead tr:only-child th {\n",
       "        text-align: right;\n",
       "    }\n",
       "\n",
       "    .dataframe thead th {\n",
       "        text-align: left;\n",
       "    }\n",
       "\n",
       "    .dataframe tbody tr th {\n",
       "        vertical-align: top;\n",
       "    }\n",
       "</style>\n",
       "<table border=\"1\" class=\"dataframe\">\n",
       "  <thead>\n",
       "    <tr style=\"text-align: right;\">\n",
       "      <th></th>\n",
       "      <th>Unnamed: 0</th>\n",
       "      <th>Unnamed: 0.1</th>\n",
       "      <th>paragraph</th>\n",
       "      <th>paragraph_id</th>\n",
       "      <th>question</th>\n",
       "      <th>question_id</th>\n",
       "      <th>target</th>\n",
       "      <th>sent_paragraph</th>\n",
       "      <th>num_sent_paragraph</th>\n",
       "      <th>tokens_sent_paragraph</th>\n",
       "      <th>...</th>\n",
       "      <th>max_pred</th>\n",
       "      <th>qw_num</th>\n",
       "      <th>verb_num</th>\n",
       "      <th>adj_num</th>\n",
       "      <th>noun_num</th>\n",
       "      <th>pca1</th>\n",
       "      <th>pca2</th>\n",
       "      <th>red_ratio</th>\n",
       "      <th>w2v_red</th>\n",
       "      <th>prediction</th>\n",
       "    </tr>\n",
       "  </thead>\n",
       "  <tbody>\n",
       "    <tr>\n",
       "      <th>0</th>\n",
       "      <td>0</td>\n",
       "      <td>0</td>\n",
       "      <td>Передний мозг сильно развит, это самая большая...</td>\n",
       "      <td>1361</td>\n",
       "      <td>В какой мифологии два ворона Хугин и Мунин шеп...</td>\n",
       "      <td>6463</td>\n",
       "      <td>-1.0</td>\n",
       "      <td>['Передний мозг сильно развит, это самая больш...</td>\n",
       "      <td>[[], [], [], [], [], [], [], [], []]</td>\n",
       "      <td>[['передний', 'мозг', 'сильно', 'развитый', 'с...</td>\n",
       "      <td>...</td>\n",
       "      <td>0.999496</td>\n",
       "      <td>0.1</td>\n",
       "      <td>0.1</td>\n",
       "      <td>0.0</td>\n",
       "      <td>0.8</td>\n",
       "      <td>-1.550609</td>\n",
       "      <td>-0.316235</td>\n",
       "      <td>1.0</td>\n",
       "      <td>0.0</td>\n",
       "      <td>0.000037</td>\n",
       "    </tr>\n",
       "    <tr>\n",
       "      <th>1</th>\n",
       "      <td>1</td>\n",
       "      <td>1</td>\n",
       "      <td>Различные виды ткачиковых в Африке и Центральн...</td>\n",
       "      <td>974</td>\n",
       "      <td>В какой мифологии два ворона Хугин и Мунин шеп...</td>\n",
       "      <td>6463</td>\n",
       "      <td>-1.0</td>\n",
       "      <td>['Различные виды ткачиковых в Африке и Централ...</td>\n",
       "      <td>[[], [], [], [], []]</td>\n",
       "      <td>[['различный', 'вид', 'ткачиков', 'африка', 'ц...</td>\n",
       "      <td>...</td>\n",
       "      <td>0.999803</td>\n",
       "      <td>0.1</td>\n",
       "      <td>0.1</td>\n",
       "      <td>0.0</td>\n",
       "      <td>0.8</td>\n",
       "      <td>-1.550609</td>\n",
       "      <td>-0.316235</td>\n",
       "      <td>1.0</td>\n",
       "      <td>0.0</td>\n",
       "      <td>0.000004</td>\n",
       "    </tr>\n",
       "  </tbody>\n",
       "</table>\n",
       "<p>2 rows × 62 columns</p>\n",
       "</div>"
      ],
      "text/plain": [
       "   Unnamed: 0  Unnamed: 0.1  \\\n",
       "0           0             0   \n",
       "1           1             1   \n",
       "\n",
       "                                           paragraph  paragraph_id  \\\n",
       "0  Передний мозг сильно развит, это самая большая...          1361   \n",
       "1  Различные виды ткачиковых в Африке и Центральн...           974   \n",
       "\n",
       "                                            question  question_id  target  \\\n",
       "0  В какой мифологии два ворона Хугин и Мунин шеп...         6463    -1.0   \n",
       "1  В какой мифологии два ворона Хугин и Мунин шеп...         6463    -1.0   \n",
       "\n",
       "                                      sent_paragraph  \\\n",
       "0  ['Передний мозг сильно развит, это самая больш...   \n",
       "1  ['Различные виды ткачиковых в Африке и Централ...   \n",
       "\n",
       "                     num_sent_paragraph  \\\n",
       "0  [[], [], [], [], [], [], [], [], []]   \n",
       "1                  [[], [], [], [], []]   \n",
       "\n",
       "                               tokens_sent_paragraph    ...      max_pred  \\\n",
       "0  [['передний', 'мозг', 'сильно', 'развитый', 'с...    ...      0.999496   \n",
       "1  [['различный', 'вид', 'ткачиков', 'африка', 'ц...    ...      0.999803   \n",
       "\n",
       "  qw_num verb_num adj_num noun_num      pca1      pca2 red_ratio w2v_red  \\\n",
       "0    0.1      0.1     0.0      0.8 -1.550609 -0.316235       1.0     0.0   \n",
       "1    0.1      0.1     0.0      0.8 -1.550609 -0.316235       1.0     0.0   \n",
       "\n",
       "  prediction  \n",
       "0   0.000037  \n",
       "1   0.000004  \n",
       "\n",
       "[2 rows x 62 columns]"
      ]
     },
     "execution_count": 179,
     "metadata": {},
     "output_type": "execute_result"
    }
   ],
   "source": [
    "dftest_part1.head(2)"
   ]
  },
  {
   "cell_type": "code",
   "execution_count": 229,
   "metadata": {
    "collapsed": true
   },
   "outputs": [],
   "source": [
    "dftest_results=pd.concat([dftest_part1, dftest_part2])"
   ]
  },
  {
   "cell_type": "code",
   "execution_count": 230,
   "metadata": {},
   "outputs": [
    {
     "data": {
      "text/html": [
       "<div>\n",
       "<style>\n",
       "    .dataframe thead tr:only-child th {\n",
       "        text-align: right;\n",
       "    }\n",
       "\n",
       "    .dataframe thead th {\n",
       "        text-align: left;\n",
       "    }\n",
       "\n",
       "    .dataframe tbody tr th {\n",
       "        vertical-align: top;\n",
       "    }\n",
       "</style>\n",
       "<table border=\"1\" class=\"dataframe\">\n",
       "  <thead>\n",
       "    <tr style=\"text-align: right;\">\n",
       "      <th></th>\n",
       "      <th>prediction</th>\n",
       "    </tr>\n",
       "  </thead>\n",
       "  <tbody>\n",
       "    <tr>\n",
       "      <th>0</th>\n",
       "      <td>0.000040</td>\n",
       "    </tr>\n",
       "    <tr>\n",
       "      <th>1</th>\n",
       "      <td>0.000005</td>\n",
       "    </tr>\n",
       "  </tbody>\n",
       "</table>\n",
       "</div>"
      ],
      "text/plain": [
       "   prediction\n",
       "0    0.000040\n",
       "1    0.000005"
      ]
     },
     "execution_count": 230,
     "metadata": {},
     "output_type": "execute_result"
    }
   ],
   "source": [
    "dftest_part1[['prediction']].head(2)"
   ]
  },
  {
   "cell_type": "code",
   "execution_count": 231,
   "metadata": {
    "collapsed": true
   },
   "outputs": [],
   "source": [
    "del dftest['prediction']"
   ]
  },
  {
   "cell_type": "code",
   "execution_count": 232,
   "metadata": {
    "collapsed": true
   },
   "outputs": [],
   "source": [
    "dftest=dftest.merge(dftest_results[['paragraph_id','question_id','prediction']], how='left', on=['paragraph_id','question_id'])"
   ]
  },
  {
   "cell_type": "code",
   "execution_count": 233,
   "metadata": {},
   "outputs": [
    {
     "data": {
      "text/plain": [
       "(74290, 62)"
      ]
     },
     "execution_count": 233,
     "metadata": {},
     "output_type": "execute_result"
    }
   ],
   "source": [
    "dftest.shape"
   ]
  },
  {
   "cell_type": "code",
   "execution_count": 234,
   "metadata": {},
   "outputs": [
    {
     "data": {
      "text/plain": [
       "0"
      ]
     },
     "execution_count": 234,
     "metadata": {},
     "output_type": "execute_result"
    }
   ],
   "source": [
    "dftest.prediction.isnull().sum()"
   ]
  },
  {
   "cell_type": "code",
   "execution_count": 235,
   "metadata": {
    "collapsed": true
   },
   "outputs": [],
   "source": [
    "dftest[['paragraph_id', 'question_id', 'prediction']].to_csv(\"prediction.csv\", index=False)"
   ]
  },
  {
   "cell_type": "code",
   "execution_count": null,
   "metadata": {
    "collapsed": true
   },
   "outputs": [],
   "source": [
    "#dftest[dftest['count']>1].prediction.value_counts()"
   ]
  },
  {
   "cell_type": "code",
   "execution_count": null,
   "metadata": {
    "collapsed": true
   },
   "outputs": [],
   "source": [
    "#dftest.columns"
   ]
  },
  {
   "cell_type": "code",
   "execution_count": null,
   "metadata": {
    "collapsed": true
   },
   "outputs": [],
   "source": [
    "#del dftest['prediction_x']"
   ]
  },
  {
   "cell_type": "code",
   "execution_count": null,
   "metadata": {
    "collapsed": true
   },
   "outputs": [],
   "source": [
    "#del dftest['prediction_y']"
   ]
  },
  {
   "cell_type": "code",
   "execution_count": null,
   "metadata": {
    "collapsed": true
   },
   "outputs": [],
   "source": [
    "#del dftest['prediction']"
   ]
  },
  {
   "cell_type": "code",
   "execution_count": 114,
   "metadata": {
    "collapsed": true
   },
   "outputs": [],
   "source": [
    "dftest.to_csv('./testTFIDF.csv')\n",
    "dftrain.to_csv('./trainTFIDF.csv')"
   ]
  },
  {
   "cell_type": "code",
   "execution_count": null,
   "metadata": {
    "collapsed": true
   },
   "outputs": [],
   "source": []
  }
 ],
 "metadata": {
  "kernelspec": {
   "display_name": "Python 3",
   "language": "python",
   "name": "python3"
  },
  "language_info": {
   "codemirror_mode": {
    "name": "ipython",
    "version": 3
   },
   "file_extension": ".py",
   "mimetype": "text/x-python",
   "name": "python",
   "nbconvert_exporter": "python",
   "pygments_lexer": "ipython3",
   "version": "3.5.2"
  }
 },
 "nbformat": 4,
 "nbformat_minor": 2
}
