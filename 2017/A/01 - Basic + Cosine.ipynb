{
 "cells": [
  {
   "cell_type": "code",
   "execution_count": 1,
   "metadata": {
    "collapsed": true
   },
   "outputs": [],
   "source": [
    "import pandas as pd\n",
    "from matplotlib_venn import venn2\n",
    "from matplotlib import pyplot as plt\n",
    "import numpy as np"
   ]
  },
  {
   "cell_type": "code",
   "execution_count": 3,
   "metadata": {},
   "outputs": [],
   "source": [
    "df = pd.read_csv('train_task1_latest.csv')\n",
    "dft = pd.read_csv('test_task1_latest.csv')"
   ]
  },
  {
   "cell_type": "code",
   "execution_count": 4,
   "metadata": {},
   "outputs": [
    {
     "data": {
      "text/plain": [
       "Index(['paragraph_id', 'question_id', 'paragraph', 'question', 'target'], dtype='object')"
      ]
     },
     "execution_count": 4,
     "metadata": {},
     "output_type": "execute_result"
    }
   ],
   "source": [
    "df.columns"
   ]
  },
  {
   "cell_type": "markdown",
   "metadata": {},
   "source": [
    "## Пересечение датасетов"
   ]
  },
  {
   "cell_type": "code",
   "execution_count": 5,
   "metadata": {},
   "outputs": [
    {
     "name": "stdout",
     "output_type": "stream",
     "text": [
      "Обучающая выборка\n",
      "\tУникальных параграфов: 9078\n",
      "\tУникальных вопросов: 38868\n",
      "Тестовая выборка\n",
      "\tУникальных параграфов: 1627\n",
      "\tУникальных вопросов: 43340\n",
      "Пересечение обучающей и тестовой\n",
      "\tПересекающихся параграфов: 0\n",
      "\tПересекающихся вопросов: 7\n",
      "Всего уникальных\n",
      "\tПараграфов: 10705\n",
      "\tВопросов: 82201\n"
     ]
    }
   ],
   "source": [
    "trn_p = set(df['paragraph'])\n",
    "trn_q = set(df['question'])\n",
    "tst_p = set(dft['paragraph'])\n",
    "tst_q = set(dft['question'])\n",
    "\n",
    "print('Обучающая выборка')\n",
    "print('\\tУникальных параграфов:', len(trn_p))\n",
    "print('\\tУникальных вопросов:', len(trn_q))\n",
    "print('Тестовая выборка')\n",
    "print('\\tУникальных параграфов:', len(tst_p))\n",
    "print('\\tУникальных вопросов:', len(tst_q))\n",
    "print('Пересечение обучающей и тестовой')\n",
    "print('\\tПересекающихся параграфов:',len(trn_p & tst_p))\n",
    "print('\\tПересекающихся вопросов:',len(trn_q & tst_q))\n",
    "print('Всего уникальных')\n",
    "print('\\tПараграфов:',len(trn_p|tst_p))\n",
    "print('\\tВопросов:',len(trn_q|tst_q))"
   ]
  },
  {
   "cell_type": "code",
   "execution_count": 6,
   "metadata": {},
   "outputs": [
    {
     "data": {
      "image/png": "[encoded data removed]",
      "text/plain": [
       "<matplotlib.figure.Figure at 0x1c8420ab048>"
      ]
     },
     "metadata": {},
     "output_type": "display_data"
    }
   ],
   "source": [
    "fig,axes = plt.subplots(1,2)\n",
    "fig.set_size_inches(15,5)\n",
    "axes[0].set_title('Paragraphs')\n",
    "venn2([trn_p,tst_p],set_labels=['train','test'],ax=axes[0])\n",
    "axes[1].set_title('Questions')\n",
    "venn2([trn_q,tst_q],set_labels=['train','test'],ax=axes[1])\n",
    "plt.show()"
   ]
  },
  {
   "cell_type": "code",
   "execution_count": 7,
   "metadata": {},
   "outputs": [
    {
     "data": {
      "image/png": "[encoded data removed]",
      "text/plain": [
       "<matplotlib.figure.Figure at 0x1c8420a6390>"
      ]
     },
     "metadata": {},
     "output_type": "display_data"
    }
   ],
   "source": [
    "plt.figure(figsize=(5,5))\n",
    "sizes = list(df.groupby(by='target')['target'].count())\n",
    "labels = ['False','True']\n",
    "plt.pie(x=sizes,labels=labels,startangle=90)\n",
    "plt.show()"
   ]
  },
  {
   "cell_type": "markdown",
   "metadata": {},
   "source": [
    " ## TFIDF"
   ]
  },
  {
   "cell_type": "code",
   "execution_count": 8,
   "metadata": {
    "collapsed": true
   },
   "outputs": [],
   "source": [
    "import nltk\n",
    "from sklearn.feature_extraction.text import CountVectorizer\n",
    "from sklearn.feature_extraction.text import TfidfTransformer\n",
    "from nltk.stem import SnowballStemmer \n",
    "from nltk.corpus import stopwords\n",
    "\n",
    "import string"
   ]
  },
  {
   "cell_type": "code",
   "execution_count": 13,
   "metadata": {
    "collapsed": true
   },
   "outputs": [],
   "source": [
    "texts = list(df['paragraph'])+list(df['question'])+list(dft['paragraph'])+list(dft['question'])"
   ]
  },
  {
   "cell_type": "code",
   "execution_count": 10,
   "metadata": {},
   "outputs": [
    {
     "data": {
      "text/plain": [
       "['и',\n",
       " 'в',\n",
       " 'во',\n",
       " 'не',\n",
       " 'что',\n",
       " 'он',\n",
       " 'на',\n",
       " 'я',\n",
       " 'с',\n",
       " 'со',\n",
       " 'как',\n",
       " 'а',\n",
       " 'то',\n",
       " 'все',\n",
       " 'она',\n",
       " 'так',\n",
       " 'его',\n",
       " 'но',\n",
       " 'да',\n",
       " 'ты',\n",
       " 'к',\n",
       " 'у',\n",
       " 'же',\n",
       " 'вы',\n",
       " 'за',\n",
       " 'бы',\n",
       " 'по',\n",
       " 'только',\n",
       " 'ее',\n",
       " 'мне',\n",
       " 'было',\n",
       " 'вот',\n",
       " 'от',\n",
       " 'меня',\n",
       " 'еще',\n",
       " 'нет',\n",
       " 'о',\n",
       " 'из',\n",
       " 'ему',\n",
       " 'теперь',\n",
       " 'когда',\n",
       " 'даже',\n",
       " 'ну',\n",
       " 'вдруг',\n",
       " 'ли',\n",
       " 'если',\n",
       " 'уже',\n",
       " 'или',\n",
       " 'ни',\n",
       " 'быть',\n",
       " 'был',\n",
       " 'него',\n",
       " 'до',\n",
       " 'вас',\n",
       " 'нибудь',\n",
       " 'опять',\n",
       " 'уж',\n",
       " 'вам',\n",
       " 'ведь',\n",
       " 'там',\n",
       " 'потом',\n",
       " 'себя',\n",
       " 'ничего',\n",
       " 'ей',\n",
       " 'может',\n",
       " 'они',\n",
       " 'тут',\n",
       " 'где',\n",
       " 'есть',\n",
       " 'надо',\n",
       " 'ней',\n",
       " 'для',\n",
       " 'мы',\n",
       " 'тебя',\n",
       " 'их',\n",
       " 'чем',\n",
       " 'была',\n",
       " 'сам',\n",
       " 'чтоб',\n",
       " 'без',\n",
       " 'будто',\n",
       " 'чего',\n",
       " 'раз',\n",
       " 'тоже',\n",
       " 'себе',\n",
       " 'под',\n",
       " 'будет',\n",
       " 'ж',\n",
       " 'тогда',\n",
       " 'кто',\n",
       " 'этот',\n",
       " 'того',\n",
       " 'потому',\n",
       " 'этого',\n",
       " 'какой',\n",
       " 'совсем',\n",
       " 'ним',\n",
       " 'здесь',\n",
       " 'этом',\n",
       " 'один',\n",
       " 'почти',\n",
       " 'мой',\n",
       " 'тем',\n",
       " 'чтобы',\n",
       " 'нее',\n",
       " 'сейчас',\n",
       " 'были',\n",
       " 'куда',\n",
       " 'зачем',\n",
       " 'всех',\n",
       " 'никогда',\n",
       " 'можно',\n",
       " 'при',\n",
       " 'наконец',\n",
       " 'два',\n",
       " 'об',\n",
       " 'другой',\n",
       " 'хоть',\n",
       " 'после',\n",
       " 'над',\n",
       " 'больше',\n",
       " 'тот',\n",
       " 'через',\n",
       " 'эти',\n",
       " 'нас',\n",
       " 'про',\n",
       " 'всего',\n",
       " 'них',\n",
       " 'какая',\n",
       " 'много',\n",
       " 'разве',\n",
       " 'три',\n",
       " 'эту',\n",
       " 'моя',\n",
       " 'впрочем',\n",
       " 'хорошо',\n",
       " 'свою',\n",
       " 'этой',\n",
       " 'перед',\n",
       " 'иногда',\n",
       " 'лучше',\n",
       " 'чуть',\n",
       " 'том',\n",
       " 'нельзя',\n",
       " 'такой',\n",
       " 'им',\n",
       " 'более',\n",
       " 'всегда',\n",
       " 'конечно',\n",
       " 'всю',\n",
       " 'между']"
      ]
     },
     "execution_count": 10,
     "metadata": {},
     "output_type": "execute_result"
    }
   ],
   "source": [
    "stop_words = stopwords.words('russian')\n",
    "stop_words"
   ]
  },
  {
   "cell_type": "code",
   "execution_count": 11,
   "metadata": {
    "collapsed": true
   },
   "outputs": [],
   "source": [
    "wd = {}\n",
    "\n",
    "def tokenize(text):\n",
    "    tokens = nltk.word_tokenize(text)\n",
    "    tokens = [i.lower() for i in tokens if ( i not in string.punctuation+'—' )]\n",
    "    stop_words = stopwords.words('russian')\n",
    "    stop_words.extend(['что', 'это', 'так', 'вот', 'быть', 'как', 'в', '—', 'к', 'на'])\n",
    "    tokens = [i for i in tokens if ( i not in stop_words )]\n",
    "    stems = []\n",
    "    for item in tokens:\n",
    "        if item in wd.keys():\n",
    "            stems.append(wd[item])\n",
    "        else:\n",
    "            w = SnowballStemmer(language='russian').stem(item)\n",
    "            wd[item] = w\n",
    "            stems.append(w)\n",
    "    return stems"
   ]
  },
  {
   "cell_type": "code",
   "execution_count": 14,
   "metadata": {},
   "outputs": [
    {
     "name": "stdout",
     "output_type": "stream",
     "text": [
      "Wall time: 10min 45s\n",
      "(119398, 78005) (119398, 78005) (74294, 78005) (74294, 78005)\n"
     ]
    }
   ],
   "source": [
    "vtr = CountVectorizer(tokenizer=tokenize)\n",
    "%time vtr.fit(texts)\n",
    "df_p = vtr.transform(df['paragraph'])\n",
    "df_q = vtr.transform(df['question'])\n",
    "dft_p = vtr.transform(dft['paragraph'])\n",
    "dft_q = vtr.transform(dft['question'])\n",
    "print(df_p.shape,df_q.shape,dft_p.shape,dft_q.shape)"
   ]
  },
  {
   "cell_type": "code",
   "execution_count": 15,
   "metadata": {},
   "outputs": [
    {
     "data": {
      "text/plain": [
       "TfidfTransformer(norm='l2', smooth_idf=False, sublinear_tf=False,\n",
       "         use_idf=True)"
      ]
     },
     "execution_count": 15,
     "metadata": {},
     "output_type": "execute_result"
    }
   ],
   "source": [
    "from scipy import sparse\n",
    "tfidf = TfidfTransformer(smooth_idf=False,sublinear_tf=False)\n",
    "stk = sparse.vstack([df_p,df_q,dft_p,dft_q])\n",
    "tfidf.fit(stk)"
   ]
  },
  {
   "cell_type": "code",
   "execution_count": 16,
   "metadata": {
    "collapsed": true
   },
   "outputs": [],
   "source": [
    "from sklearn.metrics.pairwise import paired_cosine_distances\n",
    "dist_train = paired_cosine_distances(tfidf.transform(df_p),tfidf.transform(df_q))\n",
    "dist_test = paired_cosine_distances(tfidf.transform(dft_p),tfidf.transform(dft_q))"
   ]
  },
  {
   "cell_type": "code",
   "execution_count": 17,
   "metadata": {
    "collapsed": true
   },
   "outputs": [],
   "source": [
    "df['cos_dist'] = dist_train\n",
    "dft['cos_dist'] = dist_test"
   ]
  },
  {
   "cell_type": "code",
   "execution_count": 18,
   "metadata": {},
   "outputs": [
    {
     "data": {
      "image/png": "[encoded data removed]",
      "text/plain": [
       "<matplotlib.figure.Figure at 0x1c848c87e48>"
      ]
     },
     "metadata": {},
     "output_type": "display_data"
    },
    {
     "data": {
      "image/png": "[encoded data removed]",
      "text/plain": [
       "<matplotlib.figure.Figure at 0x1c8492609e8>"
      ]
     },
     "metadata": {},
     "output_type": "display_data"
    }
   ],
   "source": [
    "h = pd.DataFrame({'target':df['target'],'distance':dist_train})\n",
    "h[h['target']==0]['distance'].hist(bins=100)\n",
    "plt.show()\n",
    "h[h['target']==1]['distance'].hist(bins=100)\n",
    "plt.show()\n"
   ]
  },
  {
   "cell_type": "code",
   "execution_count": 19,
   "metadata": {},
   "outputs": [
    {
     "name": "stdout",
     "output_type": "stream",
     "text": [
      "             precision    recall  f1-score   support\n",
      "\n",
      "        0.0       0.93      0.96      0.94     81935\n",
      "        1.0       0.91      0.83      0.87     37463\n",
      "\n",
      "avg / total       0.92      0.92      0.92    119398\n",
      "\n"
     ]
    }
   ],
   "source": [
    "from sklearn.linear_model import LogisticRegression\n",
    "from sklearn.metrics import classification_report\n",
    "\n",
    "lr = LogisticRegression(class_weight={0: 1, 1: 2.5078884743073715})\n",
    "\n",
    "lr.fit(dist_train.reshape(-1,1),df['target'].values)\n",
    "\n",
    "print(classification_report(lr.predict(dist_train.reshape(-1,1)),df['target']))"
   ]
  },
  {
   "cell_type": "code",
   "execution_count": 20,
   "metadata": {
    "collapsed": true
   },
   "outputs": [],
   "source": [
    "dft['prediction'] = lr.predict(dist_test.reshape(-1,1))\n"
   ]
  },
  {
   "cell_type": "code",
   "execution_count": 22,
   "metadata": {},
   "outputs": [],
   "source": [
    "dft[['paragraph_id','question_id','prediction']].to_csv('simp_cosine_v2.csv',index=False)"
   ]
  },
  {
   "cell_type": "code",
   "execution_count": 23,
   "metadata": {
    "collapsed": true
   },
   "outputs": [],
   "source": [
    "dft['zero'] = 0"
   ]
  },
  {
   "cell_type": "code",
   "execution_count": 24,
   "metadata": {
    "collapsed": true
   },
   "outputs": [],
   "source": [
    "dftz = dft[['paragraph_id','question_id','zero']]\n",
    "dftz.columns = [['paragraph_id','question_id','prediction']]"
   ]
  },
  {
   "cell_type": "code",
   "execution_count": 25,
   "metadata": {
    "collapsed": true
   },
   "outputs": [],
   "source": [
    "dftz.to_csv('simp_zeros.csv',index=False)"
   ]
  },
  {
   "cell_type": "code",
   "execution_count": 26,
   "metadata": {
    "collapsed": true
   },
   "outputs": [],
   "source": [
    "fr = sizes[0]/np.sum(sizes)"
   ]
  },
  {
   "cell_type": "code",
   "execution_count": 27,
   "metadata": {
    "collapsed": true
   },
   "outputs": [],
   "source": [
    "tr = sizes[1]/np.sum(sizes)"
   ]
  },
  {
   "cell_type": "code",
   "execution_count": 28,
   "metadata": {},
   "outputs": [
    {
     "data": {
      "text/plain": [
       "2.5078884743073715"
      ]
     },
     "execution_count": 28,
     "metadata": {},
     "output_type": "execute_result"
    }
   ],
   "source": [
    "fr/tr"
   ]
  },
  {
   "cell_type": "code",
   "execution_count": 29,
   "metadata": {
    "collapsed": true
   },
   "outputs": [],
   "source": [
    "for i,r in df.iterrows():\n",
    "    question = tokenize(r.question)\n",
    "    paragraph = tokenize(r.paragraph)\n",
    "    df.loc[i, 'len_paragraph'] = len(paragraph)\n",
    "    df.loc[i, 'len_question'] = len(question)\n",
    "    df.loc[i, 'len_intersection'] = len(set(paragraph) & set(question))\n",
    "#    df.loc[i, 'idf_question'] = np.sum([idfs.get(word, 0.0) for word in question])\n",
    "#    df.loc[i, 'idf_paragraph'] = np.sum([idfs.get(word, 0.0) for word in paragraph])\n",
    "#    df.loc[i, 'idf_intersection'] = np.sum([idfs.get(word, 0.0) for word in paragraph & qu    "
   ]
  },
  {
   "cell_type": "code",
   "execution_count": 30,
   "metadata": {
    "collapsed": true
   },
   "outputs": [],
   "source": [
    "for i,r in dft.iterrows():\n",
    "    question = tokenize(r.question)\n",
    "    paragraph = tokenize(r.paragraph)\n",
    "    dft.loc[i, 'len_paragraph'] = len(paragraph)\n",
    "    dft.loc[i, 'len_question'] = len(question)\n",
    "    dft.loc[i, 'len_intersection'] = len(set(paragraph) & set(question))\n",
    "#    df.loc[i, 'idf_question'] = np.sum([idfs.get(word, 0.0) for word in question])\n",
    "#    df.loc[i, 'idf_paragraph'] = np.sum([idfs.get(word, 0.0) for word in paragraph])\n",
    "#    df.loc[i, 'idf_intersection'] = np.sum([idfs.get(word, 0.0) for word in paragraph & qu    "
   ]
  },
  {
   "cell_type": "code",
   "execution_count": 31,
   "metadata": {},
   "outputs": [
    {
     "data": {
      "text/plain": [
       "Index(['paragraph_id', 'question_id', 'paragraph', 'question', 'target',\n",
       "       'cos_dist', 'len_paragraph', 'len_question', 'len_intersection'],\n",
       "      dtype='object')"
      ]
     },
     "execution_count": 31,
     "metadata": {},
     "output_type": "execute_result"
    }
   ],
   "source": [
    "df.columns"
   ]
  },
  {
   "cell_type": "code",
   "execution_count": 42,
   "metadata": {},
   "outputs": [
    {
     "name": "stdout",
     "output_type": "stream",
     "text": [
      "             precision    recall  f1-score   support\n",
      "\n",
      "        0.0       0.97      0.98      0.98     84830\n",
      "        1.0       0.95      0.93      0.94     34568\n",
      "\n",
      "avg / total       0.97      0.97      0.97    119398\n",
      "\n"
     ]
    }
   ],
   "source": [
    "import xgboost as xgb\n",
    "xgbc = xgb.XGBClassifier(learning_rate=0.01,n_estimators=1000)\n",
    "train_x = df[['cos_dist','len_paragraph','len_question','len_intersection']]\n",
    "test_x = dft[['cos_dist','len_paragraph','len_question','len_intersection']]\n",
    "\n",
    "train_y = df['target']\n",
    "\n",
    "xgbc.fit(\n",
    "    X=train_x.values,\n",
    "    y=train_y.values,\n",
    "    eval_metric='auc',\n",
    "    verbose=True)\n",
    "print(classification_report(xgbc.predict(train_x.values),train_y.values))\n",
    "dft['prediction'] = xgbc.predict(test_x.values)\n",
    "dft[['paragraph_id','question_id','prediction']].\\\n",
    "to_csv('xgb_cosine_bl.csv',index=False)"
   ]
  },
  {
   "cell_type": "code",
   "execution_count": 33,
   "metadata": {},
   "outputs": [
    {
     "data": {
      "text/html": [
       "<div>\n",
       "<style>\n",
       "    .dataframe thead tr:only-child th {\n",
       "        text-align: right;\n",
       "    }\n",
       "\n",
       "    .dataframe thead th {\n",
       "        text-align: left;\n",
       "    }\n",
       "\n",
       "    .dataframe tbody tr th {\n",
       "        vertical-align: top;\n",
       "    }\n",
       "</style>\n",
       "<table border=\"1\" class=\"dataframe\">\n",
       "  <thead>\n",
       "    <tr style=\"text-align: right;\">\n",
       "      <th></th>\n",
       "      <th>paragraph_id</th>\n",
       "      <th>question_id</th>\n",
       "      <th>paragraph</th>\n",
       "      <th>question</th>\n",
       "      <th>cos_dist</th>\n",
       "      <th>prediction</th>\n",
       "      <th>zero</th>\n",
       "      <th>len_paragraph</th>\n",
       "      <th>len_question</th>\n",
       "      <th>len_intersection</th>\n",
       "    </tr>\n",
       "  </thead>\n",
       "  <tbody>\n",
       "    <tr>\n",
       "      <th>0</th>\n",
       "      <td>1361</td>\n",
       "      <td>6463</td>\n",
       "      <td>Передний мозг сильно развит, это самая большая...</td>\n",
       "      <td>В какой мифологии два ворона Хугин и Мунин шеп...</td>\n",
       "      <td>1.000000</td>\n",
       "      <td>0.000696</td>\n",
       "      <td>0</td>\n",
       "      <td>109.0</td>\n",
       "      <td>9.0</td>\n",
       "      <td>0.0</td>\n",
       "    </tr>\n",
       "    <tr>\n",
       "      <th>1</th>\n",
       "      <td>1403</td>\n",
       "      <td>34696</td>\n",
       "      <td>Мирмекологи исследуют муравьёв как в лаборатор...</td>\n",
       "      <td>Когда инсайдер покупает или гипотезы чего эвол...</td>\n",
       "      <td>0.840197</td>\n",
       "      <td>0.016151</td>\n",
       "      <td>0</td>\n",
       "      <td>69.0</td>\n",
       "      <td>14.0</td>\n",
       "      <td>5.0</td>\n",
       "    </tr>\n",
       "    <tr>\n",
       "      <th>2</th>\n",
       "      <td>1435</td>\n",
       "      <td>13751</td>\n",
       "      <td>Волновая: свет представляет собой волну в неви...</td>\n",
       "      <td>Какие предположения, по мнению Ньютона, допуст...</td>\n",
       "      <td>0.963576</td>\n",
       "      <td>0.005885</td>\n",
       "      <td>0</td>\n",
       "      <td>49.0</td>\n",
       "      <td>8.0</td>\n",
       "      <td>1.0</td>\n",
       "    </tr>\n",
       "    <tr>\n",
       "      <th>3</th>\n",
       "      <td>341</td>\n",
       "      <td>38544</td>\n",
       "      <td>Живые организмы подчиняются началам термодинам...</td>\n",
       "      <td>В каких условиях метаболизм поддерживает поряд...</td>\n",
       "      <td>0.684151</td>\n",
       "      <td>0.988915</td>\n",
       "      <td>0</td>\n",
       "      <td>82.0</td>\n",
       "      <td>8.0</td>\n",
       "      <td>7.0</td>\n",
       "    </tr>\n",
       "    <tr>\n",
       "      <th>4</th>\n",
       "      <td>1317</td>\n",
       "      <td>14589</td>\n",
       "      <td>Файлы нелатинского текста в Юникоде всегда зан...</td>\n",
       "      <td>Каким мелодиям Прокофьева особенно не укладыва...</td>\n",
       "      <td>0.691338</td>\n",
       "      <td>0.642134</td>\n",
       "      <td>0</td>\n",
       "      <td>75.0</td>\n",
       "      <td>21.0</td>\n",
       "      <td>9.0</td>\n",
       "    </tr>\n",
       "    <tr>\n",
       "      <th>5</th>\n",
       "      <td>412</td>\n",
       "      <td>26912</td>\n",
       "      <td>Впоследствии, на основе анархо-панка было сфор...</td>\n",
       "      <td>Какая песня стала гимном панк-движения?</td>\n",
       "      <td>0.959922</td>\n",
       "      <td>0.103678</td>\n",
       "      <td>0</td>\n",
       "      <td>105.0</td>\n",
       "      <td>4.0</td>\n",
       "      <td>1.0</td>\n",
       "    </tr>\n",
       "    <tr>\n",
       "      <th>6</th>\n",
       "      <td>1282</td>\n",
       "      <td>18076</td>\n",
       "      <td>После этого из цифровых базовых матричных крис...</td>\n",
       "      <td>Каким методом модель ЦП доводится до ума?</td>\n",
       "      <td>0.969949</td>\n",
       "      <td>0.026801</td>\n",
       "      <td>0</td>\n",
       "      <td>48.0</td>\n",
       "      <td>6.0</td>\n",
       "      <td>1.0</td>\n",
       "    </tr>\n",
       "    <tr>\n",
       "      <th>7</th>\n",
       "      <td>689</td>\n",
       "      <td>19755</td>\n",
       "      <td>Хозяевами паразитических грибов чаще всего явл...</td>\n",
       "      <td>При какой рекомбинации у высших грибов диплоид...</td>\n",
       "      <td>0.917850</td>\n",
       "      <td>0.001485</td>\n",
       "      <td>0</td>\n",
       "      <td>162.0</td>\n",
       "      <td>12.0</td>\n",
       "      <td>2.0</td>\n",
       "    </tr>\n",
       "    <tr>\n",
       "      <th>8</th>\n",
       "      <td>1455</td>\n",
       "      <td>36313</td>\n",
       "      <td>Аморальное деяние может обрести статус преступ...</td>\n",
       "      <td>Когда деяние совершается в соответствующую уго...</td>\n",
       "      <td>0.573716</td>\n",
       "      <td>0.987567</td>\n",
       "      <td>0</td>\n",
       "      <td>52.0</td>\n",
       "      <td>25.0</td>\n",
       "      <td>13.0</td>\n",
       "    </tr>\n",
       "    <tr>\n",
       "      <th>9</th>\n",
       "      <td>432</td>\n",
       "      <td>12545</td>\n",
       "      <td>Трудно определить, какой язык программирования...</td>\n",
       "      <td>Где может исполняться программа на языке треть...</td>\n",
       "      <td>0.833618</td>\n",
       "      <td>0.463309</td>\n",
       "      <td>0</td>\n",
       "      <td>79.0</td>\n",
       "      <td>5.0</td>\n",
       "      <td>2.0</td>\n",
       "    </tr>\n",
       "  </tbody>\n",
       "</table>\n",
       "</div>"
      ],
      "text/plain": [
       "   paragraph_id  question_id  \\\n",
       "0          1361         6463   \n",
       "1          1403        34696   \n",
       "2          1435        13751   \n",
       "3           341        38544   \n",
       "4          1317        14589   \n",
       "5           412        26912   \n",
       "6          1282        18076   \n",
       "7           689        19755   \n",
       "8          1455        36313   \n",
       "9           432        12545   \n",
       "\n",
       "                                           paragraph  \\\n",
       "0  Передний мозг сильно развит, это самая большая...   \n",
       "1  Мирмекологи исследуют муравьёв как в лаборатор...   \n",
       "2  Волновая: свет представляет собой волну в неви...   \n",
       "3  Живые организмы подчиняются началам термодинам...   \n",
       "4  Файлы нелатинского текста в Юникоде всегда зан...   \n",
       "5  Впоследствии, на основе анархо-панка было сфор...   \n",
       "6  После этого из цифровых базовых матричных крис...   \n",
       "7  Хозяевами паразитических грибов чаще всего явл...   \n",
       "8  Аморальное деяние может обрести статус преступ...   \n",
       "9  Трудно определить, какой язык программирования...   \n",
       "\n",
       "                                            question  cos_dist  prediction  \\\n",
       "0  В какой мифологии два ворона Хугин и Мунин шеп...  1.000000    0.000696   \n",
       "1  Когда инсайдер покупает или гипотезы чего эвол...  0.840197    0.016151   \n",
       "2  Какие предположения, по мнению Ньютона, допуст...  0.963576    0.005885   \n",
       "3  В каких условиях метаболизм поддерживает поряд...  0.684151    0.988915   \n",
       "4  Каким мелодиям Прокофьева особенно не укладыва...  0.691338    0.642134   \n",
       "5            Какая песня стала гимном панк-движения?  0.959922    0.103678   \n",
       "6          Каким методом модель ЦП доводится до ума?  0.969949    0.026801   \n",
       "7  При какой рекомбинации у высших грибов диплоид...  0.917850    0.001485   \n",
       "8  Когда деяние совершается в соответствующую уго...  0.573716    0.987567   \n",
       "9  Где может исполняться программа на языке треть...  0.833618    0.463309   \n",
       "\n",
       "   zero  len_paragraph  len_question  len_intersection  \n",
       "0     0          109.0           9.0               0.0  \n",
       "1     0           69.0          14.0               5.0  \n",
       "2     0           49.0           8.0               1.0  \n",
       "3     0           82.0           8.0               7.0  \n",
       "4     0           75.0          21.0               9.0  \n",
       "5     0          105.0           4.0               1.0  \n",
       "6     0           48.0           6.0               1.0  \n",
       "7     0          162.0          12.0               2.0  \n",
       "8     0           52.0          25.0              13.0  \n",
       "9     0           79.0           5.0               2.0  "
      ]
     },
     "execution_count": 33,
     "metadata": {},
     "output_type": "execute_result"
    }
   ],
   "source": [
    "dft.head(10)"
   ]
  },
  {
   "cell_type": "code",
   "execution_count": 34,
   "metadata": {},
   "outputs": [
    {
     "data": {
      "text/plain": [
       "array([ 0.00069588,  0.01615143,  0.00588479, ...,  0.00122495,\n",
       "        0.0012934 ,  0.04426577], dtype=float32)"
      ]
     },
     "execution_count": 34,
     "metadata": {},
     "output_type": "execute_result"
    }
   ],
   "source": [
    "xgbc.predict_proba(test_x.values)[:,1]"
   ]
  },
  {
   "cell_type": "code",
   "execution_count": 35,
   "metadata": {},
   "outputs": [
    {
     "data": {
      "text/html": [
       "<div>\n",
       "<style>\n",
       "    .dataframe thead tr:only-child th {\n",
       "        text-align: right;\n",
       "    }\n",
       "\n",
       "    .dataframe thead th {\n",
       "        text-align: left;\n",
       "    }\n",
       "\n",
       "    .dataframe tbody tr th {\n",
       "        vertical-align: top;\n",
       "    }\n",
       "</style>\n",
       "<table border=\"1\" class=\"dataframe\">\n",
       "  <thead>\n",
       "    <tr style=\"text-align: right;\">\n",
       "      <th></th>\n",
       "      <th>importance</th>\n",
       "      <th>var</th>\n",
       "    </tr>\n",
       "  </thead>\n",
       "  <tbody>\n",
       "    <tr>\n",
       "      <th>0</th>\n",
       "      <td>0.195283</td>\n",
       "      <td>cos_dist</td>\n",
       "    </tr>\n",
       "    <tr>\n",
       "      <th>1</th>\n",
       "      <td>0.142939</td>\n",
       "      <td>len_paragraph</td>\n",
       "    </tr>\n",
       "    <tr>\n",
       "      <th>2</th>\n",
       "      <td>0.405953</td>\n",
       "      <td>len_question</td>\n",
       "    </tr>\n",
       "    <tr>\n",
       "      <th>3</th>\n",
       "      <td>0.255824</td>\n",
       "      <td>len_intersection</td>\n",
       "    </tr>\n",
       "  </tbody>\n",
       "</table>\n",
       "</div>"
      ],
      "text/plain": [
       "   importance               var\n",
       "0    0.195283          cos_dist\n",
       "1    0.142939     len_paragraph\n",
       "2    0.405953      len_question\n",
       "3    0.255824  len_intersection"
      ]
     },
     "execution_count": 35,
     "metadata": {},
     "output_type": "execute_result"
    }
   ],
   "source": [
    "pd.DataFrame({'importance':xgbc.feature_importances_,'var':test_x.columns})"
   ]
  },
  {
   "cell_type": "code",
   "execution_count": 36,
   "metadata": {
    "collapsed": true
   },
   "outputs": [],
   "source": [
    "txt = df['paragraph'][0]"
   ]
  },
  {
   "cell_type": "code",
   "execution_count": 67,
   "metadata": {},
   "outputs": [
    {
     "ename": "TypeError",
     "evalue": "__init__() missing 1 required positional argument: 'productions'",
     "output_type": "error",
     "traceback": [
      "\u001b[0;31m---------------------------------------------------------------------------\u001b[0m",
      "\u001b[0;31mTypeError\u001b[0m                                 Traceback (most recent call last)",
      "\u001b[0;32m<ipython-input-67-c2d109640a0d>\u001b[0m in \u001b[0;36m<module>\u001b[0;34m()\u001b[0m\n\u001b[0;32m----> 1\u001b[0;31m \u001b[0mnltk\u001b[0m\u001b[0;34m.\u001b[0m\u001b[0mgrammar\u001b[0m\u001b[0;34m.\u001b[0m\u001b[0mDependencyGrammar\u001b[0m\u001b[0;34m(\u001b[0m\u001b[0;34m)\u001b[0m\u001b[0;34m\u001b[0m\u001b[0m\n\u001b[0m",
      "\u001b[0;31mTypeError\u001b[0m: __init__() missing 1 required positional argument: 'productions'"
     ]
    }
   ],
   "source": [
    "nltk.grammar.DependencyGrammar()"
   ]
  },
  {
   "cell_type": "code",
   "execution_count": 37,
   "metadata": {},
   "outputs": [
    {
     "data": {
      "text/html": [
       "<div>\n",
       "<style>\n",
       "    .dataframe thead tr:only-child th {\n",
       "        text-align: right;\n",
       "    }\n",
       "\n",
       "    .dataframe thead th {\n",
       "        text-align: left;\n",
       "    }\n",
       "\n",
       "    .dataframe tbody tr th {\n",
       "        vertical-align: top;\n",
       "    }\n",
       "</style>\n",
       "<table border=\"1\" class=\"dataframe\">\n",
       "  <thead>\n",
       "    <tr style=\"text-align: right;\">\n",
       "      <th></th>\n",
       "      <th>paragraph_id</th>\n",
       "      <th>question_id</th>\n",
       "      <th>prediction</th>\n",
       "    </tr>\n",
       "  </thead>\n",
       "  <tbody>\n",
       "    <tr>\n",
       "      <th>0</th>\n",
       "      <td>1361</td>\n",
       "      <td>6463</td>\n",
       "      <td>0.000696</td>\n",
       "    </tr>\n",
       "    <tr>\n",
       "      <th>1</th>\n",
       "      <td>1403</td>\n",
       "      <td>34696</td>\n",
       "      <td>0.016151</td>\n",
       "    </tr>\n",
       "    <tr>\n",
       "      <th>2</th>\n",
       "      <td>1435</td>\n",
       "      <td>13751</td>\n",
       "      <td>0.005885</td>\n",
       "    </tr>\n",
       "    <tr>\n",
       "      <th>3</th>\n",
       "      <td>341</td>\n",
       "      <td>38544</td>\n",
       "      <td>0.988915</td>\n",
       "    </tr>\n",
       "    <tr>\n",
       "      <th>4</th>\n",
       "      <td>1317</td>\n",
       "      <td>14589</td>\n",
       "      <td>0.642134</td>\n",
       "    </tr>\n",
       "  </tbody>\n",
       "</table>\n",
       "</div>"
      ],
      "text/plain": [
       "   paragraph_id  question_id  prediction\n",
       "0          1361         6463    0.000696\n",
       "1          1403        34696    0.016151\n",
       "2          1435        13751    0.005885\n",
       "3           341        38544    0.988915\n",
       "4          1317        14589    0.642134"
      ]
     },
     "execution_count": 37,
     "metadata": {},
     "output_type": "execute_result"
    }
   ],
   "source": [
    "res_check = pd.read_csv('xgb_cosine_bl.csv')\n",
    "res_check.head()"
   ]
  },
  {
   "cell_type": "code",
   "execution_count": 43,
   "metadata": {},
   "outputs": [
    {
     "data": {
      "text/html": [
       "<div>\n",
       "<style>\n",
       "    .dataframe thead tr:only-child th {\n",
       "        text-align: right;\n",
       "    }\n",
       "\n",
       "    .dataframe thead th {\n",
       "        text-align: left;\n",
       "    }\n",
       "\n",
       "    .dataframe tbody tr th {\n",
       "        vertical-align: top;\n",
       "    }\n",
       "</style>\n",
       "<table border=\"1\" class=\"dataframe\">\n",
       "  <thead>\n",
       "    <tr style=\"text-align: right;\">\n",
       "      <th></th>\n",
       "      <th>paragraph_id</th>\n",
       "      <th>question_id</th>\n",
       "      <th>prediction</th>\n",
       "    </tr>\n",
       "  </thead>\n",
       "  <tbody>\n",
       "    <tr>\n",
       "      <th>0</th>\n",
       "      <td>1361</td>\n",
       "      <td>6463</td>\n",
       "      <td>1.0</td>\n",
       "    </tr>\n",
       "    <tr>\n",
       "      <th>1</th>\n",
       "      <td>1403</td>\n",
       "      <td>34696</td>\n",
       "      <td>1.0</td>\n",
       "    </tr>\n",
       "    <tr>\n",
       "      <th>2</th>\n",
       "      <td>1435</td>\n",
       "      <td>13751</td>\n",
       "      <td>1.0</td>\n",
       "    </tr>\n",
       "    <tr>\n",
       "      <th>3</th>\n",
       "      <td>341</td>\n",
       "      <td>38544</td>\n",
       "      <td>0.0</td>\n",
       "    </tr>\n",
       "    <tr>\n",
       "      <th>4</th>\n",
       "      <td>1317</td>\n",
       "      <td>14589</td>\n",
       "      <td>0.0</td>\n",
       "    </tr>\n",
       "  </tbody>\n",
       "</table>\n",
       "</div>"
      ],
      "text/plain": [
       "   paragraph_id  question_id  prediction\n",
       "0          1361         6463         1.0\n",
       "1          1403        34696         1.0\n",
       "2          1435        13751         1.0\n",
       "3           341        38544         0.0\n",
       "4          1317        14589         0.0"
      ]
     },
     "execution_count": 43,
     "metadata": {},
     "output_type": "execute_result"
    }
   ],
   "source": [
    "res_check2 = pd.read_csv('xgb_cosine_bl.csv')\n",
    "res_check2.prediction = list(map(lambda x: 1.0 if x==0.0 else 0.0, list(res_check2.prediction)))\n",
    "res_check2.head()"
   ]
  },
  {
   "cell_type": "code",
   "execution_count": 44,
   "metadata": {
    "collapsed": true
   },
   "outputs": [],
   "source": [
    "res_check2.to_csv('xgb_cosine_bl_stas_sol_inversr.csv',index=False)"
   ]
  },
  {
   "cell_type": "code",
   "execution_count": null,
   "metadata": {
    "collapsed": true
   },
   "outputs": [],
   "source": []
  }
 ],
 "metadata": {
  "kernelspec": {
   "display_name": "Python 3",
   "language": "python",
   "name": "python3"
  },
  "language_info": {
   "codemirror_mode": {
    "name": "ipython",
    "version": 3
   },
   "file_extension": ".py",
   "mimetype": "text/x-python",
   "name": "python",
   "nbconvert_exporter": "python",
   "pygments_lexer": "ipython3",
   "version": "3.5.2"
  },
  "toc": {
   "colors": {
    "hover_highlight": "#DAA520",
    "navigate_num": "#000000",
    "navigate_text": "#333333",
    "running_highlight": "#FF0000",
    "selected_highlight": "#FFD700",
    "sidebar_border": "#EEEEEE",
    "wrapper_background": "#FFFFFF"
   },
   "moveMenuLeft": true,
   "nav_menu": {
    "height": "48px",
    "width": "252px"
   },
   "navigate_menu": true,
   "number_sections": true,
   "sideBar": true,
   "threshold": 4,
   "toc_cell": false,
   "toc_section_display": "block",
   "toc_window_display": false,
   "widenNotebook": false
  }
 },
 "nbformat": 4,
 "nbformat_minor": 2
}
