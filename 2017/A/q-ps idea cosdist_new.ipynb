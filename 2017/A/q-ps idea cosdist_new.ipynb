{
 "cells": [
  {
   "cell_type": "code",
   "execution_count": 78,
   "metadata": {
    "collapsed": true
   },
   "outputs": [],
   "source": [
    "import pandas as pd\n",
    "import pymorphy2 as pm\n",
    "morph = pm.MorphAnalyzer()\n",
    "import ast\n",
    "from tqdm import tqdm_notebook\n",
    "\n",
    "import random\n",
    "from random import shuffle\n",
    "\n",
    "import matplotlib.pyplot as plt\n",
    "plt.style.use('bmh')\n",
    "import seaborn as sns\n",
    "\n",
    "import warnings\n",
    "warnings.filterwarnings(\"ignore\")\n",
    "\n",
    "import numpy as np\n",
    "import xgboost as xgb"
   ]
  },
  {
   "cell_type": "code",
   "execution_count": 2,
   "metadata": {
    "collapsed": true
   },
   "outputs": [],
   "source": [
    "matplotlib inline"
   ]
  },
  {
   "cell_type": "code",
   "execution_count": 11,
   "metadata": {
    "collapsed": true
   },
   "outputs": [],
   "source": [
    "dftrain, dftest = pd.read_csv(\"./trainTDIDF.csv\"), pd.read_csv(\"./testTFIDF.csv\")"
   ]
  },
  {
   "cell_type": "code",
   "execution_count": 4,
   "metadata": {
    "collapsed": true
   },
   "outputs": [],
   "source": [
    "from sklearn.metrics.pairwise import paired_cosine_distances"
   ]
  },
  {
   "cell_type": "code",
   "execution_count": 5,
   "metadata": {
    "collapsed": true
   },
   "outputs": [],
   "source": [
    "import nltk\n",
    "from sklearn.feature_extraction.text import CountVectorizer\n",
    "from sklearn.feature_extraction.text import TfidfTransformer\n",
    "from sklearn.feature_extraction.text import TfidfVectorizer\n",
    "from nltk.stem import SnowballStemmer \n",
    "from nltk.corpus import stopwords\n",
    "\n",
    "import string"
   ]
  },
  {
   "cell_type": "code",
   "execution_count": 12,
   "metadata": {
    "collapsed": true
   },
   "outputs": [],
   "source": [
    "dftest = dftest[['paragraph', 'paragraph_id', 'question',\n",
    "       'question_id', 'target', 'sent_paragraph', 'num_sent_paragraph',\n",
    "       'tokens_sent_paragraph', 'name_sent_paragraph', 'verb_sent_paragraph',\n",
    "       'latn_sent_paragraph', 'adj_sent_paragraph', 'noun_sent_paragraph',\n",
    "       'tokens_question_up', 'qw_nf_question_up', 'qw_question_up',\n",
    "       'qw_long_question_up', 'name_question_up', 'verb_question_up',\n",
    "       'latn_question_up', 'num_question_up', 'adj_question_up',\n",
    "       'noun_question_up', 'best_sent', 'len_inr', 'len_name', 'len_verb',\n",
    "       'len_latn', 'len_num', 'len_adj', 'len_noun',\n",
    "       'tokens_paragraph_up']]"
   ]
  },
  {
   "cell_type": "code",
   "execution_count": 13,
   "metadata": {
    "collapsed": true
   },
   "outputs": [],
   "source": [
    "dftrain = dftrain[['paragraph', 'paragraph_id', 'question',\n",
    "       'question_id', 'target', 'sent_paragraph', 'num_sent_paragraph',\n",
    "       'tokens_sent_paragraph', 'name_sent_paragraph', 'verb_sent_paragraph',\n",
    "       'latn_sent_paragraph', 'adj_sent_paragraph', 'noun_sent_paragraph',\n",
    "       'tokens_question_up', 'qw_nf_question_up', 'qw_question_up',\n",
    "       'qw_long_question_up', 'name_question_up', 'verb_question_up',\n",
    "       'latn_question_up', 'num_question_up', 'adj_question_up',\n",
    "       'noun_question_up', 'best_sent', 'len_inr', 'len_name', 'len_verb',\n",
    "       'len_latn', 'len_num', 'len_adj', 'len_noun', \n",
    "       'tokens_paragraph_up']]"
   ]
  },
  {
   "cell_type": "code",
   "execution_count": 14,
   "metadata": {
    "collapsed": true
   },
   "outputs": [],
   "source": [
    "dftest = dftest.drop_duplicates()\n",
    "dftrain = dftrain.drop_duplicates()"
   ]
  },
  {
   "cell_type": "code",
   "execution_count": 15,
   "metadata": {},
   "outputs": [
    {
     "data": {
      "text/plain": [
       "(74290, 32)"
      ]
     },
     "execution_count": 15,
     "metadata": {},
     "output_type": "execute_result"
    }
   ],
   "source": [
    "dftest.shape"
   ]
  },
  {
   "cell_type": "code",
   "execution_count": 16,
   "metadata": {},
   "outputs": [
    {
     "data": {
      "text/plain": [
       "(119398, 32)"
      ]
     },
     "execution_count": 16,
     "metadata": {},
     "output_type": "execute_result"
    }
   ],
   "source": [
    "dftrain.shape"
   ]
  },
  {
   "cell_type": "code",
   "execution_count": 34,
   "metadata": {
    "collapsed": true
   },
   "outputs": [],
   "source": [
    "pd=dftest.groupby(['question_id', 'paragraph_id']).agg({'paragraph_id': 'count'})"
   ]
  },
  {
   "cell_type": "code",
   "execution_count": 35,
   "metadata": {},
   "outputs": [
    {
     "data": {
      "text/html": [
       "<div>\n",
       "<style>\n",
       "    .dataframe thead tr:only-child th {\n",
       "        text-align: right;\n",
       "    }\n",
       "\n",
       "    .dataframe thead th {\n",
       "        text-align: left;\n",
       "    }\n",
       "\n",
       "    .dataframe tbody tr th {\n",
       "        vertical-align: top;\n",
       "    }\n",
       "</style>\n",
       "<table border=\"1\" class=\"dataframe\">\n",
       "  <thead>\n",
       "    <tr style=\"text-align: right;\">\n",
       "      <th></th>\n",
       "      <th></th>\n",
       "      <th>paragraph_id</th>\n",
       "    </tr>\n",
       "    <tr>\n",
       "      <th>question_id</th>\n",
       "      <th>paragraph_id</th>\n",
       "      <th></th>\n",
       "    </tr>\n",
       "  </thead>\n",
       "  <tbody>\n",
       "  </tbody>\n",
       "</table>\n",
       "</div>"
      ],
      "text/plain": [
       "Empty DataFrame\n",
       "Columns: [paragraph_id]\n",
       "Index: []"
      ]
     },
     "execution_count": 35,
     "metadata": {},
     "output_type": "execute_result"
    }
   ],
   "source": [
    "pd[pd['paragraph_id']>1]"
   ]
  },
  {
   "cell_type": "markdown",
   "metadata": {},
   "source": [
    "## Подготовка данных "
   ]
  },
  {
   "cell_type": "markdown",
   "metadata": {},
   "source": [
    "#### Частота по вопросам, параграфам "
   ]
  },
  {
   "cell_type": "code",
   "execution_count": 17,
   "metadata": {
    "collapsed": true
   },
   "outputs": [],
   "source": [
    "test_question = dftest.groupby(['question']).agg({'paragraph_id': 'count'})\n",
    "test_question = pd.DataFrame({'question': test_question.index, 'count_q': test_question.paragraph_id})\n",
    "test_question['count_q'] = test_question['count_q'].astype(int)\n",
    "dftest = dftest.merge(test_question, how = 'left', on='question')"
   ]
  },
  {
   "cell_type": "code",
   "execution_count": 18,
   "metadata": {
    "collapsed": true
   },
   "outputs": [],
   "source": [
    "test_par = dftest.groupby(['paragraph_id']).agg({'question_id': 'count'})\n",
    "test_par = pd.DataFrame({'paragraph_id': test_par.index, 'count_p': test_par.question_id})\n",
    "test_par['count_p'] = test_par['count_p'].astype(int)\n",
    "dftest = dftest.merge(test_par, how = 'left', on='paragraph_id')"
   ]
  },
  {
   "cell_type": "code",
   "execution_count": 19,
   "metadata": {
    "collapsed": true
   },
   "outputs": [],
   "source": [
    "train_question = dftrain.groupby(['question']).agg({'paragraph_id': 'count'})\n",
    "train_question = pd.DataFrame({'question': train_question.index, 'count_q': train_question.paragraph_id})\n",
    "train_question['count_q'] = train_question['count_q'].astype(int)\n",
    "dftrain = dftrain.merge(train_question, how = 'left', on='question')"
   ]
  },
  {
   "cell_type": "code",
   "execution_count": 20,
   "metadata": {
    "collapsed": true
   },
   "outputs": [],
   "source": [
    "train_par = dftrain.groupby(['paragraph_id']).agg({'question_id': 'count'})\n",
    "train_par = pd.DataFrame({'paragraph_id': train_par.index, 'count_p': train_par.question_id})\n",
    "train_par['count_p'] = train_par['count_p'].astype(int)\n",
    "dftrain = dftrain.merge(train_par, how = 'left', on='paragraph_id')"
   ]
  },
  {
   "cell_type": "markdown",
   "metadata": {},
   "source": [
    "#### TDIDF (по всем параграфам вопроса) "
   ]
  },
  {
   "cell_type": "code",
   "execution_count": 21,
   "metadata": {
    "collapsed": true
   },
   "outputs": [],
   "source": [
    "questions_test = dftest.question_id.unique()"
   ]
  },
  {
   "cell_type": "code",
   "execution_count": 22,
   "metadata": {
    "collapsed": true
   },
   "outputs": [],
   "source": [
    "questions_train = dftrain.question_id.unique()"
   ]
  },
  {
   "cell_type": "code",
   "execution_count": 23,
   "metadata": {},
   "outputs": [
    {
     "data": {
      "application/vnd.jupyter.widget-view+json": {
       "model_id": "9b2cbb0f31034f229309ed66c7986cb0"
      }
     },
     "metadata": {},
     "output_type": "display_data"
    },
    {
     "name": "stdout",
     "output_type": "stream",
     "text": [
      "\n"
     ]
    },
    {
     "data": {
      "application/vnd.jupyter.widget-view+json": {
       "model_id": "14ba5f32f7b44624a57e0bc643359b03"
      }
     },
     "metadata": {},
     "output_type": "display_data"
    },
    {
     "name": "stdout",
     "output_type": "stream",
     "text": [
      "\n"
     ]
    }
   ],
   "source": [
    "for name, qlist, df in [('train', questions_train, dftrain), ('test', questions_test, dftest)]: \n",
    "    pair_list=[]\n",
    "    best_list=[]\n",
    "    \n",
    "    for i in tqdm_notebook(qlist, total=len(qlist), desc= name + ' questions'):\n",
    "        scores=[]\n",
    "        par_ids=list(df[df['question_id']==i]['paragraph_id'].unique())\n",
    "        texts = list(df[df['question_id']==i]['tokens_paragraph_up'].unique())+\\\n",
    "        list(df[df['question_id']==i]['tokens_question_up'].unique())\n",
    "        #print(texts)\n",
    "        tfidf = TfidfVectorizer()\n",
    "        tfidf_matrix=tfidf.fit_transform(texts)\n",
    "        qvec = tfidf_matrix[len(texts)-1]\n",
    "        for n, t in enumerate(texts):\n",
    "            if n!=len(texts)-1:\n",
    "                par=par_ids[n]\n",
    "                svec = tfidf_matrix[n]\n",
    "                score=float(paired_cosine_distances(svec,qvec))\n",
    "                scores.append(score)\n",
    "                pair_list.append([i, par, score])\n",
    "            else:\n",
    "                pass\n",
    "        imin=np.argmin(scores)\n",
    "        best_list.append([i, par_ids[imin], scores[imin]])\n",
    "               \n",
    "        \n",
    "    labels = ['question_id', 'paragraph_id', 'score']\n",
    "    labels_best = ['question_id', 'best_paragraph', 'best_score']\n",
    "    dfscores = pd.DataFrame.from_records(pair_list, columns=labels)\n",
    "    dfbest = pd.DataFrame.from_records(best_list, columns=labels_best)\n",
    "    if name=='train':\n",
    "        dftrain = dftrain.merge(dfscores, how = 'left', on=['question_id','paragraph_id'])\n",
    "        dftrain = dftrain.merge(dfbest, how = 'left', on=['question_id'])\n",
    "    else:\n",
    "        dftest = dftest.merge(dfscores, how = 'left', on=['question_id','paragraph_id'])\n",
    "        dftest = dftest.merge(dfbest, how = 'left', on=['question_id'])"
   ]
  },
  {
   "cell_type": "code",
   "execution_count": 24,
   "metadata": {},
   "outputs": [
    {
     "data": {
      "text/plain": [
       "(74290, 37)"
      ]
     },
     "execution_count": 24,
     "metadata": {},
     "output_type": "execute_result"
    }
   ],
   "source": [
    "dftest.shape"
   ]
  },
  {
   "cell_type": "code",
   "execution_count": 25,
   "metadata": {},
   "outputs": [
    {
     "data": {
      "text/plain": [
       "(119398, 37)"
      ]
     },
     "execution_count": 25,
     "metadata": {},
     "output_type": "execute_result"
    }
   ],
   "source": [
    "dftrain.shape"
   ]
  },
  {
   "cell_type": "markdown",
   "metadata": {},
   "source": [
    "#### TDIDF (по всем вопросам параграфа) "
   ]
  },
  {
   "cell_type": "code",
   "execution_count": 26,
   "metadata": {
    "collapsed": true
   },
   "outputs": [],
   "source": [
    "par_test = dftest.paragraph_id.unique()\n",
    "par_train = dftrain.paragraph_id.unique()"
   ]
  },
  {
   "cell_type": "code",
   "execution_count": 27,
   "metadata": {},
   "outputs": [
    {
     "data": {
      "application/vnd.jupyter.widget-view+json": {
       "model_id": "cd9a0e7bb5dd4132821a8cd5b8dc4d11"
      }
     },
     "metadata": {},
     "output_type": "display_data"
    },
    {
     "name": "stdout",
     "output_type": "stream",
     "text": [
      "\n"
     ]
    },
    {
     "data": {
      "application/vnd.jupyter.widget-view+json": {
       "model_id": "8c94c334fca64bef9a21dcc22262bcfe"
      }
     },
     "metadata": {},
     "output_type": "display_data"
    },
    {
     "name": "stdout",
     "output_type": "stream",
     "text": [
      "\n"
     ]
    }
   ],
   "source": [
    "for name, plist, df in [('train', par_train, dftrain), ('test', par_test, dftest)]: \n",
    "    pair_list=[]\n",
    "    best_list=[]\n",
    "    \n",
    "    for i in tqdm_notebook(plist, total=len(plist), desc= name + ' paragraphs'):\n",
    "        scores=[]\n",
    "        q_ids=list(df[df['paragraph_id']==i]['question_id'].unique())\n",
    "        texts = list(df[df['paragraph_id']==i]['tokens_question_up'].unique())+\\\n",
    "        list(df[df['paragraph_id']==i]['tokens_paragraph_up'].unique())\n",
    "        tfidf = TfidfVectorizer()\n",
    "        tfidf_matrix=tfidf.fit_transform(texts)\n",
    "        pvec = tfidf_matrix[len(texts)-1]\n",
    "        for n, t in enumerate(texts):\n",
    "            if n!=len(texts)-1:\n",
    "                quest=q_ids[n]\n",
    "                svec = tfidf_matrix[n]\n",
    "                score=float(paired_cosine_distances(svec,pvec))\n",
    "                scores.append(score)\n",
    "                pair_list.append([i, quest, score])\n",
    "            else:\n",
    "                pass\n",
    "        imin=np.argmin(scores)\n",
    "        best_list.append([i, q_ids[imin], scores[imin]])\n",
    "               \n",
    "        \n",
    "    labels = ['paragraph_id', 'question_id', 'score1']\n",
    "    labels_best = ['paragraph_id', 'best_question', 'best_score1']\n",
    "    dfscores = pd.DataFrame.from_records(pair_list, columns=labels)\n",
    "    dfbest = pd.DataFrame.from_records(best_list, columns=labels_best)\n",
    "    if name=='train':\n",
    "        dftrain = dftrain.merge(dfscores, how = 'left', on=['question_id','paragraph_id'])\n",
    "        dftrain = dftrain.merge(dfbest, how = 'left', on=['paragraph_id'])\n",
    "    else:\n",
    "        dftest = dftest.merge(dfscores, how = 'left', on=['question_id','paragraph_id'])\n",
    "        dftest = dftest.merge(dfbest, how = 'left', on=['paragraph_id'])"
   ]
  },
  {
   "cell_type": "code",
   "execution_count": 28,
   "metadata": {
    "collapsed": true
   },
   "outputs": [],
   "source": [
    "dftrain = dftrain.fillna(-1)\n",
    "dftest = dftest.fillna(-1)"
   ]
  },
  {
   "cell_type": "code",
   "execution_count": 29,
   "metadata": {
    "collapsed": true
   },
   "outputs": [],
   "source": [
    "dftrain['dist'] = dftrain['score']-dftrain['best_score']\n",
    "dftest['dist'] = dftest['score']-dftest['best_score']"
   ]
  },
  {
   "cell_type": "code",
   "execution_count": 30,
   "metadata": {
    "collapsed": true
   },
   "outputs": [],
   "source": [
    "dftrain['dist1'] = dftrain['score1']-dftrain['best_score1']\n",
    "dftest['dist1'] = dftest['score1']-dftest['best_score1']"
   ]
  },
  {
   "cell_type": "code",
   "execution_count": 31,
   "metadata": {},
   "outputs": [
    {
     "data": {
      "text/plain": [
       "(74290, 42)"
      ]
     },
     "execution_count": 31,
     "metadata": {},
     "output_type": "execute_result"
    }
   ],
   "source": [
    "dftest.shape"
   ]
  },
  {
   "cell_type": "code",
   "execution_count": 32,
   "metadata": {},
   "outputs": [
    {
     "data": {
      "text/plain": [
       "(119398, 42)"
      ]
     },
     "execution_count": 32,
     "metadata": {},
     "output_type": "execute_result"
    }
   ],
   "source": [
    "dftrain.shape"
   ]
  },
  {
   "cell_type": "code",
   "execution_count": 36,
   "metadata": {
    "collapsed": true
   },
   "outputs": [],
   "source": [
    "#del dftrain['score_x']\n",
    "#del dftrain['score_y']\n",
    "#del dftest['score_x']\n",
    "#del dftest['score_y']"
   ]
  },
  {
   "cell_type": "markdown",
   "metadata": {},
   "source": [
    "#### Похожесть слов внутри вопроса (word2vec)"
   ]
  },
  {
   "cell_type": "code",
   "execution_count": 37,
   "metadata": {
    "scrolled": true
   },
   "outputs": [
    {
     "name": "stderr",
     "output_type": "stream",
     "text": [
      "/Users/annavozmishcheva/anaconda/lib/python3.6/site-packages/scipy/sparse/sparsetools.py:20: DeprecationWarning: `scipy.sparse.sparsetools` is deprecated!\n",
      "scipy.sparse.sparsetools is a private module for scipy.sparse, and should not be used.\n",
      "  _deprecated()\n"
     ]
    }
   ],
   "source": [
    "from gensim.models import KeyedVectors\n",
    "from gensim.models import Word2Vec"
   ]
  },
  {
   "cell_type": "code",
   "execution_count": 38,
   "metadata": {
    "collapsed": true
   },
   "outputs": [],
   "source": [
    "model = KeyedVectors.load_word2vec_format('./ruwikiruscorpora_0_300_20.bin', binary=True)"
   ]
  },
  {
   "cell_type": "code",
   "execution_count": 39,
   "metadata": {},
   "outputs": [
    {
     "data": {
      "application/vnd.jupyter.widget-view+json": {
       "model_id": "7608b6fa9ea74032a3a8ec6938c385e0"
      }
     },
     "metadata": {},
     "output_type": "display_data"
    },
    {
     "name": "stdout",
     "output_type": "stream",
     "text": [
      "\n"
     ]
    }
   ],
   "source": [
    "pos = list(['_NOUN', '_ADJ', '_VERB', '_ADV', '_INTJ', '_ADP', '_PART', '_NUM', '_DET', '_PRON'])\n",
    "for key in tqdm_notebook(model.vocab.keys(), total=len(model.vocab.keys()), desc= ''):\n",
    "    for p in pos:\n",
    "        if key.endswith(p):\n",
    "            repl = key.replace(p,'')\n",
    "            #print(repl)\n",
    "    if repl not in model.vocab.keys():\n",
    "        model.vocab[repl] = model.vocab.pop(key)\n",
    "    else:\n",
    "        pass"
   ]
  },
  {
   "cell_type": "code",
   "execution_count": 40,
   "metadata": {},
   "outputs": [
    {
     "data": {
      "application/vnd.jupyter.widget-view+json": {
       "model_id": "e1dc3cd690104395918fe8e17689c0ee"
      }
     },
     "metadata": {},
     "output_type": "display_data"
    },
    {
     "name": "stdout",
     "output_type": "stream",
     "text": [
      "\n"
     ]
    },
    {
     "data": {
      "application/vnd.jupyter.widget-view+json": {
       "model_id": "284596c0c6124ba499ab09c2542c0f5c"
      }
     },
     "metadata": {},
     "output_type": "display_data"
    },
    {
     "name": "stdout",
     "output_type": "stream",
     "text": [
      "\n"
     ]
    }
   ],
   "source": [
    "for name, df in [('train', dftrain), ('test', dftest)]: \n",
    "    for index, row in tqdm_notebook(df.iterrows(), total=df.shape[0], desc= name + ' questions'):\n",
    "        scores_q=[]\n",
    "        for i, w in enumerate(ast.literal_eval(df.tokens_question_up.values[index])):\n",
    "            scores=[]\n",
    "            if w in model.vocab.keys():\n",
    "                for j, w2 in enumerate(ast.literal_eval(df.tokens_question_up.values[index])):\n",
    "                    if (w2 in model.vocab.keys())&(w2!=w):\n",
    "                        scores.append(model.similarity(w, w2))\n",
    "            avg_score = np.average(scores)\n",
    "            scores_q.append(avg_score)\n",
    "        avg_scores_q = np.average(scores_q)\n",
    "        df.loc[index, 'w2v_question']=avg_scores_q"
   ]
  },
  {
   "cell_type": "code",
   "execution_count": 41,
   "metadata": {
    "collapsed": true
   },
   "outputs": [],
   "source": [
    "dftrain['w2v_question']=dftrain['w2v_question'].fillna(-1)"
   ]
  },
  {
   "cell_type": "code",
   "execution_count": 42,
   "metadata": {
    "collapsed": true
   },
   "outputs": [],
   "source": [
    "dftest['w2v_question']=dftest['w2v_question'].fillna(-1)"
   ]
  },
  {
   "cell_type": "code",
   "execution_count": 43,
   "metadata": {},
   "outputs": [
    {
     "data": {
      "text/plain": [
       "(74290, 43)"
      ]
     },
     "execution_count": 43,
     "metadata": {},
     "output_type": "execute_result"
    }
   ],
   "source": [
    "dftest.shape"
   ]
  },
  {
   "cell_type": "markdown",
   "metadata": {},
   "source": [
    "#### Частота слов в вопросе  "
   ]
  },
  {
   "cell_type": "code",
   "execution_count": 45,
   "metadata": {},
   "outputs": [
    {
     "data": {
      "application/vnd.jupyter.widget-view+json": {
       "model_id": "3ad92e1dde3c4ab9b3b0d60464327d6c"
      }
     },
     "metadata": {},
     "output_type": "display_data"
    },
    {
     "name": "stdout",
     "output_type": "stream",
     "text": [
      "\n"
     ]
    },
    {
     "data": {
      "application/vnd.jupyter.widget-view+json": {
       "model_id": "78d243199ded44d891eab663e70db598"
      }
     },
     "metadata": {},
     "output_type": "display_data"
    },
    {
     "name": "stdout",
     "output_type": "stream",
     "text": [
      "\n"
     ]
    }
   ],
   "source": [
    "dftest['frequency']=0.0\n",
    "dftrain['frequency']=0.0\n",
    "for dfname, quest, df in [('train','tokens_question_up', dftrain), \n",
    "                         ('test','tokens_question_up', dftest)]:\n",
    "    for index, row in tqdm_notebook(df.iterrows(), total=df.shape[0], desc= dfname):\n",
    "        len_uniq = len(set(ast.literal_eval(row[quest])))\n",
    "        len_total = len(ast.literal_eval(row[quest]))\n",
    "        df.loc[index, 'frequency'] = len_uniq/len_total "
   ]
  },
  {
   "cell_type": "markdown",
   "metadata": {},
   "source": [
    "#### Бейзлайн фичи "
   ]
  },
  {
   "cell_type": "code",
   "execution_count": 49,
   "metadata": {},
   "outputs": [
    {
     "data": {
      "application/vnd.jupyter.widget-view+json": {
       "model_id": "e177ef4e5ea74379ab2988c0a7365de4"
      }
     },
     "metadata": {},
     "output_type": "display_data"
    },
    {
     "name": "stdout",
     "output_type": "stream",
     "text": [
      "\n"
     ]
    },
    {
     "data": {
      "application/vnd.jupyter.widget-view+json": {
       "model_id": "480ed623bcc647fb8607e019786a7be8"
      }
     },
     "metadata": {},
     "output_type": "display_data"
    },
    {
     "name": "stdout",
     "output_type": "stream",
     "text": [
      "\n"
     ]
    }
   ],
   "source": [
    "for name, df in [('train', dftrain), ('test', dftest)]:\n",
    "    for index, row in tqdm_notebook(df.iterrows(), total=df.shape[0], desc=\"build features for \" + name):\n",
    "        question = ast.literal_eval(df.tokens_question_up.values[index])\n",
    "        paragraph = ast.literal_eval(df.tokens_paragraph_up[index])\n",
    "        df.loc[index, 'len_paragraph'] = len(paragraph)\n",
    "        df.loc[index, 'len_question'] = len(question)\n",
    "        df.loc[index, 'len_intersection'] = len(set(question) & set(paragraph))"
   ]
  },
  {
   "cell_type": "markdown",
   "metadata": {},
   "source": [
    "### Описание "
   ]
  },
  {
   "cell_type": "code",
   "execution_count": 50,
   "metadata": {},
   "outputs": [
    {
     "name": "stdout",
     "output_type": "stream",
     "text": [
      "<class 'pandas.core.frame.DataFrame'>\n",
      "Int64Index: 119398 entries, 0 to 119397\n",
      "Data columns (total 47 columns):\n",
      "paragraph                119398 non-null object\n",
      "paragraph_id             119398 non-null int64\n",
      "question                 119398 non-null object\n",
      "question_id              119398 non-null int64\n",
      "target                   119398 non-null float64\n",
      "sent_paragraph           119398 non-null object\n",
      "num_sent_paragraph       119398 non-null object\n",
      "tokens_sent_paragraph    119398 non-null object\n",
      "name_sent_paragraph      119398 non-null object\n",
      "verb_sent_paragraph      119398 non-null object\n",
      "latn_sent_paragraph      119398 non-null object\n",
      "adj_sent_paragraph       119398 non-null object\n",
      "noun_sent_paragraph      119398 non-null object\n",
      "tokens_question_up       119398 non-null object\n",
      "qw_nf_question_up        119398 non-null object\n",
      "qw_question_up           119398 non-null object\n",
      "qw_long_question_up      119398 non-null object\n",
      "name_question_up         119398 non-null object\n",
      "verb_question_up         119398 non-null object\n",
      "latn_question_up         119398 non-null object\n",
      "num_question_up          119398 non-null object\n",
      "adj_question_up          119398 non-null object\n",
      "noun_question_up         119398 non-null object\n",
      "best_sent                119398 non-null object\n",
      "len_inr                  119398 non-null float64\n",
      "len_name                 119398 non-null float64\n",
      "len_verb                 119398 non-null float64\n",
      "len_latn                 119398 non-null float64\n",
      "len_num                  119398 non-null float64\n",
      "len_adj                  119398 non-null float64\n",
      "len_noun                 119398 non-null float64\n",
      "tokens_paragraph_up      119398 non-null object\n",
      "count_q                  119398 non-null int64\n",
      "count_p                  119398 non-null int64\n",
      "score                    119398 non-null float64\n",
      "best_paragraph           119398 non-null int64\n",
      "best_score               119398 non-null float64\n",
      "score1                   119398 non-null float64\n",
      "best_question            119398 non-null int64\n",
      "best_score1              119398 non-null float64\n",
      "dist                     119398 non-null float64\n",
      "dist1                    119398 non-null float64\n",
      "w2v_question             119398 non-null float64\n",
      "frequency                119398 non-null float64\n",
      "len_paragraph            119398 non-null float64\n",
      "len_question             119398 non-null float64\n",
      "len_intersection         119398 non-null float64\n",
      "dtypes: float64(19), int64(6), object(22)\n",
      "memory usage: 48.7+ MB\n"
     ]
    }
   ],
   "source": [
    "dftrain.info()"
   ]
  },
  {
   "cell_type": "code",
   "execution_count": 51,
   "metadata": {},
   "outputs": [
    {
     "name": "stdout",
     "output_type": "stream",
     "text": [
      "<class 'pandas.core.frame.DataFrame'>\n",
      "Int64Index: 74290 entries, 0 to 74289\n",
      "Data columns (total 47 columns):\n",
      "paragraph                74290 non-null object\n",
      "paragraph_id             74290 non-null int64\n",
      "question                 74290 non-null object\n",
      "question_id              74290 non-null int64\n",
      "target                   74290 non-null float64\n",
      "sent_paragraph           74290 non-null object\n",
      "num_sent_paragraph       74290 non-null object\n",
      "tokens_sent_paragraph    74290 non-null object\n",
      "name_sent_paragraph      74290 non-null object\n",
      "verb_sent_paragraph      74290 non-null object\n",
      "latn_sent_paragraph      74290 non-null object\n",
      "adj_sent_paragraph       74290 non-null object\n",
      "noun_sent_paragraph      74290 non-null object\n",
      "tokens_question_up       74290 non-null object\n",
      "qw_nf_question_up        74290 non-null object\n",
      "qw_question_up           74290 non-null object\n",
      "qw_long_question_up      74290 non-null object\n",
      "name_question_up         74290 non-null object\n",
      "verb_question_up         74290 non-null object\n",
      "latn_question_up         74290 non-null object\n",
      "num_question_up          74290 non-null object\n",
      "adj_question_up          74290 non-null object\n",
      "noun_question_up         74290 non-null object\n",
      "best_sent                74290 non-null object\n",
      "len_inr                  74290 non-null float64\n",
      "len_name                 74290 non-null float64\n",
      "len_verb                 74290 non-null float64\n",
      "len_latn                 74290 non-null float64\n",
      "len_num                  74290 non-null float64\n",
      "len_adj                  74290 non-null float64\n",
      "len_noun                 74290 non-null float64\n",
      "tokens_paragraph_up      74290 non-null object\n",
      "count_q                  74290 non-null int64\n",
      "count_p                  74290 non-null int64\n",
      "score                    74290 non-null float64\n",
      "best_paragraph           74290 non-null int64\n",
      "best_score               74290 non-null float64\n",
      "score1                   74290 non-null float64\n",
      "best_question            74290 non-null int64\n",
      "best_score1              74290 non-null float64\n",
      "dist                     74290 non-null float64\n",
      "dist1                    74290 non-null float64\n",
      "w2v_question             74290 non-null float64\n",
      "frequency                74290 non-null float64\n",
      "len_paragraph            74290 non-null float64\n",
      "len_question             74290 non-null float64\n",
      "len_intersection         74290 non-null float64\n",
      "dtypes: float64(19), int64(6), object(22)\n",
      "memory usage: 29.7+ MB\n"
     ]
    }
   ],
   "source": [
    "dftest.info()"
   ]
  },
  {
   "cell_type": "markdown",
   "metadata": {},
   "source": [
    "## Частота вопросов, ответов"
   ]
  },
  {
   "cell_type": "code",
   "execution_count": 55,
   "metadata": {},
   "outputs": [
    {
     "name": "stdout",
     "output_type": "stream",
     "text": [
      "Train:\n",
      "Повторяющихся вопросов (вопросов, которые задаются нескольким параграфам): 13800\n",
      "Уникальных вопросов (вопросов, которые задаются только одному параграфу): 25068\n",
      "Всего уникальных параграфов: 9078\n",
      "Параграфов, к которым задаются повторяющиеся вопросы: 5855\n",
      "Параграфов, к которым задаются уникальные вопросы: 8284\n",
      "\n",
      "Test:\n",
      "Повторяющихся вопросов (вопросов, которые задаются нескольким параграфам): 4237\n",
      "Уникальных вопросов (вопросов, которые задаются только одному параграфу): 39103\n",
      "Всего уникальных параграфов: 1627\n",
      "Параграфов, к которым задаются повторяющиеся вопросы: 1389\n",
      "Параграфов, к которым задаются уникальные вопросы: 1627\n"
     ]
    }
   ],
   "source": [
    "print('Train:')\n",
    "print('Повторяющихся вопросов (вопросов, которые задаются нескольким параграфам): ' + str(len(dftrain[dftrain['count_q']>1].question.unique())))\n",
    "print('Уникальных вопросов (вопросов, которые задаются только одному параграфу): ' + str(dftrain[dftrain['count_q']==1].question.count_q()))\n",
    "print('Всего уникальных параграфов: ' + str(len(dftrain.paragraph.unique())))\n",
    "print('Параграфов, к которым задаются повторяющиеся вопросы: ' + str(len(dftrain[dftrain['count_q']>1].paragraph.unique())))\n",
    "print('Параграфов, к которым задаются уникальные вопросы: ' + str(len(dftrain[dftrain['count_q']==1].paragraph.unique())))\n",
    "print()\n",
    "print('Test:')\n",
    "print('Повторяющихся вопросов (вопросов, которые задаются нескольким параграфам): ' + str(len(dftest[dftest['count_q']>1].question.unique())))\n",
    "print('Уникальных вопросов (вопросов, которые задаются только одному параграфу): ' + str(dftest[dftest['count_q']==1].question.count_q()))\n",
    "print('Всего уникальных параграфов: ' + str(len(dftest.paragraph.unique())))\n",
    "print('Параграфов, к которым задаются повторяющиеся вопросы: ' + str(len(dftest[dftest['count_q']>1].paragraph.unique())))\n",
    "print('Параграфов, к которым задаются уникальные вопросы: ' + str(len(dftest[dftest['count_q']==1].paragraph.unique())))"
   ]
  },
  {
   "cell_type": "code",
   "execution_count": 84,
   "metadata": {
    "scrolled": true
   },
   "outputs": [
    {
     "name": "stdout",
     "output_type": "stream",
     "text": [
      "Train:\n",
      "Повторяющихся параграфов (параграфов, к которым задаются несколько вопросов): 7777\n",
      "Уникальных параграфов (параграфов, к которым задается один вопрос): 1301\n",
      "Всего уникальных вопросов: 38868\n",
      "Вопросов, которые задаются повторяющимся параграфам: 37941\n",
      "Вопросов, которые задаются уникальным параграфам: 1301\n",
      "\n",
      "Test:\n",
      "Повторяющихся параграфов (параграфов, к которым задаются несколько вопросов): 1627\n",
      "Уникальных параграфов (параграфов, к которым задается один вопрос): 0\n",
      "Всего уникальных вопросов: 43340\n",
      "Вопросов, которые задаются повторяющимся параграфам: 43340\n",
      "Вопросов, которые задаются уникальным параграфам: 0\n"
     ]
    }
   ],
   "source": [
    "print('Train:')\n",
    "print('Повторяющихся параграфов (параграфов, к которым задаются несколько вопросов): ' + str(len(dftrain[dftrain['count_p']>1].paragraph.unique())))\n",
    "print('Уникальных параграфов (параграфов, к которым задается один вопрос): ' + str(dftrain[dftrain['count_p']==1].paragraph.count()))\n",
    "print('Всего уникальных вопросов: ' + str(len(dftrain.question.unique())))\n",
    "print('Вопросов, которые задаются повторяющимся параграфам: ' + str(len(dftrain[dftrain['count_p']>1].question.unique())))\n",
    "print('Вопросов, которые задаются уникальным параграфам: ' + str(len(dftrain[dftrain['count_p']==1].question.unique())))\n",
    "print()\n",
    "print('Test:')\n",
    "print('Повторяющихся параграфов (параграфов, к которым задаются несколько вопросов): ' + str(len(dftest[dftest['count_p']>1].paragraph.unique())))\n",
    "print('Уникальных параграфов (параграфов, к которым задается один вопрос): ' + str(dftest[dftest['count_p']==1].paragraph.count()))\n",
    "print('Всего уникальных вопросов: ' + str(len(dftest.question.unique())))\n",
    "print('Вопросов, которые задаются повторяющимся параграфам: ' + str(len(dftest[dftest['count_p']>1].question.unique())))\n",
    "print('Вопросов, которые задаются уникальным параграфам: ' + str(len(dftest[dftest['count_p']==1].question.unique())))"
   ]
  },
  {
   "cell_type": "code",
   "execution_count": 89,
   "metadata": {},
   "outputs": [
    {
     "data": {
      "image/png": "[encoded data removed]",
      "text/plain": [
       "<matplotlib.figure.Figure at 0x16cd5cc0>"
      ]
     },
     "metadata": {},
     "output_type": "display_data"
    }
   ],
   "source": [
    "kwargs = dict(alpha=0.5, normed=True, bins=50)\n",
    "plt.hist(dftest[dftest['count_q']==1]['count_p'], label = 'test', **kwargs)\n",
    "plt.hist(dftest[dftest['count_q']>1]['count_p'], label = 'test>1', **kwargs)\n",
    "plt.legend(loc='upper left')\n",
    "plt.show()"
   ]
  },
  {
   "cell_type": "code",
   "execution_count": 238,
   "metadata": {},
   "outputs": [
    {
     "data": {
      "image/png": "[encoded data removed]",
      "text/plain": [
       "<matplotlib.figure.Figure at 0x12a124f28>"
      ]
     },
     "metadata": {},
     "output_type": "display_data"
    },
    {
     "data": {
      "image/png": "[encoded data removed]",
      "text/plain": [
       "<matplotlib.figure.Figure at 0x120e4e6a0>"
      ]
     },
     "metadata": {},
     "output_type": "display_data"
    },
    {
     "data": {
      "image/png": "[encoded data removed]",
      "text/plain": [
       "<matplotlib.figure.Figure at 0x11d352cf8>"
      ]
     },
     "metadata": {},
     "output_type": "display_data"
    }
   ],
   "source": [
    "kwargs = dict(alpha=0.5, normed=True, bins=50)\n",
    "#n, bins, patches=plt.hist(h[h['distance']>-99]['distance'], **kwargs)\n",
    "plt.hist(dftrain[(dftrain['target']==0)]['score'], label='traget0', **kwargs)\n",
    "plt.hist(dftrain[(dftrain['target']==1)]['score'], label='traget1', **kwargs)\n",
    "plt.legend(loc='upper left')\n",
    "plt.show()\n",
    "\n",
    "plt.hist(dftrain[(dftrain['target']==0)&(dftrain['count']>1)]['score'], label='traget0', **kwargs)\n",
    "plt.hist(dftrain[(dftrain['target']==1)&(dftrain['count']>1)]['score'], label='traget1', **kwargs)\n",
    "plt.legend(loc='upper left')\n",
    "plt.show()\n",
    "\n",
    "plt.hist(dftrain[(dftrain['target']==0)&(dftrain['count']==1)]['score'], label='traget0', **kwargs)\n",
    "plt.hist(dftrain[(dftrain['target']==1)&(dftrain['count']==1)]['score'], label='traget1', **kwargs)\n",
    "plt.legend(loc='upper left')\n",
    "plt.show()"
   ]
  },
  {
   "cell_type": "code",
   "execution_count": 239,
   "metadata": {},
   "outputs": [
    {
     "data": {
      "image/png": "[encoded data removed]",
      "text/plain": [
       "<matplotlib.figure.Figure at 0x11eba6588>"
      ]
     },
     "metadata": {},
     "output_type": "display_data"
    },
    {
     "data": {
      "image/png": "[encoded data removed]",
      "text/plain": [
       "<matplotlib.figure.Figure at 0x11eba6fd0>"
      ]
     },
     "metadata": {},
     "output_type": "display_data"
    },
    {
     "data": {
      "image/png": "[encoded data removed]",
      "text/plain": [
       "<matplotlib.figure.Figure at 0x11cc5c8d0>"
      ]
     },
     "metadata": {},
     "output_type": "display_data"
    }
   ],
   "source": [
    "plt.hist(dftest['score'], label = 'test', **kwargs)\n",
    "plt.hist(dftrain['score'], label = 'train', **kwargs)\n",
    "plt.legend(loc='upper left')\n",
    "plt.show()\n",
    "\n",
    "plt.hist(dftest[dftest['count']>1]['score'], label = 'test', **kwargs)\n",
    "plt.hist(dftrain[dftrain['count']>1]['score'], label = 'train', **kwargs)\n",
    "plt.legend(loc='upper left')\n",
    "plt.show()\n",
    "\n",
    "plt.hist(dftest[dftest['count']==1]['score'], label = 'test', **kwargs)\n",
    "plt.hist(dftrain[dftrain['count']==1]['score'], label = 'train', **kwargs)\n",
    "plt.legend(loc='upper left')\n",
    "plt.show()"
   ]
  },
  {
   "cell_type": "code",
   "execution_count": 240,
   "metadata": {},
   "outputs": [
    {
     "data": {
      "image/png": "[encoded data removed]",
      "text/plain": [
       "<matplotlib.figure.Figure at 0x11ebbbda0>"
      ]
     },
     "metadata": {},
     "output_type": "display_data"
    },
    {
     "data": {
      "image/png": "[encoded data removed]",
      "text/plain": [
       "<matplotlib.figure.Figure at 0x11cdc76a0>"
      ]
     },
     "metadata": {},
     "output_type": "display_data"
    }
   ],
   "source": [
    "kwargs = dict(alpha=0.5, normed=True, bins=50)\n",
    "#n, bins, patches=plt.hist(h[h['distance']>-99]['distance'], **kwargs)\n",
    "plt.hist(dftrain[(dftrain['target']==0)]['dist'], label='traget0', **kwargs)\n",
    "plt.hist(dftrain[(dftrain['target']==1)]['dist'], label='traget1', **kwargs)\n",
    "plt.legend(loc='upper left')\n",
    "plt.show()\n",
    "\n",
    "plt.hist(dftrain[(dftrain['target']==0)&(dftrain['count']>1)]['dist'], label='traget0', **kwargs)\n",
    "plt.hist(dftrain[(dftrain['target']==1)&(dftrain['count']>1)]['dist'], label='traget1', **kwargs)\n",
    "plt.legend(loc='upper left')\n",
    "plt.show()"
   ]
  },
  {
   "cell_type": "code",
   "execution_count": 118,
   "metadata": {},
   "outputs": [
    {
     "data": {
      "image/png": "[encoded data removed]",
      "text/plain": [
       "<matplotlib.figure.Figure at 0x16bf1940>"
      ]
     },
     "metadata": {},
     "output_type": "display_data"
    }
   ],
   "source": [
    "kwargs = dict(alpha=0.5, normed=True, bins=50)\n",
    "#n, bins, patches=plt.hist(h[h['distance']>-99]['distance'], **kwargs)\n",
    "plt.hist(dftrain[(dftrain['target']==0)]['dist1'], label='traget0', **kwargs)\n",
    "plt.hist(dftrain[(dftrain['target']==1)]['dist1'], label='traget1', **kwargs)\n",
    "plt.legend(loc='upper left')\n",
    "plt.show()"
   ]
  },
  {
   "cell_type": "code",
   "execution_count": 106,
   "metadata": {},
   "outputs": [
    {
     "data": {
      "image/png": "[encoded data removed]",
      "text/plain": [
       "<matplotlib.figure.Figure at 0x12a12cf60>"
      ]
     },
     "metadata": {},
     "output_type": "display_data"
    },
    {
     "data": {
      "image/png": "[encoded data removed]",
      "text/plain": [
       "<matplotlib.figure.Figure at 0x11cfefb70>"
      ]
     },
     "metadata": {},
     "output_type": "display_data"
    }
   ],
   "source": [
    "plt.hist(dftest['dist'], label = 'test', **kwargs)\n",
    "plt.hist(dftrain['dist'], label = 'train', **kwargs)\n",
    "plt.legend(loc='upper left')\n",
    "plt.show()\n",
    "\n",
    "plt.hist(dftest[dftest['count']>1]['dist'], label = 'test', **kwargs)\n",
    "plt.hist(dftrain[dftrain['count']>1]['dist'], label = 'train', **kwargs)\n",
    "plt.legend(loc='upper left')\n",
    "plt.show()"
   ]
  },
  {
   "cell_type": "code",
   "execution_count": 311,
   "metadata": {},
   "outputs": [
    {
     "data": {
      "text/plain": [
       "'Сколько копий альбома было изображено механически и евро, наиболее распространены соревнования одиночные турниры мужчины джон изнер четвертьфинал основной турнир одиночный разряд nbsp юноши nbsp девушки?'"
      ]
     },
     "execution_count": 311,
     "metadata": {},
     "output_type": "execute_result"
    }
   ],
   "source": [
    "dftest[(dftest['count']==1)&(dftest['score']>0.9)].question.values[19]"
   ]
  },
  {
   "cell_type": "code",
   "execution_count": 307,
   "metadata": {},
   "outputs": [
    {
     "data": {
      "text/plain": [
       "'Отношение предпочтения в теории потребления — это формальное описание способности потребителя сравнивать (упорядочивать по желательности) разные наборы товаров (потребительские наборы, альтернативы). Чтобы описать отношение предпочтения, не обязательно измерять желательность каждого потребительского набора в некоторых единицах измерения, следует только подать любой метод сравнения таких наборов (порядковый подход). Отношение предпочтения является, наряду с бюджетным ограничением, базовым понятием при формальной постановке задачи о выборе потребителя.'"
      ]
     },
     "execution_count": 307,
     "metadata": {},
     "output_type": "execute_result"
    }
   ],
   "source": [
    "dftest[(dftest['count']==1)&(dftest['score']>0.9)].paragraph.values[16]"
   ]
  },
  {
   "cell_type": "code",
   "execution_count": 119,
   "metadata": {},
   "outputs": [
    {
     "ename": "KeyError",
     "evalue": "'w2v_question'",
     "output_type": "error",
     "traceback": [
      "\u001b[1;31m---------------------------------------------------------------------------\u001b[0m",
      "\u001b[1;31mKeyError\u001b[0m                                  Traceback (most recent call last)",
      "\u001b[1;32mC:\\Users\\anna.vozmishcheva\\AppData\\Local\\Continuum\\Anaconda3\\lib\\site-packages\\pandas\\core\\indexes\\base.py\u001b[0m in \u001b[0;36mget_loc\u001b[1;34m(self, key, method, tolerance)\u001b[0m\n\u001b[0;32m   2392\u001b[0m             \u001b[1;32mtry\u001b[0m\u001b[1;33m:\u001b[0m\u001b[1;33m\u001b[0m\u001b[0m\n\u001b[1;32m-> 2393\u001b[1;33m                 \u001b[1;32mreturn\u001b[0m \u001b[0mself\u001b[0m\u001b[1;33m.\u001b[0m\u001b[0m_engine\u001b[0m\u001b[1;33m.\u001b[0m\u001b[0mget_loc\u001b[0m\u001b[1;33m(\u001b[0m\u001b[0mkey\u001b[0m\u001b[1;33m)\u001b[0m\u001b[1;33m\u001b[0m\u001b[0m\n\u001b[0m\u001b[0;32m   2394\u001b[0m             \u001b[1;32mexcept\u001b[0m \u001b[0mKeyError\u001b[0m\u001b[1;33m:\u001b[0m\u001b[1;33m\u001b[0m\u001b[0m\n",
      "\u001b[1;32mpandas\\_libs\\index.pyx\u001b[0m in \u001b[0;36mpandas._libs.index.IndexEngine.get_loc (pandas\\_libs\\index.c:5239)\u001b[1;34m()\u001b[0m\n",
      "\u001b[1;32mpandas\\_libs\\index.pyx\u001b[0m in \u001b[0;36mpandas._libs.index.IndexEngine.get_loc (pandas\\_libs\\index.c:5085)\u001b[1;34m()\u001b[0m\n",
      "\u001b[1;32mpandas\\_libs\\hashtable_class_helper.pxi\u001b[0m in \u001b[0;36mpandas._libs.hashtable.PyObjectHashTable.get_item (pandas\\_libs\\hashtable.c:20405)\u001b[1;34m()\u001b[0m\n",
      "\u001b[1;32mpandas\\_libs\\hashtable_class_helper.pxi\u001b[0m in \u001b[0;36mpandas._libs.hashtable.PyObjectHashTable.get_item (pandas\\_libs\\hashtable.c:20359)\u001b[1;34m()\u001b[0m\n",
      "\u001b[1;31mKeyError\u001b[0m: 'w2v_question'",
      "\nDuring handling of the above exception, another exception occurred:\n",
      "\u001b[1;31mKeyError\u001b[0m                                  Traceback (most recent call last)",
      "\u001b[1;32m<ipython-input-119-bbf284945df4>\u001b[0m in \u001b[0;36m<module>\u001b[1;34m()\u001b[0m\n\u001b[1;32m----> 1\u001b[1;33m \u001b[0mplt\u001b[0m\u001b[1;33m.\u001b[0m\u001b[0mhist\u001b[0m\u001b[1;33m(\u001b[0m\u001b[0mdftest\u001b[0m\u001b[1;33m[\u001b[0m\u001b[1;34m'w2v_question'\u001b[0m\u001b[1;33m]\u001b[0m\u001b[1;33m,\u001b[0m \u001b[0mlabel\u001b[0m \u001b[1;33m=\u001b[0m \u001b[1;34m'test'\u001b[0m\u001b[1;33m,\u001b[0m \u001b[1;33m**\u001b[0m\u001b[0mkwargs\u001b[0m\u001b[1;33m)\u001b[0m\u001b[1;33m\u001b[0m\u001b[0m\n\u001b[0m\u001b[0;32m      2\u001b[0m \u001b[0mplt\u001b[0m\u001b[1;33m.\u001b[0m\u001b[0mhist\u001b[0m\u001b[1;33m(\u001b[0m\u001b[0mdftrain\u001b[0m\u001b[1;33m[\u001b[0m\u001b[1;34m'w2v_question'\u001b[0m\u001b[1;33m]\u001b[0m\u001b[1;33m,\u001b[0m \u001b[0mlabel\u001b[0m \u001b[1;33m=\u001b[0m \u001b[1;34m'train'\u001b[0m\u001b[1;33m,\u001b[0m \u001b[1;33m**\u001b[0m\u001b[0mkwargs\u001b[0m\u001b[1;33m)\u001b[0m\u001b[1;33m\u001b[0m\u001b[0m\n\u001b[0;32m      3\u001b[0m \u001b[0mplt\u001b[0m\u001b[1;33m.\u001b[0m\u001b[0mlegend\u001b[0m\u001b[1;33m(\u001b[0m\u001b[0mloc\u001b[0m\u001b[1;33m=\u001b[0m\u001b[1;34m'upper left'\u001b[0m\u001b[1;33m)\u001b[0m\u001b[1;33m\u001b[0m\u001b[0m\n\u001b[0;32m      4\u001b[0m \u001b[0mplt\u001b[0m\u001b[1;33m.\u001b[0m\u001b[0mshow\u001b[0m\u001b[1;33m(\u001b[0m\u001b[1;33m)\u001b[0m\u001b[1;33m\u001b[0m\u001b[0m\n\u001b[0;32m      5\u001b[0m \u001b[1;33m\u001b[0m\u001b[0m\n",
      "\u001b[1;32mC:\\Users\\anna.vozmishcheva\\AppData\\Local\\Continuum\\Anaconda3\\lib\\site-packages\\pandas\\core\\frame.py\u001b[0m in \u001b[0;36m__getitem__\u001b[1;34m(self, key)\u001b[0m\n\u001b[0;32m   2060\u001b[0m             \u001b[1;32mreturn\u001b[0m \u001b[0mself\u001b[0m\u001b[1;33m.\u001b[0m\u001b[0m_getitem_multilevel\u001b[0m\u001b[1;33m(\u001b[0m\u001b[0mkey\u001b[0m\u001b[1;33m)\u001b[0m\u001b[1;33m\u001b[0m\u001b[0m\n\u001b[0;32m   2061\u001b[0m         \u001b[1;32melse\u001b[0m\u001b[1;33m:\u001b[0m\u001b[1;33m\u001b[0m\u001b[0m\n\u001b[1;32m-> 2062\u001b[1;33m             \u001b[1;32mreturn\u001b[0m \u001b[0mself\u001b[0m\u001b[1;33m.\u001b[0m\u001b[0m_getitem_column\u001b[0m\u001b[1;33m(\u001b[0m\u001b[0mkey\u001b[0m\u001b[1;33m)\u001b[0m\u001b[1;33m\u001b[0m\u001b[0m\n\u001b[0m\u001b[0;32m   2063\u001b[0m \u001b[1;33m\u001b[0m\u001b[0m\n\u001b[0;32m   2064\u001b[0m     \u001b[1;32mdef\u001b[0m \u001b[0m_getitem_column\u001b[0m\u001b[1;33m(\u001b[0m\u001b[0mself\u001b[0m\u001b[1;33m,\u001b[0m \u001b[0mkey\u001b[0m\u001b[1;33m)\u001b[0m\u001b[1;33m:\u001b[0m\u001b[1;33m\u001b[0m\u001b[0m\n",
      "\u001b[1;32mC:\\Users\\anna.vozmishcheva\\AppData\\Local\\Continuum\\Anaconda3\\lib\\site-packages\\pandas\\core\\frame.py\u001b[0m in \u001b[0;36m_getitem_column\u001b[1;34m(self, key)\u001b[0m\n\u001b[0;32m   2067\u001b[0m         \u001b[1;31m# get column\u001b[0m\u001b[1;33m\u001b[0m\u001b[1;33m\u001b[0m\u001b[0m\n\u001b[0;32m   2068\u001b[0m         \u001b[1;32mif\u001b[0m \u001b[0mself\u001b[0m\u001b[1;33m.\u001b[0m\u001b[0mcolumns\u001b[0m\u001b[1;33m.\u001b[0m\u001b[0mis_unique\u001b[0m\u001b[1;33m:\u001b[0m\u001b[1;33m\u001b[0m\u001b[0m\n\u001b[1;32m-> 2069\u001b[1;33m             \u001b[1;32mreturn\u001b[0m \u001b[0mself\u001b[0m\u001b[1;33m.\u001b[0m\u001b[0m_get_item_cache\u001b[0m\u001b[1;33m(\u001b[0m\u001b[0mkey\u001b[0m\u001b[1;33m)\u001b[0m\u001b[1;33m\u001b[0m\u001b[0m\n\u001b[0m\u001b[0;32m   2070\u001b[0m \u001b[1;33m\u001b[0m\u001b[0m\n\u001b[0;32m   2071\u001b[0m         \u001b[1;31m# duplicate columns & possible reduce dimensionality\u001b[0m\u001b[1;33m\u001b[0m\u001b[1;33m\u001b[0m\u001b[0m\n",
      "\u001b[1;32mC:\\Users\\anna.vozmishcheva\\AppData\\Local\\Continuum\\Anaconda3\\lib\\site-packages\\pandas\\core\\generic.py\u001b[0m in \u001b[0;36m_get_item_cache\u001b[1;34m(self, item)\u001b[0m\n\u001b[0;32m   1532\u001b[0m         \u001b[0mres\u001b[0m \u001b[1;33m=\u001b[0m \u001b[0mcache\u001b[0m\u001b[1;33m.\u001b[0m\u001b[0mget\u001b[0m\u001b[1;33m(\u001b[0m\u001b[0mitem\u001b[0m\u001b[1;33m)\u001b[0m\u001b[1;33m\u001b[0m\u001b[0m\n\u001b[0;32m   1533\u001b[0m         \u001b[1;32mif\u001b[0m \u001b[0mres\u001b[0m \u001b[1;32mis\u001b[0m \u001b[1;32mNone\u001b[0m\u001b[1;33m:\u001b[0m\u001b[1;33m\u001b[0m\u001b[0m\n\u001b[1;32m-> 1534\u001b[1;33m             \u001b[0mvalues\u001b[0m \u001b[1;33m=\u001b[0m \u001b[0mself\u001b[0m\u001b[1;33m.\u001b[0m\u001b[0m_data\u001b[0m\u001b[1;33m.\u001b[0m\u001b[0mget\u001b[0m\u001b[1;33m(\u001b[0m\u001b[0mitem\u001b[0m\u001b[1;33m)\u001b[0m\u001b[1;33m\u001b[0m\u001b[0m\n\u001b[0m\u001b[0;32m   1535\u001b[0m             \u001b[0mres\u001b[0m \u001b[1;33m=\u001b[0m \u001b[0mself\u001b[0m\u001b[1;33m.\u001b[0m\u001b[0m_box_item_values\u001b[0m\u001b[1;33m(\u001b[0m\u001b[0mitem\u001b[0m\u001b[1;33m,\u001b[0m \u001b[0mvalues\u001b[0m\u001b[1;33m)\u001b[0m\u001b[1;33m\u001b[0m\u001b[0m\n\u001b[0;32m   1536\u001b[0m             \u001b[0mcache\u001b[0m\u001b[1;33m[\u001b[0m\u001b[0mitem\u001b[0m\u001b[1;33m]\u001b[0m \u001b[1;33m=\u001b[0m \u001b[0mres\u001b[0m\u001b[1;33m\u001b[0m\u001b[0m\n",
      "\u001b[1;32mC:\\Users\\anna.vozmishcheva\\AppData\\Local\\Continuum\\Anaconda3\\lib\\site-packages\\pandas\\core\\internals.py\u001b[0m in \u001b[0;36mget\u001b[1;34m(self, item, fastpath)\u001b[0m\n\u001b[0;32m   3588\u001b[0m \u001b[1;33m\u001b[0m\u001b[0m\n\u001b[0;32m   3589\u001b[0m             \u001b[1;32mif\u001b[0m \u001b[1;32mnot\u001b[0m \u001b[0misnull\u001b[0m\u001b[1;33m(\u001b[0m\u001b[0mitem\u001b[0m\u001b[1;33m)\u001b[0m\u001b[1;33m:\u001b[0m\u001b[1;33m\u001b[0m\u001b[0m\n\u001b[1;32m-> 3590\u001b[1;33m                 \u001b[0mloc\u001b[0m \u001b[1;33m=\u001b[0m \u001b[0mself\u001b[0m\u001b[1;33m.\u001b[0m\u001b[0mitems\u001b[0m\u001b[1;33m.\u001b[0m\u001b[0mget_loc\u001b[0m\u001b[1;33m(\u001b[0m\u001b[0mitem\u001b[0m\u001b[1;33m)\u001b[0m\u001b[1;33m\u001b[0m\u001b[0m\n\u001b[0m\u001b[0;32m   3591\u001b[0m             \u001b[1;32melse\u001b[0m\u001b[1;33m:\u001b[0m\u001b[1;33m\u001b[0m\u001b[0m\n\u001b[0;32m   3592\u001b[0m                 \u001b[0mindexer\u001b[0m \u001b[1;33m=\u001b[0m \u001b[0mnp\u001b[0m\u001b[1;33m.\u001b[0m\u001b[0marange\u001b[0m\u001b[1;33m(\u001b[0m\u001b[0mlen\u001b[0m\u001b[1;33m(\u001b[0m\u001b[0mself\u001b[0m\u001b[1;33m.\u001b[0m\u001b[0mitems\u001b[0m\u001b[1;33m)\u001b[0m\u001b[1;33m)\u001b[0m\u001b[1;33m[\u001b[0m\u001b[0misnull\u001b[0m\u001b[1;33m(\u001b[0m\u001b[0mself\u001b[0m\u001b[1;33m.\u001b[0m\u001b[0mitems\u001b[0m\u001b[1;33m)\u001b[0m\u001b[1;33m]\u001b[0m\u001b[1;33m\u001b[0m\u001b[0m\n",
      "\u001b[1;32mC:\\Users\\anna.vozmishcheva\\AppData\\Local\\Continuum\\Anaconda3\\lib\\site-packages\\pandas\\core\\indexes\\base.py\u001b[0m in \u001b[0;36mget_loc\u001b[1;34m(self, key, method, tolerance)\u001b[0m\n\u001b[0;32m   2393\u001b[0m                 \u001b[1;32mreturn\u001b[0m \u001b[0mself\u001b[0m\u001b[1;33m.\u001b[0m\u001b[0m_engine\u001b[0m\u001b[1;33m.\u001b[0m\u001b[0mget_loc\u001b[0m\u001b[1;33m(\u001b[0m\u001b[0mkey\u001b[0m\u001b[1;33m)\u001b[0m\u001b[1;33m\u001b[0m\u001b[0m\n\u001b[0;32m   2394\u001b[0m             \u001b[1;32mexcept\u001b[0m \u001b[0mKeyError\u001b[0m\u001b[1;33m:\u001b[0m\u001b[1;33m\u001b[0m\u001b[0m\n\u001b[1;32m-> 2395\u001b[1;33m                 \u001b[1;32mreturn\u001b[0m \u001b[0mself\u001b[0m\u001b[1;33m.\u001b[0m\u001b[0m_engine\u001b[0m\u001b[1;33m.\u001b[0m\u001b[0mget_loc\u001b[0m\u001b[1;33m(\u001b[0m\u001b[0mself\u001b[0m\u001b[1;33m.\u001b[0m\u001b[0m_maybe_cast_indexer\u001b[0m\u001b[1;33m(\u001b[0m\u001b[0mkey\u001b[0m\u001b[1;33m)\u001b[0m\u001b[1;33m)\u001b[0m\u001b[1;33m\u001b[0m\u001b[0m\n\u001b[0m\u001b[0;32m   2396\u001b[0m \u001b[1;33m\u001b[0m\u001b[0m\n\u001b[0;32m   2397\u001b[0m         \u001b[0mindexer\u001b[0m \u001b[1;33m=\u001b[0m \u001b[0mself\u001b[0m\u001b[1;33m.\u001b[0m\u001b[0mget_indexer\u001b[0m\u001b[1;33m(\u001b[0m\u001b[1;33m[\u001b[0m\u001b[0mkey\u001b[0m\u001b[1;33m]\u001b[0m\u001b[1;33m,\u001b[0m \u001b[0mmethod\u001b[0m\u001b[1;33m=\u001b[0m\u001b[0mmethod\u001b[0m\u001b[1;33m,\u001b[0m \u001b[0mtolerance\u001b[0m\u001b[1;33m=\u001b[0m\u001b[0mtolerance\u001b[0m\u001b[1;33m)\u001b[0m\u001b[1;33m\u001b[0m\u001b[0m\n",
      "\u001b[1;32mpandas\\_libs\\index.pyx\u001b[0m in \u001b[0;36mpandas._libs.index.IndexEngine.get_loc (pandas\\_libs\\index.c:5239)\u001b[1;34m()\u001b[0m\n",
      "\u001b[1;32mpandas\\_libs\\index.pyx\u001b[0m in \u001b[0;36mpandas._libs.index.IndexEngine.get_loc (pandas\\_libs\\index.c:5085)\u001b[1;34m()\u001b[0m\n",
      "\u001b[1;32mpandas\\_libs\\hashtable_class_helper.pxi\u001b[0m in \u001b[0;36mpandas._libs.hashtable.PyObjectHashTable.get_item (pandas\\_libs\\hashtable.c:20405)\u001b[1;34m()\u001b[0m\n",
      "\u001b[1;32mpandas\\_libs\\hashtable_class_helper.pxi\u001b[0m in \u001b[0;36mpandas._libs.hashtable.PyObjectHashTable.get_item (pandas\\_libs\\hashtable.c:20359)\u001b[1;34m()\u001b[0m\n",
      "\u001b[1;31mKeyError\u001b[0m: 'w2v_question'"
     ]
    }
   ],
   "source": [
    "plt.hist(dftest['w2v_question'], label = 'test', **kwargs)\n",
    "plt.hist(dftrain['w2v_question'], label = 'train', **kwargs)\n",
    "plt.legend(loc='upper left')\n",
    "plt.show()\n",
    "\n",
    "plt.hist(dftest[dftest['count']==1]['w2v_question'], label = 'test', **kwargs)\n",
    "plt.hist(dftrain[dftrain['count']==1]['w2v_question'], label = 'train', **kwargs)\n",
    "plt.legend(loc='upper left')\n",
    "plt.show()"
   ]
  },
  {
   "cell_type": "code",
   "execution_count": 465,
   "metadata": {},
   "outputs": [
    {
     "data": {
      "image/png": "[encoded data removed]",
      "text/plain": [
       "<matplotlib.figure.Figure at 0x137aa09e8>"
      ]
     },
     "metadata": {},
     "output_type": "display_data"
    }
   ],
   "source": [
    "plt.hist(dftrain[dftrain['target']==0]['fake'], label = 'target0', **kwargs)\n",
    "plt.hist(dftrain[dftrain['target']==1]['fake'], label = 'target1', **kwargs)\n",
    "plt.legend(loc='upper left')\n",
    "plt.show()"
   ]
  },
  {
   "cell_type": "markdown",
   "metadata": {},
   "source": [
    "# Модель "
   ]
  },
  {
   "cell_type": "code",
   "execution_count": 52,
   "metadata": {},
   "outputs": [
    {
     "data": {
      "text/plain": [
       "(119398, 47)"
      ]
     },
     "execution_count": 52,
     "metadata": {},
     "output_type": "execute_result"
    }
   ],
   "source": [
    "dftrain.shape"
   ]
  },
  {
   "cell_type": "code",
   "execution_count": 53,
   "metadata": {},
   "outputs": [
    {
     "data": {
      "text/plain": [
       "(74290, 47)"
      ]
     },
     "execution_count": 53,
     "metadata": {},
     "output_type": "execute_result"
    }
   ],
   "source": [
    "dftest.shape"
   ]
  },
  {
   "cell_type": "code",
   "execution_count": 54,
   "metadata": {
    "collapsed": true
   },
   "outputs": [],
   "source": [
    "from sklearn.model_selection import train_test_split\n",
    "import xgboost as xgb"
   ]
  },
  {
   "cell_type": "code",
   "execution_count": 55,
   "metadata": {
    "collapsed": true
   },
   "outputs": [],
   "source": [
    "#del dftest['prediction']"
   ]
  },
  {
   "cell_type": "markdown",
   "metadata": {},
   "source": [
    "### Часть 1 "
   ]
  },
  {
   "cell_type": "code",
   "execution_count": 56,
   "metadata": {},
   "outputs": [
    {
     "data": {
      "text/plain": [
       "Index(['paragraph', 'paragraph_id', 'question', 'question_id', 'target',\n",
       "       'sent_paragraph', 'num_sent_paragraph', 'tokens_sent_paragraph',\n",
       "       'name_sent_paragraph', 'verb_sent_paragraph', 'latn_sent_paragraph',\n",
       "       'adj_sent_paragraph', 'noun_sent_paragraph', 'tokens_question_up',\n",
       "       'qw_nf_question_up', 'qw_question_up', 'qw_long_question_up',\n",
       "       'name_question_up', 'verb_question_up', 'latn_question_up',\n",
       "       'num_question_up', 'adj_question_up', 'noun_question_up', 'best_sent',\n",
       "       'len_inr', 'len_name', 'len_verb', 'len_latn', 'len_num', 'len_adj',\n",
       "       'len_noun', 'tokens_paragraph_up', 'count_q', 'count_p', 'score',\n",
       "       'best_paragraph', 'best_score', 'score1', 'best_question',\n",
       "       'best_score1', 'dist', 'dist1', 'w2v_question', 'frequency',\n",
       "       'len_paragraph', 'len_question', 'len_intersection'],\n",
       "      dtype='object')"
      ]
     },
     "execution_count": 56,
     "metadata": {},
     "output_type": "execute_result"
    }
   ],
   "source": [
    "dftrain.columns"
   ]
  },
  {
   "cell_type": "code",
   "execution_count": 58,
   "metadata": {
    "collapsed": true
   },
   "outputs": [],
   "source": [
    "cols = ['len_inr',\n",
    "        'len_name', \n",
    "        'len_verb', \n",
    "        'len_latn', \n",
    "        'len_num', \n",
    "        'len_adj', \n",
    "        'len_noun',\n",
    "        'score',\n",
    "        'best_score',\n",
    "        'dist',\n",
    "        'frequency', 'w2v_question', 'len_paragraph', 'len_question',\n",
    "        #'cosine_distance',\n",
    "        'len_intersection', \n",
    "        'score1', 'best_score1', 'dist1']\n",
    "\n",
    "y = dftrain[dftrain['count_q']>1]['target']\n",
    "#train=train[features]"
   ]
  },
  {
   "cell_type": "code",
   "execution_count": 59,
   "metadata": {
    "collapsed": true
   },
   "outputs": [],
   "source": [
    "Xtr, Xv, ytr, yv = train_test_split(dftrain[dftrain['count_q']>1][cols].values, y, test_size=0.2)"
   ]
  },
  {
   "cell_type": "code",
   "execution_count": 60,
   "metadata": {
    "collapsed": true
   },
   "outputs": [],
   "source": [
    "dtrain = xgb.DMatrix(Xtr, label=ytr)\n",
    "dvalid = xgb.DMatrix(Xv, label=yv)\n",
    "dtest = xgb.DMatrix(dftest[dftest['count_q']>1][cols].values)\n",
    "watchlist = [(dtrain, 'train'), (dvalid, 'valid')]\n",
    "\n",
    "params ={\n",
    "        'eta':0.03,\n",
    "        'n_estimators': 3000,\n",
    "        'max_depth': 5,\n",
    "        'objective': 'binary:logistic',\n",
    "        'eval_metric': 'auc'\n",
    "        }"
   ]
  },
  {
   "cell_type": "code",
   "execution_count": 61,
   "metadata": {},
   "outputs": [
    {
     "name": "stdout",
     "output_type": "stream",
     "text": [
      "[0]\ttrain-auc:0.994787\tvalid-auc:0.994236\n",
      "Multiple eval metrics have been passed: 'valid-auc' will be used for early stopping.\n",
      "\n",
      "Will train until valid-auc hasn't improved in 100 rounds.\n",
      "[100]\ttrain-auc:0.998846\tvalid-auc:0.998602\n",
      "[200]\ttrain-auc:0.999362\tvalid-auc:0.998864\n",
      "[300]\ttrain-auc:0.999495\tvalid-auc:0.998966\n",
      "[400]\ttrain-auc:0.999598\tvalid-auc:0.999006\n",
      "[500]\ttrain-auc:0.999679\tvalid-auc:0.999021\n",
      "[600]\ttrain-auc:0.999748\tvalid-auc:0.999032\n",
      "[700]\ttrain-auc:0.999799\tvalid-auc:0.999037\n",
      "Stopping. Best iteration:\n",
      "[650]\ttrain-auc:0.999774\tvalid-auc:0.999041\n",
      "\n"
     ]
    }
   ],
   "source": [
    "xgb_model = xgb.train(params = params, dtrain = dtrain, evals=watchlist, num_boost_round = params['n_estimators'], verbose_eval=100, early_stopping_rounds=100)"
   ]
  },
  {
   "cell_type": "code",
   "execution_count": 62,
   "metadata": {
    "collapsed": true
   },
   "outputs": [],
   "source": [
    "dftest_part1 = dftest[dftest['count_q']>1]"
   ]
  },
  {
   "cell_type": "code",
   "execution_count": 63,
   "metadata": {
    "collapsed": true
   },
   "outputs": [],
   "source": [
    "dftest_part1['prediction'] = xgb_model.predict(dtest)"
   ]
  },
  {
   "cell_type": "code",
   "execution_count": 160,
   "metadata": {},
   "outputs": [
    {
     "data": {
      "text/plain": [
       "'Обычно устойчивость связывали и связывают с биоразнообразием видов в экосистеме (альфаразнообразие), то есть, чем выше биоразнообразие, чем сложнее организация сообществ, чем сложнее пищевые сети, тем выше устойчивость экосистем. Но уже 40 и более лет назад на данный вопрос существовали различные точки зрения, и на данный момент наиболее распространено мнение, что как локальная, так и общая устойчивость экосистемы зависят от значительно большего набора факторов, чем просто сложность сообществ и биоразнообразие. Так, на данный момент с повышением биоразнообразия обычно связывают повышение сложности, силы связей между компонентами экосистемы, стабильность потоков вещества и энергии между компонентами.'"
      ]
     },
     "execution_count": 160,
     "metadata": {},
     "output_type": "execute_result"
    }
   ],
   "source": [
    "dftest_part1[(dftest_part1.prediction>0.5)].paragraph.values[10]"
   ]
  },
  {
   "cell_type": "code",
   "execution_count": 161,
   "metadata": {},
   "outputs": [
    {
     "data": {
      "text/plain": [
       "'Увеличение сложности связей в экосистеме с чем связывают сейчас?'"
      ]
     },
     "execution_count": 161,
     "metadata": {},
     "output_type": "execute_result"
    }
   ],
   "source": [
    "dftest_part1[(dftest_part1.prediction>0.5)].question.values[10]"
   ]
  },
  {
   "cell_type": "code",
   "execution_count": 662,
   "metadata": {},
   "outputs": [
    {
     "data": {
      "text/plain": [
       "(74414, 50)"
      ]
     },
     "execution_count": 662,
     "metadata": {},
     "output_type": "execute_result"
    }
   ],
   "source": [
    "dftest.shape"
   ]
  },
  {
   "cell_type": "code",
   "execution_count": 663,
   "metadata": {},
   "outputs": [
    {
     "data": {
      "text/plain": [
       "(3823, 50)"
      ]
     },
     "execution_count": 663,
     "metadata": {},
     "output_type": "execute_result"
    }
   ],
   "source": [
    "dftest_part1[(dftest_part1.prediction>=0.5)].shape"
   ]
  },
  {
   "cell_type": "code",
   "execution_count": 664,
   "metadata": {},
   "outputs": [
    {
     "data": {
      "text/plain": [
       "(31488, 50)"
      ]
     },
     "execution_count": 664,
     "metadata": {},
     "output_type": "execute_result"
    }
   ],
   "source": [
    "dftest_part1[(dftest_part1.prediction<0.5)].shape"
   ]
  },
  {
   "cell_type": "code",
   "execution_count": 178,
   "metadata": {},
   "outputs": [
    {
     "data": {
      "text/plain": [
       "'Ньютона часто считают сторонником корпускулярной теории света; на самом деле он, по своему обыкновению, гипотез не измышлял и охотно допускал, что свет может быть связан и с волнами в эфире. В трактате, представленном в Королевское общество в 1675 году, он пишет, что свет не может быть просто колебаниями эфира, так как тогда он, например, мог бы распространяться по изогнутой трубе, как это делает звук. Но, с другой стороны, он предлагает считать, что распространение света возбуждает колебания в эфире, что и порождает дифракцию и другие волновые эффекты. По существу, Ньютон, ясно сознавая достоинства и недостатки обоих подходов, выдвигает компромиссную, корпускулярно-волновую теорию света. В своих работах Ньютон детально описал математическую модель световых явлений, оставляя в стороне вопрос о физическом носителе света: Учение моё о преломлении света и цветах состоит единственно в установлении некоторых свойств света без всяких гипотез о его происхождении . Волновая оптика, когда она появилась, не отвергла модели Ньютона, а вобрала их в себя и расширила на новой основе.'"
      ]
     },
     "execution_count": 178,
     "metadata": {},
     "output_type": "execute_result"
    }
   ],
   "source": [
    "dftest_part1[(dftest_part1.prediction<=0.5)].paragraph.values[40]"
   ]
  },
  {
   "cell_type": "code",
   "execution_count": 179,
   "metadata": {},
   "outputs": [
    {
     "data": {
      "text/plain": [
       "'Какие предположения, по мнению Ньютона, допустимы в натуральной философии (то есть физике)?'"
      ]
     },
     "execution_count": 179,
     "metadata": {},
     "output_type": "execute_result"
    }
   ],
   "source": [
    "dftest_part1[(dftest_part1.prediction<=0.5)].question.values[40]"
   ]
  },
  {
   "cell_type": "code",
   "execution_count": 253,
   "metadata": {
    "collapsed": true
   },
   "outputs": [],
   "source": [
    "ids=dftest_part1[(dftest_part1.prediction>0.5)].question_id.unique()"
   ]
  },
  {
   "cell_type": "code",
   "execution_count": 255,
   "metadata": {
    "collapsed": true
   },
   "outputs": [],
   "source": [
    "ids2=[i for i in dftest_part1.question_id.unique() if i not in ids]"
   ]
  },
  {
   "cell_type": "code",
   "execution_count": 257,
   "metadata": {},
   "outputs": [
    {
     "data": {
      "text/plain": [
       "591"
      ]
     },
     "execution_count": 257,
     "metadata": {},
     "output_type": "execute_result"
    }
   ],
   "source": [
    "len(ids2)"
   ]
  },
  {
   "cell_type": "code",
   "execution_count": 278,
   "metadata": {},
   "outputs": [
    {
     "data": {
      "text/plain": [
       "'Понятие о грибах как об отдельном царстве сформировалось в науке к 1970-м годам, хотя выделить это царство предлагал ещё Э. Фрис в 1831 году, а Карл Линней высказывал сомнения, размещая грибы в царстве растений в своей Системе природы . Во второй половине XX века окончательно сформировалось и представление о полифилетизме грибов. К концу XX века были накоплены данные по генетике, цитологии и биохимии, позволившие разделить эту группу организмов на несколько не родственных между собой ветвей и распределить их между различными царствами, оставив в царстве настоящих , или собственно грибов, только одну из них. Таким образом, к началу XXI века научный термин грибы стал неоднозначным.'"
      ]
     },
     "execution_count": 278,
     "metadata": {},
     "output_type": "execute_result"
    }
   ],
   "source": [
    "dftest_part1[dftest_part1.question_id==ids2[3]].paragraph.values[0]"
   ]
  },
  {
   "cell_type": "code",
   "execution_count": 279,
   "metadata": {},
   "outputs": [
    {
     "data": {
      "text/plain": [
       "'К чему были отнесены хитридиомицеты учеными в 1990-х годах?'"
      ]
     },
     "execution_count": 279,
     "metadata": {},
     "output_type": "execute_result"
    }
   ],
   "source": [
    "dftest_part1[dftest_part1.question_id==ids2[3]].question.values[0]"
   ]
  },
  {
   "cell_type": "code",
   "execution_count": 182,
   "metadata": {},
   "outputs": [
    {
     "data": {
      "text/plain": [
       "34004"
      ]
     },
     "execution_count": 182,
     "metadata": {},
     "output_type": "execute_result"
    }
   ],
   "source": [
    "dftest_part1[(dftest_part1.prediction<=0.5)].question_id.values[30000]"
   ]
  },
  {
   "cell_type": "code",
   "execution_count": 186,
   "metadata": {},
   "outputs": [
    {
     "data": {
      "text/plain": [
       "'С 1 января 2014 года Федеральный закон № 94-ФЗ утрачивает силу в связи со вступлением в действие Федерального закона от 05 апреля 2013 № 44-ФЗ О контрактной системе в сфере закупок товаров, работ, услуг для обеспечения государственных и муниципальных нужд . Этим законом определяется создание Единой информационной системы в сфере государственных закупок . Она представляет собой совокупность информации, информационных технологий и технических средств, обеспечивающих формирование, хранение и обработку данных в информационно-телекоммуникационной сети Интернет.'"
      ]
     },
     "execution_count": 186,
     "metadata": {},
     "output_type": "execute_result"
    }
   ],
   "source": [
    "dftest_part1[(dftest_part1.prediction>0.5)&(dftest_part1.question_id==34004)].paragraph.values[0]"
   ]
  },
  {
   "cell_type": "code",
   "execution_count": 184,
   "metadata": {},
   "outputs": [
    {
     "data": {
      "text/plain": [
       "'Когда вступает в действие Федеральный закон № 44-ФЗ?'"
      ]
     },
     "execution_count": 184,
     "metadata": {},
     "output_type": "execute_result"
    }
   ],
   "source": [
    "dftest_part1[(dftest_part1.prediction>0.5)&(dftest_part1.question_id==34004)].question.values[0]"
   ]
  },
  {
   "cell_type": "code",
   "execution_count": 193,
   "metadata": {},
   "outputs": [
    {
     "data": {
      "text/plain": [
       "'Кем был Данте Алигьери?'"
      ]
     },
     "execution_count": 193,
     "metadata": {},
     "output_type": "execute_result"
    }
   ],
   "source": [
    "dftest_part1[(dftest_part1.prediction>0.5)&(dftest_part1.question_id==19772)].question.values[0]"
   ]
  },
  {
   "cell_type": "code",
   "execution_count": 200,
   "metadata": {},
   "outputs": [
    {
     "data": {
      "text/plain": [
       "'Согласно семейному преданию, предки Данте происходили из римского рода Элизеев, участвовавших в основании Флоренции. Каччагвида, прапрадед Данте, участвовал в крестовом походе Конрада III (1147—1149), был посвящён им в рыцари и погиб в бою с мусульманами. Каччагвида был женат на даме из ломбардской семьи Альдигьери да Фонтана. Имя Альдигьери трансформировалось в Алигьери ; так был назван один из сыновей Каччагвиды. Сын этого Алигьери, Беллинчоне, дед Данте, изгонявшийся из Флоренции во время борьбы гвельфов и гибеллинов, вернулся в родной город в 1266 году, после поражения Манфреда Сицилийского при Беневенто. Алигьери II, отец Данте, видимо, не принимал участия в политической борьбе и оставался во Флоренции.'"
      ]
     },
     "execution_count": 200,
     "metadata": {},
     "output_type": "execute_result"
    }
   ],
   "source": [
    "dftest_part1[(dftest_part1.prediction>0.5)&(dftest_part1.question_id==19772)].paragraph.values[3]"
   ]
  },
  {
   "cell_type": "code",
   "execution_count": null,
   "metadata": {
    "collapsed": true
   },
   "outputs": [],
   "source": [
    "12242    4\n",
    "19772    4\n",
    "23915    3\n",
    "14513    3\n",
    "21842    3\n",
    "29461    3\n",
    "33596    3"
   ]
  },
  {
   "cell_type": "markdown",
   "metadata": {},
   "source": [
    "### Часть 2"
   ]
  },
  {
   "cell_type": "code",
   "execution_count": 64,
   "metadata": {
    "collapsed": true
   },
   "outputs": [],
   "source": [
    "cols = ['len_inr',\n",
    "        'len_name', \n",
    "        'len_verb', \n",
    "        'len_latn', \n",
    "        'len_num', \n",
    "        'len_adj', \n",
    "        'len_noun',\n",
    "        'score',\n",
    "        'best_score',\n",
    "        'frequency', 'w2v_question', 'len_paragraph', 'len_question',\n",
    "        'len_intersection','score1', 'best_score1']\n",
    "y = dftrain['target']\n",
    "#train=train[features]"
   ]
  },
  {
   "cell_type": "code",
   "execution_count": 65,
   "metadata": {
    "collapsed": true
   },
   "outputs": [],
   "source": [
    "Xtr, Xv, ytr, yv = train_test_split(dftrain[cols].values, y, test_size=0.2)"
   ]
  },
  {
   "cell_type": "code",
   "execution_count": 67,
   "metadata": {
    "collapsed": true
   },
   "outputs": [],
   "source": [
    "dtrain = xgb.DMatrix(Xtr, label=ytr)\n",
    "dvalid = xgb.DMatrix(Xv, label=yv)\n",
    "dtest = xgb.DMatrix(dftest[dftest['count_q']==1][cols].values)\n",
    "watchlist = [(dtrain, 'train'), (dvalid, 'valid')]\n",
    "\n",
    "params ={\n",
    "        'eta':0.03,\n",
    "        'n_estimators': 3000,\n",
    "        'max_depth': 5,\n",
    "        'objective': 'binary:logistic',\n",
    "        'eval_metric': 'auc'\n",
    "        }"
   ]
  },
  {
   "cell_type": "code",
   "execution_count": 68,
   "metadata": {},
   "outputs": [
    {
     "name": "stdout",
     "output_type": "stream",
     "text": [
      "[0]\ttrain-auc:0.990765\tvalid-auc:0.989597\n",
      "Multiple eval metrics have been passed: 'valid-auc' will be used for early stopping.\n",
      "\n",
      "Will train until valid-auc hasn't improved in 500 rounds.\n",
      "[100]\ttrain-auc:0.997754\tvalid-auc:0.997406\n",
      "[200]\ttrain-auc:0.998587\tvalid-auc:0.998158\n",
      "[300]\ttrain-auc:0.998935\tvalid-auc:0.998385\n",
      "[400]\ttrain-auc:0.999103\tvalid-auc:0.99849\n",
      "[500]\ttrain-auc:0.99925\tvalid-auc:0.998553\n",
      "[600]\ttrain-auc:0.999357\tvalid-auc:0.998593\n",
      "[700]\ttrain-auc:0.999442\tvalid-auc:0.998618\n",
      "[800]\ttrain-auc:0.999524\tvalid-auc:0.998633\n",
      "[900]\ttrain-auc:0.999598\tvalid-auc:0.998647\n",
      "[1000]\ttrain-auc:0.999658\tvalid-auc:0.998658\n",
      "[1100]\ttrain-auc:0.999703\tvalid-auc:0.998668\n",
      "[1200]\ttrain-auc:0.999742\tvalid-auc:0.998681\n",
      "[1300]\ttrain-auc:0.999774\tvalid-auc:0.998686\n",
      "[1400]\ttrain-auc:0.999802\tvalid-auc:0.998686\n",
      "[1500]\ttrain-auc:0.999826\tvalid-auc:0.998689\n",
      "[1600]\ttrain-auc:0.999846\tvalid-auc:0.998689\n",
      "[1700]\ttrain-auc:0.999864\tvalid-auc:0.998691\n",
      "[1800]\ttrain-auc:0.999881\tvalid-auc:0.998693\n",
      "[1900]\ttrain-auc:0.999898\tvalid-auc:0.998695\n",
      "[2000]\ttrain-auc:0.999909\tvalid-auc:0.998697\n",
      "[2100]\ttrain-auc:0.999921\tvalid-auc:0.998698\n",
      "[2200]\ttrain-auc:0.999931\tvalid-auc:0.998692\n",
      "[2300]\ttrain-auc:0.999941\tvalid-auc:0.998689\n",
      "[2400]\ttrain-auc:0.99995\tvalid-auc:0.998687\n",
      "[2500]\ttrain-auc:0.999959\tvalid-auc:0.998684\n",
      "Stopping. Best iteration:\n",
      "[2054]\ttrain-auc:0.999915\tvalid-auc:0.9987\n",
      "\n"
     ]
    }
   ],
   "source": [
    "xgb_model = xgb.train(params = params, dtrain = dtrain, evals=watchlist, num_boost_round = params['n_estimators'], verbose_eval=100, early_stopping_rounds=500)"
   ]
  },
  {
   "cell_type": "code",
   "execution_count": 71,
   "metadata": {
    "collapsed": true
   },
   "outputs": [],
   "source": [
    "dftest_part2 = dftest[dftest['count_q']==1]"
   ]
  },
  {
   "cell_type": "code",
   "execution_count": 72,
   "metadata": {
    "collapsed": true
   },
   "outputs": [],
   "source": [
    "dftest_part2['prediction'] = xgb_model.predict(dtest)"
   ]
  },
  {
   "cell_type": "code",
   "execution_count": 73,
   "metadata": {},
   "outputs": [
    {
     "data": {
      "text/plain": [
       "'Что башня, прикрывающая восточный фланг городских стен, была целиком окружают горы ведёт канатная дорога ведёт?'"
      ]
     },
     "execution_count": 73,
     "metadata": {},
     "output_type": "execute_result"
    }
   ],
   "source": [
    "dftest_part2[(dftest_part2.prediction>0.5)].question.values[33]"
   ]
  },
  {
   "cell_type": "code",
   "execution_count": 74,
   "metadata": {},
   "outputs": [
    {
     "data": {
      "text/plain": [
       "'Северная от реки часть города называется Канбук ( к северу от реки ) и Каннам ( к югу от реки ). К Каннаму прилегает остров Ёыйдо. Среди притоков Хангана — Танчон, Чхонгечхон и другие. Исторический центр окружён горами Нэсасан (Четыре горы с внутренней стороны крепостной стены): Пугаксан с севера, Наксан с востока, Намсан с юга и Инвансан с запада. На расположенной вблизи исторического центра лесистой горе Намсан (Южная гора) возвышается Сеульская телевизионная башня, к которой ведёт канатная дорога. Город целиком окружают горы Весасан (Четыре горы с внешней стороны крепостной стены): Пукхансан (высотою до 836,5 м) с севера, Ёнмасан с востока, Кванаксан с юга и Тогянсан с запада.'"
      ]
     },
     "execution_count": 74,
     "metadata": {},
     "output_type": "execute_result"
    }
   ],
   "source": [
    "dftest_part2[(dftest_part2.prediction>0.5)].paragraph.values[33]"
   ]
  },
  {
   "cell_type": "code",
   "execution_count": 75,
   "metadata": {},
   "outputs": [
    {
     "data": {
      "text/plain": [
       "(18747, 48)"
      ]
     },
     "execution_count": 75,
     "metadata": {},
     "output_type": "execute_result"
    }
   ],
   "source": [
    "dftest_part2[(dftest_part2.prediction<=0.5)].shape"
   ]
  },
  {
   "cell_type": "code",
   "execution_count": 76,
   "metadata": {},
   "outputs": [
    {
     "data": {
      "text/plain": [
       "(20356, 48)"
      ]
     },
     "execution_count": 76,
     "metadata": {},
     "output_type": "execute_result"
    }
   ],
   "source": [
    "dftest_part2[(dftest_part2.prediction>0.5)].shape"
   ]
  },
  {
   "cell_type": "code",
   "execution_count": 79,
   "metadata": {
    "collapsed": true
   },
   "outputs": [],
   "source": [
    "dftest_results=pd.concat([dftest_part1, dftest_part2])"
   ]
  },
  {
   "cell_type": "code",
   "execution_count": 80,
   "metadata": {
    "collapsed": true
   },
   "outputs": [],
   "source": [
    "#del dftest['prediction']"
   ]
  },
  {
   "cell_type": "code",
   "execution_count": 81,
   "metadata": {
    "collapsed": true
   },
   "outputs": [],
   "source": [
    "dftest=dftest.merge(dftest_results[['paragraph_id','question_id','prediction']], how='left', on=['paragraph_id','question_id'])"
   ]
  },
  {
   "cell_type": "code",
   "execution_count": 545,
   "metadata": {},
   "outputs": [
    {
     "data": {
      "text/plain": [
       "Index(['Unnamed: 0_x', 'Unnamed: 0.1', 'paragraph', 'paragraph_id', 'question',\n",
       "       'question_id', 'target', 'sent_paragraph', 'num_sent_paragraph',\n",
       "       'tokens_sent_paragraph', 'name_sent_paragraph', 'verb_sent_paragraph',\n",
       "       'latn_sent_paragraph', 'adj_sent_paragraph', 'noun_sent_paragraph',\n",
       "       'tokens_question_up', 'qw_nf_question_up', 'qw_question_up',\n",
       "       'qw_long_question_up', 'name_question_up', 'verb_question_up',\n",
       "       'latn_question_up', 'num_question_up', 'adj_question_up',\n",
       "       'noun_question_up', 'best_sent', 'len_inr', 'len_name', 'len_verb',\n",
       "       'len_latn', 'len_num', 'len_adj', 'len_noun', 'count',\n",
       "       'tokens_paragraph_up', 'best_paragraph_x', 'best_score_x', 'dist',\n",
       "       'score', 'best_paragraph_y', 'best_score_y', 'Unnamed: 0_y',\n",
       "       'frequency', 'fake', 'len_paragraph', 'len_question', 'prediction'],\n",
       "      dtype='object')"
      ]
     },
     "execution_count": 545,
     "metadata": {},
     "output_type": "execute_result"
    }
   ],
   "source": [
    "dftest.columns"
   ]
  },
  {
   "cell_type": "code",
   "execution_count": 82,
   "metadata": {
    "collapsed": true
   },
   "outputs": [],
   "source": [
    "dftest[['paragraph_id', 'question_id', 'prediction']].to_csv(\"prediction.csv\", index=False)"
   ]
  },
  {
   "cell_type": "code",
   "execution_count": 83,
   "metadata": {
    "collapsed": true
   },
   "outputs": [],
   "source": [
    "#dftest[dftest['count']>1].prediction.value_counts()"
   ]
  },
  {
   "cell_type": "code",
   "execution_count": 349,
   "metadata": {},
   "outputs": [
    {
     "data": {
      "text/plain": [
       "Index(['Unnamed: 0', 'paragraph', 'paragraph_id', 'question', 'question_id',\n",
       "       'target', 'sent_paragraph', 'num_sent_paragraph',\n",
       "       'tokens_sent_paragraph', 'name_sent_paragraph', 'verb_sent_paragraph',\n",
       "       'latn_sent_paragraph', 'adj_sent_paragraph', 'noun_sent_paragraph',\n",
       "       'tokens_question_up', 'qw_nf_question_up', 'qw_question_up',\n",
       "       'qw_long_question_up', 'name_question_up', 'verb_question_up',\n",
       "       'latn_question_up', 'num_question_up', 'adj_question_up',\n",
       "       'noun_question_up', 'best_sent', 'len_inr', 'len_name', 'len_verb',\n",
       "       'len_latn', 'len_num', 'len_adj', 'len_noun', 'count',\n",
       "       'tokens_paragraph_up', 'best_paragraph_x', 'best_score_x', 'dist',\n",
       "       'score', 'best_paragraph_y', 'best_score_y'],\n",
       "      dtype='object')"
      ]
     },
     "execution_count": 349,
     "metadata": {},
     "output_type": "execute_result"
    }
   ],
   "source": [
    "dftest.columns"
   ]
  },
  {
   "cell_type": "code",
   "execution_count": 338,
   "metadata": {
    "collapsed": true
   },
   "outputs": [],
   "source": [
    "del dftest['prediction_x']"
   ]
  },
  {
   "cell_type": "code",
   "execution_count": 339,
   "metadata": {
    "collapsed": true
   },
   "outputs": [],
   "source": [
    "del dftest['prediction_y']"
   ]
  },
  {
   "cell_type": "code",
   "execution_count": null,
   "metadata": {
    "collapsed": true
   },
   "outputs": [],
   "source": []
  },
  {
   "cell_type": "code",
   "execution_count": 312,
   "metadata": {
    "collapsed": true
   },
   "outputs": [],
   "source": [
    "dftest.to_csv('./testTFIDF.csv')\n",
    "dftrain.to_csv('./trainTFIDF.csv')"
   ]
  }
 ],
 "metadata": {
  "kernelspec": {
   "display_name": "Python 3",
   "language": "python",
   "name": "python3"
  },
  "language_info": {
   "codemirror_mode": {
    "name": "ipython",
    "version": 3
   },
   "file_extension": ".py",
   "mimetype": "text/x-python",
   "name": "python",
   "nbconvert_exporter": "python",
   "pygments_lexer": "ipython3",
   "version": "3.5.2"
  }
 },
 "nbformat": 4,
 "nbformat_minor": 2
}
