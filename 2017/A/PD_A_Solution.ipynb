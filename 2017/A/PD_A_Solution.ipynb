{
 "cells": [
  {
   "cell_type": "code",
   "execution_count": 199,
   "metadata": {
    "collapsed": true
   },
   "outputs": [],
   "source": [
    "import pandas as pd\n",
    "import numpy as np\n",
    "from tqdm import tqdm_notebook\n",
    "import difflib\n",
    "import sys\n",
    "import re\n",
    "from matplotlib import pyplot as plt\n",
    "import matplotlib\n",
    "\n",
    "from sklearn.ensemble import GradientBoostingClassifier\n",
    "\n",
    "import scipy\n",
    "from scipy import spatial"
   ]
  },
  {
   "cell_type": "code",
   "execution_count": null,
   "metadata": {
    "collapsed": true
   },
   "outputs": [],
   "source": [
    "# Check 7 общих статей-вопросов"
   ]
  },
  {
   "cell_type": "code",
   "execution_count": 200,
   "metadata": {},
   "outputs": [],
   "source": [
    "train, test = pd.read_csv(\"train_task1_latest.csv\"), pd.read_csv(\"test_task1_latest.csv\")"
   ]
  },
  {
   "cell_type": "code",
   "execution_count": 201,
   "metadata": {},
   "outputs": [
    {
     "data": {
      "text/plain": [
       "'В отличие от рыб, земноводные (амфибии) и пресмыкающиеся (рептилии или гады) уже имеют два круга кровообращения и сердце у них трёхкамерное (появляется межпредсердная перегородка). Единственные современные рептилии, имеющие хотя и неполноценное (межпредсердиевая перегородка не полностью разделяет предсердия, что скорей всего связано с переходом предков к полуводному образу жизни и снижению активности), но уже четырёхкамерное сердце — крокодилы. Считается, что впервые четырёхкамерное сердце появилось у примитивных архозавров и развитых синапсидов. В дальнейшем такое строение сердца унаследовали прямые потомки динозавров — птицы и потомки примитивных млекопитающих — современные млекопитающие.'"
      ]
     },
     "execution_count": 201,
     "metadata": {},
     "output_type": "execute_result"
    }
   ],
   "source": [
    "train.paragraph[0]"
   ]
  },
  {
   "cell_type": "code",
   "execution_count": 202,
   "metadata": {},
   "outputs": [
    {
     "data": {
      "text/plain": [
       "'С какого года Русское Царство перешло на летоисчисление от Рождества Христова и празднование Нового года 1 января, а не 1 сентября?'"
      ]
     },
     "execution_count": 202,
     "metadata": {},
     "output_type": "execute_result"
    }
   ],
   "source": [
    "train.question[0]"
   ]
  },
  {
   "cell_type": "code",
   "execution_count": 313,
   "metadata": {},
   "outputs": [],
   "source": [
    "import string\n",
    "def is_uppercase(word):\n",
    "    print(word[0])\n",
    "    if word[0] in list('АБВГДЕЁЖЗИЙКЛМНОПРСТУФХЦЧШЩЪЫБЭЮЯ'):\n",
    "        return True\n",
    "    else:\n",
    "        return False"
   ]
  },
  {
   "cell_type": "code",
   "execution_count": 314,
   "metadata": {},
   "outputs": [
    {
     "name": "stdout",
     "output_type": "stream",
     "text": [
      "ABCDEFGHIJKLMNOPQRSTUVWXYZ\n"
     ]
    }
   ],
   "source": [
    "print(string.ascii_uppercase)"
   ]
  },
  {
   "cell_type": "code",
   "execution_count": 317,
   "metadata": {},
   "outputs": [
    {
     "name": "stdout",
     "output_type": "stream",
     "text": [
      "П\n"
     ]
    },
    {
     "data": {
      "text/plain": [
       "True"
      ]
     },
     "execution_count": 317,
     "metadata": {},
     "output_type": "execute_result"
    }
   ],
   "source": [
    "is_uppercase('Просто текст')"
   ]
  },
  {
   "cell_type": "code",
   "execution_count": 484,
   "metadata": {},
   "outputs": [],
   "source": [
    "# df - train dataset;\n",
    "# variable = переменная\n",
    "# variable_title - название переменной на графике\n",
    "def PlotHistByTarget(variable, variable_title, min_x, max_x, df): \n",
    "    print('Histogram for '+variable_title)\n",
    "    \n",
    "    print(DescStatsByTarget(variable, variable_title, df))\n",
    "    \n",
    "    plt.style.use('seaborn-deep')\n",
    "    hist_df = pd.DataFrame({'target':df['target'],variable_title:variable})\n",
    "    pyplot.hist([hist_df[hist_df['target']==0][variable_title].values,hist_df[hist_df['target']==1][variable_title].values], \n",
    "                bins = 100, \n",
    "                alpha = 0.5, \n",
    "                label=['target: 0','target: 1'], \n",
    "                color = ['r','b'])\n",
    "    plt.xlim(xmin=min_x, xmax = max_x)\n",
    "    plt.legend()\n",
    "    plt.show()\n",
    "    \n",
    "def DescStatsByTarget(variable, variable_title, df):\n",
    "    dft = pd.DataFrame({'target':df['target'],variable_title:variable})\n",
    "    \n",
    "    x = dft[dft['target']==0][variable_title].values\n",
    "    dfx = pd.DataFrame({'target: 0':x})\n",
    "    \n",
    "    count0 = len(x)\n",
    "    mean0 = round(np.mean(x),6)\n",
    "    std0 = round(np.std(x),6)\n",
    "    min0 = round(np.min(x),6)\n",
    "    median0 = round(np.median(x),6)\n",
    "    max0 = round(np.max(x),6)\n",
    "    \n",
    "    y = dft[dft['target']==1][variable_title].values\n",
    "    dfy = pd.DataFrame({'target: 1':y})\n",
    "    \n",
    "    count1 = len(y)\n",
    "    mean1 = round(np.mean(y),6)\n",
    "    std1 = round(np.std(y),6)\n",
    "    min1 = round(np.min(y),6)\n",
    "    median1 = round(np.median(y),6)\n",
    "    max1 = round(np.max(y),6)\n",
    "    \n",
    "    df_desc = pd.DataFrame([[count0, mean0, std0, min0, median0, max0],\n",
    "                        [count1, mean1, std1, min1, median1, max1]],\n",
    "                        columns = ['count','mean','std','min','median','max'], \n",
    "                        index=[variable_title+' (target: 0)',variable_title+' (target: 1)'])\n",
    "    \n",
    "    return df_desc"
   ]
  },
  {
   "cell_type": "code",
   "execution_count": 203,
   "metadata": {
    "collapsed": true
   },
   "outputs": [],
   "source": [
    "def uniq_words(text):\n",
    "    return set(re.findall(\"\\w+\", text))"
   ]
  },
  {
   "cell_type": "code",
   "execution_count": 204,
   "metadata": {},
   "outputs": [
    {
     "data": {
      "application/vnd.jupyter.widget-view+json": {
       "model_id": "7666d2a1dc634cbd83ec7a3f458bdc45"
      }
     },
     "metadata": {},
     "output_type": "display_data"
    },
    {
     "name": "stdout",
     "output_type": "stream",
     "text": [
      "\n"
     ]
    },
    {
     "data": {
      "application/vnd.jupyter.widget-view+json": {
       "model_id": "448acb406c9e428ab53aca476d4f5d6c"
      }
     },
     "metadata": {},
     "output_type": "display_data"
    },
    {
     "name": "stdout",
     "output_type": "stream",
     "text": [
      "\n"
     ]
    }
   ],
   "source": [
    "for name, df in [('train', train), ('test', test)]:\n",
    "    df.set_value(0,'list_ratio',0)\n",
    "    df.set_value(0,'list_intersections',0)\n",
    "    df['list_ratio'] = df['list_ratio'].astype(object)\n",
    "    df['list_intersections'] = df['list_intersections'].astype(object)\n",
    "    for index, row in tqdm.tqdm_notebook(df.iterrows(), total=df.shape[0], desc=\"build features for \" + name):\n",
    "        sentences = row.paragraph.split('. ')\n",
    "        question = row.question\n",
    "        \n",
    "        unq_question = uniq_words(row.question)\n",
    "        \n",
    "        list_ratio = []\n",
    "        list_intersections = []\n",
    "        \n",
    "        for sentence in sentences:\n",
    "            list_ratio.append(round(difflib.SequenceMatcher(None,sentence, question).ratio(),5))\n",
    "            list_intersections.append(len(uniq_words(sentence) & unq_question))\n",
    "        \n",
    "        df.set_value(index, 'list_ratio', list_ratio)\n",
    "        df.set_value(index, 'list_intersections', list_intersections)\n",
    "        df.loc[index, 'len_paragraph'] = len(uniq_words(row.paragraph))\n",
    "        df.loc[index, 'len_question'] = len(unq_question)\n",
    "        df.loc[index, 'len_intersection'] = len(uniq_words(row.paragraph) & unq_question)"
   ]
  },
  {
   "cell_type": "code",
   "execution_count": 319,
   "metadata": {},
   "outputs": [],
   "source": [
    "train.to_csv(\"train_feat.csv\", index=False)\n",
    "test.to_csv(\"test_feat.csv\", index=False)\n",
    "\n",
    "trainf, testf = pd.read_csv(\"train_feat.csv\", encoding ='ISO-8859-1'), pd.read_csv(\"test_feat.csv\", encoding ='ISO-8859-1')"
   ]
  },
  {
   "cell_type": "code",
   "execution_count": 485,
   "metadata": {},
   "outputs": [
    {
     "name": "stdout",
     "output_type": "stream",
     "text": [
      "Histogram for len_question\n",
      "                          count       mean       std  min  median   max\n",
      "len_question (target: 0)  85361  15.052214  6.360197  4.0    14.0  64.0\n",
      "len_question (target: 1)  34037   8.577842  3.949244  2.0     8.0  60.0\n"
     ]
    },
    {
     "data": {
      "image/png": "[encoded data removed]",
      "text/plain": [
       "<matplotlib.figure.Figure at 0x22d02404630>"
      ]
     },
     "metadata": {},
     "output_type": "display_data"
    }
   ],
   "source": [
    "PlotHistByTarget(trainf.len_question, 'len_question', 0, 40, trainf)"
   ]
  },
  {
   "cell_type": "code",
   "execution_count": 208,
   "metadata": {},
   "outputs": [
    {
     "data": {
      "text/html": [
       "<div>\n",
       "<style>\n",
       "    .dataframe thead tr:only-child th {\n",
       "        text-align: right;\n",
       "    }\n",
       "\n",
       "    .dataframe thead th {\n",
       "        text-align: left;\n",
       "    }\n",
       "\n",
       "    .dataframe tbody tr th {\n",
       "        vertical-align: top;\n",
       "    }\n",
       "</style>\n",
       "<table border=\"1\" class=\"dataframe\">\n",
       "  <thead>\n",
       "    <tr style=\"text-align: right;\">\n",
       "      <th></th>\n",
       "      <th>paragraph_id</th>\n",
       "      <th>question_id</th>\n",
       "      <th>paragraph</th>\n",
       "      <th>question</th>\n",
       "      <th>target</th>\n",
       "      <th>list_ratio</th>\n",
       "      <th>list_intersections</th>\n",
       "      <th>len_paragraph</th>\n",
       "      <th>len_question</th>\n",
       "      <th>len_intersection</th>\n",
       "    </tr>\n",
       "  </thead>\n",
       "  <tbody>\n",
       "    <tr>\n",
       "      <th>0</th>\n",
       "      <td>1094</td>\n",
       "      <td>46273</td>\n",
       "      <td>Â îòëè÷èå îò ðûá, çåìíîâîäíûå (àìôèáèè) è ïðåñ...</td>\n",
       "      <td>Ñ êàêîãî ãîäà Ðóññêîå Öàðñòâî ïåðåøëî íà ëåòîè...</td>\n",
       "      <td>0.0</td>\n",
       "      <td>[0.24516, 0.11587, 0.14592, 0.31769]</td>\n",
       "      <td>[2, 2, 1, 1]</td>\n",
       "      <td>67.0</td>\n",
       "      <td>19.0</td>\n",
       "      <td>3.0</td>\n",
       "    </tr>\n",
       "    <tr>\n",
       "      <th>1</th>\n",
       "      <td>7414</td>\n",
       "      <td>19164</td>\n",
       "      <td>Â 1049 ãîäó Áàëäóèíó V óäàëîñü îòíÿòü ó Ãåðìàí...</td>\n",
       "      <td>Êòî óïîìÿíóë î åãî ïåðâûõ ðàçíîãëàñèÿõ ñî Øòåé...</td>\n",
       "      <td>0.0</td>\n",
       "      <td>[0.02841, 0.0479, 0.03165, 0.05714, 0.02, 0.02...</td>\n",
       "      <td>[0, 2, 0, 0, 0, 2, 0]</td>\n",
       "      <td>89.0</td>\n",
       "      <td>31.0</td>\n",
       "      <td>3.0</td>\n",
       "    </tr>\n",
       "    <tr>\n",
       "      <th>2</th>\n",
       "      <td>6744</td>\n",
       "      <td>39767</td>\n",
       "      <td>Ñòðåìëåíèå äîñòè÷ü ïðåäåëüíûõ çíà÷åíèé ¸ìêîñòè...</td>\n",
       "      <td>Êàê íàçûâàåòñÿ èìåþùàÿ ìèðîâîå çíà÷åíèå ýïîõà ...</td>\n",
       "      <td>0.0</td>\n",
       "      <td>[0.25189, 0.18962]</td>\n",
       "      <td>[2, 3]</td>\n",
       "      <td>62.0</td>\n",
       "      <td>20.0</td>\n",
       "      <td>3.0</td>\n",
       "    </tr>\n",
       "    <tr>\n",
       "      <th>3</th>\n",
       "      <td>7300</td>\n",
       "      <td>36318</td>\n",
       "      <td>Ïåðâûé ïðàêòè÷åñêè ïðèãîäíûé äâóõòàêòíûé ãàçîâ...</td>\n",
       "      <td>×òî óñóãóáëÿëîñü èç-çà ìåæäóíàðîäíîãî äàâëåíèÿ...</td>\n",
       "      <td>0.0</td>\n",
       "      <td>[0.14286, 0.21739, 0.01905, 0.25085, 0.23313, ...</td>\n",
       "      <td>[0, 0, 1, 3, 0, 0, 1, 0]</td>\n",
       "      <td>66.0</td>\n",
       "      <td>14.0</td>\n",
       "      <td>3.0</td>\n",
       "    </tr>\n",
       "    <tr>\n",
       "      <th>4</th>\n",
       "      <td>7077</td>\n",
       "      <td>41534</td>\n",
       "      <td>Òðåáóÿ îò õóäîæíèêà óãëóáëåííîãî èçó÷åíèÿ èçîá...</td>\n",
       "      <td>Êàêîé õàðàêòåð íîñÿò ïðîðî÷åñòâà Ëåîíàðäî äà Â...</td>\n",
       "      <td>0.0</td>\n",
       "      <td>[0.29907, 0.26573, 0.16514, 0.31429, 0.16304]</td>\n",
       "      <td>[3, 0, 0, 0, 0]</td>\n",
       "      <td>93.0</td>\n",
       "      <td>7.0</td>\n",
       "      <td>3.0</td>\n",
       "    </tr>\n",
       "  </tbody>\n",
       "</table>\n",
       "</div>"
      ],
      "text/plain": [
       "   paragraph_id  question_id  \\\n",
       "0          1094        46273   \n",
       "1          7414        19164   \n",
       "2          6744        39767   \n",
       "3          7300        36318   \n",
       "4          7077        41534   \n",
       "\n",
       "                                           paragraph  \\\n",
       "0  Â îòëè÷èå îò ðûá, çåìíîâîäíûå (àìôèáèè) è ïðåñ...   \n",
       "1  Â 1049 ãîäó Áàëäóèíó V óäàëîñü îòíÿòü ó Ãåðìàí...   \n",
       "2  Ñòðåìëåíèå äîñòè÷ü ïðåäåëüíûõ çíà÷åíèé ¸ìêîñòè...   \n",
       "3  Ïåðâûé ïðàêòè÷åñêè ïðèãîäíûé äâóõòàêòíûé ãàçîâ...   \n",
       "4  Òðåáóÿ îò õóäîæíèêà óãëóáëåííîãî èçó÷åíèÿ èçîá...   \n",
       "\n",
       "                                            question  target  \\\n",
       "0  Ñ êàêîãî ãîäà Ðóññêîå Öàðñòâî ïåðåøëî íà ëåòîè...     0.0   \n",
       "1  Êòî óïîìÿíóë î åãî ïåðâûõ ðàçíîãëàñèÿõ ñî Øòåé...     0.0   \n",
       "2  Êàê íàçûâàåòñÿ èìåþùàÿ ìèðîâîå çíà÷åíèå ýïîõà ...     0.0   \n",
       "3  ×òî óñóãóáëÿëîñü èç-çà ìåæäóíàðîäíîãî äàâëåíèÿ...     0.0   \n",
       "4  Êàêîé õàðàêòåð íîñÿò ïðîðî÷åñòâà Ëåîíàðäî äà Â...     0.0   \n",
       "\n",
       "                                          list_ratio  \\\n",
       "0               [0.24516, 0.11587, 0.14592, 0.31769]   \n",
       "1  [0.02841, 0.0479, 0.03165, 0.05714, 0.02, 0.02...   \n",
       "2                                 [0.25189, 0.18962]   \n",
       "3  [0.14286, 0.21739, 0.01905, 0.25085, 0.23313, ...   \n",
       "4      [0.29907, 0.26573, 0.16514, 0.31429, 0.16304]   \n",
       "\n",
       "         list_intersections  len_paragraph  len_question  len_intersection  \n",
       "0              [2, 2, 1, 1]           67.0          19.0               3.0  \n",
       "1     [0, 2, 0, 0, 0, 2, 0]           89.0          31.0               3.0  \n",
       "2                    [2, 3]           62.0          20.0               3.0  \n",
       "3  [0, 0, 1, 3, 0, 0, 1, 0]           66.0          14.0               3.0  \n",
       "4           [3, 0, 0, 0, 0]           93.0           7.0               3.0  "
      ]
     },
     "execution_count": 208,
     "metadata": {},
     "output_type": "execute_result"
    }
   ],
   "source": [
    "trainf.head()"
   ]
  },
  {
   "cell_type": "code",
   "execution_count": 324,
   "metadata": {},
   "outputs": [
    {
     "data": {
      "application/vnd.jupyter.widget-view+json": {
       "model_id": "41fef28ec8e14874a86be2284a60e2e9"
      }
     },
     "metadata": {},
     "output_type": "display_data"
    },
    {
     "name": "stdout",
     "output_type": "stream",
     "text": [
      "\n"
     ]
    },
    {
     "data": {
      "application/vnd.jupyter.widget-view+json": {
       "model_id": "cb4d4c7458844662877aa5884ace7bb6"
      }
     },
     "metadata": {},
     "output_type": "display_data"
    },
    {
     "name": "stdout",
     "output_type": "stream",
     "text": [
      "\n"
     ]
    }
   ],
   "source": [
    "for name, df in [('train', trainf), ('test', testf)]:\n",
    "    for index, row in tqdm.tqdm_notebook(df.iterrows(), total=df.shape[0], desc=\"build features for \" + name):\n",
    "        df.loc[index, 'min_ratio'] = np.min(ast.literal_eval(row.list_ratio))\n",
    "        df.loc[index, 'max_ratio'] = np.max(ast.literal_eval(row.list_ratio))\n",
    "        df.loc[index, 'std_ratio'] = np.std(ast.literal_eval(row.list_ratio))\n",
    "        df.loc[index, 'mean_ratio'] = np.mean(ast.literal_eval(row.list_ratio))\n",
    "        df.loc[index, 'num_sentences'] = len(ast.literal_eval(row.list_ratio))\n",
    "        df.loc[index, 'min_inter'] = np.min(ast.literal_eval(row.list_intersections))\n",
    "        df.loc[index, 'max_inter'] = np.max(ast.literal_eval(row.list_intersections))"
   ]
  },
  {
   "cell_type": "code",
   "execution_count": 503,
   "metadata": {
    "collapsed": true
   },
   "outputs": [],
   "source": [
    "trainf.to_csv(\"train_feat2.csv\", index=False)\n",
    "testf.to_csv(\"test_feat2.csv\", index=False)\n",
    "\n"
   ]
  },
  {
   "cell_type": "code",
   "execution_count": 504,
   "metadata": {
    "collapsed": true
   },
   "outputs": [],
   "source": [
    "trainf, testf = pd.read_csv(\"train_feat2.csv\", encoding ='ISO-8859-1'), pd.read_csv(\"test_feat2.csv\", encoding ='ISO-8859-1')"
   ]
  },
  {
   "cell_type": "code",
   "execution_count": 486,
   "metadata": {},
   "outputs": [
    {
     "name": "stdout",
     "output_type": "stream",
     "text": [
      "Histogram for min_ratio\n",
      "                       count      mean       std  min   median      max\n",
      "min_ratio (target: 0)  85361  0.110002  0.063889  0.0  0.12017  0.35345\n",
      "min_ratio (target: 1)  34037  0.131520  0.068175  0.0  0.13506  0.97398\n"
     ]
    },
    {
     "data": {
      "image/png": "[encoded data removed]",
      "text/plain": [
       "<matplotlib.figure.Figure at 0x22d219b0978>"
      ]
     },
     "metadata": {},
     "output_type": "display_data"
    }
   ],
   "source": [
    "var_title = 'min_ratio' \n",
    "PlotHistByTarget(trainf.min_ratio, var_title, 0, 0.4, trainf)"
   ]
  },
  {
   "cell_type": "code",
   "execution_count": 487,
   "metadata": {},
   "outputs": [
    {
     "name": "stdout",
     "output_type": "stream",
     "text": [
      "Histogram for max_ratio\n",
      "                       count      mean       std      min  median      max\n",
      "max_ratio (target: 0)  85361  0.269191  0.076324  0.00510  0.2766  0.83333\n",
      "max_ratio (target: 1)  34037  0.429532  0.180929  0.02071  0.3871  0.99145\n"
     ]
    },
    {
     "data": {
      "image/png": "[encoded data removed]",
      "text/plain": [
       "<matplotlib.figure.Figure at 0x22d04947748>"
      ]
     },
     "metadata": {},
     "output_type": "display_data"
    }
   ],
   "source": [
    "var_title = 'max_ratio' \n",
    "PlotHistByTarget(trainf.max_ratio, var_title, 0, 1, trainf)"
   ]
  },
  {
   "cell_type": "code",
   "execution_count": 488,
   "metadata": {},
   "outputs": [
    {
     "name": "stdout",
     "output_type": "stream",
     "text": [
      "Histogram for std_ratio\n",
      "                       count      mean       std  min    median       max\n",
      "std_ratio (target: 0)  85361  0.055267  0.026044  0.0  0.053419  0.252462\n",
      "std_ratio (target: 1)  34037  0.103941  0.063265  0.0  0.090241  0.450137\n"
     ]
    },
    {
     "data": {
      "image/png": "[encoded data removed]",
      "text/plain": [
       "<matplotlib.figure.Figure at 0x22d1899a7b8>"
      ]
     },
     "metadata": {},
     "output_type": "display_data"
    }
   ],
   "source": [
    "var_title = 'std_ratio' \n",
    "PlotHistByTarget(trainf.std_ratio, var_title, 0, 0.4, trainf)"
   ]
  },
  {
   "cell_type": "code",
   "execution_count": 493,
   "metadata": {},
   "outputs": [
    {
     "name": "stdout",
     "output_type": "stream",
     "text": [
      "Histogram for mean_ratio\n",
      "                        count      mean       std      min    median       max\n",
      "mean_ratio (target: 0)  85361  0.191673  0.054721  0.00255  0.199163  0.429312\n",
      "mean_ratio (target: 1)  34037  0.249552  0.069220  0.02071  0.245534  0.973980\n"
     ]
    },
    {
     "data": {
      "image/png": "[encoded data removed]",
      "text/plain": [
       "<matplotlib.figure.Figure at 0x22d06d270f0>"
      ]
     },
     "metadata": {},
     "output_type": "display_data"
    },
    {
     "name": "stdout",
     "output_type": "stream",
     "text": [
      "------------------------------------------------------------\n"
     ]
    }
   ],
   "source": [
    "var_title = 'mean_ratio' \n",
    "PlotHistByTarget(trainf.mean_ratio, var_title, 0, 0.5, trainf)\n",
    "#PlotHistByTarget(testf.mean_ratio, var_title, testf)\n",
    "print('-'*60)"
   ]
  },
  {
   "cell_type": "code",
   "execution_count": 518,
   "metadata": {},
   "outputs": [
    {
     "name": "stdout",
     "output_type": "stream",
     "text": [
      "Histogram for num_sentences\n",
      "                           count      mean       std  min  median   max\n",
      "num_sentences (target: 0)  85361  5.978608  2.415787  1.0     5.0  40.0\n",
      "num_sentences (target: 1)  34037  5.745101  2.993409  1.0     5.0  73.0\n"
     ]
    },
    {
     "data": {
      "image/png": "[encoded data removed]",
      "text/plain": [
       "<matplotlib.figure.Figure at 0x22d2826e2b0>"
      ]
     },
     "metadata": {},
     "output_type": "display_data"
    },
    {
     "name": "stdout",
     "output_type": "stream",
     "text": [
      "------------------------------------------------------------\n"
     ]
    }
   ],
   "source": [
    "var_title = 'num_sentences' \n",
    "PlotHistByTarget(trainf.num_sentences, var_title, 0, 20, trainf)\n",
    "#PlotHistByTarget(testf.num_sentences, var_title, testf)\n",
    "print('-'*60)"
   ]
  },
  {
   "cell_type": "code",
   "execution_count": 497,
   "metadata": {},
   "outputs": [
    {
     "name": "stdout",
     "output_type": "stream",
     "text": [
      "Histogram for min_inter\n",
      "                       count      mean       std  min  median   max\n",
      "min_inter (target: 0)  85361  0.226977  0.499684  0.0     0.0   7.0\n",
      "min_inter (target: 1)  34037  0.253959  0.934635  0.0     0.0  53.0\n"
     ]
    },
    {
     "data": {
      "image/png": "[encoded data removed]",
      "text/plain": [
       "<matplotlib.figure.Figure at 0x22d218457b8>"
      ]
     },
     "metadata": {},
     "output_type": "display_data"
    },
    {
     "name": "stdout",
     "output_type": "stream",
     "text": [
      "------------------------------------------------------------\n"
     ]
    }
   ],
   "source": [
    "var_title = 'min_inter' \n",
    "PlotHistByTarget(trainf.min_inter, var_title, 0, 5, trainf)\n",
    "#PlotHistByTarget(testf.min_inter, var_title, testf)\n",
    "print('-'*60)"
   ]
  },
  {
   "cell_type": "code",
   "execution_count": 501,
   "metadata": {},
   "outputs": [
    {
     "name": "stdout",
     "output_type": "stream",
     "text": [
      "Histogram for max_inter\n",
      "                       count      mean       std  min  median   max\n",
      "max_inter (target: 0)  85361  2.449163  0.767937  1.0     2.0  12.0\n",
      "max_inter (target: 1)  34037  5.170256  3.970357  0.0     4.0  58.0\n"
     ]
    },
    {
     "data": {
      "image/png": "[encoded data removed]",
      "text/plain": [
       "<matplotlib.figure.Figure at 0x22d2186af60>"
      ]
     },
     "metadata": {},
     "output_type": "display_data"
    },
    {
     "name": "stdout",
     "output_type": "stream",
     "text": [
      "------------------------------------------------------------\n"
     ]
    }
   ],
   "source": [
    "var_title = 'max_inter' \n",
    "PlotHistByTarget(trainf.max_inter, var_title, 0, 20, trainf)\n",
    "#PlotHistByTarget(testf.max_inter, var_title, testf)\n",
    "print('-'*60)"
   ]
  },
  {
   "cell_type": "markdown",
   "metadata": {},
   "source": [
    "# Models"
   ]
  },
  {
   "cell_type": "code",
   "execution_count": 210,
   "metadata": {
    "collapsed": true
   },
   "outputs": [],
   "source": [
    "columns = ['len_paragraph',\n",
    "           'len_question',\n",
    "           'len_intersection',\n",
    "           'min_ratio',\n",
    "           'max_ratio',\n",
    "           'std_ratio',\n",
    "           'mean_ratio',\n",
    "           'num_sentences',\n",
    "           'min_inter',\n",
    "           'max_inter'\n",
    "          ]"
   ]
  },
  {
   "cell_type": "markdown",
   "metadata": {},
   "source": [
    "## Gradient Boosting"
   ]
  },
  {
   "cell_type": "code",
   "execution_count": 277,
   "metadata": {
    "collapsed": true
   },
   "outputs": [],
   "source": [
    "model = GradientBoostingClassifier().fit(trainf[columns], trainf['target'])"
   ]
  },
  {
   "cell_type": "code",
   "execution_count": 278,
   "metadata": {},
   "outputs": [
    {
     "data": {
      "image/png": "[encoded data removed]",
      "text/plain": [
       "<matplotlib.figure.Figure at 0x22d219bfda0>"
      ]
     },
     "metadata": {},
     "output_type": "display_data"
    }
   ],
   "source": [
    "feat_importance(model, columns)"
   ]
  },
  {
   "cell_type": "code",
   "execution_count": 211,
   "metadata": {},
   "outputs": [],
   "source": [
    "testf['prediction'] = model.predict(testf[columns])"
   ]
  },
  {
   "cell_type": "code",
   "execution_count": 212,
   "metadata": {},
   "outputs": [
    {
     "data": {
      "text/html": [
       "<div>\n",
       "<style>\n",
       "    .dataframe thead tr:only-child th {\n",
       "        text-align: right;\n",
       "    }\n",
       "\n",
       "    .dataframe thead th {\n",
       "        text-align: left;\n",
       "    }\n",
       "\n",
       "    .dataframe tbody tr th {\n",
       "        vertical-align: top;\n",
       "    }\n",
       "</style>\n",
       "<table border=\"1\" class=\"dataframe\">\n",
       "  <thead>\n",
       "    <tr style=\"text-align: right;\">\n",
       "      <th></th>\n",
       "      <th>paragraph_id</th>\n",
       "      <th>question_id</th>\n",
       "      <th>paragraph</th>\n",
       "      <th>question</th>\n",
       "      <th>list_ratio</th>\n",
       "      <th>list_intersections</th>\n",
       "      <th>len_paragraph</th>\n",
       "      <th>len_question</th>\n",
       "      <th>len_intersection</th>\n",
       "      <th>min_ratio</th>\n",
       "      <th>max_ratio</th>\n",
       "      <th>std_ratio</th>\n",
       "      <th>mean_ratio</th>\n",
       "      <th>num_sentences</th>\n",
       "      <th>min_inter</th>\n",
       "      <th>max_inter</th>\n",
       "      <th>prediction</th>\n",
       "    </tr>\n",
       "  </thead>\n",
       "  <tbody>\n",
       "    <tr>\n",
       "      <th>0</th>\n",
       "      <td>1361</td>\n",
       "      <td>6463</td>\n",
       "      <td>Ïåðåäíèé ìîçã ñèëüíî ðàçâèò, ýòî ñàìàÿ áîëüøàÿ...</td>\n",
       "      <td>Â êàêîé ìèôîëîãèè äâà âîðîíà Õóãèí è Ìóíèí øåï...</td>\n",
       "      <td>[0.25, 0.17964, 0.16162, 0.02597, 0.1641, 0.13...</td>\n",
       "      <td>[0, 0, 2, 0, 1, 0, 1, 3, 0, 0, 0, 0, 0, 0]</td>\n",
       "      <td>113.0</td>\n",
       "      <td>14.0</td>\n",
       "      <td>3.0</td>\n",
       "      <td>0.00000</td>\n",
       "      <td>0.29834</td>\n",
       "      <td>0.090838</td>\n",
       "      <td>0.153921</td>\n",
       "      <td>14.0</td>\n",
       "      <td>0.0</td>\n",
       "      <td>3.0</td>\n",
       "      <td>0.0</td>\n",
       "    </tr>\n",
       "    <tr>\n",
       "      <th>1</th>\n",
       "      <td>1403</td>\n",
       "      <td>34696</td>\n",
       "      <td>Ìèðìåêîëîãè èññëåäóþò ìóðàâü¸â êàê â ëàáîðàòîð...</td>\n",
       "      <td>Êîãäà èíñàéäåð ïîêóïàåò èëè ãèïîòåçû ÷åãî ýâîë...</td>\n",
       "      <td>[0.18265, 0.24409, 0.33696, 0.23077, 0.21017, ...</td>\n",
       "      <td>[0, 0, 5, 0, 0, 0]</td>\n",
       "      <td>79.0</td>\n",
       "      <td>11.0</td>\n",
       "      <td>5.0</td>\n",
       "      <td>0.18265</td>\n",
       "      <td>0.33696</td>\n",
       "      <td>0.048354</td>\n",
       "      <td>0.237508</td>\n",
       "      <td>6.0</td>\n",
       "      <td>0.0</td>\n",
       "      <td>5.0</td>\n",
       "      <td>1.0</td>\n",
       "    </tr>\n",
       "    <tr>\n",
       "      <th>2</th>\n",
       "      <td>1435</td>\n",
       "      <td>13751</td>\n",
       "      <td>Âîëíîâàÿ: ñâåò ïðåäñòàâëÿåò ñîáîé âîëíó â íåâè...</td>\n",
       "      <td>Êàêèå ïðåäïîëîæåíèÿ, ïî ìíåíèþ Íüþòîíà, äîïóñò...</td>\n",
       "      <td>[0.23077, 0.17634, 0.33113]</td>\n",
       "      <td>[1, 3, 1]</td>\n",
       "      <td>63.0</td>\n",
       "      <td>12.0</td>\n",
       "      <td>3.0</td>\n",
       "      <td>0.17634</td>\n",
       "      <td>0.33113</td>\n",
       "      <td>0.064113</td>\n",
       "      <td>0.246080</td>\n",
       "      <td>3.0</td>\n",
       "      <td>1.0</td>\n",
       "      <td>3.0</td>\n",
       "      <td>0.0</td>\n",
       "    </tr>\n",
       "    <tr>\n",
       "      <th>3</th>\n",
       "      <td>341</td>\n",
       "      <td>38544</td>\n",
       "      <td>Æèâûå îðãàíèçìû ïîä÷èíÿþòñÿ íà÷àëàì òåðìîäèíàì...</td>\n",
       "      <td>Â êàêèõ óñëîâèÿõ ìåòàáîëèçì ïîääåðæèâàåò ïîðÿä...</td>\n",
       "      <td>[0.32558, 0.29412, 0.17391, 0.27673, 0.33333, ...</td>\n",
       "      <td>[0, 0, 0, 1, 1, 9]</td>\n",
       "      <td>89.0</td>\n",
       "      <td>10.0</td>\n",
       "      <td>9.0</td>\n",
       "      <td>0.17391</td>\n",
       "      <td>0.89820</td>\n",
       "      <td>0.235975</td>\n",
       "      <td>0.383645</td>\n",
       "      <td>6.0</td>\n",
       "      <td>0.0</td>\n",
       "      <td>9.0</td>\n",
       "      <td>1.0</td>\n",
       "    </tr>\n",
       "    <tr>\n",
       "      <th>4</th>\n",
       "      <td>1317</td>\n",
       "      <td>14589</td>\n",
       "      <td>Ôàéëû íåëàòèíñêîãî òåêñòà â Þíèêîäå âñåãäà çàí...</td>\n",
       "      <td>Êàêèì ìåëîäèÿì Ïðîêîôüåâà îñîáåííî íå óêëàäûâà...</td>\n",
       "      <td>[0.02812, 0.02824, 0.00893]</td>\n",
       "      <td>[8, 4, 4]</td>\n",
       "      <td>86.0</td>\n",
       "      <td>24.0</td>\n",
       "      <td>11.0</td>\n",
       "      <td>0.00893</td>\n",
       "      <td>0.02824</td>\n",
       "      <td>0.009075</td>\n",
       "      <td>0.021763</td>\n",
       "      <td>3.0</td>\n",
       "      <td>4.0</td>\n",
       "      <td>8.0</td>\n",
       "      <td>0.0</td>\n",
       "    </tr>\n",
       "  </tbody>\n",
       "</table>\n",
       "</div>"
      ],
      "text/plain": [
       "   paragraph_id  question_id  \\\n",
       "0          1361         6463   \n",
       "1          1403        34696   \n",
       "2          1435        13751   \n",
       "3           341        38544   \n",
       "4          1317        14589   \n",
       "\n",
       "                                           paragraph  \\\n",
       "0  Ïåðåäíèé ìîçã ñèëüíî ðàçâèò, ýòî ñàìàÿ áîëüøàÿ...   \n",
       "1  Ìèðìåêîëîãè èññëåäóþò ìóðàâü¸â êàê â ëàáîðàòîð...   \n",
       "2  Âîëíîâàÿ: ñâåò ïðåäñòàâëÿåò ñîáîé âîëíó â íåâè...   \n",
       "3  Æèâûå îðãàíèçìû ïîä÷èíÿþòñÿ íà÷àëàì òåðìîäèíàì...   \n",
       "4  Ôàéëû íåëàòèíñêîãî òåêñòà â Þíèêîäå âñåãäà çàí...   \n",
       "\n",
       "                                            question  \\\n",
       "0  Â êàêîé ìèôîëîãèè äâà âîðîíà Õóãèí è Ìóíèí øåï...   \n",
       "1  Êîãäà èíñàéäåð ïîêóïàåò èëè ãèïîòåçû ÷åãî ýâîë...   \n",
       "2  Êàêèå ïðåäïîëîæåíèÿ, ïî ìíåíèþ Íüþòîíà, äîïóñò...   \n",
       "3  Â êàêèõ óñëîâèÿõ ìåòàáîëèçì ïîääåðæèâàåò ïîðÿä...   \n",
       "4  Êàêèì ìåëîäèÿì Ïðîêîôüåâà îñîáåííî íå óêëàäûâà...   \n",
       "\n",
       "                                          list_ratio  \\\n",
       "0  [0.25, 0.17964, 0.16162, 0.02597, 0.1641, 0.13...   \n",
       "1  [0.18265, 0.24409, 0.33696, 0.23077, 0.21017, ...   \n",
       "2                        [0.23077, 0.17634, 0.33113]   \n",
       "3  [0.32558, 0.29412, 0.17391, 0.27673, 0.33333, ...   \n",
       "4                        [0.02812, 0.02824, 0.00893]   \n",
       "\n",
       "                           list_intersections  len_paragraph  len_question  \\\n",
       "0  [0, 0, 2, 0, 1, 0, 1, 3, 0, 0, 0, 0, 0, 0]          113.0          14.0   \n",
       "1                          [0, 0, 5, 0, 0, 0]           79.0          11.0   \n",
       "2                                   [1, 3, 1]           63.0          12.0   \n",
       "3                          [0, 0, 0, 1, 1, 9]           89.0          10.0   \n",
       "4                                   [8, 4, 4]           86.0          24.0   \n",
       "\n",
       "   len_intersection  min_ratio  max_ratio  std_ratio  mean_ratio  \\\n",
       "0               3.0    0.00000    0.29834   0.090838    0.153921   \n",
       "1               5.0    0.18265    0.33696   0.048354    0.237508   \n",
       "2               3.0    0.17634    0.33113   0.064113    0.246080   \n",
       "3               9.0    0.17391    0.89820   0.235975    0.383645   \n",
       "4              11.0    0.00893    0.02824   0.009075    0.021763   \n",
       "\n",
       "   num_sentences  min_inter  max_inter  prediction  \n",
       "0           14.0        0.0        3.0         0.0  \n",
       "1            6.0        0.0        5.0         1.0  \n",
       "2            3.0        1.0        3.0         0.0  \n",
       "3            6.0        0.0        9.0         1.0  \n",
       "4            3.0        4.0        8.0         0.0  "
      ]
     },
     "execution_count": 212,
     "metadata": {},
     "output_type": "execute_result"
    }
   ],
   "source": [
    "testf.head()"
   ]
  },
  {
   "cell_type": "markdown",
   "metadata": {},
   "source": [
    "## Logistic Regression (unbalanced classes)"
   ]
  },
  {
   "cell_type": "code",
   "execution_count": 511,
   "metadata": {
    "collapsed": true
   },
   "outputs": [],
   "source": [
    "model_name = 'LogReg'"
   ]
  },
  {
   "cell_type": "code",
   "execution_count": 512,
   "metadata": {},
   "outputs": [],
   "source": [
    "from sklearn.linear_model import LogisticRegression\n",
    "\n",
    "balance_weight = 1.900976181179227\n",
    "lr = LogisticRegression(class_weight={0: 1, 1: balance_weight})\n",
    "\n",
    "lr.fit(trainf[columns],trainf['target'])\n",
    "testf['prediction'] = lr.predict(testf[columns])"
   ]
  },
  {
   "cell_type": "code",
   "execution_count": 513,
   "metadata": {},
   "outputs": [
    {
     "name": "stdout",
     "output_type": "stream",
     "text": [
      "1.5706376941974327\n"
     ]
    }
   ],
   "source": [
    "print(testf[testf['prediction'] == 0].shape[0]/testf[testf['prediction'] == 1].shape[0])\n",
    "balance_weight = testf[testf['prediction'] == 0].shape[0]/testf[testf['prediction'] == 1].shape[0]"
   ]
  },
  {
   "cell_type": "code",
   "execution_count": 515,
   "metadata": {},
   "outputs": [
    {
     "data": {
      "text/plain": [
       "1.0    33\n",
       "0.0    13\n",
       "Name: prediction, dtype: int64"
      ]
     },
     "execution_count": 515,
     "metadata": {},
     "output_type": "execute_result"
    }
   ],
   "source": [
    "testf[testf.max_inter > 15.0]['prediction'].value_counts()"
   ]
  },
  {
   "cell_type": "code",
   "execution_count": 520,
   "metadata": {},
   "outputs": [
    {
     "data": {
      "text/plain": [
       "1.0    33\n",
       "0.0    13\n",
       "Name: prediction, dtype: int64"
      ]
     },
     "execution_count": 520,
     "metadata": {},
     "output_type": "execute_result"
    }
   ],
   "source": [
    "testf[testf.min_inter > 10.0]['prediction'].value_counts()"
   ]
  },
  {
   "cell_type": "code",
   "execution_count": 519,
   "metadata": {},
   "outputs": [
    {
     "data": {
      "text/plain": [
       "0.0    396\n",
       "1.0    195\n",
       "Name: prediction, dtype: int64"
      ]
     },
     "execution_count": 519,
     "metadata": {},
     "output_type": "execute_result"
    }
   ],
   "source": [
    "testf[testf.mean_ratio < 0.02]['prediction'].value_counts()"
   ]
  },
  {
   "cell_type": "code",
   "execution_count": 272,
   "metadata": {
    "collapsed": true
   },
   "outputs": [],
   "source": [
    "submit(testf['prediction'],model_name)"
   ]
  },
  {
   "cell_type": "code",
   "execution_count": null,
   "metadata": {
    "collapsed": true
   },
   "outputs": [],
   "source": []
  },
  {
   "cell_type": "markdown",
   "metadata": {},
   "source": [
    "# Feature Importance"
   ]
  },
  {
   "cell_type": "code",
   "execution_count": 274,
   "metadata": {
    "collapsed": true
   },
   "outputs": [],
   "source": [
    "def feat_importance(model, columns):\n",
    "    features = pd.DataFrame()\n",
    "    features['feature'] = columns\n",
    "    features['importance'] = model.feature_importances_\n",
    "    features.sort_values(by=['importance'], ascending=True, inplace=True)\n",
    "    features.set_index('feature', inplace=True)\n",
    "    \n",
    "    features.plot(kind='barh', figsize=(20, 5))\n",
    "    plt.show()"
   ]
  },
  {
   "cell_type": "markdown",
   "metadata": {},
   "source": [
    "# Submit"
   ]
  },
  {
   "cell_type": "code",
   "execution_count": 502,
   "metadata": {},
   "outputs": [
    {
     "data": {
      "text/html": [
       "<div>\n",
       "<style>\n",
       "    .dataframe thead tr:only-child th {\n",
       "        text-align: right;\n",
       "    }\n",
       "\n",
       "    .dataframe thead th {\n",
       "        text-align: left;\n",
       "    }\n",
       "\n",
       "    .dataframe tbody tr th {\n",
       "        vertical-align: top;\n",
       "    }\n",
       "</style>\n",
       "<table border=\"1\" class=\"dataframe\">\n",
       "  <thead>\n",
       "    <tr style=\"text-align: right;\">\n",
       "      <th></th>\n",
       "      <th>paragraph_id</th>\n",
       "      <th>question_id</th>\n",
       "      <th>prediction</th>\n",
       "    </tr>\n",
       "  </thead>\n",
       "  <tbody>\n",
       "    <tr>\n",
       "      <th>0</th>\n",
       "      <td>1361</td>\n",
       "      <td>6463</td>\n",
       "      <td>1.0</td>\n",
       "    </tr>\n",
       "    <tr>\n",
       "      <th>1</th>\n",
       "      <td>1403</td>\n",
       "      <td>34696</td>\n",
       "      <td>0.0</td>\n",
       "    </tr>\n",
       "    <tr>\n",
       "      <th>2</th>\n",
       "      <td>1435</td>\n",
       "      <td>13751</td>\n",
       "      <td>1.0</td>\n",
       "    </tr>\n",
       "    <tr>\n",
       "      <th>3</th>\n",
       "      <td>341</td>\n",
       "      <td>38544</td>\n",
       "      <td>0.0</td>\n",
       "    </tr>\n",
       "    <tr>\n",
       "      <th>4</th>\n",
       "      <td>1317</td>\n",
       "      <td>14589</td>\n",
       "      <td>1.0</td>\n",
       "    </tr>\n",
       "  </tbody>\n",
       "</table>\n",
       "</div>"
      ],
      "text/plain": [
       "   paragraph_id  question_id  prediction\n",
       "0          1361         6463         1.0\n",
       "1          1403        34696         0.0\n",
       "2          1435        13751         1.0\n",
       "3           341        38544         0.0\n",
       "4          1317        14589         1.0"
      ]
     },
     "execution_count": 502,
     "metadata": {},
     "output_type": "execute_result"
    }
   ],
   "source": [
    "result_check = pd.read_csv('PD_LogReg.csv')\n",
    "result_check.head()"
   ]
  },
  {
   "cell_type": "code",
   "execution_count": 271,
   "metadata": {
    "collapsed": true
   },
   "outputs": [],
   "source": [
    "def submit(preds,model_name):\n",
    "    res_frame = pd.DataFrame({\"paragraph_id\": testf.paragraph_id,\n",
    "              \"question_id\": testf.question_id,\n",
    "              \"prediction\": list(map(lambda x: 1.0 if x==0.0 else 0.0, list(preds.values)))})\n",
    "    res_frame[['paragraph_id','question_id','prediction']].to_csv(\"PD_\"+model_name+\".csv\", index=False)"
   ]
  }
 ],
 "metadata": {
  "kernelspec": {
   "display_name": "Python 3",
   "language": "python",
   "name": "python3"
  },
  "language_info": {
   "codemirror_mode": {
    "name": "ipython",
    "version": 3
   },
   "file_extension": ".py",
   "mimetype": "text/x-python",
   "name": "python",
   "nbconvert_exporter": "python",
   "pygments_lexer": "ipython3",
   "version": "3.5.2"
  }
 },
 "nbformat": 4,
 "nbformat_minor": 2
}
