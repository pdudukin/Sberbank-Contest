{
 "cells": [
  {
   "cell_type": "code",
   "execution_count": 2,
   "metadata": {},
   "outputs": [
    {
     "name": "stdout",
     "output_type": "stream",
     "text": [
      "Populating the interactive namespace from numpy and matplotlib\n"
     ]
    }
   ],
   "source": [
    "import pandas as pd\n",
    "import numpy as np\n",
    "import tqdm\n",
    "from tqdm import tqdm_notebook\n",
    "import difflib\n",
    "import sys\n",
    "import re\n",
    "from matplotlib import pyplot as plt\n",
    "import matplotlib\n",
    "\n",
    "import ast\n",
    "import string\n",
    "import nltk\n",
    "from sklearn.feature_extraction.text import CountVectorizer\n",
    "from sklearn.feature_extraction.text import TfidfTransformer\n",
    "from nltk.stem import SnowballStemmer \n",
    "from nltk.corpus import stopwords\n",
    "from nltk import sent_tokenize, word_tokenize\n",
    "from functools import reduce\n",
    "from nltk.collocations import BigramCollocationFinder, TrigramCollocationFinder, BigramAssocMeasures, TrigramAssocMeasures\n",
    "\n",
    "import pymorphy2 as pm\n",
    "morph = pm.MorphAnalyzer()\n",
    "\n",
    "from pymystem3 import Mystem\n",
    "YStem = Mystem()\n",
    "\n",
    "%pylab inline\n",
    "\n",
    "from sklearn.ensemble import GradientBoostingClassifier\n",
    "\n",
    "import scipy\n",
    "from scipy import spatial, sparse\n",
    "from sklearn.metrics.pairwise import paired_cosine_distances"
   ]
  },
  {
   "cell_type": "markdown",
   "metadata": {},
   "source": [
    "# Read the data"
   ]
  },
  {
   "cell_type": "code",
   "execution_count": 3,
   "metadata": {
    "collapsed": true
   },
   "outputs": [],
   "source": [
    "train_ds, test_ds = pd.read_csv(\"train_task1_latest.csv\", encoding ='utf-8'), pd.read_csv(\"test_task1_latest.csv\", encoding ='utf-8')"
   ]
  },
  {
   "cell_type": "code",
   "execution_count": 4,
   "metadata": {},
   "outputs": [
    {
     "data": {
      "text/plain": [
       "(74294, 4)"
      ]
     },
     "execution_count": 4,
     "metadata": {},
     "output_type": "execute_result"
    }
   ],
   "source": [
    "test_ds.shape"
   ]
  },
  {
   "cell_type": "markdown",
   "metadata": {},
   "source": [
    "# Data cleansing and setting tokens vars"
   ]
  },
  {
   "cell_type": "code",
   "execution_count": 454,
   "metadata": {
    "collapsed": true
   },
   "outputs": [],
   "source": [
    "D_except = {'(': ' '\n",
    "            ,')': ' '\n",
    "            ,'[': ' '\n",
    "            ,']': ' '\n",
    "            ,'{': ' '\n",
    "            ,'}': ' '\n",
    "            ,'&': ' '\n",
    "            ,'@': ' '\n",
    "            ,'#': ' '\n",
    "            ,'$': ' '\n",
    "            ,'%': ' '\n",
    "            ,'№': ' '\n",
    "            ,'*': ' '\n",
    "            ,'—': ' '\n",
    "            ,'\\u0301': ''\n",
    "            ,';': ' '\n",
    "            ,':': ' '\n",
    "            ,'/': ' '\n",
    "            ,'\\\\': ' '\n",
    "            ,'+': ' '\n",
    "            ,'?': ' '\n",
    "           }"
   ]
  },
  {
   "cell_type": "code",
   "execution_count": 461,
   "metadata": {},
   "outputs": [
    {
     "data": {
      "application/vnd.jupyter.widget-view+json": {
       "model_id": "99a806af64e84a9ea92ace303feef474"
      }
     },
     "metadata": {},
     "output_type": "display_data"
    },
    {
     "name": "stdout",
     "output_type": "stream",
     "text": [
      "\n",
      "\n"
     ]
    },
    {
     "data": {
      "application/vnd.jupyter.widget-view+json": {
       "model_id": "87e6b110ae424f0b9ccd2f9936bc67b4"
      }
     },
     "metadata": {},
     "output_type": "display_data"
    },
    {
     "name": "stdout",
     "output_type": "stream",
     "text": [
      "\n"
     ]
    }
   ],
   "source": [
    "for name, df in [('train', train_ds), ('test', test_ds)]:\n",
    "    df.set_value(0,'list_ntokens_p',0)\n",
    "    df.set_value(0,'list_ntokens_q',0)\n",
    "    df['list_ntokens_p'] = df['list_ntokens_p'].astype(object)\n",
    "    df['list_ntokens_q'] = df['list_ntokens_q'].astype(object)\n",
    "    for index, row in tqdm.tqdm_notebook(df.iterrows(), total=df.shape[0], desc=\"build norm tokens for \" + name):\n",
    "        par = re.sub('.', lambda m: D_except.get(m.group(), m.group()), re.sub('([\\(\\[]).*?([\\)\\]])','',row.paragraph.replace(',','')))\n",
    "        par_lst = par.split()\n",
    "        #print(par_lst)\n",
    "        lst_p = []\n",
    "        for i in range(len(par_lst)):\n",
    "            lst_p.append(''.join(morph.parse(par_lst[i])[0].normal_form))\n",
    "        list_ntokens_p = ' '.join(lst_p)\n",
    "        df.set_value(index, 'list_ntokens_p', RemoveEmptyNestedLists([word_tokenize(t.replace('.','')) for t in sent_tokenize(list_ntokens_p)]))\n",
    "        \n",
    "        que = re.sub('.', lambda m: D_except.get(m.group(), m.group()), re.sub('([\\(\\[]).*?([\\)\\]])','',row.question.replace(',','')))\n",
    "        que = re.sub('\\.',' ',row.question.replace(',',''))\n",
    "        que_lst = que.split()\n",
    "        lst_q = []\n",
    "        for i in range(len(que_lst)):\n",
    "            lst_q.append(''.join(morph.parse(que_lst[i])[0].normal_form))\n",
    "        list_ntokens_q = ' '.join(lst_q)\n",
    "        df.set_value(index, 'list_ntokens_q', RemoveEmptyNestedLists([word_tokenize(t.replace('.','').replace('?','')) for t in sent_tokenize(list_ntokens_q)]))"
   ]
  },
  {
   "cell_type": "code",
   "execution_count": 462,
   "metadata": {
    "collapsed": true
   },
   "outputs": [],
   "source": [
    "#que = re.sub('.', lambda m: D_except.get(m.group(), m.group()), re.sub('([\\(\\[]).*?([\\)\\]])',' ',train_ds.question[264].replace(',','')))\n",
    "#que = re.sub('\\.',' ',train_ds.question[264].replace(',',''))\n",
    "\n",
    "#que_lst = que.split()\n",
    "#lst_q = []\n",
    "\n",
    "#for i in range(len(que_lst)):\n",
    "#    lst_q.append(''.join(morph.parse(que_lst[i])[0].normal_form))\n",
    "#list_ntokens_q = ' '.join(lst_q)"
   ]
  },
  {
   "cell_type": "code",
   "execution_count": 463,
   "metadata": {
    "collapsed": true
   },
   "outputs": [],
   "source": [
    "#que_lst"
   ]
  },
  {
   "cell_type": "code",
   "execution_count": 464,
   "metadata": {
    "collapsed": true
   },
   "outputs": [],
   "source": [
    "#[word_tokenize(t.replace('?','').replace('.','')) for t in sent_tokenize(list_ntokens_q)]"
   ]
  },
  {
   "cell_type": "code",
   "execution_count": 465,
   "metadata": {
    "collapsed": true
   },
   "outputs": [],
   "source": [
    "train_ds.to_csv(\"280917_train_ntokens.csv\", index=False, encoding = 'utf-8')\n",
    "test_ds.to_csv(\"280917_test_ntokens.csv\", index=False, encoding = 'utf-8')"
   ]
  },
  {
   "cell_type": "markdown",
   "metadata": {},
   "source": [
    "# Functions definition"
   ]
  },
  {
   "cell_type": "markdown",
   "metadata": {},
   "source": [
    "## Get Unique Words"
   ]
  },
  {
   "cell_type": "code",
   "execution_count": 2,
   "metadata": {
    "collapsed": true
   },
   "outputs": [],
   "source": [
    "def uniq_words(text):\n",
    "    return set(re.findall(\"\\w+\", text))"
   ]
  },
  {
   "cell_type": "markdown",
   "metadata": {},
   "source": [
    "## Variable histogram plot by target"
   ]
  },
  {
   "cell_type": "code",
   "execution_count": 3,
   "metadata": {
    "collapsed": true
   },
   "outputs": [],
   "source": [
    "# df - train dataset;\n",
    "# variable = переменная\n",
    "# variable_title - название переменной на графике\n",
    "def PlotHistByTarget(variable, variable_title, min_x, max_x, df, df_title): \n",
    "    print('Histogram for '+ variable_title)\n",
    "    \n",
    "    print(DescStatsByTarget(variable, variable_title, df, df_title))\n",
    "    \n",
    "    plt.style.use('seaborn-deep')\n",
    "    \n",
    "    if df_title == 'train':\n",
    "        hist_df = pd.DataFrame({'target':df['target'],variable_title:variable})\n",
    "        pyplot.hist([hist_df[hist_df['target']==0][variable_title].values,hist_df[hist_df['target']==1][variable_title].values], \n",
    "                bins = 100, \n",
    "                alpha = 0.5, \n",
    "                label=['target: 0','target: 1'], \n",
    "                color = ['r','b'])\n",
    "        plt.xlim(xmin=min_x, xmax = max_x)\n",
    "        plt.legend()\n",
    "        plt.show()\n",
    "    else:\n",
    "        hist_df = pd.DataFrame({variable_title:variable})\n",
    "        pyplot.hist(hist_df[variable_title].values, \n",
    "                bins = 100, \n",
    "                alpha = 0.5, \n",
    "                label = 'test dataset',\n",
    "                color = 'g')\n",
    "        plt.xlim(xmin=min_x, xmax = max_x)\n",
    "        plt.legend()\n",
    "        plt.show()"
   ]
  },
  {
   "cell_type": "markdown",
   "metadata": {},
   "source": [
    "## DataFrame Descriptive Statistics"
   ]
  },
  {
   "cell_type": "code",
   "execution_count": 4,
   "metadata": {
    "collapsed": true
   },
   "outputs": [],
   "source": [
    "def DescStatsByTarget(variable, variable_title, df, df_title):\n",
    "    \n",
    "    if df_title == 'train':\n",
    "        dft = pd.DataFrame({'target':df['target'],variable_title:variable})\n",
    "\n",
    "        x = dft[dft['target']==0][variable_title].values\n",
    "        dfx = pd.DataFrame({'target: 0':x})\n",
    "\n",
    "        count0 = len(x)\n",
    "        mean0 = round(np.mean(x),6)\n",
    "        std0 = round(np.std(x),6)\n",
    "        min0 = round(np.min(x),6)\n",
    "        median0 = round(np.median(x),6)\n",
    "        max0 = round(np.max(x),6)\n",
    "\n",
    "        y = dft[dft['target']==1][variable_title].values\n",
    "        dfy = pd.DataFrame({'target: 1':y})\n",
    "\n",
    "        count1 = len(y)\n",
    "        mean1 = round(np.mean(y),6)\n",
    "        std1 = round(np.std(y),6)\n",
    "        min1 = round(np.min(y),6)\n",
    "        median1 = round(np.median(y),6)\n",
    "        max1 = round(np.max(y),6)\n",
    "\n",
    "        df_desc = pd.DataFrame([[count0, mean0, std0, min0, median0, max0],\n",
    "                            [count1, mean1, std1, min1, median1, max1]],\n",
    "                            columns = ['count','mean','std','min','median','max'], \n",
    "                            index=[variable_title+' (target: 0)',variable_title+' (target: 1)'])\n",
    "    else:\n",
    "        \n",
    "        dft = pd.DataFrame({variable_title:variable})\n",
    "\n",
    "        x = dft[variable_title].values\n",
    "        \n",
    "        count = len(x)\n",
    "        mean = round(np.mean(x),6)\n",
    "        std = round(np.std(x),6)\n",
    "        min = round(np.min(x),6)\n",
    "        median = round(np.median(x),6)\n",
    "        max = round(np.max(x),6)\n",
    "\n",
    "        df_desc = pd.DataFrame([[count, mean, std, min, median, max]],\n",
    "                            columns = ['count','mean','std','min','median','max'], \n",
    "                            index=[variable_title+' (test)'])\n",
    "    \n",
    "    return df_desc"
   ]
  },
  {
   "cell_type": "markdown",
   "metadata": {},
   "source": [
    "## Levenstein distance"
   ]
  },
  {
   "cell_type": "code",
   "execution_count": 5,
   "metadata": {
    "collapsed": true
   },
   "outputs": [],
   "source": [
    "def Leven_distance(a, b):\n",
    "    \"Calculates the Levenshtein distance between a and b.\"\n",
    "    n, m = len(a), len(b)\n",
    "    if n > m:\n",
    "        # Make sure n <= m, to use O(min(n,m)) space\n",
    "        a, b = b, a\n",
    "        n, m = m, n\n",
    "\n",
    "    current_row = range(n+1) # Keep current and previous row, not entire matrix\n",
    "    for i in range(1, m+1):\n",
    "        previous_row, current_row = current_row, [i]+[0]*n\n",
    "        for j in range(1,n+1):\n",
    "            add, delete, change = previous_row[j]+1, current_row[j-1]+1, previous_row[j-1]\n",
    "            if a[j-1] != b[i-1]:\n",
    "                change += 1\n",
    "            current_row[j] = min(add, delete, change)\n",
    "\n",
    "    return current_row[n]"
   ]
  },
  {
   "cell_type": "markdown",
   "metadata": {},
   "source": [
    "## Get Flat List from lists of lists"
   ]
  },
  {
   "cell_type": "code",
   "execution_count": 8,
   "metadata": {
    "collapsed": true
   },
   "outputs": [],
   "source": [
    "def GetFlatList(list_of_lists):\n",
    "    return reduce(lambda x,y: x+y, ast.literal_eval(list_of_lists))"
   ]
  },
  {
   "cell_type": "markdown",
   "metadata": {},
   "source": [
    "## Remove Empty Nested Lists"
   ]
  },
  {
   "cell_type": "code",
   "execution_count": 9,
   "metadata": {
    "collapsed": true
   },
   "outputs": [],
   "source": [
    "def RemoveEmptyNestedLists(lst):\n",
    "    if not isinstance(lst, list):\n",
    "        return lst\n",
    "    else:\n",
    "        return [x for x in map(remove_lst, lst) if (x != [] and x != '')]"
   ]
  },
  {
   "cell_type": "code",
   "execution_count": 186,
   "metadata": {
    "collapsed": true
   },
   "outputs": [],
   "source": [
    "## Split data on train/test"
   ]
  },
  {
   "cell_type": "code",
   "execution_count": 190,
   "metadata": {
    "collapsed": true
   },
   "outputs": [],
   "source": [
    "def split_tt(train, columns, test_size):\n",
    "    train_sort = train.sort_values(['paragraph_id'])\n",
    "    \n",
    "    train_len =  int((1-test_size)*len(set(list(train_sort.paragraph_id))))\n",
    "    \n",
    "    X_train = train_sort[train_sort.paragraph_id<=train_len]\n",
    "    X_valid = train_sort[train_sort.paragraph_id>train_len]\n",
    "    y_train = train_sort.target[train_sort.paragraph_id<=train_len]\n",
    "    y_valid = train_sort.target[train_sort.paragraph_id>train_len]\n",
    "    \n",
    "    del X_train['target']\n",
    "    del X_valid['target']\n",
    "    \n",
    "    return X_train, X_valid, y_train, y_valid"
   ]
  },
  {
   "cell_type": "markdown",
   "metadata": {},
   "source": [
    "## Submit"
   ]
  },
  {
   "cell_type": "code",
   "execution_count": 183,
   "metadata": {
    "collapsed": true
   },
   "outputs": [],
   "source": [
    "def submit(preds,model_name):\n",
    "    res_frame = pd.DataFrame({\"paragraph_id\": test_ds.paragraph_id,\n",
    "              \"question_id\": test_ds.question_id,\n",
    "              \"prediction\": preds.values})\n",
    "    res_frame[['paragraph_id','question_id','prediction']].to_csv(\"PD_\"+model_name+\".csv\", index=False)"
   ]
  },
  {
   "cell_type": "markdown",
   "metadata": {},
   "source": [
    "# Adding features"
   ]
  },
  {
   "cell_type": "markdown",
   "metadata": {},
   "source": [
    "## Step 1"
   ]
  },
  {
   "cell_type": "code",
   "execution_count": 473,
   "metadata": {
    "collapsed": true
   },
   "outputs": [],
   "source": [
    "train_ds, test_ds = pd.read_csv(\"280917_train_ntokens.csv\", encoding ='utf-8'), pd.read_csv(\"280917_test_ntokens.csv\", encoding ='utf-8')"
   ]
  },
  {
   "cell_type": "code",
   "execution_count": 474,
   "metadata": {},
   "outputs": [
    {
     "data": {
      "application/vnd.jupyter.widget-view+json": {
       "model_id": "ac7e683d474b46b9b3bbb0dc9cc18445"
      }
     },
     "metadata": {},
     "output_type": "display_data"
    },
    {
     "name": "stdout",
     "output_type": "stream",
     "text": [
      "\n"
     ]
    },
    {
     "data": {
      "application/vnd.jupyter.widget-view+json": {
       "model_id": "c64b34c201c143fb94f1d0bcb1f9722a"
      }
     },
     "metadata": {},
     "output_type": "display_data"
    },
    {
     "name": "stdout",
     "output_type": "stream",
     "text": [
      "\n"
     ]
    }
   ],
   "source": [
    "for name, df in [('train', train_ds), ('test', test_ds)]:\n",
    "    df.set_value(0,'list_ratio',0)\n",
    "    df.set_value(0,'list_intersections',0)\n",
    "    df['list_ratio'] = df['list_ratio'].astype(object)\n",
    "    df['list_intersections'] = df['list_intersections'].astype(object)\n",
    "    for index, row in tqdm.tqdm_notebook(df.iterrows(), total=df.shape[0], desc=\"build features for \" + name):\n",
    "        \n",
    "        sentences_list = ast.literal_eval(row.list_ntokens_p)\n",
    "        question_list = ast.literal_eval(row.list_ntokens_q)[0]\n",
    "        \n",
    "        list_ratio = []\n",
    "        list_intersections = []\n",
    "        \n",
    "        for sentence in sentences_list:\n",
    "            list_ratio.append(round(difflib.SequenceMatcher(None, ' '.join(sentence), ' '.join(question_list)).ratio(),5))\n",
    "            list_intersections.append(len(set(sentence) & set(question_list)))\n",
    "        \n",
    "        df.set_value(index, 'list_ratio', list_ratio)\n",
    "        df.set_value(index, 'list_intersections', list_intersections)\n",
    "        df.loc[index, 'len_paragraph'] = len(uniq_words(row.paragraph))\n",
    "        df.loc[index, 'len_question'] = len(uniq_words(row.question))\n",
    "        df.loc[index, 'len_intersection'] = len(uniq_words(row.paragraph) & uniq_words(row.question))"
   ]
  },
  {
   "cell_type": "code",
   "execution_count": 475,
   "metadata": {
    "collapsed": true
   },
   "outputs": [],
   "source": [
    "train_ds.to_csv(\"train_step1_mytokens.csv\", index=False, encoding = 'utf-8')\n",
    "test_ds.to_csv(\"test_step1_mytokens.csv\", index=False, encoding = 'utf-8')"
   ]
  },
  {
   "cell_type": "markdown",
   "metadata": {},
   "source": [
    "## Step 2"
   ]
  },
  {
   "cell_type": "code",
   "execution_count": 476,
   "metadata": {
    "collapsed": true
   },
   "outputs": [],
   "source": [
    "train_ds, test_ds = pd.read_csv(\"train_step1_mytokens.csv\", encoding ='utf-8'), pd.read_csv(\"test_step1_mytokens.csv\", encoding ='utf-8')"
   ]
  },
  {
   "cell_type": "code",
   "execution_count": 477,
   "metadata": {
    "collapsed": true
   },
   "outputs": [],
   "source": [
    "texts = list(train_ds['paragraph'])+list(train_ds['question'])+list(test_ds['paragraph'])+list(test_ds['question'])\n",
    "\n",
    "wd = {}\n",
    "\n",
    "def tokenize(text):\n",
    "    tokens = nltk.word_tokenize(text)\n",
    "    tokens = [i.lower() for i in tokens if ( i not in string.punctuation+'—' )]\n",
    "    stop_words = stopwords.words('russian')\n",
    "    stop_words.extend(['что', 'это', 'так', 'вот', 'быть', 'как', 'в', '—', 'к', 'на'])\n",
    "    tokens = [i for i in tokens if ( i not in stop_words )]\n",
    "    stems = []\n",
    "    for item in tokens:\n",
    "        if item in wd.keys():\n",
    "            stems.append(wd[item])\n",
    "        else:\n",
    "            w = SnowballStemmer(language='russian').stem(item)\n",
    "            wd[item] = w\n",
    "            stems.append(w)\n",
    "    return stems"
   ]
  },
  {
   "cell_type": "code",
   "execution_count": 478,
   "metadata": {},
   "outputs": [
    {
     "name": "stdout",
     "output_type": "stream",
     "text": [
      "Wall time: 9min 24s\n",
      "Wall time: 4min 16s\n",
      "Wall time: 1min 13s\n",
      "Wall time: 3min 16s\n",
      "Wall time: 57.4 s\n"
     ]
    }
   ],
   "source": [
    "Vectorizer = CountVectorizer(tokenizer=tokenize)\n",
    "%time Vectorizer.fit(texts)\n",
    "%time train_p = Vectorizer.transform(train_ds['paragraph'])\n",
    "%time train_q = Vectorizer.transform(train_ds['question'])\n",
    "%time test_p =  Vectorizer.transform(test_ds['paragraph'])\n",
    "%time test_q =  Vectorizer.transform(test_ds['question'])"
   ]
  },
  {
   "cell_type": "code",
   "execution_count": 479,
   "metadata": {},
   "outputs": [
    {
     "data": {
      "text/plain": [
       "TfidfTransformer(norm='l2', smooth_idf=False, sublinear_tf=False,\n",
       "         use_idf=True)"
      ]
     },
     "execution_count": 479,
     "metadata": {},
     "output_type": "execute_result"
    }
   ],
   "source": [
    "tfidf = TfidfTransformer(smooth_idf=False,sublinear_tf=False)\n",
    "stk = sparse.vstack([train_p,train_q,test_p,test_q])\n",
    "tfidf.fit(stk)"
   ]
  },
  {
   "cell_type": "code",
   "execution_count": 480,
   "metadata": {
    "collapsed": true
   },
   "outputs": [],
   "source": [
    "dist_train = paired_cosine_distances(tfidf.transform(train_p),tfidf.transform(train_q))\n",
    "dist_test = paired_cosine_distances(tfidf.transform(test_p),tfidf.transform(test_q))"
   ]
  },
  {
   "cell_type": "code",
   "execution_count": 481,
   "metadata": {
    "collapsed": true
   },
   "outputs": [],
   "source": [
    "train_ds['cos_dist'] = dist_train\n",
    "test_ds['cos_dist'] = dist_test"
   ]
  },
  {
   "cell_type": "code",
   "execution_count": 482,
   "metadata": {
    "collapsed": true
   },
   "outputs": [],
   "source": [
    "train_ds.to_csv(\"train_step2_mytokens.csv\", index=False, encoding = 'utf-8')\n",
    "test_ds.to_csv(\"test_step2_mytokens.csv\", index=False, encoding = 'utf-8')"
   ]
  },
  {
   "cell_type": "markdown",
   "metadata": {},
   "source": [
    "## Step 3"
   ]
  },
  {
   "cell_type": "code",
   "execution_count": 483,
   "metadata": {
    "collapsed": true
   },
   "outputs": [],
   "source": [
    "train_ds, test_ds = pd.read_csv(\"train_step2_mytokens.csv\", encoding ='utf-8'), pd.read_csv(\"test_step2_mytokens.csv\", encoding ='utf-8')"
   ]
  },
  {
   "cell_type": "code",
   "execution_count": 484,
   "metadata": {},
   "outputs": [
    {
     "data": {
      "application/vnd.jupyter.widget-view+json": {
       "model_id": "864c8a2dd1884776bc58cf16cbb4913a"
      }
     },
     "metadata": {},
     "output_type": "display_data"
    },
    {
     "name": "stdout",
     "output_type": "stream",
     "text": [
      "\n"
     ]
    },
    {
     "data": {
      "application/vnd.jupyter.widget-view+json": {
       "model_id": "87811681550d4c7199c657ee04f69c89"
      }
     },
     "metadata": {},
     "output_type": "display_data"
    },
    {
     "name": "stdout",
     "output_type": "stream",
     "text": [
      "\n"
     ]
    }
   ],
   "source": [
    "for name, df in [('train', train_ds), ('test', test_ds)]:\n",
    "    for index, row in tqdm.tqdm_notebook(df.iterrows(), total=df.shape[0], desc=\"build features for \" + name):\n",
    "        df.loc[index, 'min_ratio'] = np.min(ast.literal_eval(row.list_ratio))\n",
    "        df.loc[index, 'max_ratio'] = np.max(ast.literal_eval(row.list_ratio))\n",
    "        df.loc[index, 'std_ratio'] = np.std(ast.literal_eval(row.list_ratio))\n",
    "        df.loc[index, 'mean_ratio'] = np.mean(ast.literal_eval(row.list_ratio))\n",
    "        df.loc[index, 'num_sentences'] = len(ast.literal_eval(row.list_ratio))\n",
    "        df.loc[index, 'min_inter'] = np.min(ast.literal_eval(row.list_intersections))\n",
    "        df.loc[index, 'max_inter'] = np.max(ast.literal_eval(row.list_intersections))"
   ]
  },
  {
   "cell_type": "code",
   "execution_count": 485,
   "metadata": {
    "collapsed": true
   },
   "outputs": [],
   "source": [
    "train_ds.to_csv(\"train_step3_mytokens.csv\", index=False, encoding ='utf-8')\n",
    "test_ds.to_csv(\"test_step3_mytokens.csv\", index=False, encoding ='utf-8')"
   ]
  },
  {
   "cell_type": "markdown",
   "metadata": {},
   "source": [
    "## Step 4"
   ]
  },
  {
   "cell_type": "code",
   "execution_count": 486,
   "metadata": {
    "collapsed": true
   },
   "outputs": [],
   "source": [
    "train_ds, test_ds = pd.read_csv(\"train_step3_mytokens.csv\", encoding ='utf-8'), pd.read_csv(\"test_step3_mytokens.csv\", encoding ='utf-8')"
   ]
  },
  {
   "cell_type": "code",
   "execution_count": 487,
   "metadata": {
    "collapsed": true
   },
   "outputs": [],
   "source": [
    "def get_tokens_bigrams(text):\n",
    "    tokens = text\n",
    "    #tokens = nltk.word_tokenize(text) # Old version\n",
    "    #tokens = [re.sub('\\'','',i.lower()) for i in tokens if ( i not in string.punctuation+'—' )] # Old version\n",
    "    stop_words = stopwords.words('russian')\n",
    "    stop_words.extend(['что', 'это', 'так', 'вот', 'быть', 'как', 'в', '—', 'к', 'на'])\n",
    "    tokens = [i for i in tokens if ( i not in stop_words )]\n",
    "    bigram_measures = nltk.collocations.BigramAssocMeasures()\n",
    "    finder = BigramCollocationFinder.from_words(tokens, window_size=2)\n",
    "    return finder.nbest(bigram_measures.pmi, 300)"
   ]
  },
  {
   "cell_type": "code",
   "execution_count": 488,
   "metadata": {
    "collapsed": true
   },
   "outputs": [],
   "source": [
    "def get_tokens_trigrams(text):\n",
    "    tokens = text\n",
    "    #tokens = nltk.word_tokenize(text) # Old version\n",
    "    #tokens = [re.sub('\\'','',i.lower()) for i in tokens if ( i not in string.punctuation+'—' )] # Old version\n",
    "    stop_words = stopwords.words('russian')\n",
    "    stop_words.extend(['что', 'это', 'так', 'вот', 'быть', 'как', 'в', '—', 'к', 'на'])\n",
    "    tokens = [i for i in tokens if ( i not in stop_words )]\n",
    "    trigram_measures = TrigramAssocMeasures()\n",
    "    finder = TrigramCollocationFinder.from_words(tokens, window_size=3)\n",
    "    return finder.nbest(trigram_measures.pmi, 300)"
   ]
  },
  {
   "cell_type": "code",
   "execution_count": 489,
   "metadata": {},
   "outputs": [
    {
     "data": {
      "application/vnd.jupyter.widget-view+json": {
       "model_id": "c7bbd50717d14186bca8250c58daa52a"
      }
     },
     "metadata": {},
     "output_type": "display_data"
    },
    {
     "name": "stdout",
     "output_type": "stream",
     "text": [
      "\n"
     ]
    },
    {
     "data": {
      "application/vnd.jupyter.widget-view+json": {
       "model_id": "186a6a4feb8c42ec82bb6d81eeeea2e8"
      }
     },
     "metadata": {},
     "output_type": "display_data"
    },
    {
     "name": "stdout",
     "output_type": "stream",
     "text": [
      "\n"
     ]
    }
   ],
   "source": [
    "# Set Bigrams&Trigrams intersection + list on intersections by sentences in paragraph:\n",
    "# Old version\n",
    "#for name, df in [('train', train_ds), ('test', test_ds)]:\n",
    "#    for index, row in tqdm.tqdm_notebook(df.iterrows(), total = df.shape[0], desc = \"Adding n-grams for \"+ name):\n",
    "#        df.loc[index, 'bigram_intersection'] = len(set(list(get_tokens_bigrams(row.paragraph)))&set(list(get_tokens_bigrams(row.question))))\n",
    "#        df.loc[index, 'trigram_intersection'] = len(set(list(get_tokens_trigrams(row.paragraph)))&set(list(get_tokens_trigrams(row.question))))\n",
    "        \n",
    "for name, df in [('train', train_ds), ('test', test_ds)]:\n",
    "    df.set_value(0,'list_bigrams_intersections',0)\n",
    "    df.set_value(0,'list_trigrams_intersections',0)\n",
    "    df['list_bigrams_intersections'] = df['list_bigrams_intersections'].astype(object)\n",
    "    df['list_trigrams_intersections'] = df['list_trigrams_intersections'].astype(object)\n",
    "    for index, row in tqdm.tqdm_notebook(df.iterrows(), total = df.shape[0], desc = \"Adding n-grams for \"+ name):\n",
    "        df.loc[index, 'bigram_intersection'] = \\\n",
    "            len(set(list(get_tokens_bigrams(GetFlatList(row.list_ntokens_p))))& \\\n",
    "                set(list(get_tokens_bigrams(GetFlatList(row.list_ntokens_q)))))\n",
    "        df.loc[index, 'trigram_intersection'] = \\\n",
    "            len(set(list(get_tokens_trigrams(GetFlatList(row.list_ntokens_p))))& \\\n",
    "                set(list(get_tokens_trigrams(GetFlatList(row.list_ntokens_q)))))\n",
    "        \n",
    "        sentences_list = ast.literal_eval(row.list_ntokens_p)\n",
    "        question_list = ast.literal_eval(row.list_ntokens_q)[0]\n",
    "        \n",
    "        l2 = []\n",
    "        l3 = []\n",
    "        \n",
    "        for sentence in sentences_list:\n",
    "            l2.append(len(set(list(get_tokens_bigrams(sentence)))&set(list(get_tokens_bigrams(question_list)))))\n",
    "            l3.append(len(set(list(get_tokens_trigrams(sentence)))&set(list(get_tokens_trigrams(question_list)))))\n",
    "        \n",
    "        df.set_value(index, 'list_bigrams_intersections', l2)\n",
    "        df.set_value(index, 'list_trigrams_intersections', l3)"
   ]
  },
  {
   "cell_type": "code",
   "execution_count": 490,
   "metadata": {},
   "outputs": [
    {
     "data": {
      "application/vnd.jupyter.widget-view+json": {
       "model_id": "1702d9a4139c41c38445f0269d802a84"
      }
     },
     "metadata": {},
     "output_type": "display_data"
    },
    {
     "name": "stdout",
     "output_type": "stream",
     "text": [
      "\n"
     ]
    },
    {
     "data": {
      "application/vnd.jupyter.widget-view+json": {
       "model_id": "3c0ea6b80b2242e69c2fd790d3f2ccf7"
      }
     },
     "metadata": {},
     "output_type": "display_data"
    },
    {
     "name": "stdout",
     "output_type": "stream",
     "text": [
      "\n"
     ]
    }
   ],
   "source": [
    "for name, df in [('train', train_ds), ('test', test_ds)]:\n",
    "    for index, row in tqdm.tqdm_notebook(df.iterrows(), total=df.shape[0], desc=\"build features for \" + name):\n",
    "        df.loc[index, 'min_2g_inter'] = np.min(row.list_bigrams_intersections)\n",
    "        df.loc[index, 'max_2g_inter'] = np.max(row.list_bigrams_intersections)\n",
    "        df.loc[index, 'std_2g_inter'] = np.std(row.list_bigrams_intersections)\n",
    "        df.loc[index, 'mean_2g_inter'] = np.mean(row.list_bigrams_intersections)\n",
    "        df.loc[index, 'min_3g_inter'] = np.min(row.list_trigrams_intersections)\n",
    "        df.loc[index, 'max_3g_inter'] = np.max(row.list_trigrams_intersections)\n",
    "        df.loc[index, 'std_3g_inter'] = np.std(row.list_trigrams_intersections)\n",
    "        df.loc[index, 'mean_3g_inter'] = np.mean(row.list_trigrams_intersections)"
   ]
  },
  {
   "cell_type": "code",
   "execution_count": 491,
   "metadata": {
    "collapsed": true
   },
   "outputs": [],
   "source": [
    "train_ds.to_csv(\"train_step4_mytokens.csv\", index=False, encoding ='utf-8')\n",
    "test_ds.to_csv(\"test_step4_mytokens.csv\", index=False, encoding ='utf-8')"
   ]
  },
  {
   "cell_type": "markdown",
   "metadata": {},
   "source": [
    "## Step 5"
   ]
  },
  {
   "cell_type": "code",
   "execution_count": 492,
   "metadata": {
    "collapsed": true
   },
   "outputs": [],
   "source": [
    "train_ds, test_ds = pd.read_csv(\"train_step4_mytokens.csv\", encoding ='utf-8'), pd.read_csv(\"test_step4_mytokens.csv\", encoding ='utf-8')"
   ]
  },
  {
   "cell_type": "code",
   "execution_count": 493,
   "metadata": {},
   "outputs": [
    {
     "data": {
      "application/vnd.jupyter.widget-view+json": {
       "model_id": "45ae265bb452498ba9ed298e61dd7614"
      }
     },
     "metadata": {},
     "output_type": "display_data"
    },
    {
     "name": "stdout",
     "output_type": "stream",
     "text": [
      "\n"
     ]
    },
    {
     "data": {
      "application/vnd.jupyter.widget-view+json": {
       "model_id": "ddd573979d924ab9a0c7758f0c2272a4"
      }
     },
     "metadata": {},
     "output_type": "display_data"
    },
    {
     "name": "stdout",
     "output_type": "stream",
     "text": [
      "\n"
     ]
    }
   ],
   "source": [
    "for name, df in [('train', train_ds), ('test', test_ds)]:\n",
    "    for index, row in tqdm.tqdm_notebook(df.iterrows(), total = df.shape[0], desc = \"Unique question words \"+ name):\n",
    "        tokens = nltk.word_tokenize(row.question)\n",
    "        tokens = [re.sub('\\'','',i.lower()) for i in tokens if ( i not in string.punctuation+'—' )]\n",
    "        df.loc[index, 'unq_qwords_rate'] = len(set(tokens))/len(tokens)"
   ]
  },
  {
   "cell_type": "code",
   "execution_count": 494,
   "metadata": {
    "collapsed": true
   },
   "outputs": [],
   "source": [
    "train_ds.to_csv(\"train_step5_mytokens.csv\", encoding ='utf-8'), \n",
    "test_ds.to_csv(\"test_step5_mytokens.csv\", encoding ='utf-8')"
   ]
  },
  {
   "cell_type": "markdown",
   "metadata": {},
   "source": [
    "## Step 6 (rewrite)"
   ]
  },
  {
   "cell_type": "code",
   "execution_count": 495,
   "metadata": {
    "collapsed": true
   },
   "outputs": [],
   "source": [
    "train_ds, test_ds = pd.read_csv(\"train_step5_mytokens.csv\", encoding ='utf-8'), pd.read_csv(\"test_step5_mytokens.csv\", encoding ='utf-8')"
   ]
  },
  {
   "cell_type": "code",
   "execution_count": 496,
   "metadata": {
    "collapsed": true
   },
   "outputs": [],
   "source": [
    "def GetFlatList(list_of_lists):\n",
    "    return reduce(lambda x,y: x+y, list_of_lists)"
   ]
  },
  {
   "cell_type": "code",
   "execution_count": 497,
   "metadata": {},
   "outputs": [
    {
     "data": {
      "application/vnd.jupyter.widget-view+json": {
       "model_id": "99c1dbf89dfe46569b8e9758907337a5"
      }
     },
     "metadata": {},
     "output_type": "display_data"
    },
    {
     "name": "stdout",
     "output_type": "stream",
     "text": [
      "\n"
     ]
    },
    {
     "data": {
      "application/vnd.jupyter.widget-view+json": {
       "model_id": "2bbe531a9efd4bb88023167a2c957a22"
      }
     },
     "metadata": {},
     "output_type": "display_data"
    },
    {
     "name": "stdout",
     "output_type": "stream",
     "text": [
      "\n"
     ]
    }
   ],
   "source": [
    "for name, df in [('train', train_ds), ('test', test_ds)]:\n",
    "    df.set_value(0,'list_len_percent',0)\n",
    "    df['list_len_percent'] = df['list_len_percent'].astype(object)\n",
    "    for index, row in tqdm.tqdm_notebook(df.iterrows(), total=df.shape[0], desc=\"build features for \" + name):\n",
    "        \n",
    "        df.loc[index, 'len_percent'] =  round((len(set(GetFlatList(ast.literal_eval(row.list_ntokens_p))+\\\n",
    "                                                       ast.literal_eval(row.list_ntokens_q)[0]))/\\\n",
    "                                               len(set(GetFlatList(ast.literal_eval(row.list_ntokens_p))))-1)*100,4)\n",
    "        #sentences = row.paragraph.split('. ')\n",
    "\n",
    "        #sentences_list = ast.literal_eval(row.list_ntokens_p)\n",
    "        #question_list = ast.literal_eval(row.list_ntokens_q)[0]\n",
    "        \n",
    "        sentences_list = ast.literal_eval(row.list_ntokens_p)\n",
    "        question_list = ast.literal_eval(row.list_ntokens_q)[0]\n",
    "\n",
    "        list_len_percent = []\n",
    "        \n",
    "        #print(index)\n",
    "        for sentence in sentences_list:\n",
    "            list_len_percent.append(round((len(set(sentence + question_list))/\n",
    "                                           len(set(sentence))-1)*100,4))\n",
    "         \n",
    "        df.set_value(index, 'list_len_percent', list_len_percent)"
   ]
  },
  {
   "cell_type": "code",
   "execution_count": 498,
   "metadata": {
    "collapsed": true
   },
   "outputs": [],
   "source": [
    "#train_ds.list_len_percent[63133]"
   ]
  },
  {
   "cell_type": "code",
   "execution_count": 499,
   "metadata": {
    "collapsed": true
   },
   "outputs": [],
   "source": [
    "#train_ds.list_ntokens_p[63133]"
   ]
  },
  {
   "cell_type": "code",
   "execution_count": 500,
   "metadata": {
    "collapsed": true
   },
   "outputs": [],
   "source": [
    "#train_ds.list_ntokens_q[50000]"
   ]
  },
  {
   "cell_type": "code",
   "execution_count": 501,
   "metadata": {
    "collapsed": true
   },
   "outputs": [],
   "source": [
    "#RemoveEmptyNestedLists(ast.literal_eval(train_ds.list_ntokens_p[691]))"
   ]
  },
  {
   "cell_type": "code",
   "execution_count": 502,
   "metadata": {},
   "outputs": [
    {
     "data": {
      "application/vnd.jupyter.widget-view+json": {
       "model_id": "37cc25b5c0d34a7f8312c2e60543fb77"
      }
     },
     "metadata": {},
     "output_type": "display_data"
    },
    {
     "name": "stdout",
     "output_type": "stream",
     "text": [
      "\n"
     ]
    },
    {
     "data": {
      "application/vnd.jupyter.widget-view+json": {
       "model_id": "99aa3d3a957740deba33f75ac20676a6"
      }
     },
     "metadata": {},
     "output_type": "display_data"
    },
    {
     "name": "stdout",
     "output_type": "stream",
     "text": [
      "\n"
     ]
    }
   ],
   "source": [
    "for name, df in [('train', train_ds), ('test', test_ds)]:\n",
    "    for index, row in tqdm.tqdm_notebook(df.iterrows(), total = df.shape[0], desc = \"Adding pars len% for \"+ name):\n",
    "        df.loc[index, 'min_len_percent'] = np.min(row.list_len_percent)\n",
    "        df.loc[index, 'max_len_percent'] = np.max(row.list_len_percent)\n",
    "        df.loc[index, 'std_len_percent'] = np.std(row.list_len_percent)\n",
    "        df.loc[index, 'mean_len_percent'] = np.mean(row.list_len_percent)"
   ]
  },
  {
   "cell_type": "code",
   "execution_count": 503,
   "metadata": {
    "collapsed": true
   },
   "outputs": [],
   "source": [
    "#train_ds.list_len_percent[691]"
   ]
  },
  {
   "cell_type": "code",
   "execution_count": 504,
   "metadata": {
    "collapsed": true
   },
   "outputs": [],
   "source": [
    "train_ds.to_csv(\"train_step6_mytokens.csv\", encoding ='utf-8'), \n",
    "test_ds.to_csv(\"test_step6_mytokens.csv\", encoding ='utf-8')"
   ]
  },
  {
   "cell_type": "markdown",
   "metadata": {},
   "source": [
    "# Step 7 (Check)"
   ]
  },
  {
   "cell_type": "code",
   "execution_count": 6,
   "metadata": {
    "collapsed": true
   },
   "outputs": [],
   "source": [
    "train_ds, test_ds = pd.read_csv(\"train_step6_mytokens.csv\", encoding ='utf-8'), pd.read_csv(\"test_step6_mytokens.csv\", encoding ='utf-8')"
   ]
  },
  {
   "cell_type": "code",
   "execution_count": 25,
   "metadata": {},
   "outputs": [
    {
     "name": "stdout",
     "output_type": "stream",
     "text": [
      "Wall time: 5min 37s\n"
     ]
    }
   ],
   "source": [
    "from gensim.models import Word2Vec\n",
    "sentences = list(train_ds['paragraph'])+\\\n",
    "            list(train_ds['question'])+\\\n",
    "            list(test_ds['paragraph'])+\\\n",
    "            list(test_ds['question'])\n",
    "\n",
    "%time w2v_trained = Word2Vec(sentences, workers=4, size = 50)"
   ]
  },
  {
   "cell_type": "code",
   "execution_count": 70,
   "metadata": {},
   "outputs": [
    {
     "data": {
      "application/vnd.jupyter.widget-view+json": {
       "model_id": "73e14581f0214328a1c20a117f9f8322"
      }
     },
     "metadata": {},
     "output_type": "display_data"
    },
    {
     "name": "stdout",
     "output_type": "stream",
     "text": [
      "\n",
      "\n"
     ]
    },
    {
     "data": {
      "application/vnd.jupyter.widget-view+json": {
       "model_id": "6dbdc35603204d7cb80fab5b4dda3335"
      }
     },
     "metadata": {},
     "output_type": "display_data"
    },
    {
     "name": "stdout",
     "output_type": "stream",
     "text": [
      "\n"
     ]
    }
   ],
   "source": [
    "stop_words = stopwords.words('russian')\n",
    "stop_words.extend(['что', 'это', 'так', 'вот', 'быть', 'как', 'в', '—', 'к', 'на', \n",
    "                   'a','б','в','г','д','е','ё','ж','з','и',\n",
    "                   'й','к','л','м','н','о','п','р','с','т',\n",
    "                   'у','ф','х','ц','ч','ш','щ','ъ','ы','ь','э','ю','я'])\n",
    "\n",
    "# Удалить вопросительные вопросы и стоп-слова.\n",
    "for name, df in [('train', train_ds), ('test', test_ds)]:\n",
    "    df.set_value(0,'list_similar_min_leven',0)\n",
    "   # df.set_value(0,'list_similar_max_w2v',0)\n",
    "    df['list_similar_min_leven'] = df['list_similar_min_leven'].astype(object)\n",
    "    #df['list_similar_max_w2v'] = df['list_similar_max_w2v'].astype(object)\n",
    "    for index, row in tqdm.tqdm_notebook(df.iterrows(), total = df.shape[0], desc = \"Adding list of similarity for \"+ name):\n",
    "        \n",
    "        list_similar_min_leven = []\n",
    "        #list_similar_max_w2v = []\n",
    "        \n",
    "        paragraph_list = GetFlatList(row.list_ntokens_p)\n",
    "        question_list = ast.literal_eval(row.list_ntokens_q)[0]\n",
    "        \n",
    "        clean_paragraph_list =  [i for i in paragraph_list if (i not in stop_words )]\n",
    "        clean_question_list =  [i for i in question_list if (i not in stop_words )]\n",
    "        \n",
    "        for Qind, Qword in enumerate(clean_question_list):\n",
    "            temp_leven = []\n",
    "            #temp_w2v = []\n",
    "            for Pword in set(clean_paragraph_list):\n",
    "                temp_leven.append(Leven_distance(Qword, Pword))\n",
    "                #temp_w2v.append(w2v_trained.n_similarity(Qword, Pword))\n",
    "                #temp.append(round(difflib.SequenceMatcher(None,Qword, Pword).ratio(),4))\n",
    "                #print(Qword, Pword, temp)\n",
    "                \n",
    "            list_similar_min_leven.append(min(temp_leven))\n",
    "            #list_similar_max_w2v.append(max(temp_w2v))\n",
    "        \n",
    "        max_value_of_list_similar_min_leven = max(list_similar_min_leven)\n",
    "        if max_value_of_list_similar_min_leven == 0:\n",
    "            max_value_of_list_similar_min_leven = 1\n",
    "        \n",
    "        df.set_value(index, 'list_similar_min_leven',  [1 - round(x / max_value_of_list_similar_min_leven,4) for x in list_similar_min_leven])    \n",
    "        #df.set_value(index, 'list_similar_max_w2v', [round(x,4) for x in list_similar_max_w2v])    "
   ]
  },
  {
   "cell_type": "code",
   "execution_count": 76,
   "metadata": {},
   "outputs": [
    {
     "name": "stdout",
     "output_type": "stream",
     "text": [
      "0 [0.6667000000000001, 0.33330000000000004, 0.33330000000000004, 0.4444, 0.0, 0.22219999999999995, 0.4444, 0.11109999999999998, 0.5556, 0.6667000000000001, 0.5556, 0.4444, 0.5556, 0.4444] 0.0 0.0\n",
      "1 [0.375, 0.125, 0.0, 0.875, 0.375, 0.625, 0.5, 0.0, 0.5, 0.625, 0.375, 0.5, 0.25, 0.375, 0.75, 0.25, 0.125, 0.0, 0.125, 0.25] 0.0 0.0\n",
      "2 [0.4286, 0.5714, 0.5714, 1.0, 0.4286, 0.4286, 0.14290000000000003, 0.28569999999999995, 0.5714, 0.5714, 0.4286, 0.4286, 0.0, 0.14290000000000003, 1.0, 0.5714] 0.125 0.0\n",
      "3 [0.0, 0.625, 0.0, 0.375, 0.125, 0.5, 0.25, 0.25, 0.5] 0.0 0.0\n",
      "4 [0.14290000000000003, 1.0, 0.0, 1.0, 1.0] 0.6 0.0\n",
      "5 [0.375, 0.375, 0.5, 0.625, 0.25, 0.5, 1.0, 0.625, 0.0, 0.625, 0.5, 0.25] 0.0833 0.0\n",
      "6 [0.625, 0.625, 1.0, 1.0, 0.0, 0.375, 0.375, 0.25] 0.25 0.0\n",
      "7 [1.0, 1.0, 1.0, 1.0, 1.0, 0.5, 0.0] 0.7143 1.0\n",
      "8 [1.0, 1.0, 1.0, 1.0, 1.0, 1.0, 1.0, 1.0, 1.0, 0.0] 0.9 1.0\n",
      "9 [0.22219999999999995, 0.6667000000000001, 0.6667000000000001, 0.33330000000000004, 0.0, 0.6667000000000001, 0.7778] 0.0 0.0\n",
      "10 [1.0, 1.0, 1.0, 1.0, 1.0, 1.0, 1.0, 1.0, 1.0, 1.0, 1.0, 1.0, 1.0, 0.0] 0.9286 1.0\n",
      "11 [0.4286, 0.5714, 0.0, 0.28569999999999995, 0.0, 0.14290000000000003, 0.28569999999999995, 0.5714, 0.4286, 0.14290000000000003, 0.14290000000000003] 0.0 0.0\n",
      "12 [0.25, 0.25, 0.25, 1.0, 1.0, 0.0, 0.75] 0.2857 1.0\n",
      "13 [1.0, 0.19999999999999996, 0.19999999999999996, 1.0, 0.0, 1.0, 0.19999999999999996, 0.19999999999999996, 0.0, 0.4, 0.19999999999999996, 0.4, 0.0, 0.0] 0.2143 0.0\n",
      "14 [0.33330000000000004, 0.33330000000000004, 0.16669999999999996, 0.33330000000000004, 0.33330000000000004, 0.16669999999999996, 0.5, 0.16669999999999996, 0.33330000000000004, 0.0, 0.0, 0.33330000000000004, 0.16669999999999996] 0.0 0.0\n",
      "15 [1.0, 1.0, 1.0, 0.0, 1.0, 0.75] 0.6667 1.0\n",
      "16 [0.4, 0.5, 0.19999999999999996, 0.0, 0.6, 0.4] 0.0 0.0\n",
      "17 [1.0, 0.0, 0.0, 0.4, 0.0] 0.2 0.0\n",
      "18 [0.5, 0.625, 0.375, 0.5, 0.5, 0.25, 0.75, 0.5, 0.25, 0.0, 0.375, 0.375, 0.25, 0.125, 0.25, 0.375, 0.0] 0.0 0.0\n",
      "19 [0.0, 0.0, 0.25, 0.0, 0.5] 0.0 0.0\n",
      "20 [0.5, 0.375, 0.0, 0.375, 0.375, 1.0, 0.5, 0.875] 0.125 0.0\n",
      "21 [0.19999999999999996, 0.0, 0.4, 1.0, 1.0, 1.0, 0.19999999999999996, 0.6, 0.8] 0.3333 0.0\n",
      "22 [0.5, 1.0, 1.0, 0.0, 1.0, 1.0, 1.0, 1.0, 1.0, 1.0, 1.0, 1.0, 1.0, 1.0, 1.0, 1.0] 0.875 1.0\n",
      "23 [0.5714, 0.0, 1.0, 1.0, 1.0, 1.0, 1.0, 1.0, 1.0] 0.7778 1.0\n",
      "24 [0.7142999999999999, 0.5714, 1.0, 0.4286, 0.14290000000000003, 0.28569999999999995, 0.0] 0.1429 0.0\n",
      "25 [0.375, 0.5, 0.25, 0.375, 0.0, 0.625, 0.5, 0.25, 0.625] 0.0 0.0\n",
      "26 [0.5, 0.7, 0.8, 0.0, 0.5, 0.7, 0.5, 0.4, 0.0] 0.0 0.0\n",
      "27 [0.6, 0.0, 0.8] 0.0 1.0\n",
      "28 [1.0, 0.0, 1.0, 1.0, 1.0, 1.0, 1.0, 1.0] 0.875 1.0\n",
      "29 [0.7, 0.6, 0.4, 0.5, 0.5, 0.5, 0.6, 0.4, 0.7, 0.4, 0.5, 0.0, 0.4, 0.30000000000000004] 0.0 0.0\n",
      "30 [0.7, 1.0, 0.7, 1.0, 1.0, 0.6, 0.0, 0.4] 0.375 0.0\n",
      "31 [1.0, 1.0, 1.0, 1.0, 1.0, 1.0, 0.0, 1.0, 1.0, 1.0, 1.0, 0.8, 1.0, 1.0] 0.8571 1.0\n",
      "32 [0.33330000000000004, 0.16669999999999996, 0.0, 0.16669999999999996, 0.33330000000000004, 0.33330000000000004, 0.33330000000000004, 0.16669999999999996, 0.16669999999999996, 0.0, 0.16669999999999996] 0.0 0.0\n",
      "33 [0.7142999999999999, 0.28569999999999995, 1.0, 0.4286, 0.14290000000000003, 0.28569999999999995, 0.0, 0.4286, 0.4286, 0.14290000000000003, 0.14290000000000003] 0.0909 0.0\n",
      "34 [1.0, 1.0, 0.6667000000000001, 0.0, 0.6667000000000001, 1.0, 1.0, 1.0, 1.0, 1.0, 1.0, 1.0] 0.75 1.0\n",
      "35 [0.0, 0.33330000000000004, 0.6667000000000001, 0.5, 0.5, 0.16669999999999996, 0.16669999999999996, 0.0, 0.16669999999999996, 0.5, 0.33330000000000004] 0.0 0.0\n",
      "36 [0.0, 1.0, 1.0, 1.0, 0.75] 0.6 1.0\n",
      "37 [1.0, 1.0, 1.0, 1.0, 1.0, 1.0] 1.0 1.0\n"
     ]
    }
   ],
   "source": [
    "for i in range(38):\n",
    "    print(i,train_ds.loc[i,'list_similar_min_leven'], train_ds.loc[i,'similar_perc_leven_thr_100'], train_ds.loc[i,'target'])"
   ]
  },
  {
   "cell_type": "code",
   "execution_count": null,
   "metadata": {
    "collapsed": true
   },
   "outputs": [],
   "source": [
    "train_ds.head()"
   ]
  },
  {
   "cell_type": "code",
   "execution_count": 81,
   "metadata": {},
   "outputs": [
    {
     "data": {
      "application/vnd.jupyter.widget-view+json": {
       "model_id": "bc57227172064c6f807151e49832a58a"
      }
     },
     "metadata": {},
     "output_type": "display_data"
    },
    {
     "name": "stdout",
     "output_type": "stream",
     "text": [
      "\n"
     ]
    },
    {
     "data": {
      "application/vnd.jupyter.widget-view+json": {
       "model_id": "afdb46c515b042c288938a453b2572c1"
      }
     },
     "metadata": {},
     "output_type": "display_data"
    },
    {
     "name": "stdout",
     "output_type": "stream",
     "text": [
      "\n"
     ]
    }
   ],
   "source": [
    "for name, df in [('train', train_ds), ('test', test_ds)]:\n",
    "    for index, row in tqdm.tqdm_notebook(df.iterrows(), total = df.shape[0], desc = \"Adding threshold vars for \"+ name):\n",
    "        df.loc[index, 'min_leven_list'] = min(row.list_similar_min_leven)\n",
    "        df.loc[index, 'max_leven_list'] = max(row.list_similar_min_leven)\n",
    "        df.loc[index, 'std_leven_list'] = np.std(row.list_similar_min_leven)\n",
    "        df.loc[index, 'mean_leven_list'] = np.mean(row.list_similar_min_leven)\n",
    "        for thr in [15, 30, 45, 60, 75, 90, 100]:\n",
    "            df.loc[index, 'similar_perc_leven_thr_'+str(thr)] = round(sum(el >= thr/100 for el in row.list_similar_min_leven)/len(row.list_similar_min_leven),4)"
   ]
  },
  {
   "cell_type": "code",
   "execution_count": 82,
   "metadata": {},
   "outputs": [
    {
     "data": {
      "text/html": [
       "<div>\n",
       "<style>\n",
       "    .dataframe thead tr:only-child th {\n",
       "        text-align: right;\n",
       "    }\n",
       "\n",
       "    .dataframe thead th {\n",
       "        text-align: left;\n",
       "    }\n",
       "\n",
       "    .dataframe tbody tr th {\n",
       "        vertical-align: top;\n",
       "    }\n",
       "</style>\n",
       "<table border=\"1\" class=\"dataframe\">\n",
       "  <thead>\n",
       "    <tr style=\"text-align: right;\">\n",
       "      <th></th>\n",
       "      <th>Unnamed: 0</th>\n",
       "      <th>Unnamed: 0.1</th>\n",
       "      <th>paragraph_id</th>\n",
       "      <th>question_id</th>\n",
       "      <th>paragraph</th>\n",
       "      <th>question</th>\n",
       "      <th>target</th>\n",
       "      <th>list_ntokens_p</th>\n",
       "      <th>list_ntokens_q</th>\n",
       "      <th>list_ratio</th>\n",
       "      <th>...</th>\n",
       "      <th>similar_perc_leven_thr_45</th>\n",
       "      <th>similar_perc_leven_thr_60</th>\n",
       "      <th>similar_perc_leven_thr_75</th>\n",
       "      <th>similar_perc_leven_thr_90</th>\n",
       "      <th>similar_perc_leven_thr_100</th>\n",
       "      <th>min_leven_list</th>\n",
       "      <th>max_leven_list</th>\n",
       "      <th>std_leven_list</th>\n",
       "      <th>meam_leven_list</th>\n",
       "      <th>mean_leven_list</th>\n",
       "    </tr>\n",
       "  </thead>\n",
       "  <tbody>\n",
       "    <tr>\n",
       "      <th>0</th>\n",
       "      <td>0</td>\n",
       "      <td>0</td>\n",
       "      <td>1094</td>\n",
       "      <td>46273</td>\n",
       "      <td>В отличие от рыб, земноводные (амфибии) и прес...</td>\n",
       "      <td>С какого года Русское Царство перешло на летои...</td>\n",
       "      <td>0.0</td>\n",
       "      <td>[['в', 'отличие', 'от', 'рыба', 'земноводный',...</td>\n",
       "      <td>[['с', 'какой', 'год', 'русский', 'царство', '...</td>\n",
       "      <td>[0.26957, 0.25, 0.18834, 0.26616]</td>\n",
       "      <td>...</td>\n",
       "      <td>0.3571</td>\n",
       "      <td>0.1429</td>\n",
       "      <td>0.0000</td>\n",
       "      <td>0.0000</td>\n",
       "      <td>0.0000</td>\n",
       "      <td>0.0</td>\n",
       "      <td>0.6667</td>\n",
       "      <td>0.189830</td>\n",
       "      <td>0.412693</td>\n",
       "      <td>0.412693</td>\n",
       "    </tr>\n",
       "    <tr>\n",
       "      <th>1</th>\n",
       "      <td>1</td>\n",
       "      <td>1</td>\n",
       "      <td>7414</td>\n",
       "      <td>19164</td>\n",
       "      <td>В 1049 году Балдуину V удалось отнять у Герман...</td>\n",
       "      <td>Кто упомянул о его первых разногласиях со Штей...</td>\n",
       "      <td>0.0</td>\n",
       "      <td>[['в', '1049', 'год', 'балдуин', 'v', 'удаться...</td>\n",
       "      <td>[['кто', 'упомянуть', 'о', 'он', 'один', 'разн...</td>\n",
       "      <td>[0.0423, 0.00633, 0.04667, 0.02721, 0.01429, 0...</td>\n",
       "      <td>...</td>\n",
       "      <td>0.3500</td>\n",
       "      <td>0.2000</td>\n",
       "      <td>0.1000</td>\n",
       "      <td>0.0000</td>\n",
       "      <td>0.0000</td>\n",
       "      <td>0.0</td>\n",
       "      <td>0.8750</td>\n",
       "      <td>0.245586</td>\n",
       "      <td>0.350000</td>\n",
       "      <td>0.350000</td>\n",
       "    </tr>\n",
       "    <tr>\n",
       "      <th>2</th>\n",
       "      <td>2</td>\n",
       "      <td>2</td>\n",
       "      <td>6744</td>\n",
       "      <td>39767</td>\n",
       "      <td>Стремление достичь предельных значений ёмкости...</td>\n",
       "      <td>Как называется имеющая мировое значение эпоха ...</td>\n",
       "      <td>0.0</td>\n",
       "      <td>[['стремление', 'достигнуть', 'предельный', 'з...</td>\n",
       "      <td>[['как', 'называться', 'иметь', 'мировой', 'зн...</td>\n",
       "      <td>[0.36458, 0.21801]</td>\n",
       "      <td>...</td>\n",
       "      <td>0.4375</td>\n",
       "      <td>0.1250</td>\n",
       "      <td>0.1250</td>\n",
       "      <td>0.1250</td>\n",
       "      <td>0.1250</td>\n",
       "      <td>0.0</td>\n",
       "      <td>1.0000</td>\n",
       "      <td>0.261064</td>\n",
       "      <td>0.473219</td>\n",
       "      <td>0.473219</td>\n",
       "    </tr>\n",
       "    <tr>\n",
       "      <th>3</th>\n",
       "      <td>3</td>\n",
       "      <td>3</td>\n",
       "      <td>7300</td>\n",
       "      <td>36318</td>\n",
       "      <td>Первый практически пригодный двухтактный газов...</td>\n",
       "      <td>Что усугублялось из-за международного давления...</td>\n",
       "      <td>0.0</td>\n",
       "      <td>[['один', 'практически', 'пригодный', 'двухтак...</td>\n",
       "      <td>[['что', 'усугубляться', 'из-за', 'международн...</td>\n",
       "      <td>[0.27778, 0.15873, 0.2386, 0.2716, 0.26154, 0....</td>\n",
       "      <td>...</td>\n",
       "      <td>0.3333</td>\n",
       "      <td>0.1111</td>\n",
       "      <td>0.0000</td>\n",
       "      <td>0.0000</td>\n",
       "      <td>0.0000</td>\n",
       "      <td>0.0</td>\n",
       "      <td>0.6250</td>\n",
       "      <td>0.212459</td>\n",
       "      <td>0.291667</td>\n",
       "      <td>0.291667</td>\n",
       "    </tr>\n",
       "    <tr>\n",
       "      <th>4</th>\n",
       "      <td>4</td>\n",
       "      <td>4</td>\n",
       "      <td>7077</td>\n",
       "      <td>41534</td>\n",
       "      <td>Требуя от художника углубленного изучения изоб...</td>\n",
       "      <td>Какой характер носят пророчества Леонардо да В...</td>\n",
       "      <td>0.0</td>\n",
       "      <td>[['требовать', 'от', 'художник', 'углублённый'...</td>\n",
       "      <td>[['какой', 'характер', 'носить', 'пророчество'...</td>\n",
       "      <td>[0.28302, 0.21739, 0.14094, 0.22059, 0.16667]</td>\n",
       "      <td>...</td>\n",
       "      <td>0.6000</td>\n",
       "      <td>0.6000</td>\n",
       "      <td>0.6000</td>\n",
       "      <td>0.6000</td>\n",
       "      <td>0.6000</td>\n",
       "      <td>0.0</td>\n",
       "      <td>1.0000</td>\n",
       "      <td>0.457134</td>\n",
       "      <td>0.628580</td>\n",
       "      <td>0.628580</td>\n",
       "    </tr>\n",
       "    <tr>\n",
       "      <th>5</th>\n",
       "      <td>5</td>\n",
       "      <td>5</td>\n",
       "      <td>3559</td>\n",
       "      <td>62585</td>\n",
       "      <td>Белки — высокомолекулярные органические вещест...</td>\n",
       "      <td>Какие действия предприняла подводная лодка Чер...</td>\n",
       "      <td>0.0</td>\n",
       "      <td>[['белка', 'высокомолекулярный', 'органический...</td>\n",
       "      <td>[['какой', 'действие', 'предпринять', 'подводн...</td>\n",
       "      <td>[0.25439, 0.2197, 0.19689, 0.26797, 0.28194]</td>\n",
       "      <td>...</td>\n",
       "      <td>0.5833</td>\n",
       "      <td>0.3333</td>\n",
       "      <td>0.0833</td>\n",
       "      <td>0.0833</td>\n",
       "      <td>0.0833</td>\n",
       "      <td>0.0</td>\n",
       "      <td>1.0000</td>\n",
       "      <td>0.240036</td>\n",
       "      <td>0.468750</td>\n",
       "      <td>0.468750</td>\n",
       "    </tr>\n",
       "    <tr>\n",
       "      <th>6</th>\n",
       "      <td>6</td>\n",
       "      <td>6</td>\n",
       "      <td>4350</td>\n",
       "      <td>3730</td>\n",
       "      <td>Прайсинговые методы — в основе лежит принцип и...</td>\n",
       "      <td>Как называют остановки, до которых и на которы...</td>\n",
       "      <td>0.0</td>\n",
       "      <td>[['прайсинговый', 'метод', 'в', 'основа', 'леж...</td>\n",
       "      <td>[['как', 'называть', 'остановка', 'до', 'котор...</td>\n",
       "      <td>[0.20126, 0.36364, 0.29437, 0.34118, 0.21719]</td>\n",
       "      <td>...</td>\n",
       "      <td>0.5000</td>\n",
       "      <td>0.5000</td>\n",
       "      <td>0.2500</td>\n",
       "      <td>0.2500</td>\n",
       "      <td>0.2500</td>\n",
       "      <td>0.0</td>\n",
       "      <td>1.0000</td>\n",
       "      <td>0.329239</td>\n",
       "      <td>0.531250</td>\n",
       "      <td>0.531250</td>\n",
       "    </tr>\n",
       "    <tr>\n",
       "      <th>7</th>\n",
       "      <td>7</td>\n",
       "      <td>7</td>\n",
       "      <td>8012</td>\n",
       "      <td>86629</td>\n",
       "      <td>Применяли изначально для определения близкород...</td>\n",
       "      <td>Какой признак киевский монах Нестор-летописец ...</td>\n",
       "      <td>1.0</td>\n",
       "      <td>[['применять', 'изначально', 'для', 'определен...</td>\n",
       "      <td>[['какой', 'признак', 'киевский', 'монах', 'не...</td>\n",
       "      <td>[0.17867, 0.24299, 0.31206, 0.26277, 0.33696, ...</td>\n",
       "      <td>...</td>\n",
       "      <td>0.8571</td>\n",
       "      <td>0.7143</td>\n",
       "      <td>0.7143</td>\n",
       "      <td>0.7143</td>\n",
       "      <td>0.7143</td>\n",
       "      <td>0.0</td>\n",
       "      <td>1.0000</td>\n",
       "      <td>0.364216</td>\n",
       "      <td>0.785714</td>\n",
       "      <td>0.785714</td>\n",
       "    </tr>\n",
       "    <tr>\n",
       "      <th>8</th>\n",
       "      <td>8</td>\n",
       "      <td>8</td>\n",
       "      <td>3634</td>\n",
       "      <td>69421</td>\n",
       "      <td>Успешная конверсия по-разному определяется гру...</td>\n",
       "      <td>Чтобы понять, по какому рекламному каналу приш...</td>\n",
       "      <td>1.0</td>\n",
       "      <td>[['успешный', 'конверсия', 'по-разному', 'опре...</td>\n",
       "      <td>[['чтобы', 'понять', 'по', 'какой', 'рекламный...</td>\n",
       "      <td>[0.27473, 0.157, 0.23973, 0.1244, 0.75269]</td>\n",
       "      <td>...</td>\n",
       "      <td>0.9000</td>\n",
       "      <td>0.9000</td>\n",
       "      <td>0.9000</td>\n",
       "      <td>0.9000</td>\n",
       "      <td>0.9000</td>\n",
       "      <td>0.0</td>\n",
       "      <td>1.0000</td>\n",
       "      <td>0.300000</td>\n",
       "      <td>0.900000</td>\n",
       "      <td>0.900000</td>\n",
       "    </tr>\n",
       "    <tr>\n",
       "      <th>9</th>\n",
       "      <td>9</td>\n",
       "      <td>9</td>\n",
       "      <td>4350</td>\n",
       "      <td>27335</td>\n",
       "      <td>Прайсинговые методы — в основе лежит принцип и...</td>\n",
       "      <td>Урожайность сои в каких странах почти не отлич...</td>\n",
       "      <td>0.0</td>\n",
       "      <td>[['прайсинговый', 'метод', 'в', 'основа', 'леж...</td>\n",
       "      <td>[['урожайность', 'соя', 'в', 'какой', 'страна'...</td>\n",
       "      <td>[0.33803, 0.34254, 0.28037, 0.26144, 0.19608]</td>\n",
       "      <td>...</td>\n",
       "      <td>0.5714</td>\n",
       "      <td>0.5714</td>\n",
       "      <td>0.1429</td>\n",
       "      <td>0.0000</td>\n",
       "      <td>0.0000</td>\n",
       "      <td>0.0</td>\n",
       "      <td>0.7778</td>\n",
       "      <td>0.270327</td>\n",
       "      <td>0.476200</td>\n",
       "      <td>0.476200</td>\n",
       "    </tr>\n",
       "  </tbody>\n",
       "</table>\n",
       "<p>10 rows × 56 columns</p>\n",
       "</div>"
      ],
      "text/plain": [
       "   Unnamed: 0  Unnamed: 0.1  paragraph_id  question_id  \\\n",
       "0           0             0          1094        46273   \n",
       "1           1             1          7414        19164   \n",
       "2           2             2          6744        39767   \n",
       "3           3             3          7300        36318   \n",
       "4           4             4          7077        41534   \n",
       "5           5             5          3559        62585   \n",
       "6           6             6          4350         3730   \n",
       "7           7             7          8012        86629   \n",
       "8           8             8          3634        69421   \n",
       "9           9             9          4350        27335   \n",
       "\n",
       "                                           paragraph  \\\n",
       "0  В отличие от рыб, земноводные (амфибии) и прес...   \n",
       "1  В 1049 году Балдуину V удалось отнять у Герман...   \n",
       "2  Стремление достичь предельных значений ёмкости...   \n",
       "3  Первый практически пригодный двухтактный газов...   \n",
       "4  Требуя от художника углубленного изучения изоб...   \n",
       "5  Белки — высокомолекулярные органические вещест...   \n",
       "6  Прайсинговые методы — в основе лежит принцип и...   \n",
       "7  Применяли изначально для определения близкород...   \n",
       "8  Успешная конверсия по-разному определяется гру...   \n",
       "9  Прайсинговые методы — в основе лежит принцип и...   \n",
       "\n",
       "                                            question  target  \\\n",
       "0  С какого года Русское Царство перешло на летои...     0.0   \n",
       "1  Кто упомянул о его первых разногласиях со Штей...     0.0   \n",
       "2  Как называется имеющая мировое значение эпоха ...     0.0   \n",
       "3  Что усугублялось из-за международного давления...     0.0   \n",
       "4  Какой характер носят пророчества Леонардо да В...     0.0   \n",
       "5  Какие действия предприняла подводная лодка Чер...     0.0   \n",
       "6  Как называют остановки, до которых и на которы...     0.0   \n",
       "7  Какой признак киевский монах Нестор-летописец ...     1.0   \n",
       "8  Чтобы понять, по какому рекламному каналу приш...     1.0   \n",
       "9  Урожайность сои в каких странах почти не отлич...     0.0   \n",
       "\n",
       "                                      list_ntokens_p  \\\n",
       "0  [['в', 'отличие', 'от', 'рыба', 'земноводный',...   \n",
       "1  [['в', '1049', 'год', 'балдуин', 'v', 'удаться...   \n",
       "2  [['стремление', 'достигнуть', 'предельный', 'з...   \n",
       "3  [['один', 'практически', 'пригодный', 'двухтак...   \n",
       "4  [['требовать', 'от', 'художник', 'углублённый'...   \n",
       "5  [['белка', 'высокомолекулярный', 'органический...   \n",
       "6  [['прайсинговый', 'метод', 'в', 'основа', 'леж...   \n",
       "7  [['применять', 'изначально', 'для', 'определен...   \n",
       "8  [['успешный', 'конверсия', 'по-разному', 'опре...   \n",
       "9  [['прайсинговый', 'метод', 'в', 'основа', 'леж...   \n",
       "\n",
       "                                      list_ntokens_q  \\\n",
       "0  [['с', 'какой', 'год', 'русский', 'царство', '...   \n",
       "1  [['кто', 'упомянуть', 'о', 'он', 'один', 'разн...   \n",
       "2  [['как', 'называться', 'иметь', 'мировой', 'зн...   \n",
       "3  [['что', 'усугубляться', 'из-за', 'международн...   \n",
       "4  [['какой', 'характер', 'носить', 'пророчество'...   \n",
       "5  [['какой', 'действие', 'предпринять', 'подводн...   \n",
       "6  [['как', 'называть', 'остановка', 'до', 'котор...   \n",
       "7  [['какой', 'признак', 'киевский', 'монах', 'не...   \n",
       "8  [['чтобы', 'понять', 'по', 'какой', 'рекламный...   \n",
       "9  [['урожайность', 'соя', 'в', 'какой', 'страна'...   \n",
       "\n",
       "                                          list_ratio       ...         \\\n",
       "0                  [0.26957, 0.25, 0.18834, 0.26616]       ...          \n",
       "1  [0.0423, 0.00633, 0.04667, 0.02721, 0.01429, 0...       ...          \n",
       "2                                 [0.36458, 0.21801]       ...          \n",
       "3  [0.27778, 0.15873, 0.2386, 0.2716, 0.26154, 0....       ...          \n",
       "4      [0.28302, 0.21739, 0.14094, 0.22059, 0.16667]       ...          \n",
       "5       [0.25439, 0.2197, 0.19689, 0.26797, 0.28194]       ...          \n",
       "6      [0.20126, 0.36364, 0.29437, 0.34118, 0.21719]       ...          \n",
       "7  [0.17867, 0.24299, 0.31206, 0.26277, 0.33696, ...       ...          \n",
       "8         [0.27473, 0.157, 0.23973, 0.1244, 0.75269]       ...          \n",
       "9      [0.33803, 0.34254, 0.28037, 0.26144, 0.19608]       ...          \n",
       "\n",
       "  similar_perc_leven_thr_45  similar_perc_leven_thr_60  \\\n",
       "0                    0.3571                     0.1429   \n",
       "1                    0.3500                     0.2000   \n",
       "2                    0.4375                     0.1250   \n",
       "3                    0.3333                     0.1111   \n",
       "4                    0.6000                     0.6000   \n",
       "5                    0.5833                     0.3333   \n",
       "6                    0.5000                     0.5000   \n",
       "7                    0.8571                     0.7143   \n",
       "8                    0.9000                     0.9000   \n",
       "9                    0.5714                     0.5714   \n",
       "\n",
       "   similar_perc_leven_thr_75  similar_perc_leven_thr_90  \\\n",
       "0                     0.0000                     0.0000   \n",
       "1                     0.1000                     0.0000   \n",
       "2                     0.1250                     0.1250   \n",
       "3                     0.0000                     0.0000   \n",
       "4                     0.6000                     0.6000   \n",
       "5                     0.0833                     0.0833   \n",
       "6                     0.2500                     0.2500   \n",
       "7                     0.7143                     0.7143   \n",
       "8                     0.9000                     0.9000   \n",
       "9                     0.1429                     0.0000   \n",
       "\n",
       "   similar_perc_leven_thr_100  min_leven_list  max_leven_list  std_leven_list  \\\n",
       "0                      0.0000             0.0          0.6667        0.189830   \n",
       "1                      0.0000             0.0          0.8750        0.245586   \n",
       "2                      0.1250             0.0          1.0000        0.261064   \n",
       "3                      0.0000             0.0          0.6250        0.212459   \n",
       "4                      0.6000             0.0          1.0000        0.457134   \n",
       "5                      0.0833             0.0          1.0000        0.240036   \n",
       "6                      0.2500             0.0          1.0000        0.329239   \n",
       "7                      0.7143             0.0          1.0000        0.364216   \n",
       "8                      0.9000             0.0          1.0000        0.300000   \n",
       "9                      0.0000             0.0          0.7778        0.270327   \n",
       "\n",
       "   meam_leven_list  mean_leven_list  \n",
       "0         0.412693         0.412693  \n",
       "1         0.350000         0.350000  \n",
       "2         0.473219         0.473219  \n",
       "3         0.291667         0.291667  \n",
       "4         0.628580         0.628580  \n",
       "5         0.468750         0.468750  \n",
       "6         0.531250         0.531250  \n",
       "7         0.785714         0.785714  \n",
       "8         0.900000         0.900000  \n",
       "9         0.476200         0.476200  \n",
       "\n",
       "[10 rows x 56 columns]"
      ]
     },
     "execution_count": 82,
     "metadata": {},
     "output_type": "execute_result"
    }
   ],
   "source": [
    "train_ds.head(10)"
   ]
  },
  {
   "cell_type": "code",
   "execution_count": 83,
   "metadata": {
    "collapsed": true
   },
   "outputs": [],
   "source": [
    "#for i in range(20):\n",
    "#    print(train_ds.loc[i, 'list_ntokens_q'], train_ds.loc[i, 'list_similar_max'], train_ds.loc[i, 'target'])"
   ]
  },
  {
   "cell_type": "code",
   "execution_count": 84,
   "metadata": {
    "collapsed": true
   },
   "outputs": [],
   "source": [
    "#for word in set(GetFlatList(train_ds.list_ntokens_p[0])):\n",
    "#   print(word)"
   ]
  },
  {
   "cell_type": "code",
   "execution_count": 85,
   "metadata": {
    "collapsed": true
   },
   "outputs": [],
   "source": [
    "train_ds.to_csv(\"train_step7_mytokens.csv\", encoding ='utf-8'), \n",
    "test_ds.to_csv(\"test_step7_mytokens.csv\", encoding ='utf-8')"
   ]
  },
  {
   "cell_type": "code",
   "execution_count": 441,
   "metadata": {},
   "outputs": [
    {
     "data": {
      "text/plain": [
       "(None,)"
      ]
     },
     "execution_count": 441,
     "metadata": {},
     "output_type": "execute_result"
    }
   ],
   "source": [
    "#train_ds.head(17).to_csv(\"train_step7_mytokens_tolook.csv\", encoding ='utf-8'), "
   ]
  },
  {
   "cell_type": "markdown",
   "metadata": {},
   "source": [
    "# Graphs"
   ]
  },
  {
   "cell_type": "code",
   "execution_count": 86,
   "metadata": {},
   "outputs": [
    {
     "data": {
      "text/plain": [
       "Index(['Unnamed: 0', 'Unnamed: 0.1', 'paragraph_id', 'question_id',\n",
       "       'paragraph', 'question', 'target', 'list_ntokens_p', 'list_ntokens_q',\n",
       "       'list_ratio', 'list_intersections', 'len_paragraph', 'len_question',\n",
       "       'len_intersection', 'cos_dist', 'min_ratio', 'max_ratio', 'std_ratio',\n",
       "       'mean_ratio', 'num_sentences', 'min_inter', 'max_inter',\n",
       "       'list_bigrams_intersections', 'list_trigrams_intersections',\n",
       "       'bigram_intersection', 'trigram_intersection', 'min_2g_inter',\n",
       "       'max_2g_inter', 'std_2g_inter', 'mean_2g_inter', 'min_3g_inter',\n",
       "       'max_3g_inter', 'std_3g_inter', 'mean_3g_inter', 'unq_qwords_rate',\n",
       "       'list_len_percent', 'len_percent', 'min_len_percent', 'max_len_percent',\n",
       "       'std_len_percent', 'mean_len_percent', 'list_similar_max_leven',\n",
       "       'list_similar_min_leven', 'list_similar_max_w2v',\n",
       "       'similar_perc_leven_thr_15', 'similar_perc_leven_thr_30',\n",
       "       'similar_perc_leven_thr_45', 'similar_perc_leven_thr_60',\n",
       "       'similar_perc_leven_thr_75', 'similar_perc_leven_thr_90',\n",
       "       'similar_perc_leven_thr_100', 'min_leven_list', 'max_leven_list',\n",
       "       'std_leven_list', 'meam_leven_list', 'mean_leven_list'],\n",
       "      dtype='object')"
      ]
     },
     "execution_count": 86,
     "metadata": {},
     "output_type": "execute_result"
    }
   ],
   "source": [
    "train_ds.columns"
   ]
  },
  {
   "cell_type": "code",
   "execution_count": 88,
   "metadata": {
    "collapsed": true
   },
   "outputs": [],
   "source": [
    "columns = ['len_paragraph', # 0\n",
    "           'len_question', # 1\n",
    "           'len_intersection', # 2 \n",
    "           'cos_dist', # 3\n",
    "           'min_ratio', # 4\n",
    "           'max_ratio', # 5\n",
    "           'std_ratio', # 6\n",
    "           'mean_ratio', # 7 \n",
    "           'num_sentences', # 8\n",
    "           'min_inter', # 9\n",
    "           'max_inter', # 10\n",
    "           'bigram_intersection', # 11\n",
    "           'trigram_intersection', # 12\n",
    "           'min_2g_inter', # 13\n",
    "           'max_2g_inter', # 14\n",
    "           'std_2g_inter', # 15\n",
    "           'mean_2g_inter', # 16\n",
    "           'min_3g_inter', # 17\n",
    "           'max_3g_inter', # 18\n",
    "           'std_3g_inter', # 19\n",
    "           'mean_3g_inter', # 20\n",
    "           'unq_qwords_rate', # 21\n",
    "           'len_percent', # 22\n",
    "           'min_len_percent', # 23 \n",
    "           'max_len_percent', # 24\n",
    "           'std_len_percent', # 25\n",
    "           'mean_len_percent', # 26\n",
    "           'similar_perc_leven_thr_15', # 27\n",
    "           'similar_perc_leven_thr_30', # 28\n",
    "           'similar_perc_leven_thr_45', # 29\n",
    "           'similar_perc_leven_thr_60', # 30\n",
    "           'similar_perc_leven_thr_75', # 31\n",
    "           'similar_perc_leven_thr_90', # 32\n",
    "           'similar_perc_leven_thr_100', # 33\n",
    "           'min_leven_list', # 34\n",
    "           'max_leven_list', # 35\n",
    "           'std_leven_list', # 36\n",
    "           'mean_leven_list'] # 37"
   ]
  },
  {
   "cell_type": "code",
   "execution_count": 103,
   "metadata": {},
   "outputs": [
    {
     "name": "stdout",
     "output_type": "stream",
     "text": [
      "Histogram for len_paragraph\n",
      "                           count       mean        std   min  median    max\n",
      "len_paragraph (target: 0)  85361  90.372336  26.608021  35.0    82.0  358.0\n",
      "len_paragraph (target: 1)  34037  83.477950  26.130164  28.0    77.0  675.0\n"
     ]
    },
    {
     "data": {
      "image/png": "[encoded data removed]",
      "text/plain": [
       "<matplotlib.figure.Figure at 0x1a327336a20>"
      ]
     },
     "metadata": {},
     "output_type": "display_data"
    },
    {
     "name": "stdout",
     "output_type": "stream",
     "text": [
      "Histogram for len_paragraph\n",
      "                      count       mean        std   min  median    max\n",
      "len_paragraph (test)  74294  96.454667  40.660423  32.0    85.0  371.0\n"
     ]
    },
    {
     "data": {
      "image/png": "[encoded data removed]",
      "text/plain": [
       "<matplotlib.figure.Figure at 0x1a328b2ca20>"
      ]
     },
     "metadata": {},
     "output_type": "display_data"
    }
   ],
   "source": [
    "col_id = 0\n",
    "PlotHistByTarget(train_ds[columns[col_id]], columns[col_id], 40, 200, train_ds, 'train')\n",
    "PlotHistByTarget(test_ds[columns[col_id]], columns[col_id], 40, 200, test_ds, 'test')"
   ]
  },
  {
   "cell_type": "code",
   "execution_count": 105,
   "metadata": {},
   "outputs": [
    {
     "name": "stdout",
     "output_type": "stream",
     "text": [
      "Histogram for len_question\n",
      "                          count       mean       std  min  median   max\n",
      "len_question (target: 0)  85361  15.052214  6.360197  4.0    14.0  64.0\n",
      "len_question (target: 1)  34037   8.577842  3.949244  2.0     8.0  60.0\n"
     ]
    },
    {
     "data": {
      "image/png": "[encoded data removed]",
      "text/plain": [
       "<matplotlib.figure.Figure at 0x1a326edb2e8>"
      ]
     },
     "metadata": {},
     "output_type": "display_data"
    },
    {
     "name": "stdout",
     "output_type": "stream",
     "text": [
      "Histogram for len_question\n",
      "                     count       mean       std  min  median   max\n",
      "len_question (test)  74294  13.364834  6.123174  1.0    12.0  64.0\n"
     ]
    },
    {
     "data": {
      "image/png": "[encoded data removed]",
      "text/plain": [
       "<matplotlib.figure.Figure at 0x1a326bff828>"
      ]
     },
     "metadata": {},
     "output_type": "display_data"
    }
   ],
   "source": [
    "col_id = 1\n",
    "PlotHistByTarget(train_ds[columns[col_id]], columns[col_id], 0, 50, train_ds, 'train')\n",
    "PlotHistByTarget(test_ds[columns[col_id]], columns[col_id], 0, 50, test_ds, 'test')"
   ]
  },
  {
   "cell_type": "code",
   "execution_count": 108,
   "metadata": {},
   "outputs": [
    {
     "name": "stdout",
     "output_type": "stream",
     "text": [
      "Histogram for len_intersection\n",
      "                              count      mean       std  min  median   max\n",
      "len_intersection (target: 0)  85361  3.339078  0.705591  3.0     3.0  17.0\n",
      "len_intersection (target: 1)  34037  5.697006  4.117441  0.0     5.0  58.0\n"
     ]
    },
    {
     "data": {
      "image/png": "[encoded data removed]",
      "text/plain": [
       "<matplotlib.figure.Figure at 0x1a32694bdd8>"
      ]
     },
     "metadata": {},
     "output_type": "display_data"
    },
    {
     "name": "stdout",
     "output_type": "stream",
     "text": [
      "Histogram for len_intersection\n",
      "                         count      mean       std  min  median   max\n",
      "len_intersection (test)  74294  5.780171  3.354889  0.0     5.0  62.0\n"
     ]
    },
    {
     "data": {
      "image/png": "[encoded data removed]",
      "text/plain": [
       "<matplotlib.figure.Figure at 0x1a32d538908>"
      ]
     },
     "metadata": {},
     "output_type": "display_data"
    }
   ],
   "source": [
    "col_id = 2\n",
    "PlotHistByTarget(train_ds[columns[col_id]], columns[col_id], 0, 16, train_ds, 'train')\n",
    "PlotHistByTarget(test_ds[columns[col_id]], columns[col_id], 0, 16, test_ds, 'test')"
   ]
  },
  {
   "cell_type": "code",
   "execution_count": 110,
   "metadata": {},
   "outputs": [
    {
     "name": "stdout",
     "output_type": "stream",
     "text": [
      "Histogram for cos_dist\n",
      "                      count      mean       std       min    median  max\n",
      "cos_dist (target: 0)  85361  0.959705  0.070927  0.311293  0.987498  1.0\n",
      "cos_dist (target: 1)  34037  0.653140  0.143093  0.008142  0.658757  1.0\n"
     ]
    },
    {
     "data": {
      "image/png": "[encoded data removed]",
      "text/plain": [
       "<matplotlib.figure.Figure at 0x1a328b28ef0>"
      ]
     },
     "metadata": {},
     "output_type": "display_data"
    },
    {
     "name": "stdout",
     "output_type": "stream",
     "text": [
      "Histogram for cos_dist\n",
      "                 count      mean       std      min    median  max\n",
      "cos_dist (test)  74294  0.801063  0.145037  0.00975  0.830698  1.0\n"
     ]
    },
    {
     "data": {
      "image/png": "[encoded data removed]",
      "text/plain": [
       "<matplotlib.figure.Figure at 0x1a32d54d390>"
      ]
     },
     "metadata": {},
     "output_type": "display_data"
    }
   ],
   "source": [
    "col_id = 3\n",
    "PlotHistByTarget(train_ds[columns[col_id]], columns[col_id], 0, 1, train_ds, 'train')\n",
    "PlotHistByTarget(test_ds[columns[col_id]], columns[col_id], 0, 1, test_ds, 'test')"
   ]
  },
  {
   "cell_type": "code",
   "execution_count": 112,
   "metadata": {},
   "outputs": [
    {
     "name": "stdout",
     "output_type": "stream",
     "text": [
      "Histogram for min_ratio\n",
      "                       count      mean       std  min   median      max\n",
      "min_ratio (target: 0)  85361  0.157075  0.058358  0.0  0.16260  0.41570\n",
      "min_ratio (target: 1)  34037  0.175395  0.062424  0.0  0.17255  0.94105\n"
     ]
    },
    {
     "data": {
      "image/png": "[encoded data removed]",
      "text/plain": [
       "<matplotlib.figure.Figure at 0x1a32e41b7b8>"
      ]
     },
     "metadata": {},
     "output_type": "display_data"
    },
    {
     "name": "stdout",
     "output_type": "stream",
     "text": [
      "Histogram for min_ratio\n",
      "                  count      mean       std  min   median      max\n",
      "min_ratio (test)  74294  0.166233  0.071737  0.0  0.17167  0.93151\n"
     ]
    },
    {
     "data": {
      "image/png": "[encoded data removed]",
      "text/plain": [
       "<matplotlib.figure.Figure at 0x1a32da342e8>"
      ]
     },
     "metadata": {},
     "output_type": "display_data"
    }
   ],
   "source": [
    "col_id = 4\n",
    "PlotHistByTarget(train_ds[columns[col_id]], columns[col_id], 0, 1, train_ds, 'train')\n",
    "PlotHistByTarget(test_ds[columns[col_id]], columns[col_id], 0, 1, test_ds, 'test')"
   ]
  },
  {
   "cell_type": "code",
   "execution_count": 113,
   "metadata": {},
   "outputs": [
    {
     "name": "stdout",
     "output_type": "stream",
     "text": [
      "Histogram for max_ratio\n",
      "                       count      mean       std      min   median      max\n",
      "max_ratio (target: 0)  85361  0.298720  0.080067  0.00504  0.30721  0.86179\n",
      "max_ratio (target: 1)  34037  0.450915  0.176000  0.01783  0.41212  1.00000\n"
     ]
    },
    {
     "data": {
      "image/png": "[encoded data removed]",
      "text/plain": [
       "<matplotlib.figure.Figure at 0x1a326cde780>"
      ]
     },
     "metadata": {},
     "output_type": "display_data"
    },
    {
     "name": "stdout",
     "output_type": "stream",
     "text": [
      "Histogram for max_ratio\n",
      "                  count      mean       std  min   median  max\n",
      "max_ratio (test)  74294  0.367546  0.136749  0.0  0.35573  1.0\n"
     ]
    },
    {
     "data": {
      "image/png": "[encoded data removed]",
      "text/plain": [
       "<matplotlib.figure.Figure at 0x1a3273eb358>"
      ]
     },
     "metadata": {},
     "output_type": "display_data"
    }
   ],
   "source": [
    "col_id = 5\n",
    "PlotHistByTarget(train_ds[columns[col_id]], columns[col_id], 0, 1, train_ds, 'train')\n",
    "PlotHistByTarget(test_ds[columns[col_id]], columns[col_id], 0, 1, test_ds, 'test')"
   ]
  },
  {
   "cell_type": "code",
   "execution_count": 116,
   "metadata": {},
   "outputs": [
    {
     "name": "stdout",
     "output_type": "stream",
     "text": [
      "Histogram for std_ratio\n",
      "                       count      mean       std  min    median       max\n",
      "std_ratio (target: 0)  85361  0.050828  0.023191  0.0  0.049956  0.243812\n",
      "std_ratio (target: 1)  34037  0.099792  0.061595  0.0  0.085994  0.457915\n"
     ]
    },
    {
     "data": {
      "image/png": "[encoded data removed]",
      "text/plain": [
       "<matplotlib.figure.Figure at 0x1a3271974a8>"
      ]
     },
     "metadata": {},
     "output_type": "display_data"
    },
    {
     "name": "stdout",
     "output_type": "stream",
     "text": [
      "Histogram for std_ratio\n",
      "                  count      mean       std  min    median       max\n",
      "std_ratio (test)  74294  0.070992  0.042411  0.0  0.063735  0.420997\n"
     ]
    },
    {
     "data": {
      "image/png": "[encoded data removed]",
      "text/plain": [
       "<matplotlib.figure.Figure at 0x1a327181438>"
      ]
     },
     "metadata": {},
     "output_type": "display_data"
    }
   ],
   "source": [
    "col_id = 6\n",
    "PlotHistByTarget(train_ds[columns[col_id]], columns[col_id], 0, 0.3, train_ds, 'train')\n",
    "PlotHistByTarget(test_ds[columns[col_id]], columns[col_id], 0, 0.3, test_ds, 'test')"
   ]
  },
  {
   "cell_type": "code",
   "execution_count": 119,
   "metadata": {},
   "outputs": [
    {
     "name": "stdout",
     "output_type": "stream",
     "text": [
      "Histogram for mean_ratio\n",
      "                        count      mean       std       min    median  \\\n",
      "mean_ratio (target: 0)  85361  0.228086  0.059320  0.002520  0.237122   \n",
      "mean_ratio (target: 1)  34037  0.285797  0.072611  0.011533  0.282256   \n",
      "\n",
      "                             max  \n",
      "mean_ratio (target: 0)  0.476253  \n",
      "mean_ratio (target: 1)  0.941050  \n"
     ]
    },
    {
     "data": {
      "image/png": "[encoded data removed]",
      "text/plain": [
       "<matplotlib.figure.Figure at 0x1a3271d74e0>"
      ]
     },
     "metadata": {},
     "output_type": "display_data"
    },
    {
     "name": "stdout",
     "output_type": "stream",
     "text": [
      "Histogram for mean_ratio\n",
      "                   count      mean      std  min    median      max\n",
      "mean_ratio (test)  74294  0.255084  0.08056  0.0  0.263097  0.93151\n"
     ]
    },
    {
     "data": {
      "image/png": "[encoded data removed]",
      "text/plain": [
       "<matplotlib.figure.Figure at 0x1a327132828>"
      ]
     },
     "metadata": {},
     "output_type": "display_data"
    }
   ],
   "source": [
    "col_id = 7\n",
    "PlotHistByTarget(train_ds[columns[col_id]], columns[col_id], 0, 0.6, train_ds, 'train')\n",
    "PlotHistByTarget(test_ds[columns[col_id]], columns[col_id], 0, 0.6, test_ds, 'test')"
   ]
  },
  {
   "cell_type": "code",
   "execution_count": 122,
   "metadata": {},
   "outputs": [
    {
     "name": "stdout",
     "output_type": "stream",
     "text": [
      "Histogram for num_sentences\n",
      "                           count      mean       std  min  median   max\n",
      "num_sentences (target: 0)  85361  5.335868  2.137287  1.0     5.0  27.0\n",
      "num_sentences (target: 1)  34037  5.102065  2.250451  1.0     5.0  42.0\n"
     ]
    },
    {
     "data": {
      "image/png": "[encoded data removed]",
      "text/plain": [
       "<matplotlib.figure.Figure at 0x1a326972b00>"
      ]
     },
     "metadata": {},
     "output_type": "display_data"
    },
    {
     "name": "stdout",
     "output_type": "stream",
     "text": [
      "Histogram for num_sentences\n",
      "                      count      mean       std  min  median   max\n",
      "num_sentences (test)  74294  5.887945  2.976406  1.0     5.0  22.0\n"
     ]
    },
    {
     "data": {
      "image/png": "[encoded data removed]",
      "text/plain": [
       "<matplotlib.figure.Figure at 0x1a326ab3eb8>"
      ]
     },
     "metadata": {},
     "output_type": "display_data"
    }
   ],
   "source": [
    "col_id = 8\n",
    "PlotHistByTarget(train_ds[columns[col_id]], columns[col_id], 0, 20, train_ds, 'train')\n",
    "PlotHistByTarget(test_ds[columns[col_id]], columns[col_id], 0, 20, test_ds, 'test')"
   ]
  },
  {
   "cell_type": "code",
   "execution_count": 125,
   "metadata": {},
   "outputs": [
    {
     "name": "stdout",
     "output_type": "stream",
     "text": [
      "Histogram for min_inter\n",
      "                       count      mean       std  min  median   max\n",
      "min_inter (target: 0)  85361  0.441466  0.654282  0.0     0.0   9.0\n",
      "min_inter (target: 1)  34037  0.549872  1.145272  0.0     0.0  41.0\n"
     ]
    },
    {
     "data": {
      "image/png": "[encoded data removed]",
      "text/plain": [
       "<matplotlib.figure.Figure at 0x1a3272fbc50>"
      ]
     },
     "metadata": {},
     "output_type": "display_data"
    },
    {
     "name": "stdout",
     "output_type": "stream",
     "text": [
      "Histogram for min_inter\n",
      "                  count      mean       std  min  median   max\n",
      "min_inter (test)  74294  0.559776  1.045007  0.0     0.0  51.0\n"
     ]
    },
    {
     "data": {
      "image/png": "[encoded data removed]",
      "text/plain": [
       "<matplotlib.figure.Figure at 0x1a326c3c668>"
      ]
     },
     "metadata": {},
     "output_type": "display_data"
    }
   ],
   "source": [
    "col_id = 9\n",
    "PlotHistByTarget(train_ds[columns[col_id]], columns[col_id], 0, 7, train_ds, 'train')\n",
    "PlotHistByTarget(test_ds[columns[col_id]], columns[col_id], 0, 7, test_ds, 'test')"
   ]
  },
  {
   "cell_type": "code",
   "execution_count": 127,
   "metadata": {},
   "outputs": [
    {
     "name": "stdout",
     "output_type": "stream",
     "text": [
      "Histogram for max_inter\n",
      "                       count      mean       std  min  median   max\n",
      "max_inter (target: 0)  85361  2.684059  0.960767  0.0     3.0  15.0\n",
      "max_inter (target: 1)  34037  5.532803  3.723178  0.0     5.0  52.0\n"
     ]
    },
    {
     "data": {
      "image/png": "[encoded data removed]",
      "text/plain": [
       "<matplotlib.figure.Figure at 0x1a326c07a20>"
      ]
     },
     "metadata": {},
     "output_type": "display_data"
    },
    {
     "name": "stdout",
     "output_type": "stream",
     "text": [
      "Histogram for max_inter\n",
      "                  count     mean       std  min  median   max\n",
      "max_inter (test)  74294  4.33424  2.537118  0.0     4.0  51.0\n"
     ]
    },
    {
     "data": {
      "image/png": "[encoded data removed]",
      "text/plain": [
       "<matplotlib.figure.Figure at 0x1a328b2a630>"
      ]
     },
     "metadata": {},
     "output_type": "display_data"
    }
   ],
   "source": [
    "col_id = 10\n",
    "PlotHistByTarget(train_ds[columns[col_id]], columns[col_id], 0, 20, train_ds, 'train')\n",
    "PlotHistByTarget(test_ds[columns[col_id]], columns[col_id], 0, 20, test_ds, 'test')"
   ]
  },
  {
   "cell_type": "code",
   "execution_count": 130,
   "metadata": {},
   "outputs": [
    {
     "name": "stdout",
     "output_type": "stream",
     "text": [
      "Histogram for bigram_intersection\n",
      "                                 count      mean       std  min  median   max\n",
      "bigram_intersection (target: 0)  85361  0.053338  0.267938  0.0     0.0   7.0\n",
      "bigram_intersection (target: 1)  34037  2.386550  2.876911  0.0     2.0  39.0\n"
     ]
    },
    {
     "data": {
      "image/png": "[encoded data removed]",
      "text/plain": [
       "<matplotlib.figure.Figure at 0x1a3269c34e0>"
      ]
     },
     "metadata": {},
     "output_type": "display_data"
    },
    {
     "name": "stdout",
     "output_type": "stream",
     "text": [
      "Histogram for bigram_intersection\n",
      "                            count      mean       std  min  median   max\n",
      "bigram_intersection (test)  74294  1.624169  2.262589  0.0     1.0  49.0\n"
     ]
    },
    {
     "data": {
      "image/png": "[encoded data removed]",
      "text/plain": [
       "<matplotlib.figure.Figure at 0x1a32722aa90>"
      ]
     },
     "metadata": {},
     "output_type": "display_data"
    }
   ],
   "source": [
    "col_id = 11\n",
    "PlotHistByTarget(train_ds[columns[col_id]], columns[col_id], 0, 10, train_ds, 'train')\n",
    "PlotHistByTarget(test_ds[columns[col_id]], columns[col_id], 0, 10, test_ds, 'test')"
   ]
  },
  {
   "cell_type": "code",
   "execution_count": 133,
   "metadata": {},
   "outputs": [
    {
     "name": "stdout",
     "output_type": "stream",
     "text": [
      "Histogram for trigram_intersection\n",
      "                                  count      mean       std  min  median   max\n",
      "trigram_intersection (target: 0)  85361  0.005412  0.091297  0.0     0.0   4.0\n",
      "trigram_intersection (target: 1)  34037  1.437906  2.569217  0.0     0.0  36.0\n"
     ]
    },
    {
     "data": {
      "image/png": "[encoded data removed]",
      "text/plain": [
       "<matplotlib.figure.Figure at 0x1a326d8b6a0>"
      ]
     },
     "metadata": {},
     "output_type": "display_data"
    },
    {
     "name": "stdout",
     "output_type": "stream",
     "text": [
      "Histogram for trigram_intersection\n",
      "                             count      mean       std  min  median   max\n",
      "trigram_intersection (test)  74294  0.923883  1.750166  0.0     0.0  48.0\n"
     ]
    },
    {
     "data": {
      "image/png": "[encoded data removed]",
      "text/plain": [
       "<matplotlib.figure.Figure at 0x1a328b28898>"
      ]
     },
     "metadata": {},
     "output_type": "display_data"
    }
   ],
   "source": [
    "col_id = 12\n",
    "PlotHistByTarget(train_ds[columns[col_id]], columns[col_id], 0, 10, train_ds, 'train')\n",
    "PlotHistByTarget(test_ds[columns[col_id]], columns[col_id], 0, 10, test_ds, 'test')"
   ]
  },
  {
   "cell_type": "code",
   "execution_count": 135,
   "metadata": {},
   "outputs": [
    {
     "name": "stdout",
     "output_type": "stream",
     "text": [
      "Histogram for min_2g_inter\n",
      "                          count      mean       std  min  median   max\n",
      "min_2g_inter (target: 0)  85361  0.001617  0.045636  0.0     0.0   4.0\n",
      "min_2g_inter (target: 1)  34037  0.045304  0.510550  0.0     0.0  35.0\n"
     ]
    },
    {
     "data": {
      "image/png": "[encoded data removed]",
      "text/plain": [
       "<matplotlib.figure.Figure at 0x1a327178dd8>"
      ]
     },
     "metadata": {},
     "output_type": "display_data"
    },
    {
     "name": "stdout",
     "output_type": "stream",
     "text": [
      "Histogram for min_2g_inter\n",
      "                     count      mean       std  min  median   max\n",
      "min_2g_inter (test)  74294  0.032479  0.386716  0.0     0.0  49.0\n"
     ]
    },
    {
     "data": {
      "image/png": "[encoded data removed]",
      "text/plain": [
       "<matplotlib.figure.Figure at 0x1a326f96be0>"
      ]
     },
     "metadata": {},
     "output_type": "display_data"
    }
   ],
   "source": [
    "col_id = 13\n",
    "PlotHistByTarget(train_ds[columns[col_id]], columns[col_id], 0, 10, train_ds, 'train')\n",
    "PlotHistByTarget(test_ds[columns[col_id]], columns[col_id], 0, 10, test_ds, 'test')"
   ]
  },
  {
   "cell_type": "code",
   "execution_count": 138,
   "metadata": {},
   "outputs": [
    {
     "name": "stdout",
     "output_type": "stream",
     "text": [
      "Histogram for max_2g_inter\n",
      "                          count      mean       std  min  median   max\n",
      "max_2g_inter (target: 0)  85361  0.051675  0.257161  0.0     0.0   7.0\n",
      "max_2g_inter (target: 1)  34037  2.313806  2.816797  0.0     1.0  39.0\n"
     ]
    },
    {
     "data": {
      "image/png": "[encoded data removed]",
      "text/plain": [
       "<matplotlib.figure.Figure at 0x1a3397e29e8>"
      ]
     },
     "metadata": {},
     "output_type": "display_data"
    },
    {
     "name": "stdout",
     "output_type": "stream",
     "text": [
      "Histogram for max_2g_inter\n",
      "                     count      mean       std  min  median   max\n",
      "max_2g_inter (test)  74294  1.458112  2.020526  0.0     1.0  49.0\n"
     ]
    },
    {
     "data": {
      "image/png": "[encoded data removed]",
      "text/plain": [
       "<matplotlib.figure.Figure at 0x1a326f39a58>"
      ]
     },
     "metadata": {},
     "output_type": "display_data"
    }
   ],
   "source": [
    "col_id = 14\n",
    "PlotHistByTarget(train_ds[columns[col_id]], columns[col_id], 0, 15, train_ds, 'train')\n",
    "PlotHistByTarget(test_ds[columns[col_id]], columns[col_id], 0, 15, test_ds, 'test')"
   ]
  },
  {
   "cell_type": "code",
   "execution_count": 141,
   "metadata": {},
   "outputs": [
    {
     "name": "stdout",
     "output_type": "stream",
     "text": [
      "Histogram for std_2g_inter\n",
      "                          count      mean       std  min  median        max\n",
      "std_2g_inter (target: 0)  85361  0.020580  0.104968  0.0     0.0   3.031089\n",
      "std_2g_inter (target: 1)  34037  0.918621  1.148656  0.0     0.5  19.500000\n"
     ]
    },
    {
     "data": {
      "image/png": "[encoded data removed]",
      "text/plain": [
       "<matplotlib.figure.Figure at 0x1a326ae79e8>"
      ]
     },
     "metadata": {},
     "output_type": "display_data"
    },
    {
     "name": "stdout",
     "output_type": "stream",
     "text": [
      "Histogram for std_2g_inter\n",
      "                     count      mean       std  min    median        max\n",
      "std_2g_inter (test)  74294  0.573057  0.810835  0.0  0.330719  13.422369\n"
     ]
    },
    {
     "data": {
      "image/png": "[encoded data removed]",
      "text/plain": [
       "<matplotlib.figure.Figure at 0x1a339802550>"
      ]
     },
     "metadata": {},
     "output_type": "display_data"
    }
   ],
   "source": [
    "col_id = 15\n",
    "PlotHistByTarget(train_ds[columns[col_id]], columns[col_id], 0, 5, train_ds, 'train')\n",
    "PlotHistByTarget(test_ds[columns[col_id]], columns[col_id], 0, 5, test_ds, 'test')"
   ]
  },
  {
   "cell_type": "code",
   "execution_count": 144,
   "metadata": {},
   "outputs": [
    {
     "name": "stdout",
     "output_type": "stream",
     "text": [
      "Histogram for mean_2g_inter\n",
      "                           count      mean       std  min    median   max\n",
      "mean_2g_inter (target: 0)  85361  0.014987  0.092567  0.0  0.000000   4.0\n",
      "mean_2g_inter (target: 1)  34037  0.622929  0.948188  0.0  0.333333  35.0\n"
     ]
    },
    {
     "data": {
      "image/png": "[encoded data removed]",
      "text/plain": [
       "<matplotlib.figure.Figure at 0x1a32da47940>"
      ]
     },
     "metadata": {},
     "output_type": "display_data"
    },
    {
     "name": "stdout",
     "output_type": "stream",
     "text": [
      "Histogram for mean_2g_inter\n",
      "                      count      mean       std  min    median   max\n",
      "mean_2g_inter (test)  74294  0.405731  0.710081  0.0  0.142857  49.0\n"
     ]
    },
    {
     "data": {
      "image/png": "[encoded data removed]",
      "text/plain": [
       "<matplotlib.figure.Figure at 0x1a3277bfc18>"
      ]
     },
     "metadata": {},
     "output_type": "display_data"
    }
   ],
   "source": [
    "col_id = 16\n",
    "PlotHistByTarget(train_ds[columns[col_id]], columns[col_id], 0, 5, train_ds, 'train')\n",
    "PlotHistByTarget(test_ds[columns[col_id]], columns[col_id], 0, 5, test_ds, 'test')"
   ]
  },
  {
   "cell_type": "code",
   "execution_count": 147,
   "metadata": {},
   "outputs": [
    {
     "name": "stdout",
     "output_type": "stream",
     "text": [
      "Histogram for min_3g_inter\n",
      "                          count      mean       std  min  median   max\n",
      "min_3g_inter (target: 0)  85361  0.000141  0.012806  0.0     0.0   2.0\n",
      "min_3g_inter (target: 1)  34037  0.018480  0.395771  0.0     0.0  34.0\n"
     ]
    },
    {
     "data": {
      "image/png": "[encoded data removed]",
      "text/plain": [
       "<matplotlib.figure.Figure at 0x1a327068cf8>"
      ]
     },
     "metadata": {},
     "output_type": "display_data"
    },
    {
     "name": "stdout",
     "output_type": "stream",
     "text": [
      "Histogram for min_3g_inter\n",
      "                     count      mean       std  min  median   max\n",
      "min_3g_inter (test)  74294  0.012827  0.287872  0.0     0.0  48.0\n"
     ]
    },
    {
     "data": {
      "image/png": "[encoded data removed]",
      "text/plain": [
       "<matplotlib.figure.Figure at 0x1a326b93780>"
      ]
     },
     "metadata": {},
     "output_type": "display_data"
    }
   ],
   "source": [
    "col_id = 17\n",
    "PlotHistByTarget(train_ds[columns[col_id]], columns[col_id], 0, 10, train_ds, 'train')\n",
    "PlotHistByTarget(test_ds[columns[col_id]], columns[col_id], 0, 10, test_ds, 'test')"
   ]
  },
  {
   "cell_type": "code",
   "execution_count": 150,
   "metadata": {},
   "outputs": [
    {
     "name": "stdout",
     "output_type": "stream",
     "text": [
      "Histogram for max_3g_inter\n",
      "                          count      mean       std  min  median   max\n",
      "max_3g_inter (target: 0)  85361  0.005319  0.089488  0.0     0.0   4.0\n",
      "max_3g_inter (target: 1)  34037  1.419220  2.535555  0.0     0.0  36.0\n"
     ]
    },
    {
     "data": {
      "image/png": "[encoded data removed]",
      "text/plain": [
       "<matplotlib.figure.Figure at 0x1a33d52e588>"
      ]
     },
     "metadata": {},
     "output_type": "display_data"
    },
    {
     "name": "stdout",
     "output_type": "stream",
     "text": [
      "Histogram for max_3g_inter\n",
      "                     count     mean       std  min  median   max\n",
      "max_3g_inter (test)  74294  0.87077  1.650542  0.0     0.0  48.0\n"
     ]
    },
    {
     "data": {
      "image/png": "[encoded data removed]",
      "text/plain": [
       "<matplotlib.figure.Figure at 0x1a327193d30>"
      ]
     },
     "metadata": {},
     "output_type": "display_data"
    }
   ],
   "source": [
    "col_id = 18\n",
    "PlotHistByTarget(train_ds[columns[col_id]], columns[col_id], 0, 10, train_ds, 'train')\n",
    "PlotHistByTarget(test_ds[columns[col_id]], columns[col_id], 0, 10, test_ds, 'test')"
   ]
  },
  {
   "cell_type": "code",
   "execution_count": 153,
   "metadata": {},
   "outputs": [
    {
     "name": "stdout",
     "output_type": "stream",
     "text": [
      "Histogram for std_3g_inter\n",
      "                          count      mean       std  min  median        max\n",
      "std_3g_inter (target: 0)  85361  0.002193  0.038004  0.0     0.0   1.885618\n",
      "std_3g_inter (target: 1)  34037  0.570850  1.044025  0.0     0.0  18.000000\n"
     ]
    },
    {
     "data": {
      "image/png": "[encoded data removed]",
      "text/plain": [
       "<matplotlib.figure.Figure at 0x1a326a24b70>"
      ]
     },
     "metadata": {},
     "output_type": "display_data"
    },
    {
     "name": "stdout",
     "output_type": "stream",
     "text": [
      "Histogram for std_3g_inter\n",
      "                     count      mean       std  min  median        max\n",
      "std_3g_inter (test)  74294  0.346992  0.669372  0.0     0.0  12.754084\n"
     ]
    },
    {
     "data": {
      "image/png": "[encoded data removed]",
      "text/plain": [
       "<matplotlib.figure.Figure at 0x1a336a13ef0>"
      ]
     },
     "metadata": {},
     "output_type": "display_data"
    }
   ],
   "source": [
    "col_id = 19\n",
    "PlotHistByTarget(train_ds[columns[col_id]], columns[col_id], 0, 5, train_ds, 'train')\n",
    "PlotHistByTarget(test_ds[columns[col_id]], columns[col_id], 0, 5, test_ds, 'test')"
   ]
  },
  {
   "cell_type": "code",
   "execution_count": 156,
   "metadata": {},
   "outputs": [
    {
     "name": "stdout",
     "output_type": "stream",
     "text": [
      "Histogram for mean_3g_inter\n",
      "                           count      mean       std  min  median        max\n",
      "mean_3g_inter (target: 0)  85361  0.001617  0.031626  0.0     0.0   2.333333\n",
      "mean_3g_inter (target: 1)  34037  0.352588  0.787968  0.0     0.0  34.000000\n"
     ]
    },
    {
     "data": {
      "image/png": "[encoded data removed]",
      "text/plain": [
       "<matplotlib.figure.Figure at 0x1a3371974a8>"
      ]
     },
     "metadata": {},
     "output_type": "display_data"
    },
    {
     "name": "stdout",
     "output_type": "stream",
     "text": [
      "Histogram for mean_3g_inter\n",
      "                      count      mean       std  min  median   max\n",
      "mean_3g_inter (test)  74294  0.221854  0.528906  0.0     0.0  48.0\n"
     ]
    },
    {
     "data": {
      "image/png": "[encoded data removed]",
      "text/plain": [
       "<matplotlib.figure.Figure at 0x1a32734ed30>"
      ]
     },
     "metadata": {},
     "output_type": "display_data"
    }
   ],
   "source": [
    "col_id = 20\n",
    "PlotHistByTarget(train_ds[columns[col_id]], columns[col_id], 0, 5, train_ds, 'train')\n",
    "PlotHistByTarget(test_ds[columns[col_id]], columns[col_id], 0, 5, test_ds, 'test')"
   ]
  },
  {
   "cell_type": "code",
   "execution_count": 161,
   "metadata": {},
   "outputs": [
    {
     "name": "stdout",
     "output_type": "stream",
     "text": [
      "Histogram for unq_qwords_rate\n",
      "                             count      mean       std  min  median  max\n",
      "unq_qwords_rate (target: 0)  85361  0.965489  0.048885  0.5     1.0  1.0\n",
      "unq_qwords_rate (target: 1)  34037  0.990643  0.030773  0.5     1.0  1.0\n"
     ]
    },
    {
     "data": {
      "image/png": "[encoded data removed]",
      "text/plain": [
       "<matplotlib.figure.Figure at 0x1a3271b9710>"
      ]
     },
     "metadata": {},
     "output_type": "display_data"
    },
    {
     "name": "stdout",
     "output_type": "stream",
     "text": [
      "Histogram for unq_qwords_rate\n",
      "                        count      mean       std       min  median  max\n",
      "unq_qwords_rate (test)  74294  0.930065  0.144404  0.026316     1.0  1.0\n"
     ]
    },
    {
     "data": {
      "image/png": "[encoded data removed]",
      "text/plain": [
       "<matplotlib.figure.Figure at 0x1a326f92f98>"
      ]
     },
     "metadata": {},
     "output_type": "display_data"
    }
   ],
   "source": [
    "col_id = 21\n",
    "PlotHistByTarget(train_ds[columns[col_id]], columns[col_id], 0.7, 1, train_ds, 'train')\n",
    "PlotHistByTarget(test_ds[columns[col_id]], columns[col_id], 0.7, 1, test_ds, 'test')"
   ]
  },
  {
   "cell_type": "code",
   "execution_count": 163,
   "metadata": {},
   "outputs": [
    {
     "name": "stdout",
     "output_type": "stream",
     "text": [
      "Histogram for len_percent\n",
      "                         count       mean        std  min   median       max\n",
      "len_percent (target: 0)  85361  16.326694  10.463707  0.0  13.9130  176.9231\n",
      "len_percent (target: 1)  34037   3.850301   3.263605  0.0   3.1746   90.0000\n"
     ]
    },
    {
     "data": {
      "image/png": "[encoded data removed]",
      "text/plain": [
       "<matplotlib.figure.Figure at 0x1a32718f5c0>"
      ]
     },
     "metadata": {},
     "output_type": "display_data"
    },
    {
     "name": "stdout",
     "output_type": "stream",
     "text": [
      "Histogram for len_percent\n",
      "                    count       mean       std  min  median       max\n",
      "len_percent (test)  74294  10.196423  8.218976  0.0  8.2192  227.7778\n"
     ]
    },
    {
     "data": {
      "image/png": "[encoded data removed]",
      "text/plain": [
       "<matplotlib.figure.Figure at 0x1a326f026d8>"
      ]
     },
     "metadata": {},
     "output_type": "display_data"
    }
   ],
   "source": [
    "col_id = 22\n",
    "PlotHistByTarget(train_ds[columns[col_id]], columns[col_id], 0, 80, train_ds, 'train')\n",
    "PlotHistByTarget(test_ds[columns[col_id]], columns[col_id], 0, 80, test_ds, 'test')"
   ]
  },
  {
   "cell_type": "code",
   "execution_count": 165,
   "metadata": {},
   "outputs": [
    {
     "name": "stdout",
     "output_type": "stream",
     "text": [
      "Histogram for min_len_percent\n",
      "                             count       mean        std  min   median  \\\n",
      "min_len_percent (target: 0)  85361  47.260399  29.112093  0.0  40.4762   \n",
      "min_len_percent (target: 1)  34037  15.087622  10.098083  0.0  12.9032   \n",
      "\n",
      "                                  max  \n",
      "min_len_percent (target: 0)  428.5714  \n",
      "min_len_percent (target: 1)  140.0000  \n"
     ]
    },
    {
     "data": {
      "image/png": "[encoded data removed]",
      "text/plain": [
       "<matplotlib.figure.Figure at 0x1a327019400>"
      ]
     },
     "metadata": {},
     "output_type": "display_data"
    },
    {
     "name": "stdout",
     "output_type": "stream",
     "text": [
      "Histogram for min_len_percent\n",
      "                        count       mean        std  min   median     max\n",
      "min_len_percent (test)  74294  37.015169  24.840138  0.0  31.8182  293.75\n"
     ]
    },
    {
     "data": {
      "image/png": "[encoded data removed]",
      "text/plain": [
       "<matplotlib.figure.Figure at 0x1a3271cc630>"
      ]
     },
     "metadata": {},
     "output_type": "display_data"
    }
   ],
   "source": [
    "col_id = 23\n",
    "PlotHistByTarget(train_ds[columns[col_id]], columns[col_id], 0, 200, train_ds, 'train')\n",
    "PlotHistByTarget(test_ds[columns[col_id]], columns[col_id], 0, 200, test_ds, 'test')"
   ]
  },
  {
   "cell_type": "code",
   "execution_count": 167,
   "metadata": {},
   "outputs": [
    {
     "name": "stdout",
     "output_type": "stream",
     "text": [
      "Histogram for max_len_percent\n",
      "                             count        mean         std     min    median  \\\n",
      "max_len_percent (target: 0)  85361  247.115708  366.131412  3.8462  150.0000   \n",
      "max_len_percent (target: 1)  34037  102.737868  136.089642  0.0000   71.4286   \n",
      "\n",
      "                                max  \n",
      "max_len_percent (target: 0)  6100.0  \n",
      "max_len_percent (target: 1)  3300.0  \n"
     ]
    },
    {
     "data": {
      "image/png": "[encoded data removed]",
      "text/plain": [
       "<matplotlib.figure.Figure at 0x1a326ae7198>"
      ]
     },
     "metadata": {},
     "output_type": "display_data"
    },
    {
     "name": "stdout",
     "output_type": "stream",
     "text": [
      "Histogram for max_len_percent\n",
      "                        count     mean         std  min    median     max\n",
      "max_len_percent (test)  74294  160.604  183.123625  0.0  116.6667  5000.0\n"
     ]
    },
    {
     "data": {
      "image/png": "[encoded data removed]",
      "text/plain": [
       "<matplotlib.figure.Figure at 0x1a327140278>"
      ]
     },
     "metadata": {},
     "output_type": "display_data"
    }
   ],
   "source": [
    "col_id = 24\n",
    "PlotHistByTarget(train_ds[columns[col_id]], columns[col_id], 0, 2000, train_ds, 'train')\n",
    "PlotHistByTarget(test_ds[columns[col_id]], columns[col_id], 0, 2000, test_ds, 'test')"
   ]
  },
  {
   "cell_type": "code",
   "execution_count": 171,
   "metadata": {},
   "outputs": [
    {
     "name": "stdout",
     "output_type": "stream",
     "text": [
      "Histogram for std_len_percent\n",
      "                             count       mean         std  min     median  \\\n",
      "std_len_percent (target: 0)  85361  78.530417  159.428767  0.0  36.653287   \n",
      "std_len_percent (target: 1)  34037  31.418710   48.752720  0.0  20.368987   \n",
      "\n",
      "                                     max  \n",
      "std_len_percent (target: 0)  3004.838700  \n",
      "std_len_percent (target: 1)  1118.404856  \n"
     ]
    },
    {
     "data": {
      "image/png": "[encoded data removed]",
      "text/plain": [
       "<matplotlib.figure.Figure at 0x1a326bbe6a0>"
      ]
     },
     "metadata": {},
     "output_type": "display_data"
    },
    {
     "name": "stdout",
     "output_type": "stream",
     "text": [
      "Histogram for std_len_percent\n",
      "                        count       mean        std  min     median  \\\n",
      "std_len_percent (test)  74294  43.328603  61.713195  0.0  29.193015   \n",
      "\n",
      "                                max  \n",
      "std_len_percent (test)  1815.868858  \n"
     ]
    },
    {
     "data": {
      "image/png": "[encoded data removed]",
      "text/plain": [
       "<matplotlib.figure.Figure at 0x1a32ce9a0b8>"
      ]
     },
     "metadata": {},
     "output_type": "display_data"
    }
   ],
   "source": [
    "col_id = 25\n",
    "PlotHistByTarget(train_ds[columns[col_id]], columns[col_id], 0, 200, train_ds, 'train')\n",
    "PlotHistByTarget(test_ds[columns[col_id]], columns[col_id], 0, 200, test_ds, 'test')"
   ]
  },
  {
   "cell_type": "code",
   "execution_count": 175,
   "metadata": {},
   "outputs": [
    {
     "name": "stdout",
     "output_type": "stream",
     "text": [
      "Histogram for mean_len_percent\n",
      "                              count        mean         std     min  \\\n",
      "mean_len_percent (target: 0)  85361  121.765927  133.662222  3.8462   \n",
      "mean_len_percent (target: 1)  34037   49.466171   40.821304  0.0000   \n",
      "\n",
      "                                 median        max  \n",
      "mean_len_percent (target: 0)  87.858200  3095.1613  \n",
      "mean_len_percent (target: 1)  40.775329  1283.6250  \n"
     ]
    },
    {
     "data": {
      "image/png": "[encoded data removed]",
      "text/plain": [
       "<matplotlib.figure.Figure at 0x1a336a31a58>"
      ]
     },
     "metadata": {},
     "output_type": "display_data"
    },
    {
     "name": "stdout",
     "output_type": "stream",
     "text": [
      "Histogram for mean_len_percent\n",
      "                         count       mean        std  min    median  \\\n",
      "mean_len_percent (test)  74294  82.744571  58.048243  0.0  69.24038   \n",
      "\n",
      "                                max  \n",
      "mean_len_percent (test)  1396.71945  \n"
     ]
    },
    {
     "data": {
      "image/png": "[encoded data removed]",
      "text/plain": [
       "<matplotlib.figure.Figure at 0x1a32722bf60>"
      ]
     },
     "metadata": {},
     "output_type": "display_data"
    }
   ],
   "source": [
    "col_id = 26\n",
    "PlotHistByTarget(train_ds[columns[col_id]], columns[col_id], 0, 500, train_ds, 'train')\n",
    "PlotHistByTarget(test_ds[columns[col_id]], columns[col_id], 0, 500, test_ds, 'test')"
   ]
  },
  {
   "cell_type": "code",
   "execution_count": 95,
   "metadata": {},
   "outputs": [
    {
     "name": "stdout",
     "output_type": "stream",
     "text": [
      "Histogram for similar_perc_leven_thr_15\n",
      "                                       count      mean       std  min  median  \\\n",
      "similar_perc_leven_thr_15 (target: 0)  85361  0.797228  0.122987  0.0  0.8333   \n",
      "similar_perc_leven_thr_15 (target: 1)  34037  0.833573  0.136124  0.0  0.8333   \n",
      "\n",
      "                                       max  \n",
      "similar_perc_leven_thr_15 (target: 0)  1.0  \n",
      "similar_perc_leven_thr_15 (target: 1)  1.0  \n"
     ]
    },
    {
     "data": {
      "image/png": "[encoded data removed]",
      "text/plain": [
       "<matplotlib.figure.Figure at 0x1a3270d7c18>"
      ]
     },
     "metadata": {},
     "output_type": "display_data"
    },
    {
     "name": "stdout",
     "output_type": "stream",
     "text": [
      "Histogram for similar_perc_leven_thr_15\n",
      "                                  count      mean       std  min  median  max\n",
      "similar_perc_leven_thr_15 (test)  74294  0.833801  0.112186  0.0  0.8571  1.0\n"
     ]
    },
    {
     "data": {
      "image/png": "[encoded data removed]",
      "text/plain": [
       "<matplotlib.figure.Figure at 0x1a326acec88>"
      ]
     },
     "metadata": {},
     "output_type": "display_data"
    }
   ],
   "source": [
    "col_id = 27\n",
    "PlotHistByTarget(train_ds[columns[col_id]], columns[col_id], 0, 1, train_ds, 'train')\n",
    "PlotHistByTarget(test_ds[columns[col_id]], columns[col_id], 0, 1, test_ds, 'test')"
   ]
  },
  {
   "cell_type": "code",
   "execution_count": 96,
   "metadata": {},
   "outputs": [
    {
     "name": "stdout",
     "output_type": "stream",
     "text": [
      "Histogram for similar_perc_leven_thr_30\n",
      "                                       count      mean       std  min  median  \\\n",
      "similar_perc_leven_thr_30 (target: 0)  85361  0.655175  0.192232  0.0  0.6667   \n",
      "similar_perc_leven_thr_30 (target: 1)  34037  0.817305  0.153532  0.0  0.8333   \n",
      "\n",
      "                                       max  \n",
      "similar_perc_leven_thr_30 (target: 0)  1.0  \n",
      "similar_perc_leven_thr_30 (target: 1)  1.0  \n"
     ]
    },
    {
     "data": {
      "image/png": "[encoded data removed]",
      "text/plain": [
       "<matplotlib.figure.Figure at 0x1a3274227f0>"
      ]
     },
     "metadata": {},
     "output_type": "display_data"
    },
    {
     "name": "stdout",
     "output_type": "stream",
     "text": [
      "Histogram for similar_perc_leven_thr_30\n",
      "                                  count      mean       std  min  median  max\n",
      "similar_perc_leven_thr_30 (test)  74294  0.747644  0.166261  0.0  0.7778  1.0\n"
     ]
    },
    {
     "data": {
      "image/png": "[encoded data removed]",
      "text/plain": [
       "<matplotlib.figure.Figure at 0x1a335d41c50>"
      ]
     },
     "metadata": {},
     "output_type": "display_data"
    }
   ],
   "source": [
    "col_id = 28\n",
    "PlotHistByTarget(train_ds[columns[col_id]], columns[col_id], 0, 1, train_ds, 'train')\n",
    "PlotHistByTarget(test_ds[columns[col_id]], columns[col_id], 0, 1, test_ds, 'test')"
   ]
  },
  {
   "cell_type": "code",
   "execution_count": 97,
   "metadata": {},
   "outputs": [
    {
     "name": "stdout",
     "output_type": "stream",
     "text": [
      "Histogram for similar_perc_leven_thr_45\n",
      "                                       count      mean       std  min  median  \\\n",
      "similar_perc_leven_thr_45 (target: 0)  85361  0.455146  0.220162  0.0  0.4444   \n",
      "similar_perc_leven_thr_45 (target: 1)  34037  0.799881  0.171852  0.0  0.8182   \n",
      "\n",
      "                                       max  \n",
      "similar_perc_leven_thr_45 (target: 0)  1.0  \n",
      "similar_perc_leven_thr_45 (target: 1)  1.0  \n"
     ]
    },
    {
     "data": {
      "image/png": "[encoded data removed]",
      "text/plain": [
       "<matplotlib.figure.Figure at 0x1a326f34518>"
      ]
     },
     "metadata": {},
     "output_type": "display_data"
    },
    {
     "name": "stdout",
     "output_type": "stream",
     "text": [
      "Histogram for similar_perc_leven_thr_45\n",
      "                                  count      mean       std  min  median  max\n",
      "similar_perc_leven_thr_45 (test)  74294  0.641012  0.212507  0.0  0.6667  1.0\n"
     ]
    },
    {
     "data": {
      "image/png": "[encoded data removed]",
      "text/plain": [
       "<matplotlib.figure.Figure at 0x1a326d58c50>"
      ]
     },
     "metadata": {},
     "output_type": "display_data"
    }
   ],
   "source": [
    "col_id = 29\n",
    "PlotHistByTarget(train_ds[columns[col_id]], columns[col_id], 0, 1, train_ds, 'train')\n",
    "PlotHistByTarget(test_ds[columns[col_id]], columns[col_id], 0, 1, test_ds, 'test')"
   ]
  },
  {
   "cell_type": "code",
   "execution_count": 98,
   "metadata": {},
   "outputs": [
    {
     "name": "stdout",
     "output_type": "stream",
     "text": [
      "Histogram for similar_perc_leven_thr_60\n",
      "                                       count      mean       std  min  median  \\\n",
      "similar_perc_leven_thr_60 (target: 0)  85361  0.290902  0.202318  0.0    0.25   \n",
      "similar_perc_leven_thr_60 (target: 1)  34037  0.781688  0.189737  0.0    0.80   \n",
      "\n",
      "                                       max  \n",
      "similar_perc_leven_thr_60 (target: 0)  1.0  \n",
      "similar_perc_leven_thr_60 (target: 1)  1.0  \n"
     ]
    },
    {
     "data": {
      "image/png": "[encoded data removed]",
      "text/plain": [
       "<matplotlib.figure.Figure at 0x1a326d6fc18>"
      ]
     },
     "metadata": {},
     "output_type": "display_data"
    },
    {
     "name": "stdout",
     "output_type": "stream",
     "text": [
      "Histogram for similar_perc_leven_thr_60\n",
      "                                  count      mean       std  min  median  max\n",
      "similar_perc_leven_thr_60 (test)  74294  0.555752  0.244074  0.0  0.5556  1.0\n"
     ]
    },
    {
     "data": {
      "image/png": "[encoded data removed]",
      "text/plain": [
       "<matplotlib.figure.Figure at 0x1a3270bfdd8>"
      ]
     },
     "metadata": {},
     "output_type": "display_data"
    }
   ],
   "source": [
    "col_id = 30\n",
    "PlotHistByTarget(train_ds[columns[col_id]], columns[col_id], 0, 1, train_ds, 'train')\n",
    "PlotHistByTarget(test_ds[columns[col_id]], columns[col_id], 0, 1, test_ds, 'test')"
   ]
  },
  {
   "cell_type": "code",
   "execution_count": 99,
   "metadata": {},
   "outputs": [
    {
     "name": "stdout",
     "output_type": "stream",
     "text": [
      "Histogram for similar_perc_leven_thr_75\n",
      "                                       count      mean       std  min  median  \\\n",
      "similar_perc_leven_thr_75 (target: 0)  85361  0.166019  0.158009  0.0  0.1333   \n",
      "similar_perc_leven_thr_75 (target: 1)  34037  0.761394  0.208116  0.0  0.8000   \n",
      "\n",
      "                                       max  \n",
      "similar_perc_leven_thr_75 (target: 0)  1.0  \n",
      "similar_perc_leven_thr_75 (target: 1)  1.0  \n"
     ]
    },
    {
     "data": {
      "image/png": "[encoded data removed]",
      "text/plain": [
       "<matplotlib.figure.Figure at 0x1a326c055f8>"
      ]
     },
     "metadata": {},
     "output_type": "display_data"
    },
    {
     "name": "stdout",
     "output_type": "stream",
     "text": [
      "Histogram for similar_perc_leven_thr_75\n",
      "                                  count      mean       std  min  median  max\n",
      "similar_perc_leven_thr_75 (test)  74294  0.489135  0.267956  0.0  0.4762  1.0\n"
     ]
    },
    {
     "data": {
      "image/png": "[encoded data removed]",
      "text/plain": [
       "<matplotlib.figure.Figure at 0x1a32705d2b0>"
      ]
     },
     "metadata": {},
     "output_type": "display_data"
    }
   ],
   "source": [
    "col_id = 31\n",
    "PlotHistByTarget(train_ds[columns[col_id]], columns[col_id], 0, 1, train_ds, 'train')\n",
    "PlotHistByTarget(test_ds[columns[col_id]], columns[col_id], 0, 1, test_ds, 'test')"
   ]
  },
  {
   "cell_type": "code",
   "execution_count": 100,
   "metadata": {},
   "outputs": [
    {
     "name": "stdout",
     "output_type": "stream",
     "text": [
      "Histogram for similar_perc_leven_thr_90\n",
      "                                       count      mean       std  min  median  \\\n",
      "similar_perc_leven_thr_90 (target: 0)  85361  0.113637  0.135229  0.0   0.087   \n",
      "similar_perc_leven_thr_90 (target: 1)  34037  0.731999  0.232457  0.0   0.750   \n",
      "\n",
      "                                       max  \n",
      "similar_perc_leven_thr_90 (target: 0)  1.0  \n",
      "similar_perc_leven_thr_90 (target: 1)  1.0  \n"
     ]
    },
    {
     "data": {
      "image/png": "[encoded data removed]",
      "text/plain": [
       "<matplotlib.figure.Figure at 0x1a3269b1978>"
      ]
     },
     "metadata": {},
     "output_type": "display_data"
    },
    {
     "name": "stdout",
     "output_type": "stream",
     "text": [
      "Histogram for similar_perc_leven_thr_90\n",
      "                                  count      mean       std  min  median  max\n",
      "similar_perc_leven_thr_90 (test)  74294  0.449906  0.278336  0.0  0.4242  1.0\n"
     ]
    },
    {
     "data": {
      "image/png": "[encoded data removed]",
      "text/plain": [
       "<matplotlib.figure.Figure at 0x1a32d57f630>"
      ]
     },
     "metadata": {},
     "output_type": "display_data"
    }
   ],
   "source": [
    "col_id = 32\n",
    "PlotHistByTarget(train_ds[columns[col_id]], columns[col_id], 0, 1, train_ds, 'train')\n",
    "PlotHistByTarget(test_ds[columns[col_id]], columns[col_id], 0, 1, test_ds, 'test')"
   ]
  },
  {
   "cell_type": "code",
   "execution_count": 101,
   "metadata": {},
   "outputs": [
    {
     "name": "stdout",
     "output_type": "stream",
     "text": [
      "Histogram for similar_perc_leven_thr_100\n",
      "                                        count      mean       std  min  \\\n",
      "similar_perc_leven_thr_100 (target: 0)  85361  0.111231  0.134430  0.0   \n",
      "similar_perc_leven_thr_100 (target: 1)  34037  0.731573  0.232933  0.0   \n",
      "\n",
      "                                        median  max  \n",
      "similar_perc_leven_thr_100 (target: 0)  0.0833  1.0  \n",
      "similar_perc_leven_thr_100 (target: 1)  0.7500  1.0  \n"
     ]
    },
    {
     "data": {
      "image/png": "[encoded data removed]",
      "text/plain": [
       "<matplotlib.figure.Figure at 0x1a3271a8ac8>"
      ]
     },
     "metadata": {},
     "output_type": "display_data"
    },
    {
     "name": "stdout",
     "output_type": "stream",
     "text": [
      "Histogram for similar_perc_leven_thr_100\n",
      "                                   count      mean      std  min  median  max\n",
      "similar_perc_leven_thr_100 (test)  74294  0.448172  0.27924  0.0  0.4167  1.0\n"
     ]
    },
    {
     "data": {
      "image/png": "[encoded data removed]",
      "text/plain": [
       "<matplotlib.figure.Figure at 0x1a326f87080>"
      ]
     },
     "metadata": {},
     "output_type": "display_data"
    }
   ],
   "source": [
    "col_id = 33\n",
    "PlotHistByTarget(train_ds[columns[col_id]], columns[col_id], 0, 1, train_ds, 'train')\n",
    "PlotHistByTarget(test_ds[columns[col_id]], columns[col_id], 0, 1, test_ds, 'test')"
   ]
  },
  {
   "cell_type": "code",
   "execution_count": 180,
   "metadata": {},
   "outputs": [
    {
     "data": {
      "text/plain": [
       "9077"
      ]
     },
     "execution_count": 180,
     "metadata": {},
     "output_type": "execute_result"
    }
   ],
   "source": [
    "max(sorted(list(train_ds.paragraph_id)))"
   ]
  },
  {
   "cell_type": "code",
   "execution_count": 185,
   "metadata": {},
   "outputs": [
    {
     "data": {
      "text/plain": [
       "9078"
      ]
     },
     "execution_count": 185,
     "metadata": {},
     "output_type": "execute_result"
    }
   ],
   "source": [
    "len(set(list(train_ds.paragraph_id)))"
   ]
  },
  {
   "cell_type": "markdown",
   "metadata": {},
   "source": [
    "# Models"
   ]
  },
  {
   "cell_type": "code",
   "execution_count": 204,
   "metadata": {
    "collapsed": true
   },
   "outputs": [],
   "source": [
    "columns = ['len_paragraph', # 0\n",
    "           'len_question', # 1\n",
    "           'len_intersection', # 2 \n",
    "           'cos_dist', # 3\n",
    "           #'min_ratio', # 4\n",
    "           'max_ratio', # 5\n",
    "           'std_ratio', # 6\n",
    "           'mean_ratio', # 7 \n",
    "           #'num_sentences', # 8\n",
    "           #'min_inter', # 9\n",
    "           'max_inter', # 10\n",
    "           #'bigram_intersection', # 11\n",
    "           #'trigram_intersection', # 12\n",
    "           #'min_2g_inter', # 13\n",
    "           #'max_2g_inter', # 14\n",
    "           'std_2g_inter', # 15\n",
    "           'mean_2g_inter', # 16\n",
    "           #'min_3g_inter', # 17\n",
    "           #'max_3g_inter', # 18\n",
    "           #'std_3g_inter', # 19\n",
    "           #'mean_3g_inter', # 20\n",
    "           'unq_qwords_rate', # 21\n",
    "           'len_percent', # 22\n",
    "           #'min_len_percent', # 23 \n",
    "           'max_len_percent', # 24\n",
    "           'std_len_percent', # 25\n",
    "           'mean_len_percent', # 26\n",
    "           #'similar_perc_leven_thr_15', # 27\n",
    "           #'similar_perc_leven_thr_30', # 28\n",
    "           'similar_perc_leven_thr_45', # 29\n",
    "           'similar_perc_leven_thr_60', # 30\n",
    "           'similar_perc_leven_thr_75', # 31\n",
    "           'similar_perc_leven_thr_90', # 32\n",
    "           'similar_perc_leven_thr_100', # 33\n",
    "           #'min_leven_list', # 34\n",
    "           #'max_leven_list', # 35\n",
    "           'std_leven_list', # 36\n",
    "           'mean_leven_list'] # 37"
   ]
  },
  {
   "cell_type": "markdown",
   "metadata": {
    "collapsed": true
   },
   "source": [
    "### Part 1"
   ]
  },
  {
   "cell_type": "code",
   "execution_count": null,
   "metadata": {
    "collapsed": true
   },
   "outputs": [],
   "source": [
    "from sklearn.model_selection import train_test_split"
   ]
  },
  {
   "cell_type": "code",
   "execution_count": 223,
   "metadata": {},
   "outputs": [
    {
     "name": "stdout",
     "output_type": "stream",
     "text": [
      "[0]\ttrain-auc:0.993885\n",
      "Will train until train-auc hasn't improved in 100 rounds.\n",
      "[100]\ttrain-auc:0.996932\n",
      "[200]\ttrain-auc:0.997767\n",
      "[300]\ttrain-auc:0.99826\n",
      "[400]\ttrain-auc:0.998685\n",
      "[500]\ttrain-auc:0.998973\n",
      "[600]\ttrain-auc:0.999201\n",
      "[700]\ttrain-auc:0.999366\n",
      "[800]\ttrain-auc:0.999502\n",
      "[900]\ttrain-auc:0.999611\n",
      "[1000]\ttrain-auc:0.999691\n",
      "[1100]\ttrain-auc:0.999752\n",
      "[1200]\ttrain-auc:0.999808\n",
      "[1300]\ttrain-auc:0.999848\n",
      "[1400]\ttrain-auc:0.99988\n",
      "[1500]\ttrain-auc:0.999904\n",
      "[1600]\ttrain-auc:0.999925\n",
      "Wall time: 3min 4s\n"
     ]
    }
   ],
   "source": [
    "import xgboost as xgb\n",
    "\n",
    "params ={\n",
    "        'eta':0.01,\n",
    "        'n_estimators': 1612,\n",
    "        'max_depth': 10,\n",
    "        'min_child_weight': 1,\n",
    "        'colsample_bytree': 0.3,\n",
    "        'scale_pos_weight': 2.5,\n",
    "        'objective': 'binary:logistic',\n",
    "        'eval_metric': 'auc'\n",
    "        }\n",
    "\n",
    "X_train, X_valid, y_train, y_valid =train_test_split(train_ds[train_ds.num_related_pars>1].values,\n",
    "                                                     train_ds[train_ds.num_related_pars>1]['target'],\n",
    "                                                     test_size = 0.2)\n",
    "\n",
    "do_validation = False\n",
    "\n",
    "if do_validation:\n",
    "    dtrain = xgb.DMatrix(X_train[columns], label = y_train)\n",
    "    dvalid = xgb.DMatrix(X_valid[columns], label = y_valid)\n",
    "    watchlist = [(dtrain, 'train'), (dvalid, 'train(test)')]\n",
    "else:\n",
    "    dtrain = xgb.DMatrix(train_ds[train_ds.num_related_pars>1][columns], label = train_ds.target)\n",
    "    watchlist = [(dtrain, 'train')]\n",
    "\n",
    "%time xgb_model = xgb.train(params = params, dtrain = dtrain, evals=watchlist, num_boost_round = params['n_estimators'], verbose_eval=100, early_stopping_rounds=100)\n",
    "\n",
    "dtest1 = xgb.DMatrix(test_ds[test_ds.num_related_pars>1][columns])\n",
    "#preds = xgb_model.predict(dtest)\n",
    "\n",
    "test_ds[test_ds.num_related_pars>1]['prediction'] = xgb_model.predict(dtest1,ntree_limit=xgb_model.best_iteration)"
   ]
  },
  {
   "cell_type": "markdown",
   "metadata": {},
   "source": [
    "### Part 2"
   ]
  },
  {
   "cell_type": "code",
   "execution_count": null,
   "metadata": {
    "collapsed": true
   },
   "outputs": [],
   "source": [
    "X_train, X_valid, y_train, y_valid = split_tt(train_ds, columns, test_size = 0.2)\n",
    "\n",
    "do_validation = False\n",
    "\n",
    "if do_validation:\n",
    "    dtrain = xgb.DMatrix(X_train[columns], label = y_train)\n",
    "    dvalid = xgb.DMatrix(X_valid[columns], label = y_valid)\n",
    "    watchlist = [(dtrain, 'train'), (dvalid, 'train(test)')]\n",
    "else:\n",
    "    dtrain = xgb.DMatrix(train_ds[columns], label = train_ds.target)\n",
    "    watchlist = [(dtrain, 'train')]\n",
    "\n",
    "%time xgb_model = xgb.train(params = params, dtrain = dtrain, evals=watchlist, num_boost_round = params['n_estimators'], verbose_eval=100, early_stopping_rounds=100)\n",
    "\n",
    "dtest = xgb.DMatrix(test_ds[columns])\n",
    "#preds = xgb_model.predict(dtest)\n",
    "\n",
    "test_ds['prediction'] = xgb_model.predict(dtest,ntree_limit=xgb_model.best_iteration)"
   ]
  },
  {
   "cell_type": "code",
   "execution_count": 224,
   "metadata": {},
   "outputs": [
    {
     "data": {
      "text/html": [
       "<div>\n",
       "<style>\n",
       "    .dataframe thead tr:only-child th {\n",
       "        text-align: right;\n",
       "    }\n",
       "\n",
       "    .dataframe thead th {\n",
       "        text-align: left;\n",
       "    }\n",
       "\n",
       "    .dataframe tbody tr th {\n",
       "        vertical-align: top;\n",
       "    }\n",
       "</style>\n",
       "<table border=\"1\" class=\"dataframe\">\n",
       "  <thead>\n",
       "    <tr style=\"text-align: right;\">\n",
       "      <th></th>\n",
       "      <th>split_counts</th>\n",
       "      <th>variable</th>\n",
       "      <th>importance</th>\n",
       "    </tr>\n",
       "  </thead>\n",
       "  <tbody>\n",
       "    <tr>\n",
       "      <th>8</th>\n",
       "      <td>26508</td>\n",
       "      <td>std_len_percent</td>\n",
       "      <td>0.076143</td>\n",
       "    </tr>\n",
       "    <tr>\n",
       "      <th>4</th>\n",
       "      <td>25991</td>\n",
       "      <td>std_ratio</td>\n",
       "      <td>0.074658</td>\n",
       "    </tr>\n",
       "    <tr>\n",
       "      <th>19</th>\n",
       "      <td>25699</td>\n",
       "      <td>cos_dist</td>\n",
       "      <td>0.073819</td>\n",
       "    </tr>\n",
       "    <tr>\n",
       "      <th>20</th>\n",
       "      <td>25412</td>\n",
       "      <td>mean_len_percent</td>\n",
       "      <td>0.072995</td>\n",
       "    </tr>\n",
       "    <tr>\n",
       "      <th>15</th>\n",
       "      <td>25202</td>\n",
       "      <td>mean_ratio</td>\n",
       "      <td>0.072392</td>\n",
       "    </tr>\n",
       "    <tr>\n",
       "      <th>1</th>\n",
       "      <td>23318</td>\n",
       "      <td>len_percent</td>\n",
       "      <td>0.066980</td>\n",
       "    </tr>\n",
       "    <tr>\n",
       "      <th>16</th>\n",
       "      <td>23094</td>\n",
       "      <td>max_len_percent</td>\n",
       "      <td>0.066337</td>\n",
       "    </tr>\n",
       "    <tr>\n",
       "      <th>10</th>\n",
       "      <td>22720</td>\n",
       "      <td>max_ratio</td>\n",
       "      <td>0.065262</td>\n",
       "    </tr>\n",
       "    <tr>\n",
       "      <th>11</th>\n",
       "      <td>21337</td>\n",
       "      <td>len_paragraph</td>\n",
       "      <td>0.061290</td>\n",
       "    </tr>\n",
       "    <tr>\n",
       "      <th>17</th>\n",
       "      <td>19942</td>\n",
       "      <td>std_leven_list</td>\n",
       "      <td>0.057283</td>\n",
       "    </tr>\n",
       "    <tr>\n",
       "      <th>14</th>\n",
       "      <td>18608</td>\n",
       "      <td>mean_leven_list</td>\n",
       "      <td>0.053451</td>\n",
       "    </tr>\n",
       "    <tr>\n",
       "      <th>6</th>\n",
       "      <td>10395</td>\n",
       "      <td>len_question</td>\n",
       "      <td>0.029859</td>\n",
       "    </tr>\n",
       "    <tr>\n",
       "      <th>5</th>\n",
       "      <td>9925</td>\n",
       "      <td>similar_perc_leven_thr_60</td>\n",
       "      <td>0.028509</td>\n",
       "    </tr>\n",
       "    <tr>\n",
       "      <th>18</th>\n",
       "      <td>9319</td>\n",
       "      <td>std_2g_inter</td>\n",
       "      <td>0.026768</td>\n",
       "    </tr>\n",
       "    <tr>\n",
       "      <th>12</th>\n",
       "      <td>9280</td>\n",
       "      <td>similar_perc_leven_thr_75</td>\n",
       "      <td>0.026656</td>\n",
       "    </tr>\n",
       "    <tr>\n",
       "      <th>0</th>\n",
       "      <td>9265</td>\n",
       "      <td>similar_perc_leven_thr_45</td>\n",
       "      <td>0.026613</td>\n",
       "    </tr>\n",
       "    <tr>\n",
       "      <th>13</th>\n",
       "      <td>8705</td>\n",
       "      <td>max_inter</td>\n",
       "      <td>0.025005</td>\n",
       "    </tr>\n",
       "    <tr>\n",
       "      <th>2</th>\n",
       "      <td>8026</td>\n",
       "      <td>similar_perc_leven_thr_100</td>\n",
       "      <td>0.023054</td>\n",
       "    </tr>\n",
       "    <tr>\n",
       "      <th>21</th>\n",
       "      <td>7848</td>\n",
       "      <td>similar_perc_leven_thr_90</td>\n",
       "      <td>0.022543</td>\n",
       "    </tr>\n",
       "    <tr>\n",
       "      <th>3</th>\n",
       "      <td>7814</td>\n",
       "      <td>mean_2g_inter</td>\n",
       "      <td>0.022445</td>\n",
       "    </tr>\n",
       "    <tr>\n",
       "      <th>7</th>\n",
       "      <td>5761</td>\n",
       "      <td>len_intersection</td>\n",
       "      <td>0.016548</td>\n",
       "    </tr>\n",
       "    <tr>\n",
       "      <th>9</th>\n",
       "      <td>3965</td>\n",
       "      <td>unq_qwords_rate</td>\n",
       "      <td>0.011389</td>\n",
       "    </tr>\n",
       "  </tbody>\n",
       "</table>\n",
       "</div>"
      ],
      "text/plain": [
       "    split_counts                    variable  importance\n",
       "8          26508             std_len_percent    0.076143\n",
       "4          25991                   std_ratio    0.074658\n",
       "19         25699                    cos_dist    0.073819\n",
       "20         25412            mean_len_percent    0.072995\n",
       "15         25202                  mean_ratio    0.072392\n",
       "1          23318                 len_percent    0.066980\n",
       "16         23094             max_len_percent    0.066337\n",
       "10         22720                   max_ratio    0.065262\n",
       "11         21337               len_paragraph    0.061290\n",
       "17         19942              std_leven_list    0.057283\n",
       "14         18608             mean_leven_list    0.053451\n",
       "6          10395                len_question    0.029859\n",
       "5           9925   similar_perc_leven_thr_60    0.028509\n",
       "18          9319                std_2g_inter    0.026768\n",
       "12          9280   similar_perc_leven_thr_75    0.026656\n",
       "0           9265   similar_perc_leven_thr_45    0.026613\n",
       "13          8705                   max_inter    0.025005\n",
       "2           8026  similar_perc_leven_thr_100    0.023054\n",
       "21          7848   similar_perc_leven_thr_90    0.022543\n",
       "3           7814               mean_2g_inter    0.022445\n",
       "7           5761            len_intersection    0.016548\n",
       "9           3965             unq_qwords_rate    0.011389"
      ]
     },
     "execution_count": 224,
     "metadata": {},
     "output_type": "execute_result"
    }
   ],
   "source": [
    "par = []\n",
    "score = []\n",
    "for k in xgb_model.get_fscore():\n",
    "    par.append(k)\n",
    "    score.append(xgb_model.get_fscore()[k])\n",
    "res = pd.DataFrame({'variable':par,'split_counts':score})\n",
    "res['importance'] = res['split_counts']/res['split_counts'].sum()\n",
    "res.sort_values(by='importance',ascending=False)"
   ]
  },
  {
   "cell_type": "code",
   "execution_count": 225,
   "metadata": {
    "collapsed": true
   },
   "outputs": [],
   "source": [
    "submit(test_ds['prediction'],'XGB_011017_4')"
   ]
  },
  {
   "cell_type": "markdown",
   "metadata": {},
   "source": [
    "# XGBoost Parameters Tuning"
   ]
  },
  {
   "cell_type": "code",
   "execution_count": 260,
   "metadata": {
    "collapsed": true
   },
   "outputs": [],
   "source": [
    "from xgboost.sklearn import XGBClassifier\n",
    "from sklearn import cross_validation, metrics   #Additional scklearn functions\n",
    "from sklearn.grid_search import GridSearchCV   #Perforing grid search"
   ]
  },
  {
   "cell_type": "code",
   "execution_count": 248,
   "metadata": {
    "collapsed": true
   },
   "outputs": [],
   "source": [
    "from sklearn import metrics\n",
    "def modelfit(alg, dtrain, columns, useTrainCV=True, cv_folds=5, early_stopping_rounds=50):\n",
    "    \n",
    "    if useTrainCV:\n",
    "        xgb_param = alg.get_xgb_params()\n",
    "        xgtrain = xgb.DMatrix(dtrain[columns].values, label=dtrain['target'].values)\n",
    "        cvresult = xgb.cv(xgb_param, xgtrain, num_boost_round=alg.get_params()['n_estimators'], nfold=cv_folds,\n",
    "            metrics='auc', early_stopping_rounds=early_stopping_rounds, verbose_eval=False)\n",
    "        alg.set_params(n_estimators=cvresult.shape[0])\n",
    "    \n",
    "    #Fit the algorithm on the data\n",
    "    alg.fit(dtrain[columns], dtrain['target'], eval_metric='auc')\n",
    "        \n",
    "    #Predict training set:\n",
    "    dtrain_predictions = alg.predict(dtrain[columns])\n",
    "    dtrain_predprob = alg.predict_proba(dtrain[columns])[:,1]\n",
    "        \n",
    "    #Print model report:\n",
    "    print(\"\\nModel Report\")\n",
    "    print(\"Accuracy : %.4g\" % metrics.accuracy_score(dtrain['target'].values, dtrain_predictions))\n",
    "    print(\"AUC Score (Train): %f\" % metrics.roc_auc_score(dtrain['target'], dtrain_predprob))\n",
    "                    \n",
    "    feat_imp = pd.Series(alg.booster().get_fscore()).sort_values(ascending=False)\n",
    "    feat_imp.plot(kind='bar', title='Feature Importances')\n",
    "    plt.ylabel('Feature Importance Score')"
   ]
  },
  {
   "cell_type": "code",
   "execution_count": 250,
   "metadata": {},
   "outputs": [
    {
     "name": "stdout",
     "output_type": "stream",
     "text": [
      "\n",
      "Model Report\n",
      "Accuracy : 0.9849\n",
      "AUC Score (Train): 0.998860\n"
     ]
    },
    {
     "data": {
      "image/png": "[encoded data removed]",
      "text/plain": [
       "<matplotlib.figure.Figure at 0x1a3275da438>"
      ]
     },
     "metadata": {},
     "output_type": "display_data"
    }
   ],
   "source": [
    "xgb1 = xgb.XGBClassifier(\n",
    " learning_rate =0.1,\n",
    " n_estimators=1000,\n",
    " max_depth=5,\n",
    " min_child_weight=1,\n",
    " gamma=0,\n",
    " subsample=0.8,\n",
    " colsample_bytree=0.8,\n",
    " objective= 'binary:logistic',\n",
    " nthread=4,\n",
    " scale_pos_weight=1,\n",
    " seed=27)\n",
    "modelfit(xgb1, train_ds, columns)"
   ]
  },
  {
   "cell_type": "code",
   "execution_count": 258,
   "metadata": {},
   "outputs": [
    {
     "data": {
      "text/plain": [
       "([mean: 0.99739, std: 0.00009, params: {'max_depth': 3, 'min_child_weight': 1},\n",
       "  mean: 0.99739, std: 0.00009, params: {'max_depth': 3, 'min_child_weight': 3},\n",
       "  mean: 0.99740, std: 0.00009, params: {'max_depth': 3, 'min_child_weight': 5},\n",
       "  mean: 0.99756, std: 0.00010, params: {'max_depth': 5, 'min_child_weight': 1},\n",
       "  mean: 0.99754, std: 0.00010, params: {'max_depth': 5, 'min_child_weight': 3},\n",
       "  mean: 0.99755, std: 0.00009, params: {'max_depth': 5, 'min_child_weight': 5},\n",
       "  mean: 0.99759, std: 0.00010, params: {'max_depth': 7, 'min_child_weight': 1},\n",
       "  mean: 0.99756, std: 0.00010, params: {'max_depth': 7, 'min_child_weight': 3},\n",
       "  mean: 0.99755, std: 0.00009, params: {'max_depth': 7, 'min_child_weight': 5},\n",
       "  mean: 0.99755, std: 0.00007, params: {'max_depth': 9, 'min_child_weight': 1},\n",
       "  mean: 0.99755, std: 0.00009, params: {'max_depth': 9, 'min_child_weight': 3},\n",
       "  mean: 0.99754, std: 0.00009, params: {'max_depth': 9, 'min_child_weight': 5}],\n",
       " {'max_depth': 7, 'min_child_weight': 1},\n",
       " 0.9975899406177693)"
      ]
     },
     "execution_count": 258,
     "metadata": {},
     "output_type": "execute_result"
    }
   ],
   "source": [
    "param_test1 = {\n",
    " 'max_depth': [3,5,7,9],\n",
    " 'min_child_weight': [1,3,5]\n",
    "}\n",
    "gsearch1 = GridSearchCV(estimator = XGBClassifier( learning_rate =0.1, n_estimators=140, max_depth=5,\n",
    " min_child_weight=1, gamma=0, subsample=0.8, colsample_bytree=0.8,\n",
    " objective= 'binary:logistic', nthread=4, scale_pos_weight=1, seed=27), \n",
    " param_grid = param_test1, scoring='roc_auc',n_jobs=4,iid=False, cv=5)\n",
    "%time gsearch1.fit(train_ds[columns],train_ds['target'])\n",
    "gsearch1.grid_scores_, gsearch1.best_params_, gsearch1.best_score_"
   ]
  },
  {
   "cell_type": "code",
   "execution_count": 263,
   "metadata": {},
   "outputs": [
    {
     "name": "stdout",
     "output_type": "stream",
     "text": [
      "Wall time: 7min 43s\n"
     ]
    },
    {
     "data": {
      "text/plain": [
       "([mean: 0.99750, std: 0.00010, params: {'max_depth': 4, 'min_child_weight': 4},\n",
       "  mean: 0.99750, std: 0.00010, params: {'max_depth': 4, 'min_child_weight': 5},\n",
       "  mean: 0.99749, std: 0.00010, params: {'max_depth': 4, 'min_child_weight': 6},\n",
       "  mean: 0.99754, std: 0.00008, params: {'max_depth': 5, 'min_child_weight': 4},\n",
       "  mean: 0.99755, std: 0.00009, params: {'max_depth': 5, 'min_child_weight': 5},\n",
       "  mean: 0.99755, std: 0.00010, params: {'max_depth': 5, 'min_child_weight': 6},\n",
       "  mean: 0.99756, std: 0.00010, params: {'max_depth': 6, 'min_child_weight': 4},\n",
       "  mean: 0.99756, std: 0.00007, params: {'max_depth': 6, 'min_child_weight': 5},\n",
       "  mean: 0.99755, std: 0.00008, params: {'max_depth': 6, 'min_child_weight': 6}],\n",
       " {'max_depth': 6, 'min_child_weight': 4},\n",
       " 0.9975646523867013)"
      ]
     },
     "execution_count": 263,
     "metadata": {},
     "output_type": "execute_result"
    }
   ],
   "source": [
    "param_test2 = {\n",
    " 'max_depth':[4,5,6],\n",
    " 'min_child_weight':[4,5,6]\n",
    "}\n",
    "gsearch2 = GridSearchCV(estimator = XGBClassifier( learning_rate=0.1, n_estimators=140, max_depth=5,\n",
    " min_child_weight=2, gamma=0, subsample=0.8, colsample_bytree=0.8,\n",
    " objective= 'binary:logistic', nthread=4, scale_pos_weight=1,seed=27), \n",
    " param_grid = param_test2, scoring='roc_auc',n_jobs=4,iid=False, cv=5)\n",
    "%time gsearch2.fit(train_ds[columns],train_ds['target'])\n",
    "gsearch2.grid_scores_, gsearch2.best_params_, gsearch2.best_score_"
   ]
  },
  {
   "cell_type": "markdown",
   "metadata": {},
   "source": [
    "## KNN"
   ]
  },
  {
   "cell_type": "code",
   "execution_count": 2,
   "metadata": {
    "collapsed": true
   },
   "outputs": [],
   "source": [
    "from sklearn.neighbors import KNeighborsClassifier\n",
    "from metric_learn import LMNN, NCA"
   ]
  },
  {
   "cell_type": "code",
   "execution_count": 3,
   "metadata": {
    "collapsed": true
   },
   "outputs": [],
   "source": [
    "#train_ds, test_ds = pd.read_csv(\"train_step7_mytokens.csv\", encoding ='utf-8'), pd.read_csv(\"test_step7_mytokens.csv\", encoding ='utf-8')\n",
    "train_ds, test_ds = pd.read_csv(\"NA_train3.csv\", encoding ='utf-8', index_col=0), pd.read_csv(\"NA_test3.csv\", encoding ='utf-8', index_col=0)"
   ]
  },
  {
   "cell_type": "code",
   "execution_count": 4,
   "metadata": {},
   "outputs": [
    {
     "data": {
      "text/plain": [
       "Index(['paragraph_id', 'question_id', 'paragraph', 'question', 'target',\n",
       "       'paragraph_uid', 'question_uid', 'list_of_paragraphs',\n",
       "       'num_related_pars', 'list_ntokens_p_x', 'list_ntokens_q_x',\n",
       "       'flat_list_ntokens_p', 'flat_list_ntokens_q', 'score', 'best_paragraph',\n",
       "       'best_score', 'len_question_x', 'len_percent_x', 'num_sentences_x',\n",
       "       'unq_qwords_rate_x', 'score_list', 'min_sent_score', 'token_set_ratio',\n",
       "       'diff_score', 'len_question_y', 'len_percent_y', 'list_ntokens_p_y',\n",
       "       'list_ntokens_q_y', 'num_sentences_y', 'unq_qwords_rate_y', 'cos_dist'],\n",
       "      dtype='object')"
      ]
     },
     "execution_count": 4,
     "metadata": {},
     "output_type": "execute_result"
    }
   ],
   "source": [
    "train_ds.columns"
   ]
  },
  {
   "cell_type": "code",
   "execution_count": 5,
   "metadata": {
    "collapsed": true
   },
   "outputs": [],
   "source": [
    "columns1 = ['num_related_pars',\n",
    "           'score',\n",
    "           'best_score', \n",
    "           'len_question_x', \n",
    "           'len_percent_x', \n",
    "           'num_sentences_x',\n",
    "           'unq_qwords_rate_x',\n",
    "           'min_sent_score',\n",
    "           'token_set_ratio',\n",
    "           'diff_score',\n",
    "           'cos_dist']"
   ]
  },
  {
   "cell_type": "code",
   "execution_count": 6,
   "metadata": {
    "collapsed": true
   },
   "outputs": [],
   "source": [
    "columns = ['len_paragraph', # 0\n",
    "           'len_question', # 1\n",
    "           'len_intersection', # 2 \n",
    "           'cos_dist', # 3\n",
    "           'min_ratio', # 4\n",
    "           'max_ratio', # 5\n",
    "           'std_ratio', # 6\n",
    "           'mean_ratio', # 7 \n",
    "           'num_sentences', # 8\n",
    "           'min_inter', # 9\n",
    "           'max_inter', # 10\n",
    "           'bigram_intersection', # 11\n",
    "           'trigram_intersection', # 12\n",
    "           'min_2g_inter', # 13\n",
    "           'max_2g_inter', # 14\n",
    "           'std_2g_inter', # 15\n",
    "           'mean_2g_inter', # 16\n",
    "           'min_3g_inter', # 17\n",
    "           'max_3g_inter', # 18\n",
    "           'std_3g_inter', # 19\n",
    "           'mean_3g_inter', # 20\n",
    "           'unq_qwords_rate', # 21\n",
    "           'len_percent', # 22\n",
    "           'min_len_percent', # 23 \n",
    "           'max_len_percent', # 24\n",
    "           'std_len_percent', # 25\n",
    "           'mean_len_percent', # 26\n",
    "           'similar_perc_leven_thr_15', # 27\n",
    "           'similar_perc_leven_thr_30', # 28\n",
    "           'similar_perc_leven_thr_45', # 29\n",
    "           'similar_perc_leven_thr_60', # 30\n",
    "           'similar_perc_leven_thr_75', # 31\n",
    "           'similar_perc_leven_thr_90', # 32\n",
    "           'similar_perc_leven_thr_100', # 33\n",
    "           'min_leven_list', # 34\n",
    "           'max_leven_list', # 35\n",
    "           'std_leven_list', # 36\n",
    "           'mean_leven_list'] # 37"
   ]
  },
  {
   "cell_type": "code",
   "execution_count": 7,
   "metadata": {
    "collapsed": true
   },
   "outputs": [],
   "source": [
    "y_train = train_ds.target\n",
    "X_train = train_ds[columns1]\n",
    "X_test = test_ds[columns1]"
   ]
  },
  {
   "cell_type": "code",
   "execution_count": 8,
   "metadata": {},
   "outputs": [
    {
     "data": {
      "text/plain": [
       "Index(['num_related_pars', 'score', 'best_score', 'len_question_x',\n",
       "       'len_percent_x', 'num_sentences_x', 'unq_qwords_rate_x',\n",
       "       'min_sent_score', 'token_set_ratio', 'diff_score', 'cos_dist'],\n",
       "      dtype='object')"
      ]
     },
     "execution_count": 8,
     "metadata": {},
     "output_type": "execute_result"
    }
   ],
   "source": [
    "X_train.columns"
   ]
  },
  {
   "cell_type": "code",
   "execution_count": 14,
   "metadata": {},
   "outputs": [
    {
     "ename": "MemoryError",
     "evalue": "",
     "output_type": "error",
     "traceback": [
      "\u001b[1;31m---------------------------------------------------------------------------\u001b[0m",
      "\u001b[1;31mMemoryError\u001b[0m                               Traceback (most recent call last)",
      "\u001b[1;32m<ipython-input-14-bb4ef924692d>\u001b[0m in \u001b[0;36m<module>\u001b[1;34m()\u001b[0m\n\u001b[0;32m      1\u001b[0m \u001b[0mnca\u001b[0m \u001b[1;33m=\u001b[0m \u001b[0mNCA\u001b[0m\u001b[1;33m(\u001b[0m\u001b[0mmax_iter\u001b[0m\u001b[1;33m=\u001b[0m\u001b[1;36m1\u001b[0m\u001b[1;33m,\u001b[0m \u001b[0mlearning_rate\u001b[0m\u001b[1;33m=\u001b[0m\u001b[1;36m1\u001b[0m\u001b[1;33m)\u001b[0m\u001b[1;33m\u001b[0m\u001b[0m\n\u001b[1;32m----> 2\u001b[1;33m \u001b[0mnca\u001b[0m\u001b[1;33m.\u001b[0m\u001b[0mfit\u001b[0m\u001b[1;33m(\u001b[0m\u001b[0mnp\u001b[0m\u001b[1;33m.\u001b[0m\u001b[0marray\u001b[0m\u001b[1;33m(\u001b[0m\u001b[0mX_train\u001b[0m\u001b[1;33m)\u001b[0m\u001b[1;33m,\u001b[0m \u001b[0my_train\u001b[0m\u001b[1;33m)\u001b[0m\u001b[1;33m\u001b[0m\u001b[0m\n\u001b[0m",
      "\u001b[1;32m~\\Anaconda3\\lib\\site-packages\\metric_learn\\nca.py\u001b[0m in \u001b[0;36mfit\u001b[1;34m(self, X, labels)\u001b[0m\n\u001b[0;32m     33\u001b[0m \u001b[1;33m\u001b[0m\u001b[0m\n\u001b[0;32m     34\u001b[0m     \u001b[1;31m# Run NCA\u001b[0m\u001b[1;33m\u001b[0m\u001b[1;33m\u001b[0m\u001b[0m\n\u001b[1;32m---> 35\u001b[1;33m     \u001b[0mdX\u001b[0m \u001b[1;33m=\u001b[0m \u001b[0mX\u001b[0m\u001b[1;33m[\u001b[0m\u001b[1;33m:\u001b[0m\u001b[1;33m,\u001b[0m\u001b[1;32mNone\u001b[0m\u001b[1;33m]\u001b[0m \u001b[1;33m-\u001b[0m \u001b[0mX\u001b[0m\u001b[1;33m[\u001b[0m\u001b[1;32mNone\u001b[0m\u001b[1;33m]\u001b[0m  \u001b[1;31m# shape (n, n, d)\u001b[0m\u001b[1;33m\u001b[0m\u001b[0m\n\u001b[0m\u001b[0;32m     36\u001b[0m     \u001b[0mtmp\u001b[0m \u001b[1;33m=\u001b[0m \u001b[0mnp\u001b[0m\u001b[1;33m.\u001b[0m\u001b[0meinsum\u001b[0m\u001b[1;33m(\u001b[0m\u001b[1;34m'...i,...j->...ij'\u001b[0m\u001b[1;33m,\u001b[0m \u001b[0mdX\u001b[0m\u001b[1;33m,\u001b[0m \u001b[0mdX\u001b[0m\u001b[1;33m)\u001b[0m  \u001b[1;31m# shape (n, n, d, d)\u001b[0m\u001b[1;33m\u001b[0m\u001b[0m\n\u001b[0;32m     37\u001b[0m     \u001b[0mmasks\u001b[0m \u001b[1;33m=\u001b[0m \u001b[0mlabels\u001b[0m\u001b[1;33m[\u001b[0m\u001b[1;33m:\u001b[0m\u001b[1;33m,\u001b[0m\u001b[1;32mNone\u001b[0m\u001b[1;33m]\u001b[0m \u001b[1;33m==\u001b[0m \u001b[0mlabels\u001b[0m\u001b[1;33m[\u001b[0m\u001b[1;32mNone\u001b[0m\u001b[1;33m]\u001b[0m\u001b[1;33m\u001b[0m\u001b[0m\n",
      "\u001b[1;31mMemoryError\u001b[0m: "
     ]
    }
   ],
   "source": [
    "nca = NCA(max_iter=1, learning_rate=1)\n",
    "nca.fit(np.array(X_train), y_train)"
   ]
  },
  {
   "cell_type": "code",
   "execution_count": 13,
   "metadata": {},
   "outputs": [
    {
     "ename": "MemoryError",
     "evalue": "",
     "output_type": "error",
     "traceback": [
      "\u001b[1;31m---------------------------------------------------------------------------\u001b[0m",
      "\u001b[1;31mMemoryError\u001b[0m                               Traceback (most recent call last)",
      "\u001b[1;32m<timed eval>\u001b[0m in \u001b[0;36m<module>\u001b[1;34m()\u001b[0m\n",
      "\u001b[1;32m~\\Anaconda3\\lib\\site-packages\\metric_learn\\lmnn.py\u001b[0m in \u001b[0;36mfit\u001b[1;34m(self, X, labels)\u001b[0m\n\u001b[0;32m     62\u001b[0m     \u001b[0mself\u001b[0m\u001b[1;33m.\u001b[0m\u001b[0m_process_inputs\u001b[0m\u001b[1;33m(\u001b[0m\u001b[0mX\u001b[0m\u001b[1;33m,\u001b[0m \u001b[0mlabels\u001b[0m\u001b[1;33m)\u001b[0m\u001b[1;33m\u001b[0m\u001b[0m\n\u001b[0;32m     63\u001b[0m \u001b[1;33m\u001b[0m\u001b[0m\n\u001b[1;32m---> 64\u001b[1;33m     \u001b[0mtarget_neighbors\u001b[0m \u001b[1;33m=\u001b[0m \u001b[0mself\u001b[0m\u001b[1;33m.\u001b[0m\u001b[0m_select_targets\u001b[0m\u001b[1;33m(\u001b[0m\u001b[1;33m)\u001b[0m\u001b[1;33m\u001b[0m\u001b[0m\n\u001b[0m\u001b[0;32m     65\u001b[0m     \u001b[0mimpostors\u001b[0m \u001b[1;33m=\u001b[0m \u001b[0mself\u001b[0m\u001b[1;33m.\u001b[0m\u001b[0m_find_impostors\u001b[0m\u001b[1;33m(\u001b[0m\u001b[0mtarget_neighbors\u001b[0m\u001b[1;33m[\u001b[0m\u001b[1;33m:\u001b[0m\u001b[1;33m,\u001b[0m\u001b[1;33m-\u001b[0m\u001b[1;36m1\u001b[0m\u001b[1;33m]\u001b[0m\u001b[1;33m)\u001b[0m\u001b[1;33m\u001b[0m\u001b[0m\n\u001b[0;32m     66\u001b[0m \u001b[1;33m\u001b[0m\u001b[0m\n",
      "\u001b[1;32m~\\Anaconda3\\lib\\site-packages\\metric_learn\\lmnn.py\u001b[0m in \u001b[0;36m_select_targets\u001b[1;34m(self)\u001b[0m\n\u001b[0;32m    180\u001b[0m     \u001b[1;32mfor\u001b[0m \u001b[0mlabel\u001b[0m \u001b[1;32min\u001b[0m \u001b[0mself\u001b[0m\u001b[1;33m.\u001b[0m\u001b[0mlabels\u001b[0m\u001b[1;33m:\u001b[0m\u001b[1;33m\u001b[0m\u001b[0m\n\u001b[0;32m    181\u001b[0m       \u001b[0minds\u001b[0m\u001b[1;33m,\u001b[0m \u001b[1;33m=\u001b[0m \u001b[0mnp\u001b[0m\u001b[1;33m.\u001b[0m\u001b[0mnonzero\u001b[0m\u001b[1;33m(\u001b[0m\u001b[0mself\u001b[0m\u001b[1;33m.\u001b[0m\u001b[0mlabel_inds\u001b[0m \u001b[1;33m==\u001b[0m \u001b[0mlabel\u001b[0m\u001b[1;33m)\u001b[0m\u001b[1;33m\u001b[0m\u001b[0m\n\u001b[1;32m--> 182\u001b[1;33m       \u001b[0mdd\u001b[0m \u001b[1;33m=\u001b[0m \u001b[0mpairwise_distances\u001b[0m\u001b[1;33m(\u001b[0m\u001b[0mself\u001b[0m\u001b[1;33m.\u001b[0m\u001b[0mX\u001b[0m\u001b[1;33m[\u001b[0m\u001b[0minds\u001b[0m\u001b[1;33m]\u001b[0m\u001b[1;33m)\u001b[0m\u001b[1;33m\u001b[0m\u001b[0m\n\u001b[0m\u001b[0;32m    183\u001b[0m       \u001b[0mnp\u001b[0m\u001b[1;33m.\u001b[0m\u001b[0mfill_diagonal\u001b[0m\u001b[1;33m(\u001b[0m\u001b[0mdd\u001b[0m\u001b[1;33m,\u001b[0m \u001b[0mnp\u001b[0m\u001b[1;33m.\u001b[0m\u001b[0minf\u001b[0m\u001b[1;33m)\u001b[0m\u001b[1;33m\u001b[0m\u001b[0m\n\u001b[0;32m    184\u001b[0m       \u001b[0mnn\u001b[0m \u001b[1;33m=\u001b[0m \u001b[0mnp\u001b[0m\u001b[1;33m.\u001b[0m\u001b[0margsort\u001b[0m\u001b[1;33m(\u001b[0m\u001b[0mdd\u001b[0m\u001b[1;33m)\u001b[0m\u001b[1;33m[\u001b[0m\u001b[1;33m...\u001b[0m\u001b[1;33m,\u001b[0m\u001b[1;33m:\u001b[0m\u001b[0mk\u001b[0m\u001b[1;33m]\u001b[0m\u001b[1;33m\u001b[0m\u001b[0m\n",
      "\u001b[1;32m~\\Anaconda3\\lib\\site-packages\\sklearn\\metrics\\pairwise.py\u001b[0m in \u001b[0;36mpairwise_distances\u001b[1;34m(X, Y, metric, n_jobs, **kwds)\u001b[0m\n\u001b[0;32m   1238\u001b[0m         \u001b[0mfunc\u001b[0m \u001b[1;33m=\u001b[0m \u001b[0mpartial\u001b[0m\u001b[1;33m(\u001b[0m\u001b[0mdistance\u001b[0m\u001b[1;33m.\u001b[0m\u001b[0mcdist\u001b[0m\u001b[1;33m,\u001b[0m \u001b[0mmetric\u001b[0m\u001b[1;33m=\u001b[0m\u001b[0mmetric\u001b[0m\u001b[1;33m,\u001b[0m \u001b[1;33m**\u001b[0m\u001b[0mkwds\u001b[0m\u001b[1;33m)\u001b[0m\u001b[1;33m\u001b[0m\u001b[0m\n\u001b[0;32m   1239\u001b[0m \u001b[1;33m\u001b[0m\u001b[0m\n\u001b[1;32m-> 1240\u001b[1;33m     \u001b[1;32mreturn\u001b[0m \u001b[0m_parallel_pairwise\u001b[0m\u001b[1;33m(\u001b[0m\u001b[0mX\u001b[0m\u001b[1;33m,\u001b[0m \u001b[0mY\u001b[0m\u001b[1;33m,\u001b[0m \u001b[0mfunc\u001b[0m\u001b[1;33m,\u001b[0m \u001b[0mn_jobs\u001b[0m\u001b[1;33m,\u001b[0m \u001b[1;33m**\u001b[0m\u001b[0mkwds\u001b[0m\u001b[1;33m)\u001b[0m\u001b[1;33m\u001b[0m\u001b[0m\n\u001b[0m\u001b[0;32m   1241\u001b[0m \u001b[1;33m\u001b[0m\u001b[0m\n\u001b[0;32m   1242\u001b[0m \u001b[1;33m\u001b[0m\u001b[0m\n",
      "\u001b[1;32m~\\Anaconda3\\lib\\site-packages\\sklearn\\metrics\\pairwise.py\u001b[0m in \u001b[0;36m_parallel_pairwise\u001b[1;34m(X, Y, func, n_jobs, **kwds)\u001b[0m\n\u001b[0;32m   1081\u001b[0m     \u001b[1;32mif\u001b[0m \u001b[0mn_jobs\u001b[0m \u001b[1;33m==\u001b[0m \u001b[1;36m1\u001b[0m\u001b[1;33m:\u001b[0m\u001b[1;33m\u001b[0m\u001b[0m\n\u001b[0;32m   1082\u001b[0m         \u001b[1;31m# Special case to avoid picklability checks in delayed\u001b[0m\u001b[1;33m\u001b[0m\u001b[1;33m\u001b[0m\u001b[0m\n\u001b[1;32m-> 1083\u001b[1;33m         \u001b[1;32mreturn\u001b[0m \u001b[0mfunc\u001b[0m\u001b[1;33m(\u001b[0m\u001b[0mX\u001b[0m\u001b[1;33m,\u001b[0m \u001b[0mY\u001b[0m\u001b[1;33m,\u001b[0m \u001b[1;33m**\u001b[0m\u001b[0mkwds\u001b[0m\u001b[1;33m)\u001b[0m\u001b[1;33m\u001b[0m\u001b[0m\n\u001b[0m\u001b[0;32m   1084\u001b[0m \u001b[1;33m\u001b[0m\u001b[0m\n\u001b[0;32m   1085\u001b[0m     \u001b[1;31m# TODO: in some cases, backend='threading' may be appropriate\u001b[0m\u001b[1;33m\u001b[0m\u001b[1;33m\u001b[0m\u001b[0m\n",
      "\u001b[1;32m~\\Anaconda3\\lib\\site-packages\\sklearn\\metrics\\pairwise.py\u001b[0m in \u001b[0;36meuclidean_distances\u001b[1;34m(X, Y, Y_norm_squared, squared, X_norm_squared)\u001b[0m\n\u001b[0;32m    243\u001b[0m         \u001b[0mYY\u001b[0m \u001b[1;33m=\u001b[0m \u001b[0mrow_norms\u001b[0m\u001b[1;33m(\u001b[0m\u001b[0mY\u001b[0m\u001b[1;33m,\u001b[0m \u001b[0msquared\u001b[0m\u001b[1;33m=\u001b[0m\u001b[1;32mTrue\u001b[0m\u001b[1;33m)\u001b[0m\u001b[1;33m[\u001b[0m\u001b[0mnp\u001b[0m\u001b[1;33m.\u001b[0m\u001b[0mnewaxis\u001b[0m\u001b[1;33m,\u001b[0m \u001b[1;33m:\u001b[0m\u001b[1;33m]\u001b[0m\u001b[1;33m\u001b[0m\u001b[0m\n\u001b[0;32m    244\u001b[0m \u001b[1;33m\u001b[0m\u001b[0m\n\u001b[1;32m--> 245\u001b[1;33m     \u001b[0mdistances\u001b[0m \u001b[1;33m=\u001b[0m \u001b[0msafe_sparse_dot\u001b[0m\u001b[1;33m(\u001b[0m\u001b[0mX\u001b[0m\u001b[1;33m,\u001b[0m \u001b[0mY\u001b[0m\u001b[1;33m.\u001b[0m\u001b[0mT\u001b[0m\u001b[1;33m,\u001b[0m \u001b[0mdense_output\u001b[0m\u001b[1;33m=\u001b[0m\u001b[1;32mTrue\u001b[0m\u001b[1;33m)\u001b[0m\u001b[1;33m\u001b[0m\u001b[0m\n\u001b[0m\u001b[0;32m    246\u001b[0m     \u001b[0mdistances\u001b[0m \u001b[1;33m*=\u001b[0m \u001b[1;33m-\u001b[0m\u001b[1;36m2\u001b[0m\u001b[1;33m\u001b[0m\u001b[0m\n\u001b[0;32m    247\u001b[0m     \u001b[0mdistances\u001b[0m \u001b[1;33m+=\u001b[0m \u001b[0mXX\u001b[0m\u001b[1;33m\u001b[0m\u001b[0m\n",
      "\u001b[1;32m~\\Anaconda3\\lib\\site-packages\\sklearn\\utils\\extmath.py\u001b[0m in \u001b[0;36msafe_sparse_dot\u001b[1;34m(a, b, dense_output)\u001b[0m\n\u001b[0;32m    187\u001b[0m         \u001b[1;32mreturn\u001b[0m \u001b[0mret\u001b[0m\u001b[1;33m\u001b[0m\u001b[0m\n\u001b[0;32m    188\u001b[0m     \u001b[1;32melse\u001b[0m\u001b[1;33m:\u001b[0m\u001b[1;33m\u001b[0m\u001b[0m\n\u001b[1;32m--> 189\u001b[1;33m         \u001b[1;32mreturn\u001b[0m \u001b[0mfast_dot\u001b[0m\u001b[1;33m(\u001b[0m\u001b[0ma\u001b[0m\u001b[1;33m,\u001b[0m \u001b[0mb\u001b[0m\u001b[1;33m)\u001b[0m\u001b[1;33m\u001b[0m\u001b[0m\n\u001b[0m\u001b[0;32m    190\u001b[0m \u001b[1;33m\u001b[0m\u001b[0m\n\u001b[0;32m    191\u001b[0m \u001b[1;33m\u001b[0m\u001b[0m\n",
      "\u001b[1;31mMemoryError\u001b[0m: "
     ]
    }
   ],
   "source": [
    "lmnn = LMNN(k=3, learn_rate=1e-6)\n",
    "%time lmnn.fit(np.array(X_train), y_train)"
   ]
  },
  {
   "cell_type": "code",
   "execution_count": 298,
   "metadata": {},
   "outputs": [
    {
     "name": "stdout",
     "output_type": "stream",
     "text": [
      "Wall time: 457 ms\n"
     ]
    },
    {
     "data": {
      "text/plain": [
       "KNeighborsClassifier(algorithm='auto', leaf_size=30, metric='minkowski',\n",
       "           metric_params=None, n_jobs=-1, n_neighbors=3, p=2,\n",
       "           weights='distance')"
      ]
     },
     "execution_count": 298,
     "metadata": {},
     "output_type": "execute_result"
    }
   ],
   "source": [
    "knn = KNeighborsClassifier(n_neighbors=3, weights='distance', algorithm='auto', n_jobs=-1)\n",
    "% time knn.fit(X_train, y_train)"
   ]
  },
  {
   "cell_type": "code",
   "execution_count": 299,
   "metadata": {
    "collapsed": true
   },
   "outputs": [],
   "source": [
    "test_ds['prediction'] = knn.predict(X_test)"
   ]
  },
  {
   "cell_type": "code",
   "execution_count": 300,
   "metadata": {
    "collapsed": true
   },
   "outputs": [],
   "source": [
    "submit(test_ds['prediction'],'KNN_101017_1')"
   ]
  },
  {
   "cell_type": "code",
   "execution_count": 301,
   "metadata": {
    "collapsed": true
   },
   "outputs": [],
   "source": [
    "#sklearn.neighbors.KNeighborsClassifier(n_neighbors=5, weights=’uniform’, algorithm=’auto’, leaf_size=30, p=2, metric=’minkowski’, metric_params=None, n_jobs=1, **kwargs)"
   ]
  },
  {
   "cell_type": "code",
   "execution_count": 302,
   "metadata": {},
   "outputs": [
    {
     "data": {
      "text/plain": [
       "0    0.0\n",
       "1    1.0\n",
       "2    0.0\n",
       "3    1.0\n",
       "4    0.0\n",
       "5    1.0\n",
       "6    1.0\n",
       "Name: prediction, dtype: float64"
      ]
     },
     "execution_count": 302,
     "metadata": {},
     "output_type": "execute_result"
    }
   ],
   "source": [
    "test_ds.prediction[:7]"
   ]
  },
  {
   "cell_type": "code",
   "execution_count": null,
   "metadata": {
    "collapsed": true
   },
   "outputs": [],
   "source": []
  }
 ],
 "metadata": {
  "kernelspec": {
   "display_name": "Python 3",
   "language": "python",
   "name": "python3"
  },
  "language_info": {
   "codemirror_mode": {
    "name": "ipython",
    "version": 3
   },
   "file_extension": ".py",
   "mimetype": "text/x-python",
   "name": "python",
   "nbconvert_exporter": "python",
   "pygments_lexer": "ipython3",
   "version": "3.5.2"
  }
 },
 "nbformat": 4,
 "nbformat_minor": 2
}
