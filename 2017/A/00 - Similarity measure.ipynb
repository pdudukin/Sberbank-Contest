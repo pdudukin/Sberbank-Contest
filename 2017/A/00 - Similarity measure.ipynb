{
 "cells": [
  {
   "cell_type": "code",
   "execution_count": 23,
   "metadata": {
    "collapsed": true
   },
   "outputs": [],
   "source": [
    "import pandas as pd\n",
    "import gensim\n",
    "from nltk.corpus import stopwords\n",
    "import tqdm\n",
    "import nltk\n",
    "import string\n",
    "from sklearn.feature_extraction.text import TfidfVectorizer\n",
    "import pymorphy2\n",
    "import numpy as np\n",
    "from sklearn.metrics.pairwise import cosine_similarity\n",
    "from matplotlib import pyplot as plt"
   ]
  },
  {
   "cell_type": "code",
   "execution_count": 2,
   "metadata": {
    "collapsed": true
   },
   "outputs": [],
   "source": [
    "df = pd.read_csv('./data/train_task1_latest.csv')\n",
    "w2v = gensim.models.KeyedVectors.load_word2vec_format('./w2v/ruwikiruscorpora_0_300_20.bin',binary=True)"
   ]
  },
  {
   "cell_type": "markdown",
   "metadata": {},
   "source": [
    "Токенизация в \"обогащенный\" формат rusvectores"
   ]
  },
  {
   "cell_type": "code",
   "execution_count": 4,
   "metadata": {},
   "outputs": [
    {
     "name": "stderr",
     "output_type": "stream",
     "text": [
      "Tokenising paragraphs: 100%|██████████| 119398/119398 [00:29<00:00, 4056.30it/s]\n",
      "Tokenising questions: 100%|██████████| 119398/119398 [00:02<00:00, 42197.35it/s]"
     ]
    },
    {
     "name": "stdout",
     "output_type": "stream",
     "text": [
      "Done.\n"
     ]
    },
    {
     "name": "stderr",
     "output_type": "stream",
     "text": [
      "\n"
     ]
    }
   ],
   "source": [
    "rem = stopwords.words('russian') + list(string.punctuation)+list('—')\n",
    "ma = pymorphy2.MorphAnalyzer()\n",
    "d = {} # Словарь для ускорения преобразований\n",
    "grammar_map_POS_TAGS = {\n",
    "    'NOUN': '_NOUN',\n",
    "    'VERB': '_VERB', 'INFN': '_VERB', 'GRND': '_VERB', 'PRTF': '_VERB', 'PRTS': '_VERB',\n",
    "    'ADJF': '_ADJ', 'ADJS': '_ADJ',\n",
    "    'ADVB': '_ADV',\n",
    "    'PRED': '_ADP'\n",
    "}\n",
    "for col in ['paragraph','question']:\n",
    "    df = df.sort_values(by=col)\n",
    "    prev_text = ''\n",
    "    tokenised = []\n",
    "    t = []\n",
    "    for e in tqdm.tqdm(iter(df[col]),total=df.shape[0],desc='Tokenising '+col+'s'):\n",
    "        if e == prev_text:\n",
    "            tokenised.append(t)\n",
    "        else:\n",
    "            #t = nltk.word_tokenize(e.lower(),language='russian',preserve_line=False)\n",
    "            t = nltk.regexp_tokenize(pattern='[а-яёa-z]+',text=e.lower())\n",
    "            r = []\n",
    "            for w in t:\n",
    "                if w not in rem:\n",
    "                    if not w in d.keys():\n",
    "                        forms = ma.parse(w)\n",
    "                        try:\n",
    "                            form = max(forms, key=lambda x: (x.score, x.methods_stack[0][2]))\n",
    "                            d[w] = form\n",
    "                        except Exception:\n",
    "                            form = forms[0]\n",
    "                        nf = form.normal_form.replace(\"ё\", \"е\") + grammar_map_POS_TAGS.get(form.tag.POS, '')\n",
    "                        d[w] = nf\n",
    "                    else:\n",
    "                        nf = d[w]\n",
    "                    r.append(nf)\n",
    "            tokenised.append(r)\n",
    "            t = r\n",
    "            prev_text = e\n",
    "    df[col+'_tk'] = tokenised\n",
    "all_docs = list(df['paragraph_tk'])+list(df['question_tk'])\n",
    "print('Done.')"
   ]
  },
  {
   "cell_type": "markdown",
   "metadata": {},
   "source": [
    "Векторизация"
   ]
  },
  {
   "cell_type": "code",
   "execution_count": 6,
   "metadata": {},
   "outputs": [
    {
     "name": "stderr",
     "output_type": "stream",
     "text": [
      "Vectorizing paragraph_tk: 100%|██████████| 119398/119398 [00:18<00:00, 6460.26it/s]\n",
      "Vectorizing question_tk: 100%|██████████| 119398/119398 [00:04<00:00, 24072.26it/s]"
     ]
    },
    {
     "name": "stdout",
     "output_type": "stream",
     "text": [
      "Done.\n"
     ]
    },
    {
     "name": "stderr",
     "output_type": "stream",
     "text": [
      "\n"
     ]
    }
   ],
   "source": [
    "d = {} # Словарь для ускорения преобразований\n",
    "for col in ['paragraph_tk','question_tk']:\n",
    "    vecs = []\n",
    "    for t in tqdm.tqdm(iter(df[col]),total=df.shape[0],desc='Vectorizing '+col):\n",
    "        v = []\n",
    "        for k in t:\n",
    "            if k in d:\n",
    "                ret = d[k]\n",
    "            else:\n",
    "                ret = np.zeros(w2v.vector_size)  \n",
    "                if k in w2v.vocab:\n",
    "                    ret = w2v[k]\n",
    "                    d[k] = ret\n",
    "            v.append(ret) #= list(map(sum, zip(v,ret)))\n",
    "        v_sum = np.sum(v,axis=0)\n",
    "        norm = np.linalg.norm(v_sum,ord=1)\n",
    "        if norm == 0:\n",
    "            v_avg = np.zeros(w2v.vector_size)\n",
    "        else:\n",
    "            v_avg = v_sum/np.linalg.norm(v_sum,ord=1)\n",
    "        vecs.append(v_avg)\n",
    "    df[col+'_vec'] = vecs\n",
    "print('Done.')"
   ]
  },
  {
   "cell_type": "markdown",
   "metadata": {},
   "source": [
    "Считаем расстояния"
   ]
  },
  {
   "cell_type": "code",
   "execution_count": 22,
   "metadata": {},
   "outputs": [
    {
     "name": "stderr",
     "output_type": "stream",
     "text": [
      "Calculating measures:   0%|          | 2/119398 [00:00<1:39:53, 19.92it/s]/Users/sermolov/anaconda/lib/python3.6/site-packages/scipy/spatial/distance.py:505: RuntimeWarning: invalid value encountered in double_scalars\n",
      "  dist = 1.0 - np.dot(u, v) / (norm(u) * norm(v))\n",
      "/Users/sermolov/anaconda/lib/python3.6/site-packages/scipy/spatial/distance.py:543: RuntimeWarning: invalid value encountered in double_scalars\n",
      "  dist = 1.0 - np.dot(um, vm) / (norm(um) * norm(vm))\n",
      "Calculating measures: 100%|██████████| 119398/119398 [00:42<00:00, 2778.51it/s]\n"
     ]
    },
    {
     "name": "stdout",
     "output_type": "stream",
     "text": [
      "Done.\n"
     ]
    }
   ],
   "source": [
    "from scipy import spatial\n",
    "\n",
    "cosine = []\n",
    "braycurtis = []\n",
    "canberra = []\n",
    "chebyshev = []\n",
    "manhatten = []\n",
    "correlation = []\n",
    "euclidian = []\n",
    "minkowski =[]\n",
    "\n",
    "for i,r in tqdm.tqdm(df.iterrows(),total=df.shape[0],desc='Calculating measures'):\n",
    "    a = r['paragraph_tk_vec']\n",
    "    b = r['question_tk_vec']\n",
    "    cosine.append(spatial.distance.cosine(a,b))\n",
    "    braycurtis.append(spatial.distance.braycurtis(a,b))\n",
    "    canberra.append(spatial.distance.canberra(a,b))\n",
    "    chebyshev.append(spatial.distance.chebyshev(a,b))\n",
    "    manhatten.append(spatial.distance.cityblock(a,b))\n",
    "    correlation.append(spatial.distance.correlation(a,b))\n",
    "    euclidian.append(spatial.distance.euclidean(a,b))\n",
    "    minkowski.append(spatial.distance.minkowski(a,b,3))\n",
    "    \n",
    "df['dist_cosine'] = cosine\n",
    "df['dist_braycurtis'] = braycurtis\n",
    "df['dist_canberra'] = canberra\n",
    "df['dist_chebyshev'] = chebyshev\n",
    "df['dist_manhatten'] = manhatten\n",
    "df['dist_correlation'] = correlation\n",
    "df['dist_euclidian'] = euclidian\n",
    "df['dist_minkowski'] = minkowski\n",
    "print('Done.')"
   ]
  },
  {
   "cell_type": "markdown",
   "metadata": {},
   "source": [
    "Визуализируем"
   ]
  },
  {
   "cell_type": "code",
   "execution_count": 50,
   "metadata": {},
   "outputs": [
    {
     "data": {
      "image/png": "[encoded data removed]",
      "text/plain": [
       "<matplotlib.figure.Figure at 0x15450bef0>"
      ]
     },
     "metadata": {},
     "output_type": "display_data"
    }
   ],
   "source": [
    "fig, axes = plt.subplots(2, 4, figsize=(20,10))\n",
    "for i,mn in enumerate(['cosine','braycurtis','canberra','chebyshev','manhatten','correlation','euclidian','minkowski']):\n",
    "    r = int(i/4)\n",
    "    c = i%4\n",
    "    df[df['target']==0]['dist_'+mn].hist(ax = axes[r,c],color='b',alpha=0.5,bins=50)\n",
    "    df[df['target']==1]['dist_'+mn].hist(ax = axes[r,c],color='r',alpha=0.5,bins=50)\n",
    "    axes[r,c].set_title(mn)\n",
    "plt.show()\n"
   ]
  },
  {
   "cell_type": "code",
   "execution_count": null,
   "metadata": {
    "collapsed": true
   },
   "outputs": [],
   "source": []
  }
 ],
 "metadata": {
  "kernelspec": {
   "display_name": "Python 3",
   "language": "python",
   "name": "python3"
  },
  "language_info": {
   "codemirror_mode": {
    "name": "ipython",
    "version": 3
   },
   "file_extension": ".py",
   "mimetype": "text/x-python",
   "name": "python",
   "nbconvert_exporter": "python",
   "pygments_lexer": "ipython3",
   "version": "3.5.2"
  }
 },
 "nbformat": 4,
 "nbformat_minor": 2
}
