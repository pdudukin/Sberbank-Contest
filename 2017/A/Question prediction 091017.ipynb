{
 "cells": [
  {
   "cell_type": "code",
   "execution_count": 1,
   "metadata": {},
   "outputs": [
    {
     "name": "stderr",
     "output_type": "stream",
     "text": [
      "Using TensorFlow backend.\n"
     ]
    }
   ],
   "source": [
    "import numpy\n",
    "import codecs\n",
    "import sys\n",
    "\n",
    "import pandas as pd\n",
    "\n",
    "from keras.models import Sequential\n",
    "from keras.layers import Dense\n",
    "from keras.layers import Dropout\n",
    "from keras.layers import LSTM\n",
    "from keras.callbacks import ModelCheckpoint\n",
    "from keras.utils import np_utils"
   ]
  },
  {
   "cell_type": "markdown",
   "metadata": {},
   "source": [
    "# Data Preparation"
   ]
  },
  {
   "cell_type": "code",
   "execution_count": 3,
   "metadata": {},
   "outputs": [
    {
     "name": "stdout",
     "output_type": "stream",
     "text": [
      "С какого года Русское Царство перешло на летоисчисление от Рождества Христова и празднование Нового года 1 января, а не 1 сентября?\n",
      "Кто упомянул о его первых разногласиях со Штейнбергом: Педагог хотел видеть в нём продолжателя русской традиции, а не очередного — вслед за Стравинским и Прокофьевым — её разрушителя, композитора с подозрительными модернистскими наклонностями ?\n",
      "Как называется имеющая мировое значение эпоха в истории культуры Европы, пришедшая на смену Средним векам и предшествующая Просвещению и Новому времени?\n",
      "Что усугублялось из-за международного давления на правительство Альенде и ограничения торговли с Чили?\n",
      "Какой характер носят пророчества Леонардо да Винчи?\n"
     ]
    }
   ],
   "source": [
    "train = pd.read_csv('train_task1_latest.csv', encoding='utf-8')\n",
    "for i,q in enumerate(train.question.values):\n",
    "    if i<5:\n",
    "        print(q)"
   ]
  },
  {
   "cell_type": "code",
   "execution_count": 46,
   "metadata": {
    "collapsed": true
   },
   "outputs": [],
   "source": [
    "file = open( 'train_questions.txt', 'w')\n",
    "\n",
    "for q in list(train.question.values)[:10]:\n",
    "    try: \n",
    "        file.write(q)\n",
    "    except UnicodeEncodeError:\n",
    "        pass\n",
    "\n",
    "file.close()"
   ]
  },
  {
   "cell_type": "code",
   "execution_count": 47,
   "metadata": {},
   "outputs": [
    {
     "data": {
      "text/plain": [
       "'С какого года Русское Царство перешло на летоисчисление от Рождества Христова и празднование Нового года 1 января, а не 1 сентября?'"
      ]
     },
     "execution_count": 47,
     "metadata": {},
     "output_type": "execute_result"
    }
   ],
   "source": [
    "list(train.question.values[:10])[0]"
   ]
  },
  {
   "cell_type": "code",
   "execution_count": 48,
   "metadata": {
    "collapsed": true
   },
   "outputs": [],
   "source": [
    "# load ascii text and covert to lowercase\n",
    "filename = \"train_questions.txt\"\n",
    "file = codecs.open(filename,'r','cp1251')\n",
    "raw_text = file.read()  \n",
    "raw_text = raw_text.lower()"
   ]
  },
  {
   "cell_type": "code",
   "execution_count": 49,
   "metadata": {
    "collapsed": true
   },
   "outputs": [],
   "source": [
    "# create mapping of unique chars to integers\n",
    "chars = sorted(list(set(raw_text)))\n",
    "char_to_int = dict((c, i) for i, c in enumerate(chars))"
   ]
  },
  {
   "cell_type": "code",
   "execution_count": 50,
   "metadata": {
    "collapsed": true
   },
   "outputs": [],
   "source": [
    "signs = ['\\n', '\\r', ' ', '!', '\"', \"'\", '(', ')', '*', ',', '-', '.', ':', ';', '?', '[', ']', '_', 'a', 'b', 'c', 'd', 'e', 'f', 'g', 'h', 'i', 'j', 'k', 'l', 'm', 'n', 'o', 'p', 'q', 'r', 's', 't', 'u', 'v', 'w', 'x', 'y', 'z', '\\xbb', '\\xbf', '\\xef']"
   ]
  },
  {
   "cell_type": "code",
   "execution_count": 51,
   "metadata": {},
   "outputs": [
    {
     "name": "stdout",
     "output_type": "stream",
     "text": [
      "Total Characters:  1178\n",
      "Total Vocab:  39\n"
     ]
    }
   ],
   "source": [
    "n_chars = len(raw_text)\n",
    "n_vocab = len(chars)\n",
    "print(\"Total Characters: \", n_chars)\n",
    "print(\"Total Vocab: \", n_vocab)"
   ]
  },
  {
   "cell_type": "code",
   "execution_count": 52,
   "metadata": {},
   "outputs": [
    {
     "name": "stdout",
     "output_type": "stream",
     "text": [
      "Total Patterns:  1078\n"
     ]
    }
   ],
   "source": [
    "# prepare the dataset of input to output pairs encoded as integers\n",
    "seq_length = 100\n",
    "dataX = []\n",
    "dataY = []\n",
    "for i in range(0, n_chars - seq_length, 1):\n",
    "    seq_in = raw_text[i:i + seq_length]\n",
    "    seq_out = raw_text[i + seq_length]\n",
    "    dataX.append([char_to_int[char] for char in seq_in])\n",
    "    dataY.append(char_to_int[seq_out])\n",
    "n_patterns = len(dataX)\n",
    "print(\"Total Patterns: \", n_patterns)"
   ]
  },
  {
   "cell_type": "code",
   "execution_count": 53,
   "metadata": {},
   "outputs": [],
   "source": [
    "# reshape X to be [samples, time steps, features]\n",
    "X = numpy.reshape(dataX, (n_patterns, seq_length, 1))\n",
    "# normalize\n",
    "X = X / float(n_vocab)\n",
    "# one hot encode the output variable\n",
    "y = np_utils.to_categorical(dataY)"
   ]
  },
  {
   "cell_type": "markdown",
   "metadata": {},
   "source": [
    "# Training"
   ]
  },
  {
   "cell_type": "code",
   "execution_count": 54,
   "metadata": {
    "collapsed": true
   },
   "outputs": [],
   "source": [
    "# define the LSTM model\n",
    "model = Sequential()\n",
    "model.add(LSTM(256, input_shape=(X.shape[1], X.shape[2])))\n",
    "model.add(Dropout(0.2))\n",
    "model.add(Dense(y.shape[1], activation='softmax'))\n",
    "model.compile(loss='categorical_crossentropy', optimizer='adam')"
   ]
  },
  {
   "cell_type": "code",
   "execution_count": 55,
   "metadata": {
    "collapsed": true
   },
   "outputs": [],
   "source": [
    "# define the checkpoint\n",
    "filepath=\"weights-improvement-{epoch:02d}-{loss:.4f}.hdf5\"\n",
    "checkpoint = ModelCheckpoint(filepath, monitor='loss', verbose=1, save_best_only=True, mode='min')\n",
    "callbacks_list = [checkpoint]"
   ]
  },
  {
   "cell_type": "code",
   "execution_count": 56,
   "metadata": {},
   "outputs": [
    {
     "name": "stdout",
     "output_type": "stream",
     "text": [
      "Epoch 1/20\n",
      "1024/1078 [===========================>..] - ETA: 0s - loss: 3.5326Epoch 00000: loss improved from inf to 3.52588, saving model to weights-improvement-00-3.5259.hdf5\n",
      "1078/1078 [==============================] - 12s - loss: 3.5259    \n",
      "Epoch 2/20\n",
      "1024/1078 [===========================>..] - ETA: 0s - loss: 3.1992Epoch 00001: loss improved from 3.52588 to 3.19248, saving model to weights-improvement-01-3.1925.hdf5\n",
      "1078/1078 [==============================] - 12s - loss: 3.1925    \n",
      "Epoch 3/20\n",
      "1024/1078 [===========================>..] - ETA: 0s - loss: 3.1876Epoch 00002: loss improved from 3.19248 to 3.18076, saving model to weights-improvement-02-3.1808.hdf5\n",
      "1078/1078 [==============================] - 12s - loss: 3.1808    \n",
      "Epoch 4/20\n",
      "1024/1078 [===========================>..] - ETA: 0s - loss: 3.1692Epoch 00003: loss improved from 3.18076 to 3.17490, saving model to weights-improvement-03-3.1749.hdf5\n",
      "1078/1078 [==============================] - 12s - loss: 3.1749    \n",
      "Epoch 5/20\n",
      "1024/1078 [===========================>..] - ETA: 0s - loss: 3.1643Epoch 00004: loss improved from 3.17490 to 3.16194, saving model to weights-improvement-04-3.1619.hdf5\n",
      "1078/1078 [==============================] - 12s - loss: 3.1619    \n",
      "Epoch 6/20\n",
      "1024/1078 [===========================>..] - ETA: 0s - loss: 3.1580Epoch 00005: loss improved from 3.16194 to 3.15173, saving model to weights-improvement-05-3.1517.hdf5\n",
      "1078/1078 [==============================] - 11s - loss: 3.1517    \n",
      "Epoch 7/20\n",
      "1024/1078 [===========================>..] - ETA: 0s - loss: 3.1495Epoch 00006: loss improved from 3.15173 to 3.15116, saving model to weights-improvement-06-3.1512.hdf5\n",
      "1078/1078 [==============================] - 12s - loss: 3.1512    \n",
      "Epoch 8/20\n",
      "1024/1078 [===========================>..] - ETA: 0s - loss: 3.1402Epoch 00007: loss improved from 3.15116 to 3.14658, saving model to weights-improvement-07-3.1466.hdf5\n",
      "1078/1078 [==============================] - 12s - loss: 3.1466    \n",
      "Epoch 9/20\n",
      "1024/1078 [===========================>..] - ETA: 0s - loss: 3.1703Epoch 00008: loss did not improve\n",
      "1078/1078 [==============================] - 12s - loss: 3.1620    \n",
      "Epoch 10/20\n",
      "1024/1078 [===========================>..] - ETA: 0s - loss: 3.1479Epoch 00009: loss did not improve\n",
      "1078/1078 [==============================] - 13s - loss: 3.1514    \n",
      "Epoch 11/20\n",
      "1024/1078 [===========================>..] - ETA: 0s - loss: 3.1461Epoch 00010: loss did not improve\n",
      "1078/1078 [==============================] - 13s - loss: 3.1524    \n",
      "Epoch 12/20\n",
      "1024/1078 [===========================>..] - ETA: 0s - loss: 3.1380Epoch 00011: loss did not improve\n",
      "1078/1078 [==============================] - 13s - loss: 3.1483    \n",
      "Epoch 13/20\n",
      "1024/1078 [===========================>..] - ETA: 0s - loss: 3.1475Epoch 00012: loss did not improve\n",
      "1078/1078 [==============================] - 12s - loss: 3.1469    \n",
      "Epoch 14/20\n",
      "1024/1078 [===========================>..] - ETA: 0s - loss: 3.1511Epoch 00013: loss did not improve\n",
      "1078/1078 [==============================] - 12s - loss: 3.1485    \n",
      "Epoch 15/20\n",
      "1024/1078 [===========================>..] - ETA: 0s - loss: 3.1399Epoch 00014: loss improved from 3.14658 to 3.14413, saving model to weights-improvement-14-3.1441.hdf5\n",
      "1078/1078 [==============================] - 12s - loss: 3.1441    \n",
      "Epoch 16/20\n",
      "1024/1078 [===========================>..] - ETA: 0s - loss: 3.1337Epoch 00015: loss did not improve\n",
      "1078/1078 [==============================] - 12s - loss: 3.1484    \n",
      "Epoch 17/20\n",
      "1024/1078 [===========================>..] - ETA: 0s - loss: 3.1622Epoch 00016: loss did not improve\n",
      "1078/1078 [==============================] - 12s - loss: 3.1578    \n",
      "Epoch 18/20\n",
      "1024/1078 [===========================>..] - ETA: 0s - loss: 3.1534Epoch 00017: loss did not improve\n",
      "1078/1078 [==============================] - 12s - loss: 3.1463    \n",
      "Epoch 19/20\n",
      "1024/1078 [===========================>..] - ETA: 0s - loss: 3.1472Epoch 00018: loss did not improve\n",
      "1078/1078 [==============================] - 11s - loss: 3.1498    \n",
      "Epoch 20/20\n",
      "1024/1078 [===========================>..] - ETA: 0s - loss: 3.1441Epoch 00019: loss improved from 3.14413 to 3.13874, saving model to weights-improvement-19-3.1387.hdf5\n",
      "1078/1078 [==============================] - 12s - loss: 3.1387    \n"
     ]
    },
    {
     "data": {
      "text/plain": [
       "<keras.callbacks.History at 0x1a912fc98d0>"
      ]
     },
     "execution_count": 56,
     "metadata": {},
     "output_type": "execute_result"
    }
   ],
   "source": [
    "model.fit(X, y, epochs=20, batch_size=128, callbacks=callbacks_list)"
   ]
  },
  {
   "cell_type": "markdown",
   "metadata": {},
   "source": [
    "# Predict"
   ]
  },
  {
   "cell_type": "code",
   "execution_count": 57,
   "metadata": {
    "collapsed": true
   },
   "outputs": [],
   "source": [
    "# load the network weights\n",
    "filename = \"weights-improvement-19-3.1387.hdf5\"\n",
    "model.load_weights(filename)\n",
    "model.compile(loss='categorical_crossentropy', optimizer='adam')"
   ]
  },
  {
   "cell_type": "code",
   "execution_count": 58,
   "metadata": {
    "collapsed": true
   },
   "outputs": [],
   "source": [
    "int_to_char = dict((i, c) for i, c in enumerate(chars))"
   ]
  },
  {
   "cell_type": "code",
   "execution_count": 70,
   "metadata": {},
   "outputs": [
    {
     "name": "stdout",
     "output_type": "stream",
     "text": [
      "Seed:\n",
      "\" я мировое значение эпоха в истории культуры европы, пришедшая на смену средним векам и предшествующа \"\n",
      "                                                                                                                                                                                                                                                                                                                                                                                                                                                                                                                                                                                                                                                                                                                                                                                                                                                                                                                                                                                                                                        --------------------------------------------------\n",
      "\n",
      "Done.\n"
     ]
    }
   ],
   "source": [
    "# pick a random seed\n",
    "start = numpy.random.randint(0, len(dataX)-1)\n",
    "pattern = dataX[start]\n",
    "print(\"Seed:\")\n",
    "print(\"\\\"\", ''.join([int_to_char[value] for value in pattern]), \"\\\"\")\n",
    "# generate characters\n",
    "for i in range(1000):\n",
    "    x = numpy.reshape(pattern, (1, len(pattern), 1))\n",
    "    x = x / float(n_vocab)\n",
    "    prediction = model.predict(x, verbose=0)\n",
    "    index = numpy.argmax(prediction)\n",
    "    result = int_to_char[index]\n",
    "    seq_in = [int_to_char[value] for value in pattern]\n",
    "    sys.stdout.write(result)\n",
    "    pattern.append(index)\n",
    "    pattern = pattern[1:len(pattern)]\n",
    "\n",
    "print(\"-\"*50)\n",
    "print(\"\\nDone.\")"
   ]
  },
  {
   "cell_type": "code",
   "execution_count": null,
   "metadata": {
    "collapsed": true
   },
   "outputs": [],
   "source": []
  },
  {
   "cell_type": "code",
   "execution_count": null,
   "metadata": {
    "collapsed": true
   },
   "outputs": [],
   "source": []
  },
  {
   "cell_type": "code",
   "execution_count": null,
   "metadata": {
    "collapsed": true
   },
   "outputs": [],
   "source": []
  }
 ],
 "metadata": {
  "kernelspec": {
   "display_name": "Python 3",
   "language": "python",
   "name": "python3"
  },
  "language_info": {
   "codemirror_mode": {
    "name": "ipython",
    "version": 3
   },
   "file_extension": ".py",
   "mimetype": "text/x-python",
   "name": "python",
   "nbconvert_exporter": "python",
   "pygments_lexer": "ipython3",
   "version": "3.5.2"
  }
 },
 "nbformat": 4,
 "nbformat_minor": 2
}
